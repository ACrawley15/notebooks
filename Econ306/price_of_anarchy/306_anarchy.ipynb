{
 "cells": [
  {
   "cell_type": "markdown",
   "metadata": {},
   "source": [
    "This short notebook describes the network problem described in the [price of anarchy reading](http://montoya.econ.ubc.ca/Econ306/price_of_anarchy.pdf).\n",
    "\n",
    "Recall there are two routers, packets in the first router get through for sure while packets in the second router a processes with probability $\\beta < 1$.  If two packets arrive at the same router each gets through with proabability $\\frac{1}{2}$.\n",
    "\n",
    "This supports the following matrix game:\n",
    "<table>\n",
    "    <tr><td>$\\frac{1}{2}$,$\\frac{1}{2}$</td><td>1,$\\beta$</td></tr>\n",
    "    <tr><td>$\\beta$,1 </td><td> $\\frac{\\beta}{2}$, $\\frac{\\beta}{2}$ </td></tr></table>\n",
    "\n",
    "This game is perfectly symmetric.  So we only need to find one mixing probability, we'll call it $\\pi$, with which each of the two computers sends its packet to the efficient router.  This is just a mixed strategy equilibrium.  So solve\n",
    "$$\\frac{\\pi}{2}+(1-\\pi) = \\pi\\beta+(1-\\pi)\\frac{\\beta}{2}$$\n"
   ]
  },
  {
   "cell_type": "code",
   "execution_count": 9,
   "metadata": {
    "collapsed": false,
    "jupyter": {
     "outputs_hidden": false
    }
   },
   "outputs": [
    {
     "data": {
      "text/html": [
       "<html><script type=\"math/tex; mode=display\">\\newcommand{\\Bold}[1]{\\mathbf{#1}}\\pi = -\\frac{\\beta - 2}{\\beta + 1}</script></html>"
      ],
      "text/plain": [
       "pi == -(beta - 2)/(beta + 1)"
      ]
     },
     "metadata": {},
     "output_type": "display_data"
    }
   ],
   "source": [
    "var('beta','pi')\n",
    "sol2 = solve(pi/2+(1-pi) == pi*beta+(1-pi)*beta/2,pi)\n",
    "show (sol2[0])"
   ]
  },
  {
   "cell_type": "markdown",
   "metadata": {},
   "source": [
    "We want to do a little more with this problem - in particular, figure out how the expected number of packets that get through varies with the probability computers use to send their packets to the efficient router.  If both use the probability $\\beta$, then the expected number of packets that get through is given by the expression\n",
    "$$\\pi^2  +2(1-\\pi)\\pi(1+\\beta)+(1-\\pi)^2 \\beta$$ "
   ]
  },
  {
   "cell_type": "code",
   "execution_count": 10,
   "metadata": {
    "collapsed": false,
    "jupyter": {
     "outputs_hidden": false
    }
   },
   "outputs": [
    {
     "data": {
      "text/html": [
       "<html><script type=\"math/tex; mode=display\">\\newcommand{\\Bold}[1]{\\mathbf{#1}}\\beta {\\left(\\pi - 1\\right)}^{2} - 2 \\, {\\left(\\beta + 1\\right)} {\\left(\\pi - 1\\right)} \\pi + \\pi^{2}</script></html>"
      ],
      "text/plain": [
       "\\beta {\\left(\\pi - 1\\right)}^{2} - 2 \\, {\\left(\\beta + 1\\right)} {\\left(\\pi - 1\\right)} \\pi + \\pi^{2}"
      ]
     },
     "metadata": {},
     "output_type": "display_data"
    }
   ],
   "source": [
    "exp = pi^2+2*(1-pi)*pi*(1+beta)+(1-pi)^2*beta\n",
    "show(latex(exp))"
   ]
  },
  {
   "cell_type": "markdown",
   "metadata": {},
   "source": [
    "Now lets substitute a value for $\\beta$ so we can do some plotting."
   ]
  },
  {
   "cell_type": "code",
   "execution_count": 11,
   "metadata": {
    "collapsed": false,
    "jupyter": {
     "outputs_hidden": false
    },
    "scrolled": true
   },
   "outputs": [
    {
     "data": {
      "text/html": [
       "<html><script type=\"math/tex; mode=display\">\\newcommand{\\Bold}[1]{\\mathbf{#1}}\\frac{4}{5} \\, {\\left(\\pi - 1\\right)}^{2} - \\frac{18}{5} \\, {\\left(\\pi - 1\\right)} \\pi + \\pi^{2}</script></html>"
      ],
      "text/plain": [
       "\\frac{4}{5} \\, {\\left(\\pi - 1\\right)}^{2} - \\frac{18}{5} \\, {\\left(\\pi - 1\\right)} \\pi + \\pi^{2}"
      ]
     },
     "metadata": {},
     "output_type": "display_data"
    }
   ],
   "source": [
    "ess = exp.substitute(beta=4/5)\n",
    "show(latex(ess))"
   ]
  },
  {
   "cell_type": "code",
   "execution_count": null,
   "metadata": {
    "collapsed": false,
    "jupyter": {
     "outputs_hidden": false
    }
   },
   "outputs": [],
   "source": []
  },
  {
   "cell_type": "code",
   "execution_count": 12,
   "metadata": {
    "collapsed": false,
    "jupyter": {
     "outputs_hidden": false
    }
   },
   "outputs": [
    {
     "data": {
      "image/png": "[encoded data removed]",
      "text/plain": [
       "Graphics object consisting of 1 graphics primitive"
      ]
     },
     "execution_count": 12,
     "metadata": {},
     "output_type": "execute_result"
    }
   ],
   "source": [
    "plot(ess,(pi,0,1))"
   ]
  },
  {
   "cell_type": "markdown",
   "metadata": {},
   "source": [
    "It seems that if we want to get the maximal number of packets through the network, then there is a very specific value of $\\pi$ that we want, the one where the function above is maximized."
   ]
  },
  {
   "cell_type": "code",
   "execution_count": 13,
   "metadata": {
    "collapsed": false,
    "jupyter": {
     "outputs_hidden": false
    }
   },
   "outputs": [
    {
     "data": {
      "text/html": [
       "<html><script type=\"math/tex; mode=display\">\\newcommand{\\Bold}[1]{\\mathbf{#1}}-\\frac{18}{5} \\, \\pi + 2</script></html>"
      ],
      "text/plain": [
       "-\\frac{18}{5} \\, \\pi + 2"
      ]
     },
     "metadata": {},
     "output_type": "display_data"
    },
    {
     "data": {
      "text/html": [
       "<html><script type=\"math/tex; mode=display\">\\newcommand{\\Bold}[1]{\\mathbf{#1}}\\left[\\pi = \\left(\\frac{5}{9}\\right)\\right]</script></html>"
      ],
      "text/plain": [
       "\\left[\\pi = \\left(\\frac{5}{9}\\right)\\right]"
      ]
     },
     "metadata": {},
     "output_type": "display_data"
    }
   ],
   "source": [
    "d = diff(ess,pi)\n",
    "show(latex(d))\n",
    "show(latex(solve(d == 0,pi)))"
   ]
  },
  {
   "cell_type": "markdown",
   "metadata": {},
   "source": [
    "Recall that in the Nash equilibrium for this problem, the equilibrium value of $\\pi$ is given by \n",
    "$$\\frac{2-\\beta}{1+\\beta}$$\n",
    "which, in the case where $\\beta = \\frac{4}{5}$ gives $\\pi=\\frac{2}{3}$\n",
    "so that computers use the efficient router more frequently than a network planner would want them to.\n",
    "\n",
    "The best value for $\\pi$ from the regulators standpoint depends on $\\beta$.  It is easy enough to figure out how, well just do the same exercise we just did. Except will use the function `exp`  instead of the function `ess`."
   ]
  },
  {
   "cell_type": "code",
   "execution_count": 16,
   "metadata": {},
   "outputs": [
    {
     "data": {
      "text/html": [
       "<html><script type=\"math/tex; mode=display\">\\newcommand{\\Bold}[1]{\\mathbf{#1}}-2 \\, {\\left(\\beta + 1\\right)} {\\left(\\pi - 1\\right)} + 2 \\, \\beta {\\left(\\pi - 1\\right)} - 2 \\, {\\left(\\beta + 1\\right)} \\pi + 2 \\, \\pi</script></html>"
      ],
      "text/plain": [
       "-2 \\, {\\left(\\beta + 1\\right)} {\\left(\\pi - 1\\right)} + 2 \\, \\beta {\\left(\\pi - 1\\right)} - 2 \\, {\\left(\\beta + 1\\right)} \\pi + 2 \\, \\pi"
      ]
     },
     "metadata": {},
     "output_type": "display_data"
    },
    {
     "data": {
      "text/html": [
       "<html><script type=\"math/tex; mode=display\">\\newcommand{\\Bold}[1]{\\mathbf{#1}}\\left[\\pi = \\frac{1}{\\beta + 1}\\right]</script></html>"
      ],
      "text/plain": [
       "\\left[\\pi = \\frac{1}{\\beta + 1}\\right]"
      ]
     },
     "metadata": {},
     "output_type": "display_data"
    }
   ],
   "source": [
    "e = diff(exp,pi)\n",
    "show(latex(e))\n",
    "show(latex(solve(e==0,pi)))"
   ]
  },
  {
   "cell_type": "markdown",
   "metadata": {},
   "source": [
    "Notice one very odd thing about this.  Recall if $\\beta$  is smaller than $\\frac{1}{2}$, then the inefficient router is dominated, so it will never be used in a Nash equilibrium.  The formula above says that the regulator would want the websites to use the inefficient router with positive probability even if $\\beta$ was very small.\n",
    "\n",
    "Finally, we can do the price of anarchy exercise.  Lets define two function, the first we'll just call `regulated` to indicate that the regulator chooses the mixing probability.  We'll get it by substituting the regulators mixing probablity that we just calculated into `exp`.  The we'll define `anarchy` by substituting the Nash equilibrium mixing probability into `exp`.  "
   ]
  }
 ],
 "metadata": {
  "kernelspec": {
   "display_name": "SageMath 8.1",
   "language": "",
   "name": "sagemath"
  },
  "language_info": {
   "codemirror_mode": {
    "name": "ipython",
    "version": 2
   },
   "file_extension": ".py",
   "mimetype": "text/x-python",
   "name": "python",
   "nbconvert_exporter": "python",
   "pygments_lexer": "ipython2",
   "version": "2.7.15+"
  }
 },
 "nbformat": 4,
 "nbformat_minor": 4
}
