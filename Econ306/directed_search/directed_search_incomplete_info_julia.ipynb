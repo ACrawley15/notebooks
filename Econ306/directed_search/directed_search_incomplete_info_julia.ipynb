{
 "cells": [
  {
   "cell_type": "markdown",
   "id": "d75b2bac-a471-4640-a372-651fb18460d4",
   "metadata": {},
   "source": [
    "# Introduction\n",
    "\n",
    "This is the julia version of the directed search problem with incomplete information. Whether you use julia or sagemath or some commercially produced computer algebra system, symbolic computations are probably the only way to properly understand the subgame perfect equilibrium for this problem.\n",
    "\n",
    "We'll show below that when workers are equally productive in the two worker two firm version of the problem, then there won't be a pure strategy equilibrium in firms' wages.  It seems hard to imagine that this problem could be solved by hand, but maybe it is just my limited imagination and patience telling me this.\n",
    "\n",
    "There are two firms, 1 and 2 and two workers, each of whom applies to one and only one of the firms.  The firms earn revenues of $y_1$ and $y_2$ respectively if they are able to hire a worker. They offer wages $w_1$ and $w_2$. If only a single worker applies to a firm, the firm hires that worker.  In that case, the firm gets its revenue less the wage that it pays, the worker gets the wage.\n",
    "\n",
    "If two workers apply to the same firm, the firm will select the worker with the most desirable type.  Workers types are given by $h$ or $l$. Each firm will hire a type $h$ if one applies.  Otherwise they are happy to hire a type $l$.  In cases where two workers are considered equally good, the firm will hire each of them with probability $\\frac{1}{2}$.\n",
    "\n",
    "Firms with no applicants and workers who are not offered a job get nothing.\n",
    "\n",
    "We'll look for a symmetric subgame perect equilibrium of the directed search game in which workers of the same type use the same application strategy. Recall the basic assumption of directed search - both workers see the wage offers made by the firms and use an application strategy that depends on those wages.\n",
    "\n",
    "To make this a model of incomplete information, we'll assume that workers know their own types, but not the other worker's type.  Firms don't know the workers' types but can observe these types when the worker apply.  It is common belief that each worker is type $h$ with probability $\\lambda$.\n",
    "\n",
    "# Workers\n",
    "\n",
    "As always, to find a subgame perfect equilibrium you need to start with the last sub-game.  This is the one where workers apply.  There are two types of workers, so we want to find two mixed strategies, represented by $\\pi_h$ and $\\pi_l$, where $\\pi_j$ is the probability that a worker of type $j$ applies to firm 1 (the one offering wage $w_1$\n",
    "\n",
    "As you now know, the best way to find a mixed strategy is to write down an indifference condition.  For example, if you are a worker of type $H$, then you should expect your opponent to play in a way that makes you indifferent between your options. \n",
    "\n",
    "For a type $H$ worker, this is straightforward because the type $H$ workers don't care what type $L$ workers do.  So we can write the indifference condition as\n",
    "$$\n",
    "\\lambda \\{\\pi_h \\frac{w_1}{2} +(1-\\pi_h)w_1\\}+(1-\\lambda)w_1 =\n",
    "\\lambda \\{\\pi_h w_2 +(1-\\pi_h)\\frac{w_2}{2}\\}+(1-\\lambda)w_2\n",
    "$$\n",
    "\n",
    "We are ready to start to figure this game out using symbolics."
   ]
  },
  {
   "cell_type": "code",
   "execution_count": 1,
   "id": "090936fe-ca0a-4d3f-9dd7-8353bac29cb1",
   "metadata": {},
   "outputs": [
    {
     "data": {
      "text/plain": [
       "(pi_h, pi_l, y_1, y_2, lambda)"
      ]
     },
     "execution_count": 1,
     "metadata": {},
     "output_type": "execute_result"
    }
   ],
   "source": [
    "using SymPy\n",
    "w_1, w_2 = symbols(\"w_1, w_2\",real=true,positive=true)\n",
    "pi_h, pi_l, y_1, y_2, lambda = symbols(\"pi_h, pi_l, y_1, y_2, lambda\")"
   ]
  },
  {
   "cell_type": "markdown",
   "id": "53b52a9e-27ca-48c8-aa0b-193b81e127a3",
   "metadata": {},
   "source": [
    "## Type H\n",
    "\n",
    "Since type $h$ workers are always hired ahead of typ $l$ workers, type $h$ workers don't care what type $l$ workers do.  So finding the continuation strategy involves just a trivial modification of what you would do with complete information."
   ]
  },
  {
   "cell_type": "code",
   "execution_count": 2,
   "id": "24f853ea-8b89-4fa0-84d0-9b38f77c7cc4",
   "metadata": {},
   "outputs": [
    {
     "data": {
      "text/latex": [
       "$\\begin{equation*}\\lambda \\left(\\frac{\\pi_{h} w_{1}}{2} + w_{1} \\left(1 - \\pi_{h}\\right)\\right) + w_{1} \\left(1 - \\lambda\\right)\\end{equation*}$\n"
      ],
      "text/plain": [
       "  ⎛πₕ⋅w₁              ⎞             \n",
       "λ⋅⎜───── + w₁⋅(1 - πₕ)⎟ + w₁⋅(1 - λ)\n",
       "  ⎝  2                ⎠             "
      ]
     },
     "execution_count": 2,
     "metadata": {},
     "output_type": "execute_result"
    }
   ],
   "source": [
    "lefth = lambda*(pi_h*(w_1/2)+(1-pi_h)w_1)+(1-lambda)w_1"
   ]
  },
  {
   "cell_type": "code",
   "execution_count": 3,
   "id": "e91dc950-b62e-4024-8d2b-ecc23b31d2b4",
   "metadata": {},
   "outputs": [
    {
     "data": {
      "text/latex": [
       "$\\begin{equation*}\\lambda \\left(\\pi_{h} w_{2} + \\frac{w_{2} \\left(1 - \\pi_{h}\\right)}{2}\\right) + w_{2} \\left(1 - \\lambda\\right)\\end{equation*}$\n"
      ],
      "text/plain": [
       "  ⎛        w₂⋅(1 - πₕ)⎞             \n",
       "λ⋅⎜πₕ⋅w₂ + ───────────⎟ + w₂⋅(1 - λ)\n",
       "  ⎝             2     ⎠             "
      ]
     },
     "execution_count": 3,
     "metadata": {},
     "output_type": "execute_result"
    }
   ],
   "source": [
    "righth =lambda*(pi_h*w_2+(1-pi_h)w_2/2)+(1-lambda)w_2"
   ]
  },
  {
   "cell_type": "code",
   "execution_count": 4,
   "id": "c1fa274a-8960-441a-8646-3e7313eea7c6",
   "metadata": {},
   "outputs": [
    {
     "data": {
      "text/latex": [
       "$\\begin{equation*}\\frac{\\lambda w_{2} + 2 w_{1} - 2 w_{2}}{\\lambda \\left(w_{1} + w_{2}\\right)}\\end{equation*}$\n"
      ],
      "text/plain": [
       "λ⋅w₂ + 2⋅w₁ - 2⋅w₂\n",
       "──────────────────\n",
       "   λ⋅(w₁ + w₂)    "
      ]
     },
     "execution_count": 4,
     "metadata": {},
     "output_type": "execute_result"
    }
   ],
   "source": [
    "probh_simp = solve(lefth-righth,pi_h)[1]"
   ]
  },
  {
   "cell_type": "markdown",
   "id": "e42b12c6-471d-42c4-8e28-fc9784a67714",
   "metadata": {},
   "source": [
    "The complication with this formula is that, because we want a subgame perfect equilibrium, we aren't yet sure what firms' wages will be.  The formula above could give a solution larger than 1 or less that 0, neither of which make sense here.  This is really what makes this problem so complicated to solve on paper.  In any case we can use the following trick - when a strategy is dominant, the solution for `probh_simp` will be larger than 1, similarly for a dominated strategy.  Symbolics lets us use the following trick."
   ]
  },
  {
   "cell_type": "code",
   "execution_count": 5,
   "id": "13a480d2-bc8a-4b8a-9ea7-7bd899fff846",
   "metadata": {},
   "outputs": [
    {
     "data": {
      "text/latex": [
       "$\\begin{equation*}\\max\\left(0, \\min\\left(1, \\frac{\\lambda w_{2} + 2 w_{1} - 2 w_{2}}{\\lambda \\left(w_{1} + w_{2}\\right)}\\right)\\right)\\end{equation*}$\n"
      ],
      "text/plain": [
       "Max(0, Min(1, (lambda*w_2 + 2*w_1 - 2*w_2)/(lambda*(w_1 + w_2))))"
      ]
     },
     "execution_count": 5,
     "metadata": {},
     "output_type": "execute_result"
    }
   ],
   "source": [
    "probh = max(min(probh_simp,1),0)"
   ]
  },
  {
   "cell_type": "code",
   "execution_count": 6,
   "id": "974964b0-c43b-401a-990a-2e6cb55b1cbf",
   "metadata": {},
   "outputs": [
    {
     "ename": "LoadError",
     "evalue": "UndefVarError: plot not defined",
     "output_type": "error",
     "traceback": [
      "UndefVarError: plot not defined",
      "",
      "Stacktrace:",
      " [1] top-level scope",
      "   @ In[6]:1",
      " [2] eval",
      "   @ ./boot.jl:360 [inlined]",
      " [3] include_string(mapexpr::typeof(REPL.softscope), mod::Module, code::String, filename::String)",
      "   @ Base ./loading.jl:1094"
     ]
    }
   ],
   "source": [
    "plot(probh(w_2=>1/2,lambda=>.2),.01,.99)"
   ]
  },
  {
   "cell_type": "markdown",
   "id": "772582a5-c2af-442c-a0b4-6d732c495fc9",
   "metadata": {},
   "source": [
    "As always, it is good to check that your computations are working by looking at special cases where you already know the solution.  If you have looked at the notebook that describes the directed search game with complete information, then one thing you can do is to check what happens when $\\lambda=1$, which is just the compete information case"
   ]
  },
  {
   "cell_type": "code",
   "execution_count": 7,
   "id": "f47bcb70-d1a2-488e-abd9-3cf9ced5ccff",
   "metadata": {},
   "outputs": [
    {
     "data": {
      "text/latex": [
       "$\\begin{equation*}\\max\\left(0, \\min\\left(1, \\frac{2 w_{1} - w_{2}}{w_{1} + w_{2}}\\right)\\right)\\end{equation*}$\n"
      ],
      "text/plain": [
       "Max(0, Min(1, (2*w_1 - w_2)/(w_1 + w_2)))"
      ]
     },
     "execution_count": 7,
     "metadata": {},
     "output_type": "execute_result"
    }
   ],
   "source": [
    "probh(lambda => 1)"
   ]
  },
  {
   "cell_type": "markdown",
   "id": "6c793d8d-a2d0-4490-aa08-416c9ddc18b0",
   "metadata": {},
   "source": [
    "That check passes, a second special case is when $w_1=w_2$:"
   ]
  },
  {
   "cell_type": "code",
   "execution_count": 8,
   "id": "b818a225-392d-457c-9f8d-73682e90d34b",
   "metadata": {},
   "outputs": [
    {
     "data": {
      "text/latex": [
       "$\\begin{equation*}\\frac{1}{2}\\end{equation*}$\n"
      ],
      "text/plain": [
       "1/2"
      ]
     },
     "execution_count": 8,
     "metadata": {},
     "output_type": "execute_result"
    }
   ],
   "source": [
    "probh(w_1 => w_2)"
   ]
  },
  {
   "cell_type": "markdown",
   "id": "8d7773b6-9c00-4001-9f1b-15f18861272b",
   "metadata": {},
   "source": [
    "## Type L\n",
    "\n",
    "For type $l$ workers the problem is more complicated because they do care what the type $h$ worker does.  If they apply to firm 1, their expected payoff is\n",
    "$$\n",
    "\\lambda(1-\\pi_h)w_1+(1-\\lambda)\\{(\\pi_l \\frac{w_1}{2})+(1-\\pi_l)w_2\\}\n",
    "$$\n",
    "while if they apply to firm 2 it is\n",
    "$$\n",
    "\\lambda\\pi_h w_2 +(1-\\lambda)\\{\\pi_l w_2 +(1-\\pi_l)\\frac{w_2}{2}\\}\n",
    "$$"
   ]
  },
  {
   "cell_type": "code",
   "execution_count": 9,
   "id": "35140dea-719a-4d3e-9c98-8633a0717437",
   "metadata": {},
   "outputs": [
    {
     "data": {
      "text/latex": [
       "$\\begin{equation*}\\lambda w_{1} \\left(1 - \\max\\left(0, \\min\\left(1, \\frac{\\lambda w_{2} + 2 w_{1} - 2 w_{2}}{\\lambda \\left(w_{1} + w_{2}\\right)}\\right)\\right)\\right) + \\left(1 - \\lambda\\right) \\left(\\frac{\\pi_{l} w_{1}}{2} + w_{2} \\left(1 - \\pi_{l}\\right)\\right)\\end{equation*}$\n"
      ],
      "text/plain": [
       "                                                                              \n",
       "λ⋅w₁⋅(1 - Max(0, Min(1, (lambda*w_2 + 2*w_1 - 2*w_2)/(lambda*(w_1 + w_2))))) +\n",
       "                                                                              \n",
       "\n",
       "         ⎛πₗ⋅w₁              ⎞\n",
       " (1 - λ)⋅⎜───── + w₂⋅(1 - πₗ)⎟\n",
       "         ⎝  2                ⎠"
      ]
     },
     "execution_count": 9,
     "metadata": {},
     "output_type": "execute_result"
    }
   ],
   "source": [
    "leftl = lambda*(1-probh)*w_1 + (1-lambda)*(pi_l*w_1/2 +(1-pi_l)*w_2)"
   ]
  },
  {
   "cell_type": "code",
   "execution_count": 10,
   "id": "7f435ab9-d253-4fd1-9282-f082e7e33241",
   "metadata": {},
   "outputs": [
    {
     "data": {
      "text/latex": [
       "$\\begin{equation*}\\lambda w_{2} \\max\\left(0, \\min\\left(1, \\frac{\\lambda w_{2} + 2 w_{1} - 2 w_{2}}{\\lambda \\left(w_{1} + w_{2}\\right)}\\right)\\right) + \\left(1 - \\lambda\\right) \\left(\\pi_{l} w_{2} + \\frac{w_{2} \\left(1 - \\pi_{l}\\right)}{2}\\right)\\end{equation*}$\n"
      ],
      "text/plain": [
       "                                                                              \n",
       "λ⋅w₂⋅Max(0, Min(1, (lambda*w_2 + 2*w_1 - 2*w_2)/(lambda*(w_1 + w_2)))) + (1 - \n",
       "                                                                              \n",
       "\n",
       "   ⎛        w₂⋅(1 - πₗ)⎞\n",
       "λ)⋅⎜πₗ⋅w₂ + ───────────⎟\n",
       "   ⎝             2     ⎠"
      ]
     },
     "execution_count": 10,
     "metadata": {},
     "output_type": "execute_result"
    }
   ],
   "source": [
    "rightl = lambda*probh*w_2 +(1-lambda)*(pi_l*w_2+(1-pi_l)*w_2/2)"
   ]
  },
  {
   "cell_type": "code",
   "execution_count": 11,
   "id": "13656f9e-4d44-4e1b-a2d4-4218e1e5a2b0",
   "metadata": {},
   "outputs": [
    {
     "data": {
      "text/latex": [
       "$\\begin{equation*}\\frac{- 2 \\lambda w_{1} \\max\\left(0, \\min\\left(1, \\frac{\\lambda w_{2} + 2 w_{1} - 2 w_{2}}{\\lambda \\left(w_{1} + w_{2}\\right)}\\right)\\right) + 2 \\lambda w_{1} - 2 \\lambda w_{2} \\max\\left(0, \\min\\left(1, \\frac{\\lambda w_{2} + 2 w_{1} - 2 w_{2}}{\\lambda \\left(w_{1} + w_{2}\\right)}\\right)\\right) - \\lambda w_{2} + w_{2}}{\\lambda w_{1} - 3 \\lambda w_{2} - w_{1} + 3 w_{2}}\\end{equation*}$\n"
      ],
      "text/plain": [
       "-2⋅λ⋅w₁⋅Max(0, Min(1, (lambda*w_2 + 2*w_1 - 2*w_2)/(lambda*(w_1 + w_2)))) + 2⋅\n",
       "──────────────────────────────────────────────────────────────────────────────\n",
       "                                                                        λ⋅w₁ -\n",
       "\n",
       "λ⋅w₁ - 2⋅λ⋅w₂⋅Max(0, Min(1, (lambda*w_2 + 2*w_1 - 2*w_2)/(lambda*(w_1 + w_2)))\n",
       "──────────────────────────────────────────────────────────────────────────────\n",
       " 3⋅λ⋅w₂ - w₁ + 3⋅w₂                                                           \n",
       "\n",
       ") - λ⋅w₂ + w₂\n",
       "─────────────\n",
       "             "
      ]
     },
     "execution_count": 11,
     "metadata": {},
     "output_type": "execute_result"
    }
   ],
   "source": [
    "sol = solve(leftl-rightl,pi_l)[1]"
   ]
  },
  {
   "cell_type": "code",
   "execution_count": 12,
   "id": "41d35f2b-4445-4f74-a5aa-17b3bcb41da5",
   "metadata": {},
   "outputs": [
    {
     "data": {
      "text/latex": [
       "$\\begin{equation*}\\max\\left(0, \\min\\left(1, \\frac{- 2 \\lambda w_{1} \\max\\left(0, \\min\\left(1, \\frac{\\lambda w_{2} + 2 w_{1} - 2 w_{2}}{\\lambda \\left(w_{1} + w_{2}\\right)}\\right)\\right) + 2 \\lambda w_{1} - 2 \\lambda w_{2} \\max\\left(0, \\min\\left(1, \\frac{\\lambda w_{2} + 2 w_{1} - 2 w_{2}}{\\lambda \\left(w_{1} + w_{2}\\right)}\\right)\\right) - \\lambda w_{2} + w_{2}}{\\lambda w_{1} - 3 \\lambda w_{2} - w_{1} + 3 w_{2}}\\right)\\right)\\end{equation*}$\n"
      ],
      "text/plain": [
       "Max(0, Min(1, (-2*lambda*w_1*Max(0, Min(1, (lambda*w_2 + 2*w_1 - 2*w_2)/(lambd\n",
       "a*(w_1 + w_2)))) + 2*lambda*w_1 - 2*lambda*w_2*Max(0, Min(1, (lambda*w_2 + 2*w\n",
       "_1 - 2*w_2)/(lambda*(w_1 + w_2)))) - lambda*w_2 + w_2)/(lambda*w_1 - 3*lambda*\n",
       "w_2 - w_1 + 3*w_2)))"
      ]
     },
     "execution_count": 12,
     "metadata": {},
     "output_type": "execute_result"
    }
   ],
   "source": [
    "probl = max(min(sol,1),0)"
   ]
  },
  {
   "cell_type": "code",
   "execution_count": 13,
   "id": "31a0287a-d82d-4a8a-9983-f3f254c0437e",
   "metadata": {},
   "outputs": [
    {
     "data": {
      "image/svg+xml": [
       "<?xml version=\"1.0\" encoding=\"utf-8\"?>\n",
       "<svg xmlns=\"http://www.w3.org/2000/svg\" xmlns:xlink=\"http://www.w3.org/1999/xlink\" width=\"600\" height=\"400\" viewBox=\"0 0 2400 1600\">\n",
       "<defs>\n",
       "  <clipPath id=\"clip520\">\n",
       "    <rect x=\"0\" y=\"0\" width=\"2400\" height=\"1600\"/>\n",
       "  </clipPath>\n",
       "</defs>\n",
       "<path clip-path=\"url(#clip520)\" d=\"\n",
       "M0 1600 L2400 1600 L2400 0 L0 0  Z\n",
       "  \" fill=\"#ffffff\" fill-rule=\"evenodd\" fill-opacity=\"1\"/>\n",
       "<defs>\n",
       "  <clipPath id=\"clip521\">\n",
       "    <rect x=\"480\" y=\"0\" width=\"1681\" height=\"1600\"/>\n",
       "  </clipPath>\n",
       "</defs>\n",
       "<path clip-path=\"url(#clip520)\" d=\"\n",
       "M186.274 1486.45 L2352.76 1486.45 L2352.76 47.2441 L186.274 47.2441  Z\n",
       "  \" fill=\"#ffffff\" fill-rule=\"evenodd\" fill-opacity=\"1\"/>\n",
       "<defs>\n",
       "  <clipPath id=\"clip522\">\n",
       "    <rect x=\"186\" y=\"47\" width=\"2167\" height=\"1440\"/>\n",
       "  </clipPath>\n",
       "</defs>\n",
       "<polyline clip-path=\"url(#clip522)\" style=\"stroke:#000000; stroke-width:2; stroke-opacity:0.1; fill:none\" points=\"\n",
       "  226.734,1486.45 226.734,47.2441 \n",
       "  \"/>\n",
       "<polyline clip-path=\"url(#clip522)\" style=\"stroke:#000000; stroke-width:2; stroke-opacity:0.1; fill:none\" points=\"\n",
       "  748.124,1486.45 748.124,47.2441 \n",
       "  \"/>\n",
       "<polyline clip-path=\"url(#clip522)\" style=\"stroke:#000000; stroke-width:2; stroke-opacity:0.1; fill:none\" points=\"\n",
       "  1269.51,1486.45 1269.51,47.2441 \n",
       "  \"/>\n",
       "<polyline clip-path=\"url(#clip522)\" style=\"stroke:#000000; stroke-width:2; stroke-opacity:0.1; fill:none\" points=\"\n",
       "  1790.91,1486.45 1790.91,47.2441 \n",
       "  \"/>\n",
       "<polyline clip-path=\"url(#clip522)\" style=\"stroke:#000000; stroke-width:2; stroke-opacity:0.1; fill:none\" points=\"\n",
       "  2312.3,1486.45 2312.3,47.2441 \n",
       "  \"/>\n",
       "<polyline clip-path=\"url(#clip520)\" style=\"stroke:#000000; stroke-width:4; stroke-opacity:1; fill:none\" points=\"\n",
       "  186.274,1486.45 2352.76,1486.45 \n",
       "  \"/>\n",
       "<polyline clip-path=\"url(#clip520)\" style=\"stroke:#000000; stroke-width:4; stroke-opacity:1; fill:none\" points=\"\n",
       "  226.734,1486.45 226.734,1469.18 \n",
       "  \"/>\n",
       "<polyline clip-path=\"url(#clip520)\" style=\"stroke:#000000; stroke-width:4; stroke-opacity:1; fill:none\" points=\"\n",
       "  748.124,1486.45 748.124,1469.18 \n",
       "  \"/>\n",
       "<polyline clip-path=\"url(#clip520)\" style=\"stroke:#000000; stroke-width:4; stroke-opacity:1; fill:none\" points=\"\n",
       "  1269.51,1486.45 1269.51,1469.18 \n",
       "  \"/>\n",
       "<polyline clip-path=\"url(#clip520)\" style=\"stroke:#000000; stroke-width:4; stroke-opacity:1; fill:none\" points=\"\n",
       "  1790.91,1486.45 1790.91,1469.18 \n",
       "  \"/>\n",
       "<polyline clip-path=\"url(#clip520)\" style=\"stroke:#000000; stroke-width:4; stroke-opacity:1; fill:none\" points=\"\n",
       "  2312.3,1486.45 2312.3,1469.18 \n",
       "  \"/>\n",
       "<path clip-path=\"url(#clip520)\" d=\"M 0 0 M189.037 1515.64 Q185.426 1515.64 183.598 1519.2 Q181.792 1522.75 181.792 1529.87 Q181.792 1536.98 183.598 1540.55 Q185.426 1544.09 189.037 1544.09 Q192.672 1544.09 194.477 1540.55 Q196.306 1536.98 196.306 1529.87 Q196.306 1522.75 194.477 1519.2 Q192.672 1515.64 189.037 1515.64 M189.037 1511.93 Q194.848 1511.93 197.903 1516.54 Q200.982 1521.12 200.982 1529.87 Q200.982 1538.6 197.903 1543.21 Q194.848 1547.79 189.037 1547.79 Q183.227 1547.79 180.149 1543.21 Q177.093 1538.6 177.093 1529.87 Q177.093 1521.12 180.149 1516.54 Q183.227 1511.93 189.037 1511.93 Z\" fill=\"#000000\" fill-rule=\"evenodd\" fill-opacity=\"1\" /><path clip-path=\"url(#clip520)\" d=\"M 0 0 M209.199 1541.24 L214.084 1541.24 L214.084 1547.12 L209.199 1547.12 L209.199 1541.24 Z\" fill=\"#000000\" fill-rule=\"evenodd\" fill-opacity=\"1\" /><path clip-path=\"url(#clip520)\" d=\"M 0 0 M234.269 1515.64 Q230.657 1515.64 228.829 1519.2 Q227.023 1522.75 227.023 1529.87 Q227.023 1536.98 228.829 1540.55 Q230.657 1544.09 234.269 1544.09 Q237.903 1544.09 239.708 1540.55 Q241.537 1536.98 241.537 1529.87 Q241.537 1522.75 239.708 1519.2 Q237.903 1515.64 234.269 1515.64 M234.269 1511.93 Q240.079 1511.93 243.134 1516.54 Q246.213 1521.12 246.213 1529.87 Q246.213 1538.6 243.134 1543.21 Q240.079 1547.79 234.269 1547.79 Q228.458 1547.79 225.38 1543.21 Q222.324 1538.6 222.324 1529.87 Q222.324 1521.12 225.38 1516.54 Q228.458 1511.93 234.269 1511.93 Z\" fill=\"#000000\" fill-rule=\"evenodd\" fill-opacity=\"1\" /><path clip-path=\"url(#clip520)\" d=\"M 0 0 M264.43 1515.64 Q260.819 1515.64 258.991 1519.2 Q257.185 1522.75 257.185 1529.87 Q257.185 1536.98 258.991 1540.55 Q260.819 1544.09 264.43 1544.09 Q268.065 1544.09 269.87 1540.55 Q271.699 1536.98 271.699 1529.87 Q271.699 1522.75 269.87 1519.2 Q268.065 1515.64 264.43 1515.64 M264.43 1511.93 Q270.241 1511.93 273.296 1516.54 Q276.375 1521.12 276.375 1529.87 Q276.375 1538.6 273.296 1543.21 Q270.241 1547.79 264.43 1547.79 Q258.62 1547.79 255.542 1543.21 Q252.486 1538.6 252.486 1529.87 Q252.486 1521.12 255.542 1516.54 Q258.62 1511.93 264.43 1511.93 Z\" fill=\"#000000\" fill-rule=\"evenodd\" fill-opacity=\"1\" /><path clip-path=\"url(#clip520)\" d=\"M 0 0 M710.926 1515.64 Q707.314 1515.64 705.486 1519.2 Q703.68 1522.75 703.68 1529.87 Q703.68 1536.98 705.486 1540.55 Q707.314 1544.09 710.926 1544.09 Q714.56 1544.09 716.365 1540.55 Q718.194 1536.98 718.194 1529.87 Q718.194 1522.75 716.365 1519.2 Q714.56 1515.64 710.926 1515.64 M710.926 1511.93 Q716.736 1511.93 719.791 1516.54 Q722.87 1521.12 722.87 1529.87 Q722.87 1538.6 719.791 1543.21 Q716.736 1547.79 710.926 1547.79 Q705.115 1547.79 702.037 1543.21 Q698.981 1538.6 698.981 1529.87 Q698.981 1521.12 702.037 1516.54 Q705.115 1511.93 710.926 1511.93 Z\" fill=\"#000000\" fill-rule=\"evenodd\" fill-opacity=\"1\" /><path clip-path=\"url(#clip520)\" d=\"M 0 0 M731.087 1541.24 L735.972 1541.24 L735.972 1547.12 L731.087 1547.12 L731.087 1541.24 Z\" fill=\"#000000\" fill-rule=\"evenodd\" fill-opacity=\"1\" /><path clip-path=\"url(#clip520)\" d=\"M 0 0 M750.185 1543.18 L766.504 1543.18 L766.504 1547.12 L744.56 1547.12 L744.56 1543.18 Q747.222 1540.43 751.805 1535.8 Q756.411 1531.15 757.592 1529.81 Q759.837 1527.28 760.717 1525.55 Q761.62 1523.79 761.62 1522.1 Q761.62 1519.34 759.675 1517.61 Q757.754 1515.87 754.652 1515.87 Q752.453 1515.87 749.999 1516.63 Q747.569 1517.4 744.791 1518.95 L744.791 1514.23 Q747.615 1513.09 750.069 1512.51 Q752.523 1511.93 754.56 1511.93 Q759.93 1511.93 763.124 1514.62 Q766.319 1517.31 766.319 1521.8 Q766.319 1523.93 765.509 1525.85 Q764.722 1527.74 762.615 1530.34 Q762.036 1531.01 758.935 1534.23 Q755.833 1537.42 750.185 1543.18 Z\" fill=\"#000000\" fill-rule=\"evenodd\" fill-opacity=\"1\" /><path clip-path=\"url(#clip520)\" d=\"M 0 0 M776.365 1512.56 L794.721 1512.56 L794.721 1516.5 L780.647 1516.5 L780.647 1524.97 Q781.666 1524.62 782.684 1524.46 Q783.703 1524.27 784.721 1524.27 Q790.508 1524.27 793.888 1527.44 Q797.268 1530.62 797.268 1536.03 Q797.268 1541.61 793.795 1544.71 Q790.323 1547.79 784.004 1547.79 Q781.828 1547.79 779.559 1547.42 Q777.314 1547.05 774.907 1546.31 L774.907 1541.61 Q776.99 1542.74 779.212 1543.3 Q781.434 1543.86 783.911 1543.86 Q787.916 1543.86 790.254 1541.75 Q792.592 1539.64 792.592 1536.03 Q792.592 1532.42 790.254 1530.31 Q787.916 1528.21 783.911 1528.21 Q782.036 1528.21 780.161 1528.62 Q778.309 1529.04 776.365 1529.92 L776.365 1512.56 Z\" fill=\"#000000\" fill-rule=\"evenodd\" fill-opacity=\"1\" /><path clip-path=\"url(#clip520)\" d=\"M 0 0 M1231.82 1515.64 Q1228.21 1515.64 1226.38 1519.2 Q1224.57 1522.75 1224.57 1529.87 Q1224.57 1536.98 1226.38 1540.55 Q1228.21 1544.09 1231.82 1544.09 Q1235.45 1544.09 1237.26 1540.55 Q1239.09 1536.98 1239.09 1529.87 Q1239.09 1522.75 1237.26 1519.2 Q1235.45 1515.64 1231.82 1515.64 M1231.82 1511.93 Q1237.63 1511.93 1240.68 1516.54 Q1243.76 1521.12 1243.76 1529.87 Q1243.76 1538.6 1240.68 1543.21 Q1237.63 1547.79 1231.82 1547.79 Q1226.01 1547.79 1222.93 1543.21 Q1219.87 1538.6 1219.87 1529.87 Q1219.87 1521.12 1222.93 1516.54 Q1226.01 1511.93 1231.82 1511.93 Z\" fill=\"#000000\" fill-rule=\"evenodd\" fill-opacity=\"1\" /><path clip-path=\"url(#clip520)\" d=\"M 0 0 M1251.98 1541.24 L1256.86 1541.24 L1256.86 1547.12 L1251.98 1547.12 L1251.98 1541.24 Z\" fill=\"#000000\" fill-rule=\"evenodd\" fill-opacity=\"1\" /><path clip-path=\"url(#clip520)\" d=\"M 0 0 M1267.1 1512.56 L1285.45 1512.56 L1285.45 1516.5 L1271.38 1516.5 L1271.38 1524.97 Q1272.4 1524.62 1273.42 1524.46 Q1274.43 1524.27 1275.45 1524.27 Q1281.24 1524.27 1284.62 1527.44 Q1288 1530.62 1288 1536.03 Q1288 1541.61 1284.53 1544.71 Q1281.05 1547.79 1274.73 1547.79 Q1272.56 1547.79 1270.29 1547.42 Q1268.05 1547.05 1265.64 1546.31 L1265.64 1541.61 Q1267.72 1542.74 1269.94 1543.3 Q1272.17 1543.86 1274.64 1543.86 Q1278.65 1543.86 1280.98 1541.75 Q1283.32 1539.64 1283.32 1536.03 Q1283.32 1532.42 1280.98 1530.31 Q1278.65 1528.21 1274.64 1528.21 Q1272.77 1528.21 1270.89 1528.62 Q1269.04 1529.04 1267.1 1529.92 L1267.1 1512.56 Z\" fill=\"#000000\" fill-rule=\"evenodd\" fill-opacity=\"1\" /><path clip-path=\"url(#clip520)\" d=\"M 0 0 M1307.21 1515.64 Q1303.6 1515.64 1301.77 1519.2 Q1299.97 1522.75 1299.97 1529.87 Q1299.97 1536.98 1301.77 1540.55 Q1303.6 1544.09 1307.21 1544.09 Q1310.85 1544.09 1312.65 1540.55 Q1314.48 1536.98 1314.48 1529.87 Q1314.48 1522.75 1312.65 1519.2 Q1310.85 1515.64 1307.21 1515.64 M1307.21 1511.93 Q1313.02 1511.93 1316.08 1516.54 Q1319.16 1521.12 1319.16 1529.87 Q1319.16 1538.6 1316.08 1543.21 Q1313.02 1547.79 1307.21 1547.79 Q1301.4 1547.79 1298.32 1543.21 Q1295.27 1538.6 1295.27 1529.87 Q1295.27 1521.12 1298.32 1516.54 Q1301.4 1511.93 1307.21 1511.93 Z\" fill=\"#000000\" fill-rule=\"evenodd\" fill-opacity=\"1\" /><path clip-path=\"url(#clip520)\" d=\"M 0 0 M1753.71 1515.64 Q1750.1 1515.64 1748.27 1519.2 Q1746.46 1522.75 1746.46 1529.87 Q1746.46 1536.98 1748.27 1540.55 Q1750.1 1544.09 1753.71 1544.09 Q1757.34 1544.09 1759.15 1540.55 Q1760.98 1536.98 1760.98 1529.87 Q1760.98 1522.75 1759.15 1519.2 Q1757.34 1515.64 1753.71 1515.64 M1753.71 1511.93 Q1759.52 1511.93 1762.57 1516.54 Q1765.65 1521.12 1765.65 1529.87 Q1765.65 1538.6 1762.57 1543.21 Q1759.52 1547.79 1753.71 1547.79 Q1747.9 1547.79 1744.82 1543.21 Q1741.76 1538.6 1741.76 1529.87 Q1741.76 1521.12 1744.82 1516.54 Q1747.9 1511.93 1753.71 1511.93 Z\" fill=\"#000000\" fill-rule=\"evenodd\" fill-opacity=\"1\" /><path clip-path=\"url(#clip520)\" d=\"M 0 0 M1773.87 1541.24 L1778.75 1541.24 L1778.75 1547.12 L1773.87 1547.12 L1773.87 1541.24 Z\" fill=\"#000000\" fill-rule=\"evenodd\" fill-opacity=\"1\" /><path clip-path=\"url(#clip520)\" d=\"M 0 0 M1787.76 1512.56 L1809.98 1512.56 L1809.98 1514.55 L1797.43 1547.12 L1792.55 1547.12 L1804.35 1516.5 L1787.76 1516.5 L1787.76 1512.56 Z\" fill=\"#000000\" fill-rule=\"evenodd\" fill-opacity=\"1\" /><path clip-path=\"url(#clip520)\" d=\"M 0 0 M1819.15 1512.56 L1837.5 1512.56 L1837.5 1516.5 L1823.43 1516.5 L1823.43 1524.97 Q1824.45 1524.62 1825.47 1524.46 Q1826.48 1524.27 1827.5 1524.27 Q1833.29 1524.27 1836.67 1527.44 Q1840.05 1530.62 1840.05 1536.03 Q1840.05 1541.61 1836.58 1544.71 Q1833.1 1547.79 1826.78 1547.79 Q1824.61 1547.79 1822.34 1547.42 Q1820.1 1547.05 1817.69 1546.31 L1817.69 1541.61 Q1819.77 1542.74 1821.99 1543.3 Q1824.22 1543.86 1826.69 1543.86 Q1830.7 1543.86 1833.03 1541.75 Q1835.37 1539.64 1835.37 1536.03 Q1835.37 1532.42 1833.03 1530.31 Q1830.7 1528.21 1826.69 1528.21 Q1824.82 1528.21 1822.94 1528.62 Q1821.09 1529.04 1819.15 1529.92 L1819.15 1512.56 Z\" fill=\"#000000\" fill-rule=\"evenodd\" fill-opacity=\"1\" /><path clip-path=\"url(#clip520)\" d=\"M 0 0 M2264.37 1543.18 L2272.01 1543.18 L2272.01 1516.82 L2263.7 1518.49 L2263.7 1514.23 L2271.96 1512.56 L2276.64 1512.56 L2276.64 1543.18 L2284.28 1543.18 L2284.28 1547.12 L2264.37 1547.12 L2264.37 1543.18 Z\" fill=\"#000000\" fill-rule=\"evenodd\" fill-opacity=\"1\" /><path clip-path=\"url(#clip520)\" d=\"M 0 0 M2293.72 1541.24 L2298.6 1541.24 L2298.6 1547.12 L2293.72 1547.12 L2293.72 1541.24 Z\" fill=\"#000000\" fill-rule=\"evenodd\" fill-opacity=\"1\" /><path clip-path=\"url(#clip520)\" d=\"M 0 0 M2318.79 1515.64 Q2315.18 1515.64 2313.35 1519.2 Q2311.54 1522.75 2311.54 1529.87 Q2311.54 1536.98 2313.35 1540.55 Q2315.18 1544.09 2318.79 1544.09 Q2322.42 1544.09 2324.23 1540.55 Q2326.06 1536.98 2326.06 1529.87 Q2326.06 1522.75 2324.23 1519.2 Q2322.42 1515.64 2318.79 1515.64 M2318.79 1511.93 Q2324.6 1511.93 2327.65 1516.54 Q2330.73 1521.12 2330.73 1529.87 Q2330.73 1538.6 2327.65 1543.21 Q2324.6 1547.79 2318.79 1547.79 Q2312.98 1547.79 2309.9 1543.21 Q2306.84 1538.6 2306.84 1529.87 Q2306.84 1521.12 2309.9 1516.54 Q2312.98 1511.93 2318.79 1511.93 Z\" fill=\"#000000\" fill-rule=\"evenodd\" fill-opacity=\"1\" /><path clip-path=\"url(#clip520)\" d=\"M 0 0 M2348.95 1515.64 Q2345.34 1515.64 2343.51 1519.2 Q2341.71 1522.75 2341.71 1529.87 Q2341.71 1536.98 2343.51 1540.55 Q2345.34 1544.09 2348.95 1544.09 Q2352.59 1544.09 2354.39 1540.55 Q2356.22 1536.98 2356.22 1529.87 Q2356.22 1522.75 2354.39 1519.2 Q2352.59 1515.64 2348.95 1515.64 M2348.95 1511.93 Q2354.76 1511.93 2357.82 1516.54 Q2360.9 1521.12 2360.9 1529.87 Q2360.9 1538.6 2357.82 1543.21 Q2354.76 1547.79 2348.95 1547.79 Q2343.14 1547.79 2340.06 1543.21 Q2337.01 1538.6 2337.01 1529.87 Q2337.01 1521.12 2340.06 1516.54 Q2343.14 1511.93 2348.95 1511.93 Z\" fill=\"#000000\" fill-rule=\"evenodd\" fill-opacity=\"1\" /><polyline clip-path=\"url(#clip522)\" style=\"stroke:#000000; stroke-width:2; stroke-opacity:0.1; fill:none\" points=\"\n",
       "  186.274,1445.72 2352.76,1445.72 \n",
       "  \"/>\n",
       "<polyline clip-path=\"url(#clip522)\" style=\"stroke:#000000; stroke-width:2; stroke-opacity:0.1; fill:none\" points=\"\n",
       "  186.274,1106.28 2352.76,1106.28 \n",
       "  \"/>\n",
       "<polyline clip-path=\"url(#clip522)\" style=\"stroke:#000000; stroke-width:2; stroke-opacity:0.1; fill:none\" points=\"\n",
       "  186.274,766.846 2352.76,766.846 \n",
       "  \"/>\n",
       "<polyline clip-path=\"url(#clip522)\" style=\"stroke:#000000; stroke-width:2; stroke-opacity:0.1; fill:none\" points=\"\n",
       "  186.274,427.411 2352.76,427.411 \n",
       "  \"/>\n",
       "<polyline clip-path=\"url(#clip522)\" style=\"stroke:#000000; stroke-width:2; stroke-opacity:0.1; fill:none\" points=\"\n",
       "  186.274,87.9763 2352.76,87.9763 \n",
       "  \"/>\n",
       "<polyline clip-path=\"url(#clip520)\" style=\"stroke:#000000; stroke-width:4; stroke-opacity:1; fill:none\" points=\"\n",
       "  186.274,1486.45 186.274,47.2441 \n",
       "  \"/>\n",
       "<polyline clip-path=\"url(#clip520)\" style=\"stroke:#000000; stroke-width:4; stroke-opacity:1; fill:none\" points=\"\n",
       "  186.274,1445.72 212.272,1445.72 \n",
       "  \"/>\n",
       "<polyline clip-path=\"url(#clip520)\" style=\"stroke:#000000; stroke-width:4; stroke-opacity:1; fill:none\" points=\"\n",
       "  186.274,1106.28 212.272,1106.28 \n",
       "  \"/>\n",
       "<polyline clip-path=\"url(#clip520)\" style=\"stroke:#000000; stroke-width:4; stroke-opacity:1; fill:none\" points=\"\n",
       "  186.274,766.846 212.272,766.846 \n",
       "  \"/>\n",
       "<polyline clip-path=\"url(#clip520)\" style=\"stroke:#000000; stroke-width:4; stroke-opacity:1; fill:none\" points=\"\n",
       "  186.274,427.411 212.272,427.411 \n",
       "  \"/>\n",
       "<polyline clip-path=\"url(#clip520)\" style=\"stroke:#000000; stroke-width:4; stroke-opacity:1; fill:none\" points=\"\n",
       "  186.274,87.9763 212.272,87.9763 \n",
       "  \"/>\n",
       "<path clip-path=\"url(#clip520)\" d=\"M 0 0 M62.9365 1431.51 Q59.3254 1431.51 57.4967 1435.08 Q55.6912 1438.62 55.6912 1445.75 Q55.6912 1452.86 57.4967 1456.42 Q59.3254 1459.96 62.9365 1459.96 Q66.5707 1459.96 68.3763 1456.42 Q70.205 1452.86 70.205 1445.75 Q70.205 1438.62 68.3763 1435.08 Q66.5707 1431.51 62.9365 1431.51 M62.9365 1427.81 Q68.7467 1427.81 71.8022 1432.42 Q74.8809 1437 74.8809 1445.75 Q74.8809 1454.48 71.8022 1459.08 Q68.7467 1463.67 62.9365 1463.67 Q57.1264 1463.67 54.0477 1459.08 Q50.9921 1454.48 50.9921 1445.75 Q50.9921 1437 54.0477 1432.42 Q57.1264 1427.81 62.9365 1427.81 Z\" fill=\"#000000\" fill-rule=\"evenodd\" fill-opacity=\"1\" /><path clip-path=\"url(#clip520)\" d=\"M 0 0 M83.0984 1457.12 L87.9827 1457.12 L87.9827 1463 L83.0984 1463 L83.0984 1457.12 Z\" fill=\"#000000\" fill-rule=\"evenodd\" fill-opacity=\"1\" /><path clip-path=\"url(#clip520)\" d=\"M 0 0 M108.168 1431.51 Q104.557 1431.51 102.728 1435.08 Q100.922 1438.62 100.922 1445.75 Q100.922 1452.86 102.728 1456.42 Q104.557 1459.96 108.168 1459.96 Q111.802 1459.96 113.608 1456.42 Q115.436 1452.86 115.436 1445.75 Q115.436 1438.62 113.608 1435.08 Q111.802 1431.51 108.168 1431.51 M108.168 1427.81 Q113.978 1427.81 117.033 1432.42 Q120.112 1437 120.112 1445.75 Q120.112 1454.48 117.033 1459.08 Q113.978 1463.67 108.168 1463.67 Q102.358 1463.67 99.2789 1459.08 Q96.2234 1454.48 96.2234 1445.75 Q96.2234 1437 99.2789 1432.42 Q102.358 1427.81 108.168 1427.81 Z\" fill=\"#000000\" fill-rule=\"evenodd\" fill-opacity=\"1\" /><path clip-path=\"url(#clip520)\" d=\"M 0 0 M138.33 1431.51 Q134.719 1431.51 132.89 1435.08 Q131.084 1438.62 131.084 1445.75 Q131.084 1452.86 132.89 1456.42 Q134.719 1459.96 138.33 1459.96 Q141.964 1459.96 143.769 1456.42 Q145.598 1452.86 145.598 1445.75 Q145.598 1438.62 143.769 1435.08 Q141.964 1431.51 138.33 1431.51 M138.33 1427.81 Q144.14 1427.81 147.195 1432.42 Q150.274 1437 150.274 1445.75 Q150.274 1454.48 147.195 1459.08 Q144.14 1463.67 138.33 1463.67 Q132.519 1463.67 129.441 1459.08 Q126.385 1454.48 126.385 1445.75 Q126.385 1437 129.441 1432.42 Q132.519 1427.81 138.33 1427.81 Z\" fill=\"#000000\" fill-rule=\"evenodd\" fill-opacity=\"1\" /><path clip-path=\"url(#clip520)\" d=\"M 0 0 M63.9319 1092.08 Q60.3208 1092.08 58.4921 1095.64 Q56.6865 1099.19 56.6865 1106.32 Q56.6865 1113.42 58.4921 1116.99 Q60.3208 1120.53 63.9319 1120.53 Q67.5661 1120.53 69.3717 1116.99 Q71.2004 1113.42 71.2004 1106.32 Q71.2004 1099.19 69.3717 1095.64 Q67.5661 1092.08 63.9319 1092.08 M63.9319 1088.38 Q69.742 1088.38 72.7976 1092.98 Q75.8763 1097.57 75.8763 1106.32 Q75.8763 1115.04 72.7976 1119.65 Q69.742 1124.23 63.9319 1124.23 Q58.1217 1124.23 55.043 1119.65 Q51.9875 1115.04 51.9875 1106.32 Q51.9875 1097.57 55.043 1092.98 Q58.1217 1088.38 63.9319 1088.38 Z\" fill=\"#000000\" fill-rule=\"evenodd\" fill-opacity=\"1\" /><path clip-path=\"url(#clip520)\" d=\"M 0 0 M84.0938 1117.68 L88.978 1117.68 L88.978 1123.56 L84.0938 1123.56 L84.0938 1117.68 Z\" fill=\"#000000\" fill-rule=\"evenodd\" fill-opacity=\"1\" /><path clip-path=\"url(#clip520)\" d=\"M 0 0 M103.191 1119.63 L119.51 1119.63 L119.51 1123.56 L97.566 1123.56 L97.566 1119.63 Q100.228 1116.87 104.811 1112.24 Q109.418 1107.59 110.598 1106.25 Q112.844 1103.72 113.723 1101.99 Q114.626 1100.23 114.626 1098.54 Q114.626 1095.78 112.682 1094.05 Q110.76 1092.31 107.658 1092.31 Q105.459 1092.31 103.006 1093.07 Q100.575 1093.84 97.7974 1095.39 L97.7974 1090.67 Q100.621 1089.53 103.075 1088.95 Q105.529 1088.38 107.566 1088.38 Q112.936 1088.38 116.131 1091.06 Q119.325 1093.75 119.325 1098.24 Q119.325 1100.37 118.515 1102.29 Q117.728 1104.19 115.621 1106.78 Q115.043 1107.45 111.941 1110.67 Q108.839 1113.86 103.191 1119.63 Z\" fill=\"#000000\" fill-rule=\"evenodd\" fill-opacity=\"1\" /><path clip-path=\"url(#clip520)\" d=\"M 0 0 M129.371 1089 L147.728 1089 L147.728 1092.94 L133.654 1092.94 L133.654 1101.41 Q134.672 1101.06 135.691 1100.9 Q136.709 1100.71 137.728 1100.71 Q143.515 1100.71 146.894 1103.89 Q150.274 1107.06 150.274 1112.47 Q150.274 1118.05 146.802 1121.15 Q143.33 1124.23 137.01 1124.23 Q134.834 1124.23 132.566 1123.86 Q130.32 1123.49 127.913 1122.75 L127.913 1118.05 Q129.996 1119.19 132.219 1119.74 Q134.441 1120.3 136.918 1120.3 Q140.922 1120.3 143.26 1118.19 Q145.598 1116.08 145.598 1112.47 Q145.598 1108.86 143.26 1106.76 Q140.922 1104.65 136.918 1104.65 Q135.043 1104.65 133.168 1105.07 Q131.316 1105.48 129.371 1106.36 L129.371 1089 Z\" fill=\"#000000\" fill-rule=\"evenodd\" fill-opacity=\"1\" /><path clip-path=\"url(#clip520)\" d=\"M 0 0 M62.9365 752.645 Q59.3254 752.645 57.4967 756.209 Q55.6912 759.751 55.6912 766.881 Q55.6912 773.987 57.4967 777.552 Q59.3254 781.094 62.9365 781.094 Q66.5707 781.094 68.3763 777.552 Q70.205 773.987 70.205 766.881 Q70.205 759.751 68.3763 756.209 Q66.5707 752.645 62.9365 752.645 M62.9365 748.941 Q68.7467 748.941 71.8022 753.547 Q74.8809 758.131 74.8809 766.881 Q74.8809 775.608 71.8022 780.214 Q68.7467 784.797 62.9365 784.797 Q57.1264 784.797 54.0477 780.214 Q50.9921 775.608 50.9921 766.881 Q50.9921 758.131 54.0477 753.547 Q57.1264 748.941 62.9365 748.941 Z\" fill=\"#000000\" fill-rule=\"evenodd\" fill-opacity=\"1\" /><path clip-path=\"url(#clip520)\" d=\"M 0 0 M83.0984 778.246 L87.9827 778.246 L87.9827 784.126 L83.0984 784.126 L83.0984 778.246 Z\" fill=\"#000000\" fill-rule=\"evenodd\" fill-opacity=\"1\" /><path clip-path=\"url(#clip520)\" d=\"M 0 0 M98.2141 749.566 L116.57 749.566 L116.57 753.501 L102.496 753.501 L102.496 761.973 Q103.515 761.626 104.534 761.464 Q105.552 761.279 106.571 761.279 Q112.358 761.279 115.737 764.45 Q119.117 767.621 119.117 773.038 Q119.117 778.617 115.645 781.719 Q112.172 784.797 105.853 784.797 Q103.677 784.797 101.409 784.427 Q99.1632 784.057 96.7558 783.316 L96.7558 778.617 Q98.8391 779.751 101.061 780.307 Q103.284 780.862 105.76 780.862 Q109.765 780.862 112.103 778.756 Q114.441 776.649 114.441 773.038 Q114.441 769.427 112.103 767.321 Q109.765 765.214 105.76 765.214 Q103.885 765.214 102.01 765.631 Q100.159 766.047 98.2141 766.927 L98.2141 749.566 Z\" fill=\"#000000\" fill-rule=\"evenodd\" fill-opacity=\"1\" /><path clip-path=\"url(#clip520)\" d=\"M 0 0 M138.33 752.645 Q134.719 752.645 132.89 756.209 Q131.084 759.751 131.084 766.881 Q131.084 773.987 132.89 777.552 Q134.719 781.094 138.33 781.094 Q141.964 781.094 143.769 777.552 Q145.598 773.987 145.598 766.881 Q145.598 759.751 143.769 756.209 Q141.964 752.645 138.33 752.645 M138.33 748.941 Q144.14 748.941 147.195 753.547 Q150.274 758.131 150.274 766.881 Q150.274 775.608 147.195 780.214 Q144.14 784.797 138.33 784.797 Q132.519 784.797 129.441 780.214 Q126.385 775.608 126.385 766.881 Q126.385 758.131 129.441 753.547 Q132.519 748.941 138.33 748.941 Z\" fill=\"#000000\" fill-rule=\"evenodd\" fill-opacity=\"1\" /><path clip-path=\"url(#clip520)\" d=\"M 0 0 M63.9319 413.21 Q60.3208 413.21 58.4921 416.775 Q56.6865 420.316 56.6865 427.446 Q56.6865 434.552 58.4921 438.117 Q60.3208 441.659 63.9319 441.659 Q67.5661 441.659 69.3717 438.117 Q71.2004 434.552 71.2004 427.446 Q71.2004 420.316 69.3717 416.775 Q67.5661 413.21 63.9319 413.21 M63.9319 409.506 Q69.742 409.506 72.7976 414.113 Q75.8763 418.696 75.8763 427.446 Q75.8763 436.173 72.7976 440.779 Q69.742 445.362 63.9319 445.362 Q58.1217 445.362 55.043 440.779 Q51.9875 436.173 51.9875 427.446 Q51.9875 418.696 55.043 414.113 Q58.1217 409.506 63.9319 409.506 Z\" fill=\"#000000\" fill-rule=\"evenodd\" fill-opacity=\"1\" /><path clip-path=\"url(#clip520)\" d=\"M 0 0 M84.0938 438.812 L88.978 438.812 L88.978 444.691 L84.0938 444.691 L84.0938 438.812 Z\" fill=\"#000000\" fill-rule=\"evenodd\" fill-opacity=\"1\" /><path clip-path=\"url(#clip520)\" d=\"M 0 0 M97.9826 410.131 L120.205 410.131 L120.205 412.122 L107.658 444.691 L102.774 444.691 L114.58 414.066 L97.9826 414.066 L97.9826 410.131 Z\" fill=\"#000000\" fill-rule=\"evenodd\" fill-opacity=\"1\" /><path clip-path=\"url(#clip520)\" d=\"M 0 0 M129.371 410.131 L147.728 410.131 L147.728 414.066 L133.654 414.066 L133.654 422.538 Q134.672 422.191 135.691 422.029 Q136.709 421.844 137.728 421.844 Q143.515 421.844 146.894 425.015 Q150.274 428.187 150.274 433.603 Q150.274 439.182 146.802 442.284 Q143.33 445.362 137.01 445.362 Q134.834 445.362 132.566 444.992 Q130.32 444.622 127.913 443.881 L127.913 439.182 Q129.996 440.316 132.219 440.872 Q134.441 441.427 136.918 441.427 Q140.922 441.427 143.26 439.321 Q145.598 437.214 145.598 433.603 Q145.598 429.992 143.26 427.886 Q140.922 425.779 136.918 425.779 Q135.043 425.779 133.168 426.196 Q131.316 426.613 129.371 427.492 L129.371 410.131 Z\" fill=\"#000000\" fill-rule=\"evenodd\" fill-opacity=\"1\" /><path clip-path=\"url(#clip520)\" d=\"M 0 0 M53.7467 101.321 L61.3856 101.321 L61.3856 74.9555 L53.0754 76.6222 L53.0754 72.3629 L61.3393 70.6963 L66.0152 70.6963 L66.0152 101.321 L73.654 101.321 L73.654 105.256 L53.7467 105.256 L53.7467 101.321 Z\" fill=\"#000000\" fill-rule=\"evenodd\" fill-opacity=\"1\" /><path clip-path=\"url(#clip520)\" d=\"M 0 0 M83.0984 99.3767 L87.9827 99.3767 L87.9827 105.256 L83.0984 105.256 L83.0984 99.3767 Z\" fill=\"#000000\" fill-rule=\"evenodd\" fill-opacity=\"1\" /><path clip-path=\"url(#clip520)\" d=\"M 0 0 M108.168 73.775 Q104.557 73.775 102.728 77.3398 Q100.922 80.8814 100.922 88.011 Q100.922 95.1174 102.728 98.6822 Q104.557 102.224 108.168 102.224 Q111.802 102.224 113.608 98.6822 Q115.436 95.1174 115.436 88.011 Q115.436 80.8814 113.608 77.3398 Q111.802 73.775 108.168 73.775 M108.168 70.0713 Q113.978 70.0713 117.033 74.6777 Q120.112 79.261 120.112 88.011 Q120.112 96.7378 117.033 101.344 Q113.978 105.928 108.168 105.928 Q102.358 105.928 99.2789 101.344 Q96.2234 96.7378 96.2234 88.011 Q96.2234 79.261 99.2789 74.6777 Q102.358 70.0713 108.168 70.0713 Z\" fill=\"#000000\" fill-rule=\"evenodd\" fill-opacity=\"1\" /><path clip-path=\"url(#clip520)\" d=\"M 0 0 M138.33 73.775 Q134.719 73.775 132.89 77.3398 Q131.084 80.8814 131.084 88.011 Q131.084 95.1174 132.89 98.6822 Q134.719 102.224 138.33 102.224 Q141.964 102.224 143.769 98.6822 Q145.598 95.1174 145.598 88.011 Q145.598 80.8814 143.769 77.3398 Q141.964 73.775 138.33 73.775 M138.33 70.0713 Q144.14 70.0713 147.195 74.6777 Q150.274 79.261 150.274 88.011 Q150.274 96.7378 147.195 101.344 Q144.14 105.928 138.33 105.928 Q132.519 105.928 129.441 101.344 Q126.385 96.7378 126.385 88.011 Q126.385 79.261 129.441 74.6777 Q132.519 70.0713 138.33 70.0713 Z\" fill=\"#000000\" fill-rule=\"evenodd\" fill-opacity=\"1\" /><polyline clip-path=\"url(#clip522)\" style=\"stroke:#009af9; stroke-width:4; stroke-opacity:1; fill:none\" points=\"\n",
       "  247.59,1445.72 267.549,1445.72 452.107,1445.72 563.019,1445.72 656.793,1445.72 758.658,1445.72 852.569,1445.72 902.91,1445.72 953.251,1445.72 967.833,1445.72 \n",
       "  982.414,1445.72 996.995,1445.72 1011.58,1437.52 1026.16,1394.6 1040.74,1352.35 1055.32,1310.76 1069.9,1269.82 1121.73,1129.25 1173.57,996.014 1219.02,884.759 \n",
       "  1264.47,778.366 1314.03,667.542 1363.58,561.758 1413.43,460.09 1463.28,362.869 1518.4,260.211 1573.51,162.29 1599.73,117.273 1625.95,87.9763 1652.17,87.9763 \n",
       "  1678.39,87.9763 1732.92,87.9763 1787.45,87.9763 1833.35,87.9763 1879.25,87.9763 1991.32,87.9763 2096.68,87.9763 2265.46,87.9763 2291.44,87.9763 \n",
       "  \"/>\n",
       "<path clip-path=\"url(#clip520)\" d=\"\n",
       "M1987.39 216.178 L2280.54 216.178 L2280.54 95.2176 L1987.39 95.2176  Z\n",
       "  \" fill=\"#ffffff\" fill-rule=\"evenodd\" fill-opacity=\"1\"/>\n",
       "<polyline clip-path=\"url(#clip520)\" style=\"stroke:#000000; stroke-width:4; stroke-opacity:1; fill:none\" points=\"\n",
       "  1987.39,216.178 2280.54,216.178 2280.54,95.2176 1987.39,95.2176 1987.39,216.178 \n",
       "  \"/>\n",
       "<polyline clip-path=\"url(#clip520)\" style=\"stroke:#009af9; stroke-width:4; stroke-opacity:1; fill:none\" points=\"\n",
       "  2011.46,155.698 2155.89,155.698 \n",
       "  \"/>\n",
       "<path clip-path=\"url(#clip520)\" d=\"M 0 0 M2193.81 175.385 Q2192 180.015 2190.29 181.427 Q2188.58 182.839 2185.71 182.839 L2182.3 182.839 L2182.3 179.274 L2184.8 179.274 Q2186.56 179.274 2187.53 178.44 Q2188.51 177.607 2189.69 174.505 L2190.45 172.561 L2179.97 147.052 L2184.48 147.052 L2192.58 167.329 L2200.68 147.052 L2205.2 147.052 L2193.81 175.385 Z\" fill=\"#000000\" fill-rule=\"evenodd\" fill-opacity=\"1\" /><path clip-path=\"url(#clip520)\" d=\"M 0 0 M2212.49 169.042 L2220.13 169.042 L2220.13 142.677 L2211.82 144.343 L2211.82 140.084 L2220.08 138.418 L2224.76 138.418 L2224.76 169.042 L2232.4 169.042 L2232.4 172.978 L2212.49 172.978 L2212.49 169.042 Z\" fill=\"#000000\" fill-rule=\"evenodd\" fill-opacity=\"1\" /></svg>\n"
      ]
     },
     "execution_count": 13,
     "metadata": {},
     "output_type": "execute_result"
    }
   ],
   "source": [
    "using Plots\n",
    "plot(probh(lambda => .5,w_2=>.5),.01,.99)"
   ]
  },
  {
   "cell_type": "code",
   "execution_count": 14,
   "id": "ba31bacf-5a6e-443c-8413-afab0e54aa09",
   "metadata": {},
   "outputs": [
    {
     "data": {
      "image/svg+xml": [
       "<?xml version=\"1.0\" encoding=\"utf-8\"?>\n",
       "<svg xmlns=\"http://www.w3.org/2000/svg\" xmlns:xlink=\"http://www.w3.org/1999/xlink\" width=\"600\" height=\"400\" viewBox=\"0 0 2400 1600\">\n",
       "<defs>\n",
       "  <clipPath id=\"clip560\">\n",
       "    <rect x=\"0\" y=\"0\" width=\"2400\" height=\"1600\"/>\n",
       "  </clipPath>\n",
       "</defs>\n",
       "<path clip-path=\"url(#clip560)\" d=\"\n",
       "M0 1600 L2400 1600 L2400 0 L0 0  Z\n",
       "  \" fill=\"#ffffff\" fill-rule=\"evenodd\" fill-opacity=\"1\"/>\n",
       "<defs>\n",
       "  <clipPath id=\"clip561\">\n",
       "    <rect x=\"480\" y=\"0\" width=\"1681\" height=\"1600\"/>\n",
       "  </clipPath>\n",
       "</defs>\n",
       "<path clip-path=\"url(#clip560)\" d=\"\n",
       "M186.274 1486.45 L2352.76 1486.45 L2352.76 47.2441 L186.274 47.2441  Z\n",
       "  \" fill=\"#ffffff\" fill-rule=\"evenodd\" fill-opacity=\"1\"/>\n",
       "<defs>\n",
       "  <clipPath id=\"clip562\">\n",
       "    <rect x=\"186\" y=\"47\" width=\"2167\" height=\"1440\"/>\n",
       "  </clipPath>\n",
       "</defs>\n",
       "<polyline clip-path=\"url(#clip562)\" style=\"stroke:#000000; stroke-width:2; stroke-opacity:0.1; fill:none\" points=\"\n",
       "  226.734,1486.45 226.734,47.2441 \n",
       "  \"/>\n",
       "<polyline clip-path=\"url(#clip562)\" style=\"stroke:#000000; stroke-width:2; stroke-opacity:0.1; fill:none\" points=\"\n",
       "  748.124,1486.45 748.124,47.2441 \n",
       "  \"/>\n",
       "<polyline clip-path=\"url(#clip562)\" style=\"stroke:#000000; stroke-width:2; stroke-opacity:0.1; fill:none\" points=\"\n",
       "  1269.51,1486.45 1269.51,47.2441 \n",
       "  \"/>\n",
       "<polyline clip-path=\"url(#clip562)\" style=\"stroke:#000000; stroke-width:2; stroke-opacity:0.1; fill:none\" points=\"\n",
       "  1790.91,1486.45 1790.91,47.2441 \n",
       "  \"/>\n",
       "<polyline clip-path=\"url(#clip562)\" style=\"stroke:#000000; stroke-width:2; stroke-opacity:0.1; fill:none\" points=\"\n",
       "  2312.3,1486.45 2312.3,47.2441 \n",
       "  \"/>\n",
       "<polyline clip-path=\"url(#clip560)\" style=\"stroke:#000000; stroke-width:4; stroke-opacity:1; fill:none\" points=\"\n",
       "  186.274,1486.45 2352.76,1486.45 \n",
       "  \"/>\n",
       "<polyline clip-path=\"url(#clip560)\" style=\"stroke:#000000; stroke-width:4; stroke-opacity:1; fill:none\" points=\"\n",
       "  226.734,1486.45 226.734,1469.18 \n",
       "  \"/>\n",
       "<polyline clip-path=\"url(#clip560)\" style=\"stroke:#000000; stroke-width:4; stroke-opacity:1; fill:none\" points=\"\n",
       "  748.124,1486.45 748.124,1469.18 \n",
       "  \"/>\n",
       "<polyline clip-path=\"url(#clip560)\" style=\"stroke:#000000; stroke-width:4; stroke-opacity:1; fill:none\" points=\"\n",
       "  1269.51,1486.45 1269.51,1469.18 \n",
       "  \"/>\n",
       "<polyline clip-path=\"url(#clip560)\" style=\"stroke:#000000; stroke-width:4; stroke-opacity:1; fill:none\" points=\"\n",
       "  1790.91,1486.45 1790.91,1469.18 \n",
       "  \"/>\n",
       "<polyline clip-path=\"url(#clip560)\" style=\"stroke:#000000; stroke-width:4; stroke-opacity:1; fill:none\" points=\"\n",
       "  2312.3,1486.45 2312.3,1469.18 \n",
       "  \"/>\n",
       "<path clip-path=\"url(#clip560)\" d=\"M 0 0 M189.037 1515.64 Q185.426 1515.64 183.598 1519.2 Q181.792 1522.75 181.792 1529.87 Q181.792 1536.98 183.598 1540.55 Q185.426 1544.09 189.037 1544.09 Q192.672 1544.09 194.477 1540.55 Q196.306 1536.98 196.306 1529.87 Q196.306 1522.75 194.477 1519.2 Q192.672 1515.64 189.037 1515.64 M189.037 1511.93 Q194.848 1511.93 197.903 1516.54 Q200.982 1521.12 200.982 1529.87 Q200.982 1538.6 197.903 1543.21 Q194.848 1547.79 189.037 1547.79 Q183.227 1547.79 180.149 1543.21 Q177.093 1538.6 177.093 1529.87 Q177.093 1521.12 180.149 1516.54 Q183.227 1511.93 189.037 1511.93 Z\" fill=\"#000000\" fill-rule=\"evenodd\" fill-opacity=\"1\" /><path clip-path=\"url(#clip560)\" d=\"M 0 0 M209.199 1541.24 L214.084 1541.24 L214.084 1547.12 L209.199 1547.12 L209.199 1541.24 Z\" fill=\"#000000\" fill-rule=\"evenodd\" fill-opacity=\"1\" /><path clip-path=\"url(#clip560)\" d=\"M 0 0 M234.269 1515.64 Q230.657 1515.64 228.829 1519.2 Q227.023 1522.75 227.023 1529.87 Q227.023 1536.98 228.829 1540.55 Q230.657 1544.09 234.269 1544.09 Q237.903 1544.09 239.708 1540.55 Q241.537 1536.98 241.537 1529.87 Q241.537 1522.75 239.708 1519.2 Q237.903 1515.64 234.269 1515.64 M234.269 1511.93 Q240.079 1511.93 243.134 1516.54 Q246.213 1521.12 246.213 1529.87 Q246.213 1538.6 243.134 1543.21 Q240.079 1547.79 234.269 1547.79 Q228.458 1547.79 225.38 1543.21 Q222.324 1538.6 222.324 1529.87 Q222.324 1521.12 225.38 1516.54 Q228.458 1511.93 234.269 1511.93 Z\" fill=\"#000000\" fill-rule=\"evenodd\" fill-opacity=\"1\" /><path clip-path=\"url(#clip560)\" d=\"M 0 0 M264.43 1515.64 Q260.819 1515.64 258.991 1519.2 Q257.185 1522.75 257.185 1529.87 Q257.185 1536.98 258.991 1540.55 Q260.819 1544.09 264.43 1544.09 Q268.065 1544.09 269.87 1540.55 Q271.699 1536.98 271.699 1529.87 Q271.699 1522.75 269.87 1519.2 Q268.065 1515.64 264.43 1515.64 M264.43 1511.93 Q270.241 1511.93 273.296 1516.54 Q276.375 1521.12 276.375 1529.87 Q276.375 1538.6 273.296 1543.21 Q270.241 1547.79 264.43 1547.79 Q258.62 1547.79 255.542 1543.21 Q252.486 1538.6 252.486 1529.87 Q252.486 1521.12 255.542 1516.54 Q258.62 1511.93 264.43 1511.93 Z\" fill=\"#000000\" fill-rule=\"evenodd\" fill-opacity=\"1\" /><path clip-path=\"url(#clip560)\" d=\"M 0 0 M710.926 1515.64 Q707.314 1515.64 705.486 1519.2 Q703.68 1522.75 703.68 1529.87 Q703.68 1536.98 705.486 1540.55 Q707.314 1544.09 710.926 1544.09 Q714.56 1544.09 716.365 1540.55 Q718.194 1536.98 718.194 1529.87 Q718.194 1522.75 716.365 1519.2 Q714.56 1515.64 710.926 1515.64 M710.926 1511.93 Q716.736 1511.93 719.791 1516.54 Q722.87 1521.12 722.87 1529.87 Q722.87 1538.6 719.791 1543.21 Q716.736 1547.79 710.926 1547.79 Q705.115 1547.79 702.037 1543.21 Q698.981 1538.6 698.981 1529.87 Q698.981 1521.12 702.037 1516.54 Q705.115 1511.93 710.926 1511.93 Z\" fill=\"#000000\" fill-rule=\"evenodd\" fill-opacity=\"1\" /><path clip-path=\"url(#clip560)\" d=\"M 0 0 M731.087 1541.24 L735.972 1541.24 L735.972 1547.12 L731.087 1547.12 L731.087 1541.24 Z\" fill=\"#000000\" fill-rule=\"evenodd\" fill-opacity=\"1\" /><path clip-path=\"url(#clip560)\" d=\"M 0 0 M750.185 1543.18 L766.504 1543.18 L766.504 1547.12 L744.56 1547.12 L744.56 1543.18 Q747.222 1540.43 751.805 1535.8 Q756.411 1531.15 757.592 1529.81 Q759.837 1527.28 760.717 1525.55 Q761.62 1523.79 761.62 1522.1 Q761.62 1519.34 759.675 1517.61 Q757.754 1515.87 754.652 1515.87 Q752.453 1515.87 749.999 1516.63 Q747.569 1517.4 744.791 1518.95 L744.791 1514.23 Q747.615 1513.09 750.069 1512.51 Q752.523 1511.93 754.56 1511.93 Q759.93 1511.93 763.124 1514.62 Q766.319 1517.31 766.319 1521.8 Q766.319 1523.93 765.509 1525.85 Q764.722 1527.74 762.615 1530.34 Q762.036 1531.01 758.935 1534.23 Q755.833 1537.42 750.185 1543.18 Z\" fill=\"#000000\" fill-rule=\"evenodd\" fill-opacity=\"1\" /><path clip-path=\"url(#clip560)\" d=\"M 0 0 M776.365 1512.56 L794.721 1512.56 L794.721 1516.5 L780.647 1516.5 L780.647 1524.97 Q781.666 1524.62 782.684 1524.46 Q783.703 1524.27 784.721 1524.27 Q790.508 1524.27 793.888 1527.44 Q797.268 1530.62 797.268 1536.03 Q797.268 1541.61 793.795 1544.71 Q790.323 1547.79 784.004 1547.79 Q781.828 1547.79 779.559 1547.42 Q777.314 1547.05 774.907 1546.31 L774.907 1541.61 Q776.99 1542.74 779.212 1543.3 Q781.434 1543.86 783.911 1543.86 Q787.916 1543.86 790.254 1541.75 Q792.592 1539.64 792.592 1536.03 Q792.592 1532.42 790.254 1530.31 Q787.916 1528.21 783.911 1528.21 Q782.036 1528.21 780.161 1528.62 Q778.309 1529.04 776.365 1529.92 L776.365 1512.56 Z\" fill=\"#000000\" fill-rule=\"evenodd\" fill-opacity=\"1\" /><path clip-path=\"url(#clip560)\" d=\"M 0 0 M1231.82 1515.64 Q1228.21 1515.64 1226.38 1519.2 Q1224.57 1522.75 1224.57 1529.87 Q1224.57 1536.98 1226.38 1540.55 Q1228.21 1544.09 1231.82 1544.09 Q1235.45 1544.09 1237.26 1540.55 Q1239.09 1536.98 1239.09 1529.87 Q1239.09 1522.75 1237.26 1519.2 Q1235.45 1515.64 1231.82 1515.64 M1231.82 1511.93 Q1237.63 1511.93 1240.68 1516.54 Q1243.76 1521.12 1243.76 1529.87 Q1243.76 1538.6 1240.68 1543.21 Q1237.63 1547.79 1231.82 1547.79 Q1226.01 1547.79 1222.93 1543.21 Q1219.87 1538.6 1219.87 1529.87 Q1219.87 1521.12 1222.93 1516.54 Q1226.01 1511.93 1231.82 1511.93 Z\" fill=\"#000000\" fill-rule=\"evenodd\" fill-opacity=\"1\" /><path clip-path=\"url(#clip560)\" d=\"M 0 0 M1251.98 1541.24 L1256.86 1541.24 L1256.86 1547.12 L1251.98 1547.12 L1251.98 1541.24 Z\" fill=\"#000000\" fill-rule=\"evenodd\" fill-opacity=\"1\" /><path clip-path=\"url(#clip560)\" d=\"M 0 0 M1267.1 1512.56 L1285.45 1512.56 L1285.45 1516.5 L1271.38 1516.5 L1271.38 1524.97 Q1272.4 1524.62 1273.42 1524.46 Q1274.43 1524.27 1275.45 1524.27 Q1281.24 1524.27 1284.62 1527.44 Q1288 1530.62 1288 1536.03 Q1288 1541.61 1284.53 1544.71 Q1281.05 1547.79 1274.73 1547.79 Q1272.56 1547.79 1270.29 1547.42 Q1268.05 1547.05 1265.64 1546.31 L1265.64 1541.61 Q1267.72 1542.74 1269.94 1543.3 Q1272.17 1543.86 1274.64 1543.86 Q1278.65 1543.86 1280.98 1541.75 Q1283.32 1539.64 1283.32 1536.03 Q1283.32 1532.42 1280.98 1530.31 Q1278.65 1528.21 1274.64 1528.21 Q1272.77 1528.21 1270.89 1528.62 Q1269.04 1529.04 1267.1 1529.92 L1267.1 1512.56 Z\" fill=\"#000000\" fill-rule=\"evenodd\" fill-opacity=\"1\" /><path clip-path=\"url(#clip560)\" d=\"M 0 0 M1307.21 1515.64 Q1303.6 1515.64 1301.77 1519.2 Q1299.97 1522.75 1299.97 1529.87 Q1299.97 1536.98 1301.77 1540.55 Q1303.6 1544.09 1307.21 1544.09 Q1310.85 1544.09 1312.65 1540.55 Q1314.48 1536.98 1314.48 1529.87 Q1314.48 1522.75 1312.65 1519.2 Q1310.85 1515.64 1307.21 1515.64 M1307.21 1511.93 Q1313.02 1511.93 1316.08 1516.54 Q1319.16 1521.12 1319.16 1529.87 Q1319.16 1538.6 1316.08 1543.21 Q1313.02 1547.79 1307.21 1547.79 Q1301.4 1547.79 1298.32 1543.21 Q1295.27 1538.6 1295.27 1529.87 Q1295.27 1521.12 1298.32 1516.54 Q1301.4 1511.93 1307.21 1511.93 Z\" fill=\"#000000\" fill-rule=\"evenodd\" fill-opacity=\"1\" /><path clip-path=\"url(#clip560)\" d=\"M 0 0 M1753.71 1515.64 Q1750.1 1515.64 1748.27 1519.2 Q1746.46 1522.75 1746.46 1529.87 Q1746.46 1536.98 1748.27 1540.55 Q1750.1 1544.09 1753.71 1544.09 Q1757.34 1544.09 1759.15 1540.55 Q1760.98 1536.98 1760.98 1529.87 Q1760.98 1522.75 1759.15 1519.2 Q1757.34 1515.64 1753.71 1515.64 M1753.71 1511.93 Q1759.52 1511.93 1762.57 1516.54 Q1765.65 1521.12 1765.65 1529.87 Q1765.65 1538.6 1762.57 1543.21 Q1759.52 1547.79 1753.71 1547.79 Q1747.9 1547.79 1744.82 1543.21 Q1741.76 1538.6 1741.76 1529.87 Q1741.76 1521.12 1744.82 1516.54 Q1747.9 1511.93 1753.71 1511.93 Z\" fill=\"#000000\" fill-rule=\"evenodd\" fill-opacity=\"1\" /><path clip-path=\"url(#clip560)\" d=\"M 0 0 M1773.87 1541.24 L1778.75 1541.24 L1778.75 1547.12 L1773.87 1547.12 L1773.87 1541.24 Z\" fill=\"#000000\" fill-rule=\"evenodd\" fill-opacity=\"1\" /><path clip-path=\"url(#clip560)\" d=\"M 0 0 M1787.76 1512.56 L1809.98 1512.56 L1809.98 1514.55 L1797.43 1547.12 L1792.55 1547.12 L1804.35 1516.5 L1787.76 1516.5 L1787.76 1512.56 Z\" fill=\"#000000\" fill-rule=\"evenodd\" fill-opacity=\"1\" /><path clip-path=\"url(#clip560)\" d=\"M 0 0 M1819.15 1512.56 L1837.5 1512.56 L1837.5 1516.5 L1823.43 1516.5 L1823.43 1524.97 Q1824.45 1524.62 1825.47 1524.46 Q1826.48 1524.27 1827.5 1524.27 Q1833.29 1524.27 1836.67 1527.44 Q1840.05 1530.62 1840.05 1536.03 Q1840.05 1541.61 1836.58 1544.71 Q1833.1 1547.79 1826.78 1547.79 Q1824.61 1547.79 1822.34 1547.42 Q1820.1 1547.05 1817.69 1546.31 L1817.69 1541.61 Q1819.77 1542.74 1821.99 1543.3 Q1824.22 1543.86 1826.69 1543.86 Q1830.7 1543.86 1833.03 1541.75 Q1835.37 1539.64 1835.37 1536.03 Q1835.37 1532.42 1833.03 1530.31 Q1830.7 1528.21 1826.69 1528.21 Q1824.82 1528.21 1822.94 1528.62 Q1821.09 1529.04 1819.15 1529.92 L1819.15 1512.56 Z\" fill=\"#000000\" fill-rule=\"evenodd\" fill-opacity=\"1\" /><path clip-path=\"url(#clip560)\" d=\"M 0 0 M2264.37 1543.18 L2272.01 1543.18 L2272.01 1516.82 L2263.7 1518.49 L2263.7 1514.23 L2271.96 1512.56 L2276.64 1512.56 L2276.64 1543.18 L2284.28 1543.18 L2284.28 1547.12 L2264.37 1547.12 L2264.37 1543.18 Z\" fill=\"#000000\" fill-rule=\"evenodd\" fill-opacity=\"1\" /><path clip-path=\"url(#clip560)\" d=\"M 0 0 M2293.72 1541.24 L2298.6 1541.24 L2298.6 1547.12 L2293.72 1547.12 L2293.72 1541.24 Z\" fill=\"#000000\" fill-rule=\"evenodd\" fill-opacity=\"1\" /><path clip-path=\"url(#clip560)\" d=\"M 0 0 M2318.79 1515.64 Q2315.18 1515.64 2313.35 1519.2 Q2311.54 1522.75 2311.54 1529.87 Q2311.54 1536.98 2313.35 1540.55 Q2315.18 1544.09 2318.79 1544.09 Q2322.42 1544.09 2324.23 1540.55 Q2326.06 1536.98 2326.06 1529.87 Q2326.06 1522.75 2324.23 1519.2 Q2322.42 1515.64 2318.79 1515.64 M2318.79 1511.93 Q2324.6 1511.93 2327.65 1516.54 Q2330.73 1521.12 2330.73 1529.87 Q2330.73 1538.6 2327.65 1543.21 Q2324.6 1547.79 2318.79 1547.79 Q2312.98 1547.79 2309.9 1543.21 Q2306.84 1538.6 2306.84 1529.87 Q2306.84 1521.12 2309.9 1516.54 Q2312.98 1511.93 2318.79 1511.93 Z\" fill=\"#000000\" fill-rule=\"evenodd\" fill-opacity=\"1\" /><path clip-path=\"url(#clip560)\" d=\"M 0 0 M2348.95 1515.64 Q2345.34 1515.64 2343.51 1519.2 Q2341.71 1522.75 2341.71 1529.87 Q2341.71 1536.98 2343.51 1540.55 Q2345.34 1544.09 2348.95 1544.09 Q2352.59 1544.09 2354.39 1540.55 Q2356.22 1536.98 2356.22 1529.87 Q2356.22 1522.75 2354.39 1519.2 Q2352.59 1515.64 2348.95 1515.64 M2348.95 1511.93 Q2354.76 1511.93 2357.82 1516.54 Q2360.9 1521.12 2360.9 1529.87 Q2360.9 1538.6 2357.82 1543.21 Q2354.76 1547.79 2348.95 1547.79 Q2343.14 1547.79 2340.06 1543.21 Q2337.01 1538.6 2337.01 1529.87 Q2337.01 1521.12 2340.06 1516.54 Q2343.14 1511.93 2348.95 1511.93 Z\" fill=\"#000000\" fill-rule=\"evenodd\" fill-opacity=\"1\" /><polyline clip-path=\"url(#clip562)\" style=\"stroke:#000000; stroke-width:2; stroke-opacity:0.1; fill:none\" points=\"\n",
       "  186.274,1445.72 2352.76,1445.72 \n",
       "  \"/>\n",
       "<polyline clip-path=\"url(#clip562)\" style=\"stroke:#000000; stroke-width:2; stroke-opacity:0.1; fill:none\" points=\"\n",
       "  186.274,1106.28 2352.76,1106.28 \n",
       "  \"/>\n",
       "<polyline clip-path=\"url(#clip562)\" style=\"stroke:#000000; stroke-width:2; stroke-opacity:0.1; fill:none\" points=\"\n",
       "  186.274,766.846 2352.76,766.846 \n",
       "  \"/>\n",
       "<polyline clip-path=\"url(#clip562)\" style=\"stroke:#000000; stroke-width:2; stroke-opacity:0.1; fill:none\" points=\"\n",
       "  186.274,427.411 2352.76,427.411 \n",
       "  \"/>\n",
       "<polyline clip-path=\"url(#clip562)\" style=\"stroke:#000000; stroke-width:2; stroke-opacity:0.1; fill:none\" points=\"\n",
       "  186.274,87.9763 2352.76,87.9763 \n",
       "  \"/>\n",
       "<polyline clip-path=\"url(#clip560)\" style=\"stroke:#000000; stroke-width:4; stroke-opacity:1; fill:none\" points=\"\n",
       "  186.274,1486.45 186.274,47.2441 \n",
       "  \"/>\n",
       "<polyline clip-path=\"url(#clip560)\" style=\"stroke:#000000; stroke-width:4; stroke-opacity:1; fill:none\" points=\"\n",
       "  186.274,1445.72 212.272,1445.72 \n",
       "  \"/>\n",
       "<polyline clip-path=\"url(#clip560)\" style=\"stroke:#000000; stroke-width:4; stroke-opacity:1; fill:none\" points=\"\n",
       "  186.274,1106.28 212.272,1106.28 \n",
       "  \"/>\n",
       "<polyline clip-path=\"url(#clip560)\" style=\"stroke:#000000; stroke-width:4; stroke-opacity:1; fill:none\" points=\"\n",
       "  186.274,766.846 212.272,766.846 \n",
       "  \"/>\n",
       "<polyline clip-path=\"url(#clip560)\" style=\"stroke:#000000; stroke-width:4; stroke-opacity:1; fill:none\" points=\"\n",
       "  186.274,427.411 212.272,427.411 \n",
       "  \"/>\n",
       "<polyline clip-path=\"url(#clip560)\" style=\"stroke:#000000; stroke-width:4; stroke-opacity:1; fill:none\" points=\"\n",
       "  186.274,87.9763 212.272,87.9763 \n",
       "  \"/>\n",
       "<path clip-path=\"url(#clip560)\" d=\"M 0 0 M62.9365 1431.51 Q59.3254 1431.51 57.4967 1435.08 Q55.6912 1438.62 55.6912 1445.75 Q55.6912 1452.86 57.4967 1456.42 Q59.3254 1459.96 62.9365 1459.96 Q66.5707 1459.96 68.3763 1456.42 Q70.205 1452.86 70.205 1445.75 Q70.205 1438.62 68.3763 1435.08 Q66.5707 1431.51 62.9365 1431.51 M62.9365 1427.81 Q68.7467 1427.81 71.8022 1432.42 Q74.8809 1437 74.8809 1445.75 Q74.8809 1454.48 71.8022 1459.08 Q68.7467 1463.67 62.9365 1463.67 Q57.1264 1463.67 54.0477 1459.08 Q50.9921 1454.48 50.9921 1445.75 Q50.9921 1437 54.0477 1432.42 Q57.1264 1427.81 62.9365 1427.81 Z\" fill=\"#000000\" fill-rule=\"evenodd\" fill-opacity=\"1\" /><path clip-path=\"url(#clip560)\" d=\"M 0 0 M83.0984 1457.12 L87.9827 1457.12 L87.9827 1463 L83.0984 1463 L83.0984 1457.12 Z\" fill=\"#000000\" fill-rule=\"evenodd\" fill-opacity=\"1\" /><path clip-path=\"url(#clip560)\" d=\"M 0 0 M108.168 1431.51 Q104.557 1431.51 102.728 1435.08 Q100.922 1438.62 100.922 1445.75 Q100.922 1452.86 102.728 1456.42 Q104.557 1459.96 108.168 1459.96 Q111.802 1459.96 113.608 1456.42 Q115.436 1452.86 115.436 1445.75 Q115.436 1438.62 113.608 1435.08 Q111.802 1431.51 108.168 1431.51 M108.168 1427.81 Q113.978 1427.81 117.033 1432.42 Q120.112 1437 120.112 1445.75 Q120.112 1454.48 117.033 1459.08 Q113.978 1463.67 108.168 1463.67 Q102.358 1463.67 99.2789 1459.08 Q96.2234 1454.48 96.2234 1445.75 Q96.2234 1437 99.2789 1432.42 Q102.358 1427.81 108.168 1427.81 Z\" fill=\"#000000\" fill-rule=\"evenodd\" fill-opacity=\"1\" /><path clip-path=\"url(#clip560)\" d=\"M 0 0 M138.33 1431.51 Q134.719 1431.51 132.89 1435.08 Q131.084 1438.62 131.084 1445.75 Q131.084 1452.86 132.89 1456.42 Q134.719 1459.96 138.33 1459.96 Q141.964 1459.96 143.769 1456.42 Q145.598 1452.86 145.598 1445.75 Q145.598 1438.62 143.769 1435.08 Q141.964 1431.51 138.33 1431.51 M138.33 1427.81 Q144.14 1427.81 147.195 1432.42 Q150.274 1437 150.274 1445.75 Q150.274 1454.48 147.195 1459.08 Q144.14 1463.67 138.33 1463.67 Q132.519 1463.67 129.441 1459.08 Q126.385 1454.48 126.385 1445.75 Q126.385 1437 129.441 1432.42 Q132.519 1427.81 138.33 1427.81 Z\" fill=\"#000000\" fill-rule=\"evenodd\" fill-opacity=\"1\" /><path clip-path=\"url(#clip560)\" d=\"M 0 0 M63.9319 1092.08 Q60.3208 1092.08 58.4921 1095.64 Q56.6865 1099.19 56.6865 1106.32 Q56.6865 1113.42 58.4921 1116.99 Q60.3208 1120.53 63.9319 1120.53 Q67.5661 1120.53 69.3717 1116.99 Q71.2004 1113.42 71.2004 1106.32 Q71.2004 1099.19 69.3717 1095.64 Q67.5661 1092.08 63.9319 1092.08 M63.9319 1088.38 Q69.742 1088.38 72.7976 1092.98 Q75.8763 1097.57 75.8763 1106.32 Q75.8763 1115.04 72.7976 1119.65 Q69.742 1124.23 63.9319 1124.23 Q58.1217 1124.23 55.043 1119.65 Q51.9875 1115.04 51.9875 1106.32 Q51.9875 1097.57 55.043 1092.98 Q58.1217 1088.38 63.9319 1088.38 Z\" fill=\"#000000\" fill-rule=\"evenodd\" fill-opacity=\"1\" /><path clip-path=\"url(#clip560)\" d=\"M 0 0 M84.0938 1117.68 L88.978 1117.68 L88.978 1123.56 L84.0938 1123.56 L84.0938 1117.68 Z\" fill=\"#000000\" fill-rule=\"evenodd\" fill-opacity=\"1\" /><path clip-path=\"url(#clip560)\" d=\"M 0 0 M103.191 1119.63 L119.51 1119.63 L119.51 1123.56 L97.566 1123.56 L97.566 1119.63 Q100.228 1116.87 104.811 1112.24 Q109.418 1107.59 110.598 1106.25 Q112.844 1103.72 113.723 1101.99 Q114.626 1100.23 114.626 1098.54 Q114.626 1095.78 112.682 1094.05 Q110.76 1092.31 107.658 1092.31 Q105.459 1092.31 103.006 1093.07 Q100.575 1093.84 97.7974 1095.39 L97.7974 1090.67 Q100.621 1089.53 103.075 1088.95 Q105.529 1088.38 107.566 1088.38 Q112.936 1088.38 116.131 1091.06 Q119.325 1093.75 119.325 1098.24 Q119.325 1100.37 118.515 1102.29 Q117.728 1104.19 115.621 1106.78 Q115.043 1107.45 111.941 1110.67 Q108.839 1113.86 103.191 1119.63 Z\" fill=\"#000000\" fill-rule=\"evenodd\" fill-opacity=\"1\" /><path clip-path=\"url(#clip560)\" d=\"M 0 0 M129.371 1089 L147.728 1089 L147.728 1092.94 L133.654 1092.94 L133.654 1101.41 Q134.672 1101.06 135.691 1100.9 Q136.709 1100.71 137.728 1100.71 Q143.515 1100.71 146.894 1103.89 Q150.274 1107.06 150.274 1112.47 Q150.274 1118.05 146.802 1121.15 Q143.33 1124.23 137.01 1124.23 Q134.834 1124.23 132.566 1123.86 Q130.32 1123.49 127.913 1122.75 L127.913 1118.05 Q129.996 1119.19 132.219 1119.74 Q134.441 1120.3 136.918 1120.3 Q140.922 1120.3 143.26 1118.19 Q145.598 1116.08 145.598 1112.47 Q145.598 1108.86 143.26 1106.76 Q140.922 1104.65 136.918 1104.65 Q135.043 1104.65 133.168 1105.07 Q131.316 1105.48 129.371 1106.36 L129.371 1089 Z\" fill=\"#000000\" fill-rule=\"evenodd\" fill-opacity=\"1\" /><path clip-path=\"url(#clip560)\" d=\"M 0 0 M62.9365 752.645 Q59.3254 752.645 57.4967 756.209 Q55.6912 759.751 55.6912 766.881 Q55.6912 773.987 57.4967 777.552 Q59.3254 781.094 62.9365 781.094 Q66.5707 781.094 68.3763 777.552 Q70.205 773.987 70.205 766.881 Q70.205 759.751 68.3763 756.209 Q66.5707 752.645 62.9365 752.645 M62.9365 748.941 Q68.7467 748.941 71.8022 753.547 Q74.8809 758.131 74.8809 766.881 Q74.8809 775.608 71.8022 780.214 Q68.7467 784.797 62.9365 784.797 Q57.1264 784.797 54.0477 780.214 Q50.9921 775.608 50.9921 766.881 Q50.9921 758.131 54.0477 753.547 Q57.1264 748.941 62.9365 748.941 Z\" fill=\"#000000\" fill-rule=\"evenodd\" fill-opacity=\"1\" /><path clip-path=\"url(#clip560)\" d=\"M 0 0 M83.0984 778.246 L87.9827 778.246 L87.9827 784.126 L83.0984 784.126 L83.0984 778.246 Z\" fill=\"#000000\" fill-rule=\"evenodd\" fill-opacity=\"1\" /><path clip-path=\"url(#clip560)\" d=\"M 0 0 M98.2141 749.566 L116.57 749.566 L116.57 753.501 L102.496 753.501 L102.496 761.973 Q103.515 761.626 104.534 761.464 Q105.552 761.279 106.571 761.279 Q112.358 761.279 115.737 764.45 Q119.117 767.621 119.117 773.038 Q119.117 778.617 115.645 781.719 Q112.172 784.797 105.853 784.797 Q103.677 784.797 101.409 784.427 Q99.1632 784.057 96.7558 783.316 L96.7558 778.617 Q98.8391 779.751 101.061 780.307 Q103.284 780.862 105.76 780.862 Q109.765 780.862 112.103 778.756 Q114.441 776.649 114.441 773.038 Q114.441 769.427 112.103 767.321 Q109.765 765.214 105.76 765.214 Q103.885 765.214 102.01 765.631 Q100.159 766.047 98.2141 766.927 L98.2141 749.566 Z\" fill=\"#000000\" fill-rule=\"evenodd\" fill-opacity=\"1\" /><path clip-path=\"url(#clip560)\" d=\"M 0 0 M138.33 752.645 Q134.719 752.645 132.89 756.209 Q131.084 759.751 131.084 766.881 Q131.084 773.987 132.89 777.552 Q134.719 781.094 138.33 781.094 Q141.964 781.094 143.769 777.552 Q145.598 773.987 145.598 766.881 Q145.598 759.751 143.769 756.209 Q141.964 752.645 138.33 752.645 M138.33 748.941 Q144.14 748.941 147.195 753.547 Q150.274 758.131 150.274 766.881 Q150.274 775.608 147.195 780.214 Q144.14 784.797 138.33 784.797 Q132.519 784.797 129.441 780.214 Q126.385 775.608 126.385 766.881 Q126.385 758.131 129.441 753.547 Q132.519 748.941 138.33 748.941 Z\" fill=\"#000000\" fill-rule=\"evenodd\" fill-opacity=\"1\" /><path clip-path=\"url(#clip560)\" d=\"M 0 0 M63.9319 413.21 Q60.3208 413.21 58.4921 416.775 Q56.6865 420.316 56.6865 427.446 Q56.6865 434.552 58.4921 438.117 Q60.3208 441.659 63.9319 441.659 Q67.5661 441.659 69.3717 438.117 Q71.2004 434.552 71.2004 427.446 Q71.2004 420.316 69.3717 416.775 Q67.5661 413.21 63.9319 413.21 M63.9319 409.506 Q69.742 409.506 72.7976 414.113 Q75.8763 418.696 75.8763 427.446 Q75.8763 436.173 72.7976 440.779 Q69.742 445.362 63.9319 445.362 Q58.1217 445.362 55.043 440.779 Q51.9875 436.173 51.9875 427.446 Q51.9875 418.696 55.043 414.113 Q58.1217 409.506 63.9319 409.506 Z\" fill=\"#000000\" fill-rule=\"evenodd\" fill-opacity=\"1\" /><path clip-path=\"url(#clip560)\" d=\"M 0 0 M84.0938 438.812 L88.978 438.812 L88.978 444.691 L84.0938 444.691 L84.0938 438.812 Z\" fill=\"#000000\" fill-rule=\"evenodd\" fill-opacity=\"1\" /><path clip-path=\"url(#clip560)\" d=\"M 0 0 M97.9826 410.131 L120.205 410.131 L120.205 412.122 L107.658 444.691 L102.774 444.691 L114.58 414.066 L97.9826 414.066 L97.9826 410.131 Z\" fill=\"#000000\" fill-rule=\"evenodd\" fill-opacity=\"1\" /><path clip-path=\"url(#clip560)\" d=\"M 0 0 M129.371 410.131 L147.728 410.131 L147.728 414.066 L133.654 414.066 L133.654 422.538 Q134.672 422.191 135.691 422.029 Q136.709 421.844 137.728 421.844 Q143.515 421.844 146.894 425.015 Q150.274 428.187 150.274 433.603 Q150.274 439.182 146.802 442.284 Q143.33 445.362 137.01 445.362 Q134.834 445.362 132.566 444.992 Q130.32 444.622 127.913 443.881 L127.913 439.182 Q129.996 440.316 132.219 440.872 Q134.441 441.427 136.918 441.427 Q140.922 441.427 143.26 439.321 Q145.598 437.214 145.598 433.603 Q145.598 429.992 143.26 427.886 Q140.922 425.779 136.918 425.779 Q135.043 425.779 133.168 426.196 Q131.316 426.613 129.371 427.492 L129.371 410.131 Z\" fill=\"#000000\" fill-rule=\"evenodd\" fill-opacity=\"1\" /><path clip-path=\"url(#clip560)\" d=\"M 0 0 M53.7467 101.321 L61.3856 101.321 L61.3856 74.9555 L53.0754 76.6222 L53.0754 72.3629 L61.3393 70.6963 L66.0152 70.6963 L66.0152 101.321 L73.654 101.321 L73.654 105.256 L53.7467 105.256 L53.7467 101.321 Z\" fill=\"#000000\" fill-rule=\"evenodd\" fill-opacity=\"1\" /><path clip-path=\"url(#clip560)\" d=\"M 0 0 M83.0984 99.3767 L87.9827 99.3767 L87.9827 105.256 L83.0984 105.256 L83.0984 99.3767 Z\" fill=\"#000000\" fill-rule=\"evenodd\" fill-opacity=\"1\" /><path clip-path=\"url(#clip560)\" d=\"M 0 0 M108.168 73.775 Q104.557 73.775 102.728 77.3398 Q100.922 80.8814 100.922 88.011 Q100.922 95.1174 102.728 98.6822 Q104.557 102.224 108.168 102.224 Q111.802 102.224 113.608 98.6822 Q115.436 95.1174 115.436 88.011 Q115.436 80.8814 113.608 77.3398 Q111.802 73.775 108.168 73.775 M108.168 70.0713 Q113.978 70.0713 117.033 74.6777 Q120.112 79.261 120.112 88.011 Q120.112 96.7378 117.033 101.344 Q113.978 105.928 108.168 105.928 Q102.358 105.928 99.2789 101.344 Q96.2234 96.7378 96.2234 88.011 Q96.2234 79.261 99.2789 74.6777 Q102.358 70.0713 108.168 70.0713 Z\" fill=\"#000000\" fill-rule=\"evenodd\" fill-opacity=\"1\" /><path clip-path=\"url(#clip560)\" d=\"M 0 0 M138.33 73.775 Q134.719 73.775 132.89 77.3398 Q131.084 80.8814 131.084 88.011 Q131.084 95.1174 132.89 98.6822 Q134.719 102.224 138.33 102.224 Q141.964 102.224 143.769 98.6822 Q145.598 95.1174 145.598 88.011 Q145.598 80.8814 143.769 77.3398 Q141.964 73.775 138.33 73.775 M138.33 70.0713 Q144.14 70.0713 147.195 74.6777 Q150.274 79.261 150.274 88.011 Q150.274 96.7378 147.195 101.344 Q144.14 105.928 138.33 105.928 Q132.519 105.928 129.441 101.344 Q126.385 96.7378 126.385 88.011 Q126.385 79.261 129.441 74.6777 Q132.519 70.0713 138.33 70.0713 Z\" fill=\"#000000\" fill-rule=\"evenodd\" fill-opacity=\"1\" /><polyline clip-path=\"url(#clip562)\" style=\"stroke:#009af9; stroke-width:4; stroke-opacity:1; fill:none\" points=\"\n",
       "  247.59,1445.72 267.549,1445.72 452.107,1445.72 563.019,1445.72 656.793,1445.72 758.658,1445.72 852.569,1445.72 902.91,1445.72 953.251,1445.72 967.833,1445.72 \n",
       "  982.414,1445.72 996.995,1445.72 1011.58,1437.52 1026.16,1394.6 1040.74,1352.35 1055.32,1310.76 1069.9,1269.82 1121.73,1129.25 1173.57,996.014 1219.02,884.759 \n",
       "  1264.47,778.366 1314.03,667.542 1363.58,561.758 1413.43,460.09 1463.28,362.869 1518.4,260.211 1573.51,162.29 1599.73,117.273 1625.95,87.9763 1652.17,87.9763 \n",
       "  1678.39,87.9763 1732.92,87.9763 1787.45,87.9763 1833.35,87.9763 1879.25,87.9763 1991.32,87.9763 2096.68,87.9763 2265.46,87.9763 2291.44,87.9763 \n",
       "  \"/>\n",
       "<polyline clip-path=\"url(#clip562)\" style=\"stroke:#e26f46; stroke-width:4; stroke-opacity:1; fill:none\" points=\"\n",
       "  247.59,971.874 267.549,951.256 452.107,747.182 563.019,611.564 656.793,488.203 707.726,417.538 758.658,344.1 805.614,273.798 852.569,200.858 877.74,160.619 \n",
       "  902.91,119.555 915.496,98.7049 928.081,87.9763 940.666,87.9763 953.251,87.9763 982.414,87.9763 1011.58,87.9763 1026.16,87.9763 1040.74,87.9763 1048.03,87.9763 \n",
       "  1055.32,87.9763 1062.61,92.8691 1069.9,114.543 1095.82,192.722 1121.73,272.715 1147.65,354.587 1173.57,438.403 1219.02,590.314 1264.47,748.831 1314.03,929.701 \n",
       "  1363.58,1119.57 1388.51,1218.69 1413.43,1320.35 1425.89,1372.17 1438.36,1424.66 1444.59,1445.72 1450.82,1445.72 1457.05,1445.72 1463.28,1445.72 1490.84,1445.72 \n",
       "  1518.4,1445.72 1545.95,1445.72 1573.51,1445.72 1625.95,1445.72 1678.39,1445.72 1787.45,1445.72 1879.25,1445.72 1991.32,1445.72 2096.68,1445.72 2265.46,1445.72 \n",
       "  2291.44,1445.72 \n",
       "  \"/>\n",
       "<path clip-path=\"url(#clip560)\" d=\"\n",
       "M1987.39 276.658 L2280.54 276.658 L2280.54 95.2176 L1987.39 95.2176  Z\n",
       "  \" fill=\"#ffffff\" fill-rule=\"evenodd\" fill-opacity=\"1\"/>\n",
       "<polyline clip-path=\"url(#clip560)\" style=\"stroke:#000000; stroke-width:4; stroke-opacity:1; fill:none\" points=\"\n",
       "  1987.39,276.658 2280.54,276.658 2280.54,95.2176 1987.39,95.2176 1987.39,276.658 \n",
       "  \"/>\n",
       "<polyline clip-path=\"url(#clip560)\" style=\"stroke:#009af9; stroke-width:4; stroke-opacity:1; fill:none\" points=\"\n",
       "  2011.46,155.698 2155.89,155.698 \n",
       "  \"/>\n",
       "<path clip-path=\"url(#clip560)\" d=\"M 0 0 M2193.81 175.385 Q2192 180.015 2190.29 181.427 Q2188.58 182.839 2185.71 182.839 L2182.3 182.839 L2182.3 179.274 L2184.8 179.274 Q2186.56 179.274 2187.53 178.44 Q2188.51 177.607 2189.69 174.505 L2190.45 172.561 L2179.97 147.052 L2184.48 147.052 L2192.58 167.329 L2200.68 147.052 L2205.2 147.052 L2193.81 175.385 Z\" fill=\"#000000\" fill-rule=\"evenodd\" fill-opacity=\"1\" /><path clip-path=\"url(#clip560)\" d=\"M 0 0 M2212.49 169.042 L2220.13 169.042 L2220.13 142.677 L2211.82 144.343 L2211.82 140.084 L2220.08 138.418 L2224.76 138.418 L2224.76 169.042 L2232.4 169.042 L2232.4 172.978 L2212.49 172.978 L2212.49 169.042 Z\" fill=\"#000000\" fill-rule=\"evenodd\" fill-opacity=\"1\" /><polyline clip-path=\"url(#clip560)\" style=\"stroke:#e26f46; stroke-width:4; stroke-opacity:1; fill:none\" points=\"\n",
       "  2011.46,216.178 2155.89,216.178 \n",
       "  \"/>\n",
       "<path clip-path=\"url(#clip560)\" d=\"M 0 0 M2193.81 235.865 Q2192 240.495 2190.29 241.907 Q2188.58 243.319 2185.71 243.319 L2182.3 243.319 L2182.3 239.754 L2184.8 239.754 Q2186.56 239.754 2187.53 238.92 Q2188.51 238.087 2189.69 234.985 L2190.45 233.041 L2179.97 207.532 L2184.48 207.532 L2192.58 227.809 L2200.68 207.532 L2205.2 207.532 L2193.81 235.865 Z\" fill=\"#000000\" fill-rule=\"evenodd\" fill-opacity=\"1\" /><path clip-path=\"url(#clip560)\" d=\"M 0 0 M2215.71 229.522 L2232.03 229.522 L2232.03 233.458 L2210.08 233.458 L2210.08 229.522 Q2212.74 226.768 2217.33 222.138 Q2221.93 217.485 2223.11 216.143 Q2225.36 213.62 2226.24 211.884 Q2227.14 210.124 2227.14 208.435 Q2227.14 205.68 2225.2 203.944 Q2223.28 202.208 2220.17 202.208 Q2217.97 202.208 2215.52 202.972 Q2213.09 203.735 2210.31 205.286 L2210.31 200.564 Q2213.14 199.43 2215.59 198.851 Q2218.04 198.273 2220.08 198.273 Q2225.45 198.273 2228.65 200.958 Q2231.84 203.643 2231.84 208.134 Q2231.84 210.263 2231.03 212.185 Q2230.24 214.083 2228.14 216.675 Q2227.56 217.347 2224.46 220.564 Q2221.35 223.759 2215.71 229.522 Z\" fill=\"#000000\" fill-rule=\"evenodd\" fill-opacity=\"1\" /></svg>\n"
      ]
     },
     "execution_count": 14,
     "metadata": {},
     "output_type": "execute_result"
    }
   ],
   "source": [
    "plot!(probl(lambda =>5/10,w_2=>1/2),.01,.99)"
   ]
  },
  {
   "cell_type": "markdown",
   "id": "6244238e-3231-4f33-ae34-e201db4cbe6c",
   "metadata": {},
   "source": [
    "To figure out sellers' profits, notice that the seller doesn't really care which type of employee he or she hires because they are both equally productive.  There is no real reason to discriminate between the two types.\n",
    "\n",
    "To be specific this means that the seller will earn their profit as long as at least one worker applies.  As we described above, if a worker has type $h$ they apply with probability $\\pi_h$, if they have type $l$ the probability they apply is $\\pi_l$.  The any particular worker applies to the firm with probability $\\lambda\\pi_h+(1-\\lambda)\\pi_l$.  One way to put this is that a worker applies to the firm 2 with probability $Q_1(w_1,w_2) = \\lambda\\pi_h+(1-\\lambda)\\pi_l$."
   ]
  },
  {
   "cell_type": "code",
   "execution_count": 15,
   "id": "ace01013-5a34-4874-8b4a-3906efe3a89d",
   "metadata": {},
   "outputs": [
    {
     "data": {
      "text/latex": [
       "$\\begin{equation*}\\lambda \\max\\left(0, \\min\\left(1, \\frac{\\lambda w_{2} + 2 w_{1} - 2 w_{2}}{\\lambda \\left(w_{1} + w_{2}\\right)}\\right)\\right) + \\left(1 - \\lambda\\right) \\max\\left(0, \\min\\left(1, \\frac{- 2 \\lambda w_{1} \\max\\left(0, \\min\\left(1, \\frac{\\lambda w_{2} + 2 w_{1} - 2 w_{2}}{\\lambda \\left(w_{1} + w_{2}\\right)}\\right)\\right) + 2 \\lambda w_{1} - 2 \\lambda w_{2} \\max\\left(0, \\min\\left(1, \\frac{\\lambda w_{2} + 2 w_{1} - 2 w_{2}}{\\lambda \\left(w_{1} + w_{2}\\right)}\\right)\\right) - \\lambda w_{2} + w_{2}}{\\lambda w_{1} - 3 \\lambda w_{2} - w_{1} + 3 w_{2}}\\right)\\right)\\end{equation*}$\n"
      ],
      "text/plain": [
       "λ⋅Max(0, Min(1, (lambda*w_2 + 2*w_1 - 2*w_2)/(lambda*(w_1 + w_2)))) + (1 - λ)⋅\n",
       "Max(0, Min(1, (-2*lambda*w_1*Max(0, Min(1, (lambda*w_2 + 2*w_1 - 2*w_2)/(lambd\n",
       "a*(w_1 + w_2)))) + 2*lambda*w_1 - 2*lambda*w_2*Max(0, Min(1, (lambda*w_2 + 2*w\n",
       "_1 - 2*w_2)/(lambda*(w_1 + w_2)))) - lambda*w_2 + w_2)/(lambda*w_1 - 3*lambda*\n",
       "w_2 - w_1 + 3*w_2)))"
      ]
     },
     "execution_count": 15,
     "metadata": {},
     "output_type": "execute_result"
    }
   ],
   "source": [
    "Q1 = lambda*probh+(1-lambda)*probl"
   ]
  },
  {
   "cell_type": "code",
   "execution_count": 16,
   "id": "23a4d6ca-a68b-4693-972e-b412604ff510",
   "metadata": {},
   "outputs": [
    {
     "data": {
      "image/svg+xml": [
       "<?xml version=\"1.0\" encoding=\"utf-8\"?>\n",
       "<svg xmlns=\"http://www.w3.org/2000/svg\" xmlns:xlink=\"http://www.w3.org/1999/xlink\" width=\"600\" height=\"400\" viewBox=\"0 0 2400 1600\">\n",
       "<defs>\n",
       "  <clipPath id=\"clip600\">\n",
       "    <rect x=\"0\" y=\"0\" width=\"2400\" height=\"1600\"/>\n",
       "  </clipPath>\n",
       "</defs>\n",
       "<path clip-path=\"url(#clip600)\" d=\"\n",
       "M0 1600 L2400 1600 L2400 0 L0 0  Z\n",
       "  \" fill=\"#ffffff\" fill-rule=\"evenodd\" fill-opacity=\"1\"/>\n",
       "<defs>\n",
       "  <clipPath id=\"clip601\">\n",
       "    <rect x=\"480\" y=\"0\" width=\"1681\" height=\"1600\"/>\n",
       "  </clipPath>\n",
       "</defs>\n",
       "<path clip-path=\"url(#clip600)\" d=\"\n",
       "M186.274 1486.45 L2352.76 1486.45 L2352.76 47.2441 L186.274 47.2441  Z\n",
       "  \" fill=\"#ffffff\" fill-rule=\"evenodd\" fill-opacity=\"1\"/>\n",
       "<defs>\n",
       "  <clipPath id=\"clip602\">\n",
       "    <rect x=\"186\" y=\"47\" width=\"2167\" height=\"1440\"/>\n",
       "  </clipPath>\n",
       "</defs>\n",
       "<polyline clip-path=\"url(#clip602)\" style=\"stroke:#000000; stroke-width:2; stroke-opacity:0.1; fill:none\" points=\"\n",
       "  226.734,1486.45 226.734,47.2441 \n",
       "  \"/>\n",
       "<polyline clip-path=\"url(#clip602)\" style=\"stroke:#000000; stroke-width:2; stroke-opacity:0.1; fill:none\" points=\"\n",
       "  748.124,1486.45 748.124,47.2441 \n",
       "  \"/>\n",
       "<polyline clip-path=\"url(#clip602)\" style=\"stroke:#000000; stroke-width:2; stroke-opacity:0.1; fill:none\" points=\"\n",
       "  1269.51,1486.45 1269.51,47.2441 \n",
       "  \"/>\n",
       "<polyline clip-path=\"url(#clip602)\" style=\"stroke:#000000; stroke-width:2; stroke-opacity:0.1; fill:none\" points=\"\n",
       "  1790.91,1486.45 1790.91,47.2441 \n",
       "  \"/>\n",
       "<polyline clip-path=\"url(#clip602)\" style=\"stroke:#000000; stroke-width:2; stroke-opacity:0.1; fill:none\" points=\"\n",
       "  2312.3,1486.45 2312.3,47.2441 \n",
       "  \"/>\n",
       "<polyline clip-path=\"url(#clip600)\" style=\"stroke:#000000; stroke-width:4; stroke-opacity:1; fill:none\" points=\"\n",
       "  186.274,1486.45 2352.76,1486.45 \n",
       "  \"/>\n",
       "<polyline clip-path=\"url(#clip600)\" style=\"stroke:#000000; stroke-width:4; stroke-opacity:1; fill:none\" points=\"\n",
       "  226.734,1486.45 226.734,1469.18 \n",
       "  \"/>\n",
       "<polyline clip-path=\"url(#clip600)\" style=\"stroke:#000000; stroke-width:4; stroke-opacity:1; fill:none\" points=\"\n",
       "  748.124,1486.45 748.124,1469.18 \n",
       "  \"/>\n",
       "<polyline clip-path=\"url(#clip600)\" style=\"stroke:#000000; stroke-width:4; stroke-opacity:1; fill:none\" points=\"\n",
       "  1269.51,1486.45 1269.51,1469.18 \n",
       "  \"/>\n",
       "<polyline clip-path=\"url(#clip600)\" style=\"stroke:#000000; stroke-width:4; stroke-opacity:1; fill:none\" points=\"\n",
       "  1790.91,1486.45 1790.91,1469.18 \n",
       "  \"/>\n",
       "<polyline clip-path=\"url(#clip600)\" style=\"stroke:#000000; stroke-width:4; stroke-opacity:1; fill:none\" points=\"\n",
       "  2312.3,1486.45 2312.3,1469.18 \n",
       "  \"/>\n",
       "<path clip-path=\"url(#clip600)\" d=\"M 0 0 M189.037 1515.64 Q185.426 1515.64 183.598 1519.2 Q181.792 1522.75 181.792 1529.87 Q181.792 1536.98 183.598 1540.55 Q185.426 1544.09 189.037 1544.09 Q192.672 1544.09 194.477 1540.55 Q196.306 1536.98 196.306 1529.87 Q196.306 1522.75 194.477 1519.2 Q192.672 1515.64 189.037 1515.64 M189.037 1511.93 Q194.848 1511.93 197.903 1516.54 Q200.982 1521.12 200.982 1529.87 Q200.982 1538.6 197.903 1543.21 Q194.848 1547.79 189.037 1547.79 Q183.227 1547.79 180.149 1543.21 Q177.093 1538.6 177.093 1529.87 Q177.093 1521.12 180.149 1516.54 Q183.227 1511.93 189.037 1511.93 Z\" fill=\"#000000\" fill-rule=\"evenodd\" fill-opacity=\"1\" /><path clip-path=\"url(#clip600)\" d=\"M 0 0 M209.199 1541.24 L214.084 1541.24 L214.084 1547.12 L209.199 1547.12 L209.199 1541.24 Z\" fill=\"#000000\" fill-rule=\"evenodd\" fill-opacity=\"1\" /><path clip-path=\"url(#clip600)\" d=\"M 0 0 M234.269 1515.64 Q230.657 1515.64 228.829 1519.2 Q227.023 1522.75 227.023 1529.87 Q227.023 1536.98 228.829 1540.55 Q230.657 1544.09 234.269 1544.09 Q237.903 1544.09 239.708 1540.55 Q241.537 1536.98 241.537 1529.87 Q241.537 1522.75 239.708 1519.2 Q237.903 1515.64 234.269 1515.64 M234.269 1511.93 Q240.079 1511.93 243.134 1516.54 Q246.213 1521.12 246.213 1529.87 Q246.213 1538.6 243.134 1543.21 Q240.079 1547.79 234.269 1547.79 Q228.458 1547.79 225.38 1543.21 Q222.324 1538.6 222.324 1529.87 Q222.324 1521.12 225.38 1516.54 Q228.458 1511.93 234.269 1511.93 Z\" fill=\"#000000\" fill-rule=\"evenodd\" fill-opacity=\"1\" /><path clip-path=\"url(#clip600)\" d=\"M 0 0 M264.43 1515.64 Q260.819 1515.64 258.991 1519.2 Q257.185 1522.75 257.185 1529.87 Q257.185 1536.98 258.991 1540.55 Q260.819 1544.09 264.43 1544.09 Q268.065 1544.09 269.87 1540.55 Q271.699 1536.98 271.699 1529.87 Q271.699 1522.75 269.87 1519.2 Q268.065 1515.64 264.43 1515.64 M264.43 1511.93 Q270.241 1511.93 273.296 1516.54 Q276.375 1521.12 276.375 1529.87 Q276.375 1538.6 273.296 1543.21 Q270.241 1547.79 264.43 1547.79 Q258.62 1547.79 255.542 1543.21 Q252.486 1538.6 252.486 1529.87 Q252.486 1521.12 255.542 1516.54 Q258.62 1511.93 264.43 1511.93 Z\" fill=\"#000000\" fill-rule=\"evenodd\" fill-opacity=\"1\" /><path clip-path=\"url(#clip600)\" d=\"M 0 0 M710.926 1515.64 Q707.314 1515.64 705.486 1519.2 Q703.68 1522.75 703.68 1529.87 Q703.68 1536.98 705.486 1540.55 Q707.314 1544.09 710.926 1544.09 Q714.56 1544.09 716.365 1540.55 Q718.194 1536.98 718.194 1529.87 Q718.194 1522.75 716.365 1519.2 Q714.56 1515.64 710.926 1515.64 M710.926 1511.93 Q716.736 1511.93 719.791 1516.54 Q722.87 1521.12 722.87 1529.87 Q722.87 1538.6 719.791 1543.21 Q716.736 1547.79 710.926 1547.79 Q705.115 1547.79 702.037 1543.21 Q698.981 1538.6 698.981 1529.87 Q698.981 1521.12 702.037 1516.54 Q705.115 1511.93 710.926 1511.93 Z\" fill=\"#000000\" fill-rule=\"evenodd\" fill-opacity=\"1\" /><path clip-path=\"url(#clip600)\" d=\"M 0 0 M731.087 1541.24 L735.972 1541.24 L735.972 1547.12 L731.087 1547.12 L731.087 1541.24 Z\" fill=\"#000000\" fill-rule=\"evenodd\" fill-opacity=\"1\" /><path clip-path=\"url(#clip600)\" d=\"M 0 0 M750.185 1543.18 L766.504 1543.18 L766.504 1547.12 L744.56 1547.12 L744.56 1543.18 Q747.222 1540.43 751.805 1535.8 Q756.411 1531.15 757.592 1529.81 Q759.837 1527.28 760.717 1525.55 Q761.62 1523.79 761.62 1522.1 Q761.62 1519.34 759.675 1517.61 Q757.754 1515.87 754.652 1515.87 Q752.453 1515.87 749.999 1516.63 Q747.569 1517.4 744.791 1518.95 L744.791 1514.23 Q747.615 1513.09 750.069 1512.51 Q752.523 1511.93 754.56 1511.93 Q759.93 1511.93 763.124 1514.62 Q766.319 1517.31 766.319 1521.8 Q766.319 1523.93 765.509 1525.85 Q764.722 1527.74 762.615 1530.34 Q762.036 1531.01 758.935 1534.23 Q755.833 1537.42 750.185 1543.18 Z\" fill=\"#000000\" fill-rule=\"evenodd\" fill-opacity=\"1\" /><path clip-path=\"url(#clip600)\" d=\"M 0 0 M776.365 1512.56 L794.721 1512.56 L794.721 1516.5 L780.647 1516.5 L780.647 1524.97 Q781.666 1524.62 782.684 1524.46 Q783.703 1524.27 784.721 1524.27 Q790.508 1524.27 793.888 1527.44 Q797.268 1530.62 797.268 1536.03 Q797.268 1541.61 793.795 1544.71 Q790.323 1547.79 784.004 1547.79 Q781.828 1547.79 779.559 1547.42 Q777.314 1547.05 774.907 1546.31 L774.907 1541.61 Q776.99 1542.74 779.212 1543.3 Q781.434 1543.86 783.911 1543.86 Q787.916 1543.86 790.254 1541.75 Q792.592 1539.64 792.592 1536.03 Q792.592 1532.42 790.254 1530.31 Q787.916 1528.21 783.911 1528.21 Q782.036 1528.21 780.161 1528.62 Q778.309 1529.04 776.365 1529.92 L776.365 1512.56 Z\" fill=\"#000000\" fill-rule=\"evenodd\" fill-opacity=\"1\" /><path clip-path=\"url(#clip600)\" d=\"M 0 0 M1231.82 1515.64 Q1228.21 1515.64 1226.38 1519.2 Q1224.57 1522.75 1224.57 1529.87 Q1224.57 1536.98 1226.38 1540.55 Q1228.21 1544.09 1231.82 1544.09 Q1235.45 1544.09 1237.26 1540.55 Q1239.09 1536.98 1239.09 1529.87 Q1239.09 1522.75 1237.26 1519.2 Q1235.45 1515.64 1231.82 1515.64 M1231.82 1511.93 Q1237.63 1511.93 1240.68 1516.54 Q1243.76 1521.12 1243.76 1529.87 Q1243.76 1538.6 1240.68 1543.21 Q1237.63 1547.79 1231.82 1547.79 Q1226.01 1547.79 1222.93 1543.21 Q1219.87 1538.6 1219.87 1529.87 Q1219.87 1521.12 1222.93 1516.54 Q1226.01 1511.93 1231.82 1511.93 Z\" fill=\"#000000\" fill-rule=\"evenodd\" fill-opacity=\"1\" /><path clip-path=\"url(#clip600)\" d=\"M 0 0 M1251.98 1541.24 L1256.86 1541.24 L1256.86 1547.12 L1251.98 1547.12 L1251.98 1541.24 Z\" fill=\"#000000\" fill-rule=\"evenodd\" fill-opacity=\"1\" /><path clip-path=\"url(#clip600)\" d=\"M 0 0 M1267.1 1512.56 L1285.45 1512.56 L1285.45 1516.5 L1271.38 1516.5 L1271.38 1524.97 Q1272.4 1524.62 1273.42 1524.46 Q1274.43 1524.27 1275.45 1524.27 Q1281.24 1524.27 1284.62 1527.44 Q1288 1530.62 1288 1536.03 Q1288 1541.61 1284.53 1544.71 Q1281.05 1547.79 1274.73 1547.79 Q1272.56 1547.79 1270.29 1547.42 Q1268.05 1547.05 1265.64 1546.31 L1265.64 1541.61 Q1267.72 1542.74 1269.94 1543.3 Q1272.17 1543.86 1274.64 1543.86 Q1278.65 1543.86 1280.98 1541.75 Q1283.32 1539.64 1283.32 1536.03 Q1283.32 1532.42 1280.98 1530.31 Q1278.65 1528.21 1274.64 1528.21 Q1272.77 1528.21 1270.89 1528.62 Q1269.04 1529.04 1267.1 1529.92 L1267.1 1512.56 Z\" fill=\"#000000\" fill-rule=\"evenodd\" fill-opacity=\"1\" /><path clip-path=\"url(#clip600)\" d=\"M 0 0 M1307.21 1515.64 Q1303.6 1515.64 1301.77 1519.2 Q1299.97 1522.75 1299.97 1529.87 Q1299.97 1536.98 1301.77 1540.55 Q1303.6 1544.09 1307.21 1544.09 Q1310.85 1544.09 1312.65 1540.55 Q1314.48 1536.98 1314.48 1529.87 Q1314.48 1522.75 1312.65 1519.2 Q1310.85 1515.64 1307.21 1515.64 M1307.21 1511.93 Q1313.02 1511.93 1316.08 1516.54 Q1319.16 1521.12 1319.16 1529.87 Q1319.16 1538.6 1316.08 1543.21 Q1313.02 1547.79 1307.21 1547.79 Q1301.4 1547.79 1298.32 1543.21 Q1295.27 1538.6 1295.27 1529.87 Q1295.27 1521.12 1298.32 1516.54 Q1301.4 1511.93 1307.21 1511.93 Z\" fill=\"#000000\" fill-rule=\"evenodd\" fill-opacity=\"1\" /><path clip-path=\"url(#clip600)\" d=\"M 0 0 M1753.71 1515.64 Q1750.1 1515.64 1748.27 1519.2 Q1746.46 1522.75 1746.46 1529.87 Q1746.46 1536.98 1748.27 1540.55 Q1750.1 1544.09 1753.71 1544.09 Q1757.34 1544.09 1759.15 1540.55 Q1760.98 1536.98 1760.98 1529.87 Q1760.98 1522.75 1759.15 1519.2 Q1757.34 1515.64 1753.71 1515.64 M1753.71 1511.93 Q1759.52 1511.93 1762.57 1516.54 Q1765.65 1521.12 1765.65 1529.87 Q1765.65 1538.6 1762.57 1543.21 Q1759.52 1547.79 1753.71 1547.79 Q1747.9 1547.79 1744.82 1543.21 Q1741.76 1538.6 1741.76 1529.87 Q1741.76 1521.12 1744.82 1516.54 Q1747.9 1511.93 1753.71 1511.93 Z\" fill=\"#000000\" fill-rule=\"evenodd\" fill-opacity=\"1\" /><path clip-path=\"url(#clip600)\" d=\"M 0 0 M1773.87 1541.24 L1778.75 1541.24 L1778.75 1547.12 L1773.87 1547.12 L1773.87 1541.24 Z\" fill=\"#000000\" fill-rule=\"evenodd\" fill-opacity=\"1\" /><path clip-path=\"url(#clip600)\" d=\"M 0 0 M1787.76 1512.56 L1809.98 1512.56 L1809.98 1514.55 L1797.43 1547.12 L1792.55 1547.12 L1804.35 1516.5 L1787.76 1516.5 L1787.76 1512.56 Z\" fill=\"#000000\" fill-rule=\"evenodd\" fill-opacity=\"1\" /><path clip-path=\"url(#clip600)\" d=\"M 0 0 M1819.15 1512.56 L1837.5 1512.56 L1837.5 1516.5 L1823.43 1516.5 L1823.43 1524.97 Q1824.45 1524.62 1825.47 1524.46 Q1826.48 1524.27 1827.5 1524.27 Q1833.29 1524.27 1836.67 1527.44 Q1840.05 1530.62 1840.05 1536.03 Q1840.05 1541.61 1836.58 1544.71 Q1833.1 1547.79 1826.78 1547.79 Q1824.61 1547.79 1822.34 1547.42 Q1820.1 1547.05 1817.69 1546.31 L1817.69 1541.61 Q1819.77 1542.74 1821.99 1543.3 Q1824.22 1543.86 1826.69 1543.86 Q1830.7 1543.86 1833.03 1541.75 Q1835.37 1539.64 1835.37 1536.03 Q1835.37 1532.42 1833.03 1530.31 Q1830.7 1528.21 1826.69 1528.21 Q1824.82 1528.21 1822.94 1528.62 Q1821.09 1529.04 1819.15 1529.92 L1819.15 1512.56 Z\" fill=\"#000000\" fill-rule=\"evenodd\" fill-opacity=\"1\" /><path clip-path=\"url(#clip600)\" d=\"M 0 0 M2264.37 1543.18 L2272.01 1543.18 L2272.01 1516.82 L2263.7 1518.49 L2263.7 1514.23 L2271.96 1512.56 L2276.64 1512.56 L2276.64 1543.18 L2284.28 1543.18 L2284.28 1547.12 L2264.37 1547.12 L2264.37 1543.18 Z\" fill=\"#000000\" fill-rule=\"evenodd\" fill-opacity=\"1\" /><path clip-path=\"url(#clip600)\" d=\"M 0 0 M2293.72 1541.24 L2298.6 1541.24 L2298.6 1547.12 L2293.72 1547.12 L2293.72 1541.24 Z\" fill=\"#000000\" fill-rule=\"evenodd\" fill-opacity=\"1\" /><path clip-path=\"url(#clip600)\" d=\"M 0 0 M2318.79 1515.64 Q2315.18 1515.64 2313.35 1519.2 Q2311.54 1522.75 2311.54 1529.87 Q2311.54 1536.98 2313.35 1540.55 Q2315.18 1544.09 2318.79 1544.09 Q2322.42 1544.09 2324.23 1540.55 Q2326.06 1536.98 2326.06 1529.87 Q2326.06 1522.75 2324.23 1519.2 Q2322.42 1515.64 2318.79 1515.64 M2318.79 1511.93 Q2324.6 1511.93 2327.65 1516.54 Q2330.73 1521.12 2330.73 1529.87 Q2330.73 1538.6 2327.65 1543.21 Q2324.6 1547.79 2318.79 1547.79 Q2312.98 1547.79 2309.9 1543.21 Q2306.84 1538.6 2306.84 1529.87 Q2306.84 1521.12 2309.9 1516.54 Q2312.98 1511.93 2318.79 1511.93 Z\" fill=\"#000000\" fill-rule=\"evenodd\" fill-opacity=\"1\" /><path clip-path=\"url(#clip600)\" d=\"M 0 0 M2348.95 1515.64 Q2345.34 1515.64 2343.51 1519.2 Q2341.71 1522.75 2341.71 1529.87 Q2341.71 1536.98 2343.51 1540.55 Q2345.34 1544.09 2348.95 1544.09 Q2352.59 1544.09 2354.39 1540.55 Q2356.22 1536.98 2356.22 1529.87 Q2356.22 1522.75 2354.39 1519.2 Q2352.59 1515.64 2348.95 1515.64 M2348.95 1511.93 Q2354.76 1511.93 2357.82 1516.54 Q2360.9 1521.12 2360.9 1529.87 Q2360.9 1538.6 2357.82 1543.21 Q2354.76 1547.79 2348.95 1547.79 Q2343.14 1547.79 2340.06 1543.21 Q2337.01 1538.6 2337.01 1529.87 Q2337.01 1521.12 2340.06 1516.54 Q2343.14 1511.93 2348.95 1511.93 Z\" fill=\"#000000\" fill-rule=\"evenodd\" fill-opacity=\"1\" /><polyline clip-path=\"url(#clip602)\" style=\"stroke:#000000; stroke-width:2; stroke-opacity:0.1; fill:none\" points=\"\n",
       "  186.274,1445.72 2352.76,1445.72 \n",
       "  \"/>\n",
       "<polyline clip-path=\"url(#clip602)\" style=\"stroke:#000000; stroke-width:2; stroke-opacity:0.1; fill:none\" points=\"\n",
       "  186.274,1106.28 2352.76,1106.28 \n",
       "  \"/>\n",
       "<polyline clip-path=\"url(#clip602)\" style=\"stroke:#000000; stroke-width:2; stroke-opacity:0.1; fill:none\" points=\"\n",
       "  186.274,766.846 2352.76,766.846 \n",
       "  \"/>\n",
       "<polyline clip-path=\"url(#clip602)\" style=\"stroke:#000000; stroke-width:2; stroke-opacity:0.1; fill:none\" points=\"\n",
       "  186.274,427.411 2352.76,427.411 \n",
       "  \"/>\n",
       "<polyline clip-path=\"url(#clip602)\" style=\"stroke:#000000; stroke-width:2; stroke-opacity:0.1; fill:none\" points=\"\n",
       "  186.274,87.9763 2352.76,87.9763 \n",
       "  \"/>\n",
       "<polyline clip-path=\"url(#clip600)\" style=\"stroke:#000000; stroke-width:4; stroke-opacity:1; fill:none\" points=\"\n",
       "  186.274,1486.45 186.274,47.2441 \n",
       "  \"/>\n",
       "<polyline clip-path=\"url(#clip600)\" style=\"stroke:#000000; stroke-width:4; stroke-opacity:1; fill:none\" points=\"\n",
       "  186.274,1445.72 212.272,1445.72 \n",
       "  \"/>\n",
       "<polyline clip-path=\"url(#clip600)\" style=\"stroke:#000000; stroke-width:4; stroke-opacity:1; fill:none\" points=\"\n",
       "  186.274,1106.28 212.272,1106.28 \n",
       "  \"/>\n",
       "<polyline clip-path=\"url(#clip600)\" style=\"stroke:#000000; stroke-width:4; stroke-opacity:1; fill:none\" points=\"\n",
       "  186.274,766.846 212.272,766.846 \n",
       "  \"/>\n",
       "<polyline clip-path=\"url(#clip600)\" style=\"stroke:#000000; stroke-width:4; stroke-opacity:1; fill:none\" points=\"\n",
       "  186.274,427.411 212.272,427.411 \n",
       "  \"/>\n",
       "<polyline clip-path=\"url(#clip600)\" style=\"stroke:#000000; stroke-width:4; stroke-opacity:1; fill:none\" points=\"\n",
       "  186.274,87.9763 212.272,87.9763 \n",
       "  \"/>\n",
       "<path clip-path=\"url(#clip600)\" d=\"M 0 0 M62.9365 1431.51 Q59.3254 1431.51 57.4967 1435.08 Q55.6912 1438.62 55.6912 1445.75 Q55.6912 1452.86 57.4967 1456.42 Q59.3254 1459.96 62.9365 1459.96 Q66.5707 1459.96 68.3763 1456.42 Q70.205 1452.86 70.205 1445.75 Q70.205 1438.62 68.3763 1435.08 Q66.5707 1431.51 62.9365 1431.51 M62.9365 1427.81 Q68.7467 1427.81 71.8022 1432.42 Q74.8809 1437 74.8809 1445.75 Q74.8809 1454.48 71.8022 1459.08 Q68.7467 1463.67 62.9365 1463.67 Q57.1264 1463.67 54.0477 1459.08 Q50.9921 1454.48 50.9921 1445.75 Q50.9921 1437 54.0477 1432.42 Q57.1264 1427.81 62.9365 1427.81 Z\" fill=\"#000000\" fill-rule=\"evenodd\" fill-opacity=\"1\" /><path clip-path=\"url(#clip600)\" d=\"M 0 0 M83.0984 1457.12 L87.9827 1457.12 L87.9827 1463 L83.0984 1463 L83.0984 1457.12 Z\" fill=\"#000000\" fill-rule=\"evenodd\" fill-opacity=\"1\" /><path clip-path=\"url(#clip600)\" d=\"M 0 0 M108.168 1431.51 Q104.557 1431.51 102.728 1435.08 Q100.922 1438.62 100.922 1445.75 Q100.922 1452.86 102.728 1456.42 Q104.557 1459.96 108.168 1459.96 Q111.802 1459.96 113.608 1456.42 Q115.436 1452.86 115.436 1445.75 Q115.436 1438.62 113.608 1435.08 Q111.802 1431.51 108.168 1431.51 M108.168 1427.81 Q113.978 1427.81 117.033 1432.42 Q120.112 1437 120.112 1445.75 Q120.112 1454.48 117.033 1459.08 Q113.978 1463.67 108.168 1463.67 Q102.358 1463.67 99.2789 1459.08 Q96.2234 1454.48 96.2234 1445.75 Q96.2234 1437 99.2789 1432.42 Q102.358 1427.81 108.168 1427.81 Z\" fill=\"#000000\" fill-rule=\"evenodd\" fill-opacity=\"1\" /><path clip-path=\"url(#clip600)\" d=\"M 0 0 M138.33 1431.51 Q134.719 1431.51 132.89 1435.08 Q131.084 1438.62 131.084 1445.75 Q131.084 1452.86 132.89 1456.42 Q134.719 1459.96 138.33 1459.96 Q141.964 1459.96 143.769 1456.42 Q145.598 1452.86 145.598 1445.75 Q145.598 1438.62 143.769 1435.08 Q141.964 1431.51 138.33 1431.51 M138.33 1427.81 Q144.14 1427.81 147.195 1432.42 Q150.274 1437 150.274 1445.75 Q150.274 1454.48 147.195 1459.08 Q144.14 1463.67 138.33 1463.67 Q132.519 1463.67 129.441 1459.08 Q126.385 1454.48 126.385 1445.75 Q126.385 1437 129.441 1432.42 Q132.519 1427.81 138.33 1427.81 Z\" fill=\"#000000\" fill-rule=\"evenodd\" fill-opacity=\"1\" /><path clip-path=\"url(#clip600)\" d=\"M 0 0 M63.9319 1092.08 Q60.3208 1092.08 58.4921 1095.64 Q56.6865 1099.19 56.6865 1106.32 Q56.6865 1113.42 58.4921 1116.99 Q60.3208 1120.53 63.9319 1120.53 Q67.5661 1120.53 69.3717 1116.99 Q71.2004 1113.42 71.2004 1106.32 Q71.2004 1099.19 69.3717 1095.64 Q67.5661 1092.08 63.9319 1092.08 M63.9319 1088.38 Q69.742 1088.38 72.7976 1092.98 Q75.8763 1097.57 75.8763 1106.32 Q75.8763 1115.04 72.7976 1119.65 Q69.742 1124.23 63.9319 1124.23 Q58.1217 1124.23 55.043 1119.65 Q51.9875 1115.04 51.9875 1106.32 Q51.9875 1097.57 55.043 1092.98 Q58.1217 1088.38 63.9319 1088.38 Z\" fill=\"#000000\" fill-rule=\"evenodd\" fill-opacity=\"1\" /><path clip-path=\"url(#clip600)\" d=\"M 0 0 M84.0938 1117.68 L88.978 1117.68 L88.978 1123.56 L84.0938 1123.56 L84.0938 1117.68 Z\" fill=\"#000000\" fill-rule=\"evenodd\" fill-opacity=\"1\" /><path clip-path=\"url(#clip600)\" d=\"M 0 0 M103.191 1119.63 L119.51 1119.63 L119.51 1123.56 L97.566 1123.56 L97.566 1119.63 Q100.228 1116.87 104.811 1112.24 Q109.418 1107.59 110.598 1106.25 Q112.844 1103.72 113.723 1101.99 Q114.626 1100.23 114.626 1098.54 Q114.626 1095.78 112.682 1094.05 Q110.76 1092.31 107.658 1092.31 Q105.459 1092.31 103.006 1093.07 Q100.575 1093.84 97.7974 1095.39 L97.7974 1090.67 Q100.621 1089.53 103.075 1088.95 Q105.529 1088.38 107.566 1088.38 Q112.936 1088.38 116.131 1091.06 Q119.325 1093.75 119.325 1098.24 Q119.325 1100.37 118.515 1102.29 Q117.728 1104.19 115.621 1106.78 Q115.043 1107.45 111.941 1110.67 Q108.839 1113.86 103.191 1119.63 Z\" fill=\"#000000\" fill-rule=\"evenodd\" fill-opacity=\"1\" /><path clip-path=\"url(#clip600)\" d=\"M 0 0 M129.371 1089 L147.728 1089 L147.728 1092.94 L133.654 1092.94 L133.654 1101.41 Q134.672 1101.06 135.691 1100.9 Q136.709 1100.71 137.728 1100.71 Q143.515 1100.71 146.894 1103.89 Q150.274 1107.06 150.274 1112.47 Q150.274 1118.05 146.802 1121.15 Q143.33 1124.23 137.01 1124.23 Q134.834 1124.23 132.566 1123.86 Q130.32 1123.49 127.913 1122.75 L127.913 1118.05 Q129.996 1119.19 132.219 1119.74 Q134.441 1120.3 136.918 1120.3 Q140.922 1120.3 143.26 1118.19 Q145.598 1116.08 145.598 1112.47 Q145.598 1108.86 143.26 1106.76 Q140.922 1104.65 136.918 1104.65 Q135.043 1104.65 133.168 1105.07 Q131.316 1105.48 129.371 1106.36 L129.371 1089 Z\" fill=\"#000000\" fill-rule=\"evenodd\" fill-opacity=\"1\" /><path clip-path=\"url(#clip600)\" d=\"M 0 0 M62.9365 752.645 Q59.3254 752.645 57.4967 756.209 Q55.6912 759.751 55.6912 766.881 Q55.6912 773.987 57.4967 777.552 Q59.3254 781.094 62.9365 781.094 Q66.5707 781.094 68.3763 777.552 Q70.205 773.987 70.205 766.881 Q70.205 759.751 68.3763 756.209 Q66.5707 752.645 62.9365 752.645 M62.9365 748.941 Q68.7467 748.941 71.8022 753.547 Q74.8809 758.131 74.8809 766.881 Q74.8809 775.608 71.8022 780.214 Q68.7467 784.797 62.9365 784.797 Q57.1264 784.797 54.0477 780.214 Q50.9921 775.608 50.9921 766.881 Q50.9921 758.131 54.0477 753.547 Q57.1264 748.941 62.9365 748.941 Z\" fill=\"#000000\" fill-rule=\"evenodd\" fill-opacity=\"1\" /><path clip-path=\"url(#clip600)\" d=\"M 0 0 M83.0984 778.246 L87.9827 778.246 L87.9827 784.126 L83.0984 784.126 L83.0984 778.246 Z\" fill=\"#000000\" fill-rule=\"evenodd\" fill-opacity=\"1\" /><path clip-path=\"url(#clip600)\" d=\"M 0 0 M98.2141 749.566 L116.57 749.566 L116.57 753.501 L102.496 753.501 L102.496 761.973 Q103.515 761.626 104.534 761.464 Q105.552 761.279 106.571 761.279 Q112.358 761.279 115.737 764.45 Q119.117 767.621 119.117 773.038 Q119.117 778.617 115.645 781.719 Q112.172 784.797 105.853 784.797 Q103.677 784.797 101.409 784.427 Q99.1632 784.057 96.7558 783.316 L96.7558 778.617 Q98.8391 779.751 101.061 780.307 Q103.284 780.862 105.76 780.862 Q109.765 780.862 112.103 778.756 Q114.441 776.649 114.441 773.038 Q114.441 769.427 112.103 767.321 Q109.765 765.214 105.76 765.214 Q103.885 765.214 102.01 765.631 Q100.159 766.047 98.2141 766.927 L98.2141 749.566 Z\" fill=\"#000000\" fill-rule=\"evenodd\" fill-opacity=\"1\" /><path clip-path=\"url(#clip600)\" d=\"M 0 0 M138.33 752.645 Q134.719 752.645 132.89 756.209 Q131.084 759.751 131.084 766.881 Q131.084 773.987 132.89 777.552 Q134.719 781.094 138.33 781.094 Q141.964 781.094 143.769 777.552 Q145.598 773.987 145.598 766.881 Q145.598 759.751 143.769 756.209 Q141.964 752.645 138.33 752.645 M138.33 748.941 Q144.14 748.941 147.195 753.547 Q150.274 758.131 150.274 766.881 Q150.274 775.608 147.195 780.214 Q144.14 784.797 138.33 784.797 Q132.519 784.797 129.441 780.214 Q126.385 775.608 126.385 766.881 Q126.385 758.131 129.441 753.547 Q132.519 748.941 138.33 748.941 Z\" fill=\"#000000\" fill-rule=\"evenodd\" fill-opacity=\"1\" /><path clip-path=\"url(#clip600)\" d=\"M 0 0 M63.9319 413.21 Q60.3208 413.21 58.4921 416.775 Q56.6865 420.316 56.6865 427.446 Q56.6865 434.552 58.4921 438.117 Q60.3208 441.659 63.9319 441.659 Q67.5661 441.659 69.3717 438.117 Q71.2004 434.552 71.2004 427.446 Q71.2004 420.316 69.3717 416.775 Q67.5661 413.21 63.9319 413.21 M63.9319 409.506 Q69.742 409.506 72.7976 414.113 Q75.8763 418.696 75.8763 427.446 Q75.8763 436.173 72.7976 440.779 Q69.742 445.362 63.9319 445.362 Q58.1217 445.362 55.043 440.779 Q51.9875 436.173 51.9875 427.446 Q51.9875 418.696 55.043 414.113 Q58.1217 409.506 63.9319 409.506 Z\" fill=\"#000000\" fill-rule=\"evenodd\" fill-opacity=\"1\" /><path clip-path=\"url(#clip600)\" d=\"M 0 0 M84.0938 438.812 L88.978 438.812 L88.978 444.691 L84.0938 444.691 L84.0938 438.812 Z\" fill=\"#000000\" fill-rule=\"evenodd\" fill-opacity=\"1\" /><path clip-path=\"url(#clip600)\" d=\"M 0 0 M97.9826 410.131 L120.205 410.131 L120.205 412.122 L107.658 444.691 L102.774 444.691 L114.58 414.066 L97.9826 414.066 L97.9826 410.131 Z\" fill=\"#000000\" fill-rule=\"evenodd\" fill-opacity=\"1\" /><path clip-path=\"url(#clip600)\" d=\"M 0 0 M129.371 410.131 L147.728 410.131 L147.728 414.066 L133.654 414.066 L133.654 422.538 Q134.672 422.191 135.691 422.029 Q136.709 421.844 137.728 421.844 Q143.515 421.844 146.894 425.015 Q150.274 428.187 150.274 433.603 Q150.274 439.182 146.802 442.284 Q143.33 445.362 137.01 445.362 Q134.834 445.362 132.566 444.992 Q130.32 444.622 127.913 443.881 L127.913 439.182 Q129.996 440.316 132.219 440.872 Q134.441 441.427 136.918 441.427 Q140.922 441.427 143.26 439.321 Q145.598 437.214 145.598 433.603 Q145.598 429.992 143.26 427.886 Q140.922 425.779 136.918 425.779 Q135.043 425.779 133.168 426.196 Q131.316 426.613 129.371 427.492 L129.371 410.131 Z\" fill=\"#000000\" fill-rule=\"evenodd\" fill-opacity=\"1\" /><path clip-path=\"url(#clip600)\" d=\"M 0 0 M53.7467 101.321 L61.3856 101.321 L61.3856 74.9555 L53.0754 76.6222 L53.0754 72.3629 L61.3393 70.6963 L66.0152 70.6963 L66.0152 101.321 L73.654 101.321 L73.654 105.256 L53.7467 105.256 L53.7467 101.321 Z\" fill=\"#000000\" fill-rule=\"evenodd\" fill-opacity=\"1\" /><path clip-path=\"url(#clip600)\" d=\"M 0 0 M83.0984 99.3767 L87.9827 99.3767 L87.9827 105.256 L83.0984 105.256 L83.0984 99.3767 Z\" fill=\"#000000\" fill-rule=\"evenodd\" fill-opacity=\"1\" /><path clip-path=\"url(#clip600)\" d=\"M 0 0 M108.168 73.775 Q104.557 73.775 102.728 77.3398 Q100.922 80.8814 100.922 88.011 Q100.922 95.1174 102.728 98.6822 Q104.557 102.224 108.168 102.224 Q111.802 102.224 113.608 98.6822 Q115.436 95.1174 115.436 88.011 Q115.436 80.8814 113.608 77.3398 Q111.802 73.775 108.168 73.775 M108.168 70.0713 Q113.978 70.0713 117.033 74.6777 Q120.112 79.261 120.112 88.011 Q120.112 96.7378 117.033 101.344 Q113.978 105.928 108.168 105.928 Q102.358 105.928 99.2789 101.344 Q96.2234 96.7378 96.2234 88.011 Q96.2234 79.261 99.2789 74.6777 Q102.358 70.0713 108.168 70.0713 Z\" fill=\"#000000\" fill-rule=\"evenodd\" fill-opacity=\"1\" /><path clip-path=\"url(#clip600)\" d=\"M 0 0 M138.33 73.775 Q134.719 73.775 132.89 77.3398 Q131.084 80.8814 131.084 88.011 Q131.084 95.1174 132.89 98.6822 Q134.719 102.224 138.33 102.224 Q141.964 102.224 143.769 98.6822 Q145.598 95.1174 145.598 88.011 Q145.598 80.8814 143.769 77.3398 Q141.964 73.775 138.33 73.775 M138.33 70.0713 Q144.14 70.0713 147.195 74.6777 Q150.274 79.261 150.274 88.011 Q150.274 96.7378 147.195 101.344 Q144.14 105.928 138.33 105.928 Q132.519 105.928 129.441 101.344 Q126.385 96.7378 126.385 88.011 Q126.385 79.261 129.441 74.6777 Q132.519 70.0713 138.33 70.0713 Z\" fill=\"#000000\" fill-rule=\"evenodd\" fill-opacity=\"1\" /><polyline clip-path=\"url(#clip602)\" style=\"stroke:#009af9; stroke-width:4; stroke-opacity:1; fill:none\" points=\"\n",
       "  247.59,1445.72 267.549,1445.72 452.107,1445.72 563.019,1445.72 656.793,1445.72 758.658,1445.72 852.569,1445.72 902.91,1445.72 953.251,1445.72 967.833,1445.72 \n",
       "  982.414,1445.72 996.995,1445.72 1011.58,1437.52 1026.16,1394.6 1040.74,1352.35 1055.32,1310.76 1069.9,1269.82 1121.73,1129.25 1173.57,996.014 1219.02,884.759 \n",
       "  1264.47,778.366 1314.03,667.542 1363.58,561.758 1413.43,460.09 1463.28,362.869 1518.4,260.211 1573.51,162.29 1599.73,117.273 1625.95,87.9763 1652.17,87.9763 \n",
       "  1678.39,87.9763 1732.92,87.9763 1787.45,87.9763 1833.35,87.9763 1879.25,87.9763 1991.32,87.9763 2096.68,87.9763 2265.46,87.9763 2291.44,87.9763 \n",
       "  \"/>\n",
       "<polyline clip-path=\"url(#clip602)\" style=\"stroke:#e26f46; stroke-width:4; stroke-opacity:1; fill:none\" points=\"\n",
       "  247.59,971.874 267.549,951.256 452.107,747.182 563.019,611.564 656.793,488.203 707.726,417.538 758.658,344.1 805.614,273.798 852.569,200.858 877.74,160.619 \n",
       "  902.91,119.555 915.496,98.7049 928.081,87.9763 940.666,87.9763 953.251,87.9763 982.414,87.9763 1011.58,87.9763 1026.16,87.9763 1040.74,87.9763 1048.03,87.9763 \n",
       "  1055.32,87.9763 1062.61,92.8691 1069.9,114.543 1095.82,192.722 1121.73,272.715 1147.65,354.587 1173.57,438.403 1219.02,590.314 1264.47,748.831 1314.03,929.701 \n",
       "  1363.58,1119.57 1388.51,1218.69 1413.43,1320.35 1425.89,1372.17 1438.36,1424.66 1444.59,1445.72 1450.82,1445.72 1457.05,1445.72 1463.28,1445.72 1490.84,1445.72 \n",
       "  1518.4,1445.72 1545.95,1445.72 1573.51,1445.72 1625.95,1445.72 1678.39,1445.72 1787.45,1445.72 1879.25,1445.72 1991.32,1445.72 2096.68,1445.72 2265.46,1445.72 \n",
       "  2291.44,1445.72 \n",
       "  \"/>\n",
       "<polyline clip-path=\"url(#clip602)\" style=\"stroke:#3da44d; stroke-width:4; stroke-opacity:1; fill:none\" points=\"\n",
       "  247.59,1208.79 267.549,1198.49 452.107,1096.45 563.019,1028.64 656.793,966.959 758.658,894.908 852.569,823.287 877.74,803.167 902.91,782.635 915.496,772.21 \n",
       "  928.081,766.846 940.666,766.846 953.251,766.846 967.833,766.846 982.414,766.846 996.995,766.846 1011.58,762.75 1026.16,741.289 1040.74,720.165 1048.03,709.727 \n",
       "  1055.32,699.37 1062.61,691.541 1069.9,692.181 1082.86,693.684 1095.82,695.653 1108.78,698.087 1121.73,700.985 1147.65,708.171 1173.57,717.209 1219.02,737.537 \n",
       "  1264.47,763.598 1289.25,780.242 1314.03,798.622 1338.8,818.756 1363.58,840.665 1388.51,864.519 1413.43,890.22 1425.89,903.773 1438.36,917.799 1444.59,922.27 \n",
       "  1450.82,916.244 1457.05,910.252 1463.28,904.292 1490.84,878.321 1518.4,852.964 1545.95,828.198 1573.51,804.003 1586.62,792.687 1599.73,781.494 1612.84,770.423 \n",
       "  1625.95,766.846 1652.17,766.846 1678.39,766.846 1732.92,766.846 1787.45,766.846 1833.35,766.846 1879.25,766.846 1991.32,766.846 2096.68,766.846 2265.46,766.846 \n",
       "  2291.44,766.846 \n",
       "  \"/>\n",
       "<path clip-path=\"url(#clip600)\" d=\"\n",
       "M1986.81 337.138 L2280.54 337.138 L2280.54 95.2176 L1986.81 95.2176  Z\n",
       "  \" fill=\"#ffffff\" fill-rule=\"evenodd\" fill-opacity=\"1\"/>\n",
       "<polyline clip-path=\"url(#clip600)\" style=\"stroke:#000000; stroke-width:4; stroke-opacity:1; fill:none\" points=\"\n",
       "  1986.81,337.138 2280.54,337.138 2280.54,95.2176 1986.81,95.2176 1986.81,337.138 \n",
       "  \"/>\n",
       "<polyline clip-path=\"url(#clip600)\" style=\"stroke:#009af9; stroke-width:4; stroke-opacity:1; fill:none\" points=\"\n",
       "  2010.88,155.698 2155.31,155.698 \n",
       "  \"/>\n",
       "<path clip-path=\"url(#clip600)\" d=\"M 0 0 M2193.23 175.385 Q2191.42 180.015 2189.71 181.427 Q2188 182.839 2185.13 182.839 L2181.72 182.839 L2181.72 179.274 L2184.22 179.274 Q2185.98 179.274 2186.96 178.44 Q2187.93 177.607 2189.11 174.505 L2189.87 172.561 L2179.39 147.052 L2183.9 147.052 L2192 167.329 L2200.1 147.052 L2204.62 147.052 L2193.23 175.385 Z\" fill=\"#000000\" fill-rule=\"evenodd\" fill-opacity=\"1\" /><path clip-path=\"url(#clip600)\" d=\"M 0 0 M2211.91 169.042 L2219.55 169.042 L2219.55 142.677 L2211.24 144.343 L2211.24 140.084 L2219.5 138.418 L2224.18 138.418 L2224.18 169.042 L2231.82 169.042 L2231.82 172.978 L2211.91 172.978 L2211.91 169.042 Z\" fill=\"#000000\" fill-rule=\"evenodd\" fill-opacity=\"1\" /><polyline clip-path=\"url(#clip600)\" style=\"stroke:#e26f46; stroke-width:4; stroke-opacity:1; fill:none\" points=\"\n",
       "  2010.88,216.178 2155.31,216.178 \n",
       "  \"/>\n",
       "<path clip-path=\"url(#clip600)\" d=\"M 0 0 M2193.23 235.865 Q2191.42 240.495 2189.71 241.907 Q2188 243.319 2185.13 243.319 L2181.72 243.319 L2181.72 239.754 L2184.22 239.754 Q2185.98 239.754 2186.96 238.92 Q2187.93 238.087 2189.11 234.985 L2189.87 233.041 L2179.39 207.532 L2183.9 207.532 L2192 227.809 L2200.1 207.532 L2204.62 207.532 L2193.23 235.865 Z\" fill=\"#000000\" fill-rule=\"evenodd\" fill-opacity=\"1\" /><path clip-path=\"url(#clip600)\" d=\"M 0 0 M2215.13 229.522 L2231.45 229.522 L2231.45 233.458 L2209.5 233.458 L2209.5 229.522 Q2212.16 226.768 2216.75 222.138 Q2221.35 217.485 2222.53 216.143 Q2224.78 213.62 2225.66 211.884 Q2226.56 210.124 2226.56 208.435 Q2226.56 205.68 2224.62 203.944 Q2222.7 202.208 2219.59 202.208 Q2217.4 202.208 2214.94 202.972 Q2212.51 203.735 2209.73 205.286 L2209.73 200.564 Q2212.56 199.43 2215.01 198.851 Q2217.47 198.273 2219.5 198.273 Q2224.87 198.273 2228.07 200.958 Q2231.26 203.643 2231.26 208.134 Q2231.26 210.263 2230.45 212.185 Q2229.66 214.083 2227.56 216.675 Q2226.98 217.347 2223.88 220.564 Q2220.78 223.759 2215.13 229.522 Z\" fill=\"#000000\" fill-rule=\"evenodd\" fill-opacity=\"1\" /><polyline clip-path=\"url(#clip600)\" style=\"stroke:#3da44d; stroke-width:4; stroke-opacity:1; fill:none\" points=\"\n",
       "  2010.88,276.658 2155.31,276.658 \n",
       "  \"/>\n",
       "<path clip-path=\"url(#clip600)\" d=\"M 0 0 M2193.23 296.345 Q2191.42 300.975 2189.71 302.387 Q2188 303.799 2185.13 303.799 L2181.72 303.799 L2181.72 300.234 L2184.22 300.234 Q2185.98 300.234 2186.96 299.4 Q2187.93 298.567 2189.11 295.465 L2189.87 293.521 L2179.39 268.012 L2183.9 268.012 L2192 288.289 L2200.1 268.012 L2204.62 268.012 L2193.23 296.345 Z\" fill=\"#000000\" fill-rule=\"evenodd\" fill-opacity=\"1\" /><path clip-path=\"url(#clip600)\" d=\"M 0 0 M2225.27 275.303 Q2228.62 276.021 2230.5 278.289 Q2232.4 280.558 2232.4 283.891 Q2232.4 289.007 2228.88 291.808 Q2225.36 294.609 2218.88 294.609 Q2216.7 294.609 2214.39 294.169 Q2212.09 293.752 2209.64 292.896 L2209.64 288.382 Q2211.59 289.516 2213.9 290.095 Q2216.22 290.674 2218.74 290.674 Q2223.14 290.674 2225.43 288.938 Q2227.74 287.201 2227.74 283.891 Q2227.74 280.836 2225.59 279.123 Q2223.46 277.387 2219.64 277.387 L2215.61 277.387 L2215.61 273.544 L2219.83 273.544 Q2223.28 273.544 2225.1 272.178 Q2226.93 270.79 2226.93 268.197 Q2226.93 265.535 2225.03 264.123 Q2223.16 262.688 2219.64 262.688 Q2217.72 262.688 2215.52 263.104 Q2213.32 263.521 2210.68 264.401 L2210.68 260.234 Q2213.34 259.493 2215.66 259.123 Q2218 258.753 2220.06 258.753 Q2225.38 258.753 2228.48 261.183 Q2231.59 263.59 2231.59 267.711 Q2231.59 270.581 2229.94 272.572 Q2228.3 274.54 2225.27 275.303 Z\" fill=\"#000000\" fill-rule=\"evenodd\" fill-opacity=\"1\" /></svg>\n"
      ]
     },
     "execution_count": 16,
     "metadata": {},
     "output_type": "execute_result"
    }
   ],
   "source": [
    "plot!(Q1(lambda =>5/10,w_2=>1/2),.01,.99)"
   ]
  },
  {
   "cell_type": "code",
   "execution_count": null,
   "id": "ef66a2a2-6659-446f-8f0f-3c005a6c9ee3",
   "metadata": {},
   "outputs": [],
   "source": []
  }
 ],
 "metadata": {
  "kernelspec": {
   "display_name": "Julia 1.6.0",
   "language": "julia",
   "name": "julia-1.6"
  },
  "language_info": {
   "file_extension": ".jl",
   "mimetype": "application/julia",
   "name": "julia",
   "version": "1.6.0"
  }
 },
 "nbformat": 4,
 "nbformat_minor": 5
}
