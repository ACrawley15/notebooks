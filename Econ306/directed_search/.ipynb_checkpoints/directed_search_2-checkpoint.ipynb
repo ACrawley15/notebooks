{
 "cells": [
  {
   "cell_type": "markdown",
   "metadata": {},
   "source": [
    "This worksheet will illustrate all the calculations in the directed search reading.  You can read the details of the basic model at [https://montoya.econ.ubc.ca/Econ600/directed_search.pdf](https://montoya.econ.ubc.ca/Econ600/directed_search.pdf).\n",
    "\n",
    "The first is the basic equation is the condition that makes each worker indifferent between his or her two strategies.\n",
    "$$\\pi w_1 /2+(1-\\pi)w_1=\\pi w_2+(1-\\pi)w_2 /2$$\n",
    "The solution to this equation makes both workers indfferent about whether they apply to firm 1 or firm 2. The code for the solution in sagemath follows. If the solution isn't there, put your cursor in the cell and press ctl-enter."
   ]
  },
  {
   "cell_type": "code",
   "execution_count": 1,
   "metadata": {},
   "outputs": [
    {
     "data": {
      "text/html": [
       "<html><script type=\"math/tex; mode=display\">\\newcommand{\\Bold}[1]{\\mathbf{#1}}\\left[\\pi = \\frac{2 \\, w_{1} - w_{2}}{w_{1} + w_{2}}\\right]</script></html>"
      ],
      "text/plain": [
       "[pi == (2*w_1 - w_2)/(w_1 + w_2)]"
      ]
     },
     "metadata": {},
     "output_type": "display_data"
    }
   ],
   "source": [
    "var('pi,w_1,w_2')\n",
    "eq1 = pi*w_1/2+(1-pi)*w_1 == pi*w_2+(1-pi)*w_2/2\n",
    "prob = solve(eq1,pi)\n",
    "show(prob)"
   ]
  },
  {
   "cell_type": "markdown",
   "metadata": {},
   "source": [
    "\n",
    "<p>If your formula is right, then the solution should be $1/2$ when the wages are the same.</p>"
   ]
  },
  {
   "cell_type": "code",
   "execution_count": 2,
   "metadata": {
    "collapsed": false,
    "jupyter": {
     "outputs_hidden": false
    }
   },
   "outputs": [
    {
     "data": {
      "text/html": [
       "<html><script type=\"math/tex; mode=display\">\\newcommand{\\Bold}[1]{\\mathbf{#1}}\\left[\\pi = \\left(\\frac{1}{2}\\right)\\right]</script></html>"
      ],
      "text/plain": [
       "[pi == (1/2)]"
      ]
     },
     "metadata": {},
     "output_type": "display_data"
    }
   ],
   "source": [
    "show(solve(eq1.substitute(w_1=w_2),pi))"
   ]
  },
  {
   "cell_type": "markdown",
   "metadata": {},
   "source": [
    "\n",
    "<p>We now need access to the first solution to $\\pi$.&nbsp; To find it, you treat the solution as if it were an array.&nbsp; Element $0$ contains the equation we want.&nbsp; You can substitute this into other equations.</p>\n",
    "<p>We'll do this by definining the profit function of firm 1, assuming that its ourput when it hires a worker is $1$.&nbsp; This profit is given by</p>\n",
    "<p>$$(1-(1-\\pi)^2)(1-w_1)$$</p>\n",
    "<p>as we discussed in class.</p>\n",
    "<p>&nbsp;</p>\n",
    "<p>We can also take the derivative of this profit function to try to find the best reply function.</p>"
   ]
  },
  {
   "cell_type": "code",
   "execution_count": 3,
   "metadata": {
    "collapsed": false,
    "jupyter": {
     "outputs_hidden": false
    }
   },
   "outputs": [
    {
     "data": {
      "text/html": [
       "<html><script type=\"math/tex; mode=display\">\\newcommand{\\Bold}[1]{\\mathbf{#1}}{\\left({\\left(\\pi - 1\\right)}^{2} - 1\\right)} {\\left(w_{1} - 1\\right)} = {\\left({\\left(\\frac{2 \\, w_{1} - w_{2}}{w_{1} + w_{2}} - 1\\right)}^{2} - 1\\right)} {\\left(w_{1} - 1\\right)}</script></html>"
      ],
      "text/plain": [
       "((pi - 1)^2 - 1)*(w_1 - 1) == (((2*w_1 - w_2)/(w_1 + w_2) - 1)^2 - 1)*(w_1 - 1)"
      ]
     },
     "metadata": {},
     "output_type": "display_data"
    },
    {
     "data": {
      "text/html": [
       "<html><script type=\"math/tex; mode=display\">\\newcommand{\\Bold}[1]{\\mathbf{#1}}{\\left(\\pi - 1\\right)}^{2} - 1 = -2 \\, {\\left(w_{1} - 1\\right)} {\\left(\\frac{2 \\, w_{1} - w_{2}}{w_{1} + w_{2}} - 1\\right)} {\\left(\\frac{2 \\, w_{1} - w_{2}}{{\\left(w_{1} + w_{2}\\right)}^{2}} - \\frac{2}{w_{1} + w_{2}}\\right)} + {\\left(\\frac{2 \\, w_{1} - w_{2}}{w_{1} + w_{2}} - 1\\right)}^{2} - 1</script></html>"
      ],
      "text/plain": [
       "(pi - 1)^2 - 1 == -2*(w_1 - 1)*((2*w_1 - w_2)/(w_1 + w_2) - 1)*((2*w_1 - w_2)/(w_1 + w_2)^2 - 2/(w_1 + w_2)) + ((2*w_1 - w_2)/(w_1 + w_2) - 1)^2 - 1"
      ]
     },
     "metadata": {},
     "output_type": "display_data"
    }
   ],
   "source": [
    "Profit = ((1-(1-prob[0])^2))*(1-w_1)\n",
    "show(Profit)\n",
    "der = Profit.derivative(w_1)\n",
    "show(der)"
   ]
  },
  {
   "cell_type": "markdown",
   "metadata": {},
   "source": [
    "\n",
    "<p>Now use the right hand side of the derivative and set it to zero, then solve for $w_1$.</p>"
   ]
  },
  {
   "cell_type": "code",
   "execution_count": 4,
   "metadata": {
    "collapsed": false,
    "jupyter": {
     "outputs_hidden": false
    }
   },
   "outputs": [
    {
     "data": {
      "text/html": [
       "<html><script type=\"math/tex; mode=display\">\\newcommand{\\Bold}[1]{\\mathbf{#1}}-2 \\, {\\left(w_{1} - 1\\right)} {\\left(\\frac{2 \\, w_{1} - w_{2}}{w_{1} + w_{2}} - 1\\right)} {\\left(\\frac{2 \\, w_{1} - w_{2}}{{\\left(w_{1} + w_{2}\\right)}^{2}} - \\frac{2}{w_{1} + w_{2}}\\right)} + {\\left(\\frac{2 \\, w_{1} - w_{2}}{w_{1} + w_{2}} - 1\\right)}^{2} - 1 = 0</script></html>"
      ],
      "text/plain": [
       "-2*(w_1 - 1)*((2*w_1 - w_2)/(w_1 + w_2) - 1)*((2*w_1 - w_2)/(w_1 + w_2)^2 - 2/(w_1 + w_2)) + ((2*w_1 - w_2)/(w_1 + w_2) - 1)^2 - 1 == 0"
      ]
     },
     "metadata": {},
     "output_type": "display_data"
    },
    {
     "data": {
      "text/html": [
       "<html><script type=\"math/tex; mode=display\">\\newcommand{\\Bold}[1]{\\mathbf{#1}}\\left[w_{1} = \\frac{w_{2}^{2} + 4 \\, w_{2}}{5 \\, w_{2} + 2}\\right]</script></html>"
      ],
      "text/plain": [
       "[w_1 == (w_2^2 + 4*w_2)/(5*w_2 + 2)]"
      ]
     },
     "metadata": {},
     "output_type": "display_data"
    },
    {
     "data": {
      "text/html": [
       "<html><script type=\"math/tex; mode=display\">\\newcommand{\\Bold}[1]{\\mathbf{#1}}w_{1} = \\frac{w_{2}^{2} + 4 \\, w_{2}}{5 \\, w_{2} + 2}</script></html>"
      ],
      "text/plain": [
       "w_1 == (w_2^2 + 4*w_2)/(5*w_2 + 2)"
      ]
     },
     "metadata": {},
     "output_type": "display_data"
    }
   ],
   "source": [
    "eq2 = der.rhs() == 0\n",
    "show(eq2)\n",
    "br = solve(eq2,w_1)\n",
    "show(br)\n",
    "show(br[0])"
   ]
  },
  {
   "cell_type": "markdown",
   "metadata": {},
   "source": [
    "\n",
    "<p>The solution defines the best reply function which we can now plot.</p>"
   ]
  },
  {
   "cell_type": "code",
   "execution_count": 5,
   "metadata": {
    "collapsed": false,
    "jupyter": {
     "outputs_hidden": false
    }
   },
   "outputs": [
    {
     "data": {
      "image/png": "[encoded data removed]",
      "text/plain": [
       "Graphics object consisting of 1 graphics primitive"
      ]
     },
     "execution_count": 5,
     "metadata": {},
     "output_type": "execute_result"
    }
   ],
   "source": [
    "plot(br[0].rhs(),(w_2,0,1))"
   ]
  },
  {
   "cell_type": "markdown",
   "metadata": {},
   "source": [
    "\n",
    "<p>As a last step, find the equilibrium by finding the wage that is a best reply to itself.&nbsp; What that means is that both firms will be best replying to the other firm if they both use this wage.</p>"
   ]
  },
  {
   "cell_type": "code",
   "execution_count": 6,
   "metadata": {
    "collapsed": false,
    "jupyter": {
     "outputs_hidden": false
    }
   },
   "outputs": [
    {
     "data": {
      "text/html": [
       "<html><script type=\"math/tex; mode=display\">\\newcommand{\\Bold}[1]{\\mathbf{#1}}\\left[w_{2} = \\left(\\frac{1}{2}\\right), w_{2} = 0\\right]</script></html>"
      ],
      "text/plain": [
       "[w_2 == (1/2), w_2 == 0]"
      ]
     },
     "metadata": {},
     "output_type": "display_data"
    }
   ],
   "source": [
    "eq3 = br[0].rhs() == w_2\n",
    "show(solve (eq3,w_2))"
   ]
  }
 ],
 "metadata": {
  "kernelspec": {
   "display_name": "SageMath 8.1",
   "language": "",
   "name": "sagemath"
  },
  "language_info": {
   "codemirror_mode": {
    "name": "ipython",
    "version": 2
   },
   "file_extension": ".py",
   "mimetype": "text/x-python",
   "name": "python",
   "nbconvert_exporter": "python",
   "pygments_lexer": "ipython2",
   "version": "2.7.15+"
  }
 },
 "nbformat": 4,
 "nbformat_minor": 4
}
