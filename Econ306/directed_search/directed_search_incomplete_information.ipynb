{
 "cells": [
  {
   "cell_type": "markdown",
   "metadata": {},
   "source": [
    "# Large difference between $w_1$ and $w_2$\n",
    "If $\\lambda\\frac{w_1}{2}+(1-\\lambda)\\ge w_2$ then as we argued in class, there will be an equilibrium in which the type $H$ worker will apply to firm 1 for sure.\n",
    "\n",
    "In that case, as long as $(1-\\lambda)\\frac{w_1}{2}\\le w_2$, there will be a mixed strategy equilibrium in which type $L$  workers apply to firm $1$ with probability $pi$.  The value for $pi$ must satisfy\n",
    "$$\n",
    "(1-\\lambda)\\left\\{\\pi\\frac{w_1}{2} + (1-\\pi)w_1\\right\\} = \\lambda \\pi +(1-\\lambda)\\left\\{\\pi w_2 +(1-\\pi)\\frac{w_2}{2}\\right\\}\n",
    "$$\n"
   ]
  },
  {
   "cell_type": "code",
   "execution_count": 1,
   "metadata": {},
   "outputs": [
    {
     "data": {
      "text/html": [
       "<html><script type=\"math/tex; mode=display\">\\newcommand{\\Bold}[1]{\\mathbf{#1}}\\left[\\pi = \\frac{2 \\, {\\left(\\gamma - 1\\right)} w_{1} - {\\left(\\gamma - 1\\right)} w_{2}}{{\\left(\\gamma - 1\\right)} w_{1} - {\\left(\\gamma + 1\\right)} w_{2}}\\right]</script></html>"
      ],
      "text/plain": [
       "[pi == (2*(gamma - 1)*w_1 - (gamma - 1)*w_2)/((gamma - 1)*w_1 - (gamma + 1)*w_2)]"
      ]
     },
     "metadata": {},
     "output_type": "display_data"
    }
   ],
   "source": [
    "var('gamma','pi_H','pi_L','pi','w_1','w_2')\n",
    "Firm1 = (1-gamma)*(pi*(w_1/2)+(1-pi)*w_1)\n",
    "Firm2 = gamma*pi*w_2+(1-gamma)*(pi*w_2+(1-pi)*(w_2/2))\n",
    "LOW = solve(Firm1==Firm2,pi)\n",
    "show(LOW)"
   ]
  },
  {
   "cell_type": "code",
   "execution_count": 2,
   "metadata": {},
   "outputs": [
    {
     "data": {
      "text/html": [
       "<html><script type=\"math/tex; mode=display\">\\newcommand{\\Bold}[1]{\\mathbf{#1}}\\frac{2 \\, {\\left(\\gamma - 1\\right)} w_{1} - {\\left(\\gamma - 1\\right)} w_{2}}{{\\left(\\gamma - 1\\right)} w_{1} - {\\left(\\gamma + 1\\right)} w_{2}}</script></html>"
      ],
      "text/plain": [
       "(2*(gamma - 1)*w_1 - (gamma - 1)*w_2)/((gamma - 1)*w_1 - (gamma + 1)*w_2)"
      ]
     },
     "metadata": {},
     "output_type": "display_data"
    }
   ],
   "source": [
    "show(LOW[0].rhs())"
   ]
  },
  {
   "cell_type": "markdown",
   "metadata": {},
   "source": [
    "Usually the solutions sagemath gives are not written in the most compact way, so you will typically want to rewrite the latex. But if the answer looks acceptable as is, you can have the notebook write the latex for you, as follows:"
   ]
  },
  {
   "cell_type": "code",
   "execution_count": 3,
   "metadata": {},
   "outputs": [
    {
     "data": {
      "text/plain": [
       "\\frac{2 \\, {\\left(\\gamma - 1\\right)} w_{1} - {\\left(\\gamma - 1\\right)} w_{2}}{{\\left(\\gamma - 1\\right)} w_{1} - {\\left(\\gamma + 1\\right)} w_{2}}"
      ]
     },
     "execution_count": 3,
     "metadata": {},
     "output_type": "execute_result"
    }
   ],
   "source": [
    "latex(LOW[0].rhs())"
   ]
  },
  {
   "cell_type": "markdown",
   "metadata": {},
   "source": [
    "# Small difference between $w_1$ and $w_2$\n",
    "\n",
    "The case where $w_2 > \\lambda\\frac{w_1}{2}+(1-\\lambda)w_1$ (but $w_1>w_2$) is somewhat more complicated.  In this case the high type workers will play a mixed strategy. In order for them to do so, they must be indifferent, so \n",
    "\n",
    "$$ \\lambda\\{\\pi_H \\frac{w_1}{2}+\\left(1-\\pi_H\\right)w_1\\}+\\{1-\\lambda\\}w_1=\\lambda \\{\\pi_H w_2+(1-\\pi_H)\\frac{w_2}{2}\\}+\\left(1-\\lambda\\right)w_2 $$ \n",
    "\n",
    "Since $\\lambda$ is a reserved word in  sagemath and python, $\\lambda$ is replaced with $\\gamma$.\n"
   ]
  },
  {
   "cell_type": "code",
   "execution_count": 4,
   "metadata": {},
   "outputs": [],
   "source": [
    "f1 = gamma*(pi_H*(w_1/2)+(1-pi_H)*w_1)+(1-gamma)*w_1\n",
    "f2 = gamma*(pi_H*w_2+(1-pi_H)*(w_2/2))+(1-gamma)*w_2\n"
   ]
  },
  {
   "cell_type": "markdown",
   "metadata": {},
   "source": [
    "I'll leave out the solution for the moment, but you can solve the equation as in the first section, the substitute $w_1=w_2$ to make sure answer is $\\frac{1}{2}$\n",
    "\n",
    "The complication is now finding the strategy for the type $L$ worker.  The payoff when such a worker applies to the high wage firm is\n",
    "\n",
    "$$\n",
    "\\lambda\\left\\{(1-\\pi_H)w_1\\right\\}+(1-\\lambda)*\\left\\{\\pi_L\\frac{w_1}{2}+(1-\\pi_L)w_1\\right\\}\n",
    "$$"
   ]
  },
  {
   "cell_type": "code",
   "execution_count": 5,
   "metadata": {},
   "outputs": [
    {
     "data": {
      "text/html": [
       "<html><script type=\"math/tex; mode=display\">\\newcommand{\\Bold}[1]{\\mathbf{#1}}-\\gamma {\\left(\\pi_{H} - 1\\right)} w_{1} + \\frac{1}{2} \\, {\\left(2 \\, {\\left(\\pi_{L} - 1\\right)} w_{1} - \\pi_{L} w_{1}\\right)} {\\left(\\gamma - 1\\right)}</script></html>"
      ],
      "text/plain": [
       "-gamma*(pi_H - 1)*w_1 + 1/2*(2*(pi_L - 1)*w_1 - pi_L*w_1)*(gamma - 1)"
      ]
     },
     "metadata": {},
     "output_type": "display_data"
    }
   ],
   "source": [
    "f1L = gamma*((1-pi_H)*w_1)+(1-gamma)*(pi_L*(w_1/2)+(1-pi_L)*w_1)\n",
    "show(f1L)"
   ]
  },
  {
   "cell_type": "markdown",
   "metadata": {},
   "source": [
    "On the other hand, if the low type worker applies to firm 2, the payoff is\n",
    "\n",
    "$$\n",
    "\\lambda\\left\\{\\pi_H w_2\\right\\}+(1-\\lambda)\\left\\{\\pi_L w_2+(1-\\pi_L)\\frac{w_2}{2}\\right\\}\n",
    "$$"
   ]
  },
  {
   "cell_type": "code",
   "execution_count": 6,
   "metadata": {},
   "outputs": [
    {
     "data": {
      "text/html": [
       "<html><script type=\"math/tex; mode=display\">\\newcommand{\\Bold}[1]{\\mathbf{#1}}\\gamma \\pi_{H} w_{2} + \\frac{1}{2} \\, {\\left({\\left(\\pi_{L} - 1\\right)} w_{2} - 2 \\, \\pi_{L} w_{2}\\right)} {\\left(\\gamma - 1\\right)}</script></html>"
      ],
      "text/plain": [
       "gamma*pi_H*w_2 + 1/2*((pi_L - 1)*w_2 - 2*pi_L*w_2)*(gamma - 1)"
      ]
     },
     "metadata": {},
     "output_type": "display_data"
    }
   ],
   "source": [
    "f2L = gamma*(pi_H*w_2)+(1-gamma)*(pi_L*w_2+(1-pi_L)*(w_2/2))\n",
    "show(f2L)"
   ]
  },
  {
   "cell_type": "markdown",
   "metadata": {},
   "source": [
    "Now we can use a slightly easier approach to solving everything.  We have three equations (adding in the equilibrium condition when wages are far enough apart that the high type worker applies to firm 1 with probability 1) in three unknowns, so lets just solve them altogether:"
   ]
  },
  {
   "cell_type": "code",
   "execution_count": 7,
   "metadata": {},
   "outputs": [
    {
     "data": {
      "text/html": [
       "<html><script type=\"math/tex; mode=display\">\\newcommand{\\Bold}[1]{\\mathbf{#1}}\\left[\\left[\\pi = \\frac{2 \\, {\\left(\\gamma - 1\\right)} w_{1} - {\\left(\\gamma - 1\\right)} w_{2}}{{\\left(\\gamma - 1\\right)} w_{1} - {\\left(\\gamma + 1\\right)} w_{2}}, \\pi_{H} = \\frac{{\\left(\\gamma - 2\\right)} w_{2} + 2 \\, w_{1}}{\\gamma w_{1} + \\gamma w_{2}}, \\pi_{L} = \\frac{{\\left(\\gamma - 3\\right)} w_{2} + 2 \\, w_{1}}{{\\left(\\gamma - 1\\right)} w_{1} + {\\left(\\gamma - 1\\right)} w_{2}}\\right]\\right]</script></html>"
      ],
      "text/plain": [
       "[[pi == (2*(gamma - 1)*w_1 - (gamma - 1)*w_2)/((gamma - 1)*w_1 - (gamma + 1)*w_2), pi_H == ((gamma - 2)*w_2 + 2*w_1)/(gamma*w_1 + gamma*w_2), pi_L == ((gamma - 3)*w_2 + 2*w_1)/((gamma - 1)*w_1 + (gamma - 1)*w_2)]]"
      ]
     },
     "metadata": {},
     "output_type": "display_data"
    }
   ],
   "source": [
    "all = solve((Firm1==Firm2,f1==f2,f1L==f2L),(pi,pi_H,pi_L))\n",
    "show(all) "
   ]
  },
  {
   "cell_type": "markdown",
   "metadata": {},
   "source": [
    "Just a comment on sagemath.  The display above shows that the solutions are contained in an array.  This array consists of a single element which is also an array.  So the way you access the solutions is by using array indices.  Remember the first element of an array always has index 0.\n",
    "\n",
    "The elements of in the inner array are equations.  So if you just want the answer, then you have to reference the right hand side of the equation."
   ]
  },
  {
   "cell_type": "code",
   "execution_count": 8,
   "metadata": {},
   "outputs": [
    {
     "data": {
      "text/html": [
       "<html><script type=\"math/tex; mode=display\">\\newcommand{\\Bold}[1]{\\mathbf{#1}}\\frac{2 \\, {\\left(\\gamma - 1\\right)} w_{1} - {\\left(\\gamma - 1\\right)} w_{2}}{{\\left(\\gamma - 1\\right)} w_{1} - {\\left(\\gamma + 1\\right)} w_{2}}</script></html>"
      ],
      "text/plain": [
       "(2*(gamma - 1)*w_1 - (gamma - 1)*w_2)/((gamma - 1)*w_1 - (gamma + 1)*w_2)"
      ]
     },
     "metadata": {},
     "output_type": "display_data"
    }
   ],
   "source": [
    "show(all[0][0].rhs())"
   ]
  },
  {
   "cell_type": "code",
   "execution_count": 9,
   "metadata": {},
   "outputs": [
    {
     "data": {
      "text/html": [
       "<html><script type=\"math/tex; mode=display\">\\newcommand{\\Bold}[1]{\\mathbf{#1}}\\frac{{\\left(\\gamma - 2\\right)} w_{2} + 2 \\, w_{1}}{\\gamma w_{1} + \\gamma w_{2}}</script></html>"
      ],
      "text/plain": [
       "((gamma - 2)*w_2 + 2*w_1)/(gamma*w_1 + gamma*w_2)"
      ]
     },
     "metadata": {},
     "output_type": "display_data"
    }
   ],
   "source": [
    "show(all[0][1].rhs())"
   ]
  },
  {
   "cell_type": "code",
   "execution_count": 10,
   "metadata": {},
   "outputs": [
    {
     "data": {
      "text/html": [
       "<html><script type=\"math/tex; mode=display\">\\newcommand{\\Bold}[1]{\\mathbf{#1}}\\frac{{\\left(\\gamma - 3\\right)} w_{2} + 2 \\, w_{1}}{{\\left(\\gamma - 1\\right)} w_{1} + {\\left(\\gamma - 1\\right)} w_{2}}</script></html>"
      ],
      "text/plain": [
       "((gamma - 3)*w_2 + 2*w_1)/((gamma - 1)*w_1 + (gamma - 1)*w_2)"
      ]
     },
     "metadata": {},
     "output_type": "display_data"
    }
   ],
   "source": [
    "show(all[0][2].rhs())"
   ]
  },
  {
   "cell_type": "markdown",
   "metadata": {},
   "source": [
    "# Strategy rules\n",
    "\n",
    "So now we can write the strategy rule.  We'll continue to assume that $w_1\\ge w_2$ because if it isn't you can find the appropriate strategy just by interchanging $w_1$ and $w_2$ in the formulas.  We need one strategy rule for each of the two types $H$  and $L$.  Start with $H$: \n",
    "$$\n",
    "\\pi_H(w_1, w_2) = \\left\\{\\begin{array}{lr}\n",
    "        1 & \\text{ if } \\lambda\\frac{w_1}{2}+(1-\\lambda)w_1\\ge w_2\\\\\n",
    "        \\frac{{\\left(\\gamma - 2\\right)} w_{2} + 2 \\, w_{1}}{\\gamma w_{1} + \\gamma w_{2}} & \\text{if } w_1>w_2; \\lambda\\frac{w_1}{2}+(1-\\lambda)w_1\\le w_2 \\\\\n",
    "        \\frac{{\\left(\\gamma - 2\\right)} w_{1} + 2 \\, w_{1}}{\\gamma w_{2} + \\gamma w_{1}} & \\text{if } w_2>w_1; \\lambda\\frac{w_2}{2}+(1-\\lambda)w_1\\le w_1 \\\\\n",
    "        0 & \\text{if } w_1 < \\lambda\\frac{w_2}{2}+(1-\\lambda)w_2\n",
    "        \\end{array}\\right. \n",
    "$$"
   ]
  },
  {
   "cell_type": "markdown",
   "metadata": {},
   "source": [
    "Now for $L$,\n",
    "\n",
    "$$\n",
    "\\pi_L(w_1, w_2) = \n",
    "\\left\\{\\begin{array}{lr}\n",
    "  \\frac{(1-\\lambda)(2w_1-w_2)}{(w_1+w_2)-\\lambda(w_1-w_2)} & \\text{ if } \\lambda\\frac{w_1}{2}+(1-\\lambda)w_1\\ge w_2 \\\\\n",
    "  \\frac{(3-\\lambda)w_2+2w_1}{(1-\\lambda)(w_1+w_2)} & \\text{if } w_1>w_2; \\lambda\\frac{w_1}{2}+(1-\\lambda)w_1\\le w_2 \\\\\n",
    "  \\frac{(3-\\lambda)w_1+2w_2}{(1-\\lambda)(w_2+w_1)} & \\text{if } w_2>w_1; \\lambda\\frac{w_2}{2}+(1-\\lambda)w_1\\le w_1 \\\\ \n",
    "  \\frac{(1-\\lambda)(2w_2-w_1)}{(w_2+w_1)-\\lambda(w_2-w_1)} & \\text{ otherwise. } \n",
    "\\end{array}\\right.\n",
    "$$"
   ]
  },
  {
   "cell_type": "markdown",
   "metadata": {},
   "source": [
    "The last bit is to deal with the profit function.  As mentioned, the firm makes a profit whenever is  has at least one applicant, so we can write the profit function for firm 1 this way:\n",
    "\n",
    "$$\n",
    "\\Pi(w_1,w_2) = (Y_1-w_1)(1 - \\left\\{\\lambda^2(1-\\pi_H(w_1,w_2)^2+(1-\\lambda)^2(1-pi_L(w_1,w_2))^2+2\\lambda(1-\\lambda)(1-\\pi_H)(1-\\pi_L)\\right\\}\n",
    "$$"
   ]
  }
 ],
 "metadata": {
  "kernelspec": {
   "display_name": "SageMath 9.1",
   "language": "sage",
   "name": "sagemath"
  },
  "language_info": {
   "codemirror_mode": {
    "name": "ipython",
    "version": 3
   },
   "file_extension": ".py",
   "mimetype": "text/x-python",
   "name": "python",
   "nbconvert_exporter": "python",
   "pygments_lexer": "ipython3",
   "version": "3.7.8"
  }
 },
 "nbformat": 4,
 "nbformat_minor": 4
}
