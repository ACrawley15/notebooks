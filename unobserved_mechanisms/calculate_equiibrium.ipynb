{
 "cells": [
  {
   "cell_type": "markdown",
   "metadata": {},
   "source": [
    "$n$ is the number of bidders.\n",
    "\n",
    "$\\alpha$ is the probability with which each bidder is uninformed.\n",
    "\n",
    "$F(\\cdot)$ is the distribution of values on $[0,1]$ for both informed and uninformed buyers.\n",
    "\n",
    "$\\phi(v)=v-\\frac{(1-F(v))}{f(v)}$ is the virtual valuation function, assumed to be strictly increasing.\n",
    "\n",
    "$\\pi(x)\\equiv (1-F(x))x$ is the revenue function - the expected revenue from making a take it or leave if offer $x$ to a buyer."
   ]
  },
  {
   "cell_type": "code",
   "execution_count": 2,
   "metadata": {},
   "outputs": [],
   "source": [
    "\n",
    "var('n','alpha','x','v')\n",
    "F= function('F')\n",
    "phi = function('phi')\n",
    "f = function('f')\n",
    "pi = function('pi')\n",
    "#(x)= x^2\n",
    "f = diff(F(x),x)\n"
   ]
  },
  {
   "cell_type": "code",
   "execution_count": 3,
   "metadata": {},
   "outputs": [
    {
     "data": {
      "text/plain": [
       "x |--> x + (F(x) - 1)/diff(F(x), x)"
      ]
     },
     "execution_count": 3,
     "metadata": {},
     "output_type": "execute_result"
    }
   ],
   "source": [
    "phi(x) = x-(1-F(x))/f(x)\n",
    "phi"
   ]
  },
  {
   "cell_type": "code",
   "execution_count": 4,
   "metadata": {},
   "outputs": [],
   "source": [
    "#plot(phi,.2,1)"
   ]
  },
  {
   "cell_type": "code",
   "execution_count": 5,
   "metadata": {},
   "outputs": [],
   "source": [
    "#find_root((phi(x)==0),.2,1)"
   ]
  },
  {
   "cell_type": "code",
   "execution_count": 6,
   "metadata": {},
   "outputs": [
    {
     "data": {
      "text/plain": [
       "x |--> -x*(F(x) - 1)"
      ]
     },
     "execution_count": 6,
     "metadata": {},
     "output_type": "execute_result"
    }
   ],
   "source": [
    "pi(x) = (1-F(x))*x\n",
    "pi"
   ]
  },
  {
   "cell_type": "markdown",
   "metadata": {},
   "source": [
    "This section describes the variables in the solution to the maximization problem.\n",
    "\n",
    "* $v_0$ and $v_1$ are lower and upper bounds resepectively on an interval of informed buyer types who are treated exactly the same way that uninformed bidders are.\n",
    "* $r$ is the reserve price in an auction that occurs when all bidders are informed and none of them have values above $v_0$\n",
    "* $t$ is the expected price offer to uninformed buyers and to informed buyers whose values are in the interval $[v_0,v_1]$ conditional on receiving an offer. "
   ]
  },
  {
   "cell_type": "markdown",
   "metadata": {},
   "source": [
    "The next step is to write down the trading probability of buyer as a function of his or her type.\n",
    "\n",
    "To do this we need a new function \\\n",
    "$$\n",
    "\\chi(v_0,v_1) = \\frac{((1-\\alpha)F(v_{1})+\\alpha)^{n}-((1-\\alpha)F(v_{0}))^{n}}{n((1-\\alpha)(F(v_{1})-F(v_{0}))+\\alpha)}\n",
    "$$\n",
    "The description is in the paper."
   ]
  },
  {
   "cell_type": "code",
   "execution_count": 7,
   "metadata": {},
   "outputs": [
    {
     "data": {
      "text/html": [
       "<html><script type=\"math/tex; mode=display\">\\newcommand{\\Bold}[1]{\\mathbf{#1}}\\left( v_{0}, v_{1}, n, \\alpha \\right) \\ {\\mapsto} \\ -\\frac{\\left(-{\\left(\\alpha - 1\\right)} F\\left(v_{0}\\right)\\right)^{n} - {\\left(-{\\left(\\alpha - 1\\right)} F\\left(v_{1}\\right) + \\alpha\\right)}^{n}}{{\\left({\\left(\\alpha - 1\\right)} {\\left(F\\left(v_{0}\\right) - F\\left(v_{1}\\right)\\right)} + \\alpha\\right)} n}</script></html>"
      ],
      "text/plain": [
       "(v_0, v_1, n, alpha) |--> -((-(alpha - 1)*F(v_0))^n - (-(alpha - 1)*F(v_1) + alpha)^n)/(((alpha - 1)*(F(v_0) - F(v_1)) + alpha)*n)"
      ]
     },
     "metadata": {},
     "output_type": "display_data"
    }
   ],
   "source": [
    "function('chi')\n",
    "chi(v_0,v_1,n,alpha)=(((1-alpha)*F(v_1)+alpha)^n -((1-alpha)*F(v_0))^n)/(n*(((1-alpha)*(F(v_1)-F(v_0)))+alpha))\n",
    "show(chi)"
   ]
  },
  {
   "cell_type": "code",
   "execution_count": 8,
   "metadata": {},
   "outputs": [
    {
     "data": {
      "text/plain": [
       "(v_0, v_1, n, alpha) |--> -((-(alpha - 1)*F(v_0))^n - (-(alpha - 1)*F(v_1) + alpha)^n)/(((alpha - 1)*(F(v_0) - F(v_1)) + alpha)*n)"
      ]
     },
     "execution_count": 8,
     "metadata": {},
     "output_type": "execute_result"
    }
   ],
   "source": [
    "chi"
   ]
  },
  {
   "cell_type": "markdown",
   "metadata": {},
   "source": [
    "The second function we'll need is \n",
    "$$\n",
    "\\sum_{m=0}^{n-1}B(m;n-1,\\alpha)F^{n-1-m}(w)\n",
    "$$\n",
    "which describes the probability with which very high value buyers receive offers"
   ]
  },
  {
   "cell_type": "code",
   "execution_count": 9,
   "metadata": {},
   "outputs": [
    {
     "data": {
      "text/html": [
       "<html><script type=\"math/tex; mode=display\">\\newcommand{\\Bold}[1]{\\mathbf{#1}}\\left( n, k, \\alpha, x \\right) \\ {\\mapsto} \\ \\alpha^{k} {\\left(-\\alpha + 1\\right)}^{-k + n} F\\left(x\\right)^{-k + n} {n \\choose k}</script></html>"
      ],
      "text/plain": [
       "\\left( n, k, \\alpha, x \\right) \\ {\\mapsto} \\ \\alpha^{k} {\\left(-\\alpha + 1\\right)}^{-k + n} F\\left(x\\right)^{-k + n} {n \\choose k}"
      ]
     },
     "metadata": {},
     "output_type": "display_data"
    }
   ],
   "source": [
    "h(n,k,alpha,x) = (binomial(n,k)*(alpha^k)*(1-alpha)^(n-k))*F(x)^(n-k)\n",
    "#h(3,2,.5)\n",
    "#n,alpha = 3,.5\n",
    "show(latex(h))"
   ]
  },
  {
   "cell_type": "code",
   "execution_count": 10,
   "metadata": {},
   "outputs": [
    {
     "data": {
      "text/html": [
       "<html><script type=\"math/tex; mode=display\">\\newcommand{\\Bold}[1]{\\mathbf{#1}}{\\left(-{\\left(\\alpha - 1\\right)} F\\left(x\\right) + \\alpha\\right)}^{n}</script></html>"
      ],
      "text/plain": [
       "{\\left(-{\\left(\\alpha - 1\\right)} F\\left(x\\right) + \\alpha\\right)}^{n}"
      ]
     },
     "metadata": {},
     "output_type": "display_data"
    }
   ],
   "source": [
    "prob = sum(h(n,k,alpha,x),k,0,n)\n",
    "#plot(prob,(x,.7,1))\n",
    "show(latex(prob))"
   ]
  },
  {
   "cell_type": "markdown",
   "metadata": {},
   "source": [
    "The next step is to describe the probability of trade function for an informed bidder using $\\chi$.\n",
    "\n",
    "It is given by\n",
    "\\begin{equation}\n",
    "Q^{\\epsilon}\\left(w\\right)=\\label{aggregate-Q}\n",
    "\\end{equation}\n",
    "\n",
    "$$\n",
    "\\left\\{ \\begin{array}{ccc}\n",
    "0 & \\text{if} & w<r\\\\\n",
    "(1-\\alpha)^{n-1}F^{n-1}(w) & \\text{if} & w\\in[r,v_{-})\\\\\n",
    "\\chi(v_{-},v_{+}) & \\text{if} & w\\in[v_{-},v_{+}]\\\\\n",
    "\\sum_{m=0}^{n-1}B(m;n-1,\\alpha)F^{n-1-m}(w) & \\text{if} & w>v_{+},\n",
    "\\end{array}\\right.\n",
    "$$"
   ]
  },
  {
   "cell_type": "code",
   "execution_count": 11,
   "metadata": {},
   "outputs": [
    {
     "data": {
      "image/png": "[encoded data removed]",
      "text/plain": [
       "Graphics object consisting of 1 graphics primitive"
      ]
     },
     "execution_count": 11,
     "metadata": {},
     "output_type": "execute_result"
    }
   ],
   "source": [
    "#assignments -needed by piecewise for definition\n",
    "#0.52699   0.60428   0.64924   0.66497\n",
    "n,alpha,z = 5,.8,20\n",
    "#mike solution r,t,v_0,v_1 =0.53489,   0.57429,   0.66325,   0.67115\n",
    "# li solution r -> 0.534536, t -> 0.575657, u -> 0.667563, v -> 0.675814}\n",
    "#mike F=.6x,n=2 0.37725   0.47773   0.47785   0.55816\n",
    "r,t,v_0,v_1 = 0.37725,   0.47773,   0.47785,   0.55816\n",
    "\n",
    "#r,t,v_0,v_1 =0.52699,   0.60428,   0.64924,   0.66497\n",
    "F(x)= x^(.6)\n",
    "#F(x)= ((1/2)*(sqrt(z*x^4 + 1) - 1)/x^2)/((1/2)*(sqrt(z*1^4 + 1) - 1))\n",
    "#F(v) = (erf(-pi+v*2*pi)+1)/(erf(pi)+1)\n",
    "#r,v_0,v_1 = .388505,.481644,.538108\n",
    "plot(F,0,1)"
   ]
  },
  {
   "cell_type": "markdown",
   "metadata": {},
   "source": [
    "The next bit is an alternative approach that might be more integration friendly."
   ]
  },
  {
   "cell_type": "code",
   "execution_count": 12,
   "metadata": {},
   "outputs": [
    {
     "data": {
      "text/plain": [
       "piecewise(x|-->0 on (0, 0.377250000000000), x|-->0.00160000000000000*x^2.40000000000000 on (0.377250000000000, 0.477850000000000), x|-->0.181555737395078 on (0.477850000000000, 0.558160000000000), x|-->(0.200000000000000*x^0.600000000000000 + 0.800000000000000)^4 on (0.558160000000000, 1); x)"
      ]
     },
     "execution_count": 12,
     "metadata": {},
     "output_type": "execute_result"
    }
   ],
   "source": [
    "#alpha=.5\n",
    "#n=3\n",
    "#((v_0,v_1),(((1-alpha)*F(v_1)+alpha)^n -((1-alpha)*F(v_0))^n)/n*(((1-alpha)*(F(v_1)-F(v_0)))+alpha))\n",
    "function('L')\n",
    "L = piecewise([((0,r),0), ((r,v_0), ((1-alpha)^(n-1))*F(x)^(n-1)), \n",
    "               ((v_0,v_1),(((1-alpha)*F(v_1)+alpha)^n -((1-alpha)*F(v_0))^n)/(n*(((1-alpha)*(F(v_1)-F(v_0)))+alpha))), \n",
    "               ((v_1,1), (alpha+(1-alpha)*F(x))^(n-1)) ])\n",
    "L"
   ]
  },
  {
   "cell_type": "code",
   "execution_count": 13,
   "metadata": {},
   "outputs": [
    {
     "data": {
      "image/png": "[encoded data removed]",
      "text/plain": [
       "Graphics object consisting of 1 graphics primitive"
      ]
     },
     "execution_count": 13,
     "metadata": {},
     "output_type": "execute_result"
    }
   ],
   "source": [
    "plot(L,(0,1))"
   ]
  },
  {
   "cell_type": "code",
   "execution_count": 14,
   "metadata": {},
   "outputs": [],
   "source": [
    "var('A','P1','P2')\n",
    "#(((1-alpha)*F(v_1)+alpha)^n -((1-alpha)*F(v_0))^n)/n*(((1-alpha)*(F(v_1)-F(v_0)))+alpha)\n",
    "A= (((1-alpha)*F(v_1)+alpha)^n -((1-alpha)*F(v_0))^n)/(n*(((1-alpha)*(F(v_1)-F(v_0)))+alpha))\n",
    "#\n",
    "A\n",
    "P1=plot(lambda x:-A*t +A*x,(.35,1))\n"
   ]
  },
  {
   "cell_type": "code",
   "execution_count": 15,
   "metadata": {},
   "outputs": [],
   "source": [
    "var('y')\n",
    "P2=plot(lambda y: L.integral(x,.01,y,true),(.35,1))"
   ]
  },
  {
   "cell_type": "code",
   "execution_count": 16,
   "metadata": {},
   "outputs": [
    {
     "data": {
      "image/png": "[encoded data removed]",
      "text/plain": [
       "Graphics object consisting of 2 graphics primitives"
      ]
     },
     "execution_count": 16,
     "metadata": {},
     "output_type": "execute_result"
    }
   ],
   "source": [
    "P1+P2"
   ]
  },
  {
   "cell_type": "markdown",
   "metadata": {},
   "source": [
    "Finally, we compute the probability with which the good is offered at the fixed price $t$.  This is\n",
    "$$\n",
    "(1-\\alpha)^n(F^n(v_1)-F^n(v_0))+(1-\\alpha)^nF^n(v_1)((1+\\frac{\\alpha}{(1-\\alpha F(v_+)})^n-1)\n",
    "$$"
   ]
  },
  {
   "cell_type": "code",
   "execution_count": 17,
   "metadata": {},
   "outputs": [
    {
     "data": {
      "text/plain": [
       "0.737610790160378"
      ]
     },
     "execution_count": 17,
     "metadata": {},
     "output_type": "execute_result"
    }
   ],
   "source": [
    "((1-alpha)^n)*((F(v_1))^n-(F(v_0)^n)) + ((1-alpha)^n)*((F(v_1))^n)  *((1+alpha/((1-alpha)*F(v_1)))^n - 1)"
   ]
  },
  {
   "cell_type": "code",
   "execution_count": 20,
   "metadata": {},
   "outputs": [
    {
     "data": {
      "text/plain": [
       "5.67550832890070"
      ]
     },
     "execution_count": 20,
     "metadata": {},
     "output_type": "execute_result"
    }
   ],
   "source": [
    "((1+alpha/((1-alpha)*F(v_1))) - 1)"
   ]
  }
 ],
 "metadata": {
  "kernelspec": {
   "display_name": "SageMath 9.1",
   "language": "sage",
   "name": "sagemath"
  },
  "language_info": {
   "codemirror_mode": {
    "name": "ipython",
    "version": 3
   },
   "file_extension": ".py",
   "mimetype": "text/x-python",
   "name": "python",
   "nbconvert_exporter": "python",
   "pygments_lexer": "ipython3",
   "version": "3.7.8"
  }
 },
 "nbformat": 4,
 "nbformat_minor": 4
}
