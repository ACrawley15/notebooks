{
 "cells": [
  {
   "cell_type": "markdown",
   "metadata": {},
   "source": [
    "Solving Equations"
   ]
  },
  {
   "cell_type": "code",
   "execution_count": 10,
   "metadata": {},
   "outputs": [],
   "source": [
    "reset()\n",
    "forget()\n",
    "var('r','t','v','alpha','n')\n",
    "var('r_star')\n",
    "var('v_min')\n",
    "var('v_max')\n",
    "var('s')\n",
    "function('F')\n",
    "function('f')\n",
    "\n",
    "assume(1>=v_max)\n",
    "assume(v_max>=v_min)\n",
    "assume(v_min>=t)\n",
    "assume(t>=0)\n",
    "\n",
    "n = 3 # for numerical solution\n",
    "alpha = 0.3 # for numerical solution\n",
    "\n",
    "# F = function('F')(v)\n",
    "F(v) = v # for numerical solution \n",
    "\n",
    "f = F.derivative()\n",
    "\n",
    "pi(p) = (1-F(p))*p\n",
    "phi(v) = v - (1-F(v))/f(v)\n",
    "chi(v_min, v_max) = (((1-alpha)*F(v_max)+alpha)^n-((1-alpha)*F(v_min))^n) / (n*(1-alpha)*(F(v_max)-F(v_min))+alpha)\n",
    "\n",
    "#assume(phi(r_star)==0)\n",
    "\n",
    "eq1 = (alpha * (pi(t)-phi(v_max)) == (1-alpha)*((v_min-t)*(phi(v_max)-phi(v_min))*f(v_min)+(F(v_max)-F(v_min))*phi(v_max)-(pi(v_min)-pi(v_max))))\n",
    "eq2 = (-alpha*diff(pi(t),t) == (1-alpha)*(phi(v_max)-phi(v_min))*f(v_min))\n",
    "eq3 = (-phi(r)*f(r) == (phi(v_max)-phi(v_min))*f(v_min))\n",
    "eq4 = ((1-alpha)^(n-1) * integrate(F(s)^(n-1),s,r,v_min) == (((1-alpha)*F(v_max)+alpha)^n-((1-alpha)*F(v_min))^n) / (n*(1-alpha)*(F(v_max)-F(v_min))+alpha)\n",
    "*(v_min-t))"
   ]
  },
  {
   "cell_type": "code",
   "execution_count": 14,
   "metadata": {},
   "outputs": [
    {
     "data": {
      "text/plain": [
       "0.300000000000000"
      ]
     },
     "execution_count": 14,
     "metadata": {},
     "output_type": "execute_result"
    }
   ],
   "source": [
    "\n",
    "f(x)*alpha"
   ]
  },
  {
   "cell_type": "code",
   "execution_count": 12,
   "metadata": {},
   "outputs": [
    {
     "data": {
      "text/html": [
       "<html><script type=\"math/tex; mode=display\">\\newcommand{\\Bold}[1]{\\mathbf{#1}}\\left[\\left[v_{\\mathit{min}} = \\left(-0.1232619698407009 + 0.004466248065059777i\\right), v_{\\mathit{max}} = \\left(-0.2678839596933563 + 0.6858406328971949i\\right), r = \\left(0.6446219898526553 - 0.6813743848321351i\\right), t = \\left(0.1625486903438051 + 1.589873564608315i\\right)\\right], \\left[v_{\\mathit{min}} = \\left(-0.1232619698407009 - 0.004466248065059777i\\right), v_{\\mathit{max}} = \\left(-0.2678839596933563 - 0.6858406328971948i\\right), r = \\left(0.6446219898526554 + 0.681374384832135i\\right), t = \\left(0.1625486903438043 - 1.589873564608316i\\right)\\right], \\left[v_{\\mathit{min}} = \\left(0.08296682866543352 + 0.5144805585329949i\\right), v_{\\mathit{max}} = \\left(-0.1360518900503418 + 0.1593295069724867i\\right), r = \\left(0.7190187187157753 + 0.3551510515605082i\\right), t = \\left(-0.01104367700347528 - 0.8286857869745183i\\right)\\right], \\left[v_{\\mathit{min}} = \\left(0.08296682866543352 - 0.5144805585329949i\\right), v_{\\mathit{max}} = \\left(-0.1360518900503418 - 0.1593295069724867i\\right), r = \\left(0.7190187187157753 - 0.3551510515605082i\\right), t = \\left(-0.01104367700347496 + 0.8286857869745187i\\right)\\right], \\left[v_{\\mathit{min}} = 0.5896155766350474, v_{\\mathit{max}} = 0.6200740990232402, r = 0.4695414099931554, t = 0.5710700433493041\\right], \\left[v_{\\mathit{min}} = \\left(-2.1355944142844 + 1.012479604372656i\\right), v_{\\mathit{max}} = \\left(-2.720412817979435 + 0.9016404379187876i\\right), r = \\left(1.084818403695035 + 0.1108391664538689i\\right), t = \\left(-0.8645762752890256 - 0.2586247217253703i\\right)\\right], \\left[v_{\\mathit{min}} = \\left(-2.1355944142844 - 1.012479604372656i\\right), v_{\\mathit{max}} = \\left(-2.720412817979422 - 0.9016404379188862i\\right), r = \\left(1.084818403695023 - 0.1108391664537703i\\right), t = \\left(-0.8645762752883935 + 0.2586247217254613i\\right)\\right]\\right]</script></html>"
      ],
      "text/plain": [
       "[[v_min == (-0.1232619698407009 + 0.004466248065059777*I), v_max == (-0.2678839596933563 + 0.6858406328971949*I), r == (0.6446219898526553 - 0.6813743848321351*I), t == (0.1625486903438051 + 1.589873564608315*I)], [v_min == (-0.1232619698407009 - 0.004466248065059777*I), v_max == (-0.2678839596933563 - 0.6858406328971948*I), r == (0.6446219898526554 + 0.681374384832135*I), t == (0.1625486903438043 - 1.589873564608316*I)], [v_min == (0.08296682866543352 + 0.5144805585329949*I), v_max == (-0.1360518900503418 + 0.1593295069724867*I), r == (0.7190187187157753 + 0.3551510515605082*I), t == (-0.01104367700347528 - 0.8286857869745183*I)], [v_min == (0.08296682866543352 - 0.5144805585329949*I), v_max == (-0.1360518900503418 - 0.1593295069724867*I), r == (0.7190187187157753 - 0.3551510515605082*I), t == (-0.01104367700347496 + 0.8286857869745187*I)], [v_min == 0.5896155766350474, v_max == 0.6200740990232402, r == 0.4695414099931554, t == 0.5710700433493041], [v_min == (-2.1355944142844 + 1.012479604372656*I), v_max == (-2.720412817979435 + 0.9016404379187876*I), r == (1.084818403695035 + 0.1108391664538689*I), t == (-0.8645762752890256 - 0.2586247217253703*I)], [v_min == (-2.1355944142844 - 1.012479604372656*I), v_max == (-2.720412817979422 - 0.9016404379188862*I), r == (1.084818403695023 - 0.1108391664537703*I), t == (-0.8645762752883935 + 0.2586247217254613*I)]]"
      ]
     },
     "metadata": {},
     "output_type": "display_data"
    }
   ],
   "source": [
    "soln = solve([eq1,eq2,eq3,eq4],v_min,v_max,r,t)\n",
    "show(soln)"
   ]
  }
 ],
 "metadata": {
  "kernelspec": {
   "display_name": "SageMath 9.0",
   "language": "sage",
   "name": "sagemath"
  },
  "language_info": {
   "codemirror_mode": {
    "name": "ipython",
    "version": 3
   },
   "file_extension": ".py",
   "mimetype": "text/x-python",
   "name": "python",
   "nbconvert_exporter": "python",
   "pygments_lexer": "ipython3",
   "version": "3.7.7"
  }
 },
 "nbformat": 4,
 "nbformat_minor": 4
}
