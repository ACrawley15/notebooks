{
 "cells": [
  {
   "cell_type": "code",
   "execution_count": 1,
   "id": "floppy-mexican",
   "metadata": {},
   "outputs": [
    {
     "data": {
      "text/latex": [
       "$\\begin{equation*}v^{0.6}\\end{equation*}$\n"
      ],
      "text/plain": [
       " 0.6\n",
       "v   "
      ]
     },
     "execution_count": 1,
     "metadata": {},
     "output_type": "execute_result"
    }
   ],
   "source": [
    "using SymPy \n",
    "#@vars r v_min v_max t v positive = true\n",
    " @vars r v_min v_max t v s positive = true \n",
    "\n",
    "\n",
    "n = 10\n",
    "alpha = 0.8\n",
    "z = 2000\n",
    "\n",
    "#F(v) = ((1/2)*(sqrt(z*v^4 + 1) - 1)/v^2)/((1/2)*(sqrt(z*1^4 + 1) - 1))   #cannot be integrated symbolically\n",
    "F(v) = v^(0.6)\n",
    "\n",
    "f(v) = diff(F(v))\n",
    "F(v)"
   ]
  },
  {
   "cell_type": "code",
   "execution_count": 2,
   "id": "stable-monte",
   "metadata": {},
   "outputs": [
    {
     "data": {
      "text/latex": [
       "$\\begin{equation*}0.8 t \\left(1 - t^{0.6}\\right) + 1.33333333333333 v_{max}^{0.4} \\left(1 - v_{max}^{0.6}\\right) - 0.8 v_{max} - \\frac{0.12 \\left(- t + v_{min}\\right) \\left(- 1.66666666666667 v_{max}^{0.4} \\left(1 - v_{max}^{0.6}\\right) + v_{max} + 1.66666666666667 v_{min}^{0.4} \\left(1 - v_{min}^{0.6}\\right) - v_{min}\\right)}{v_{min}^{0.4}} - 0.2 \\left(v_{max}^{0.6} - v_{min}^{0.6}\\right) \\left(- 1.66666666666667 v_{max}^{0.4} \\left(1 - v_{max}^{0.6}\\right) + v_{max} \\left(1 - v_{max}^{0.6}\\right) + v_{max} - v_{min} \\left(1 - v_{min}^{0.6}\\right)\\right)\\end{equation*}$\n"
      ],
      "text/plain": [
       "      ⎛     0.6⎞                        0.4 ⎛        0.6⎞                     \n",
       "0.8⋅t⋅⎝1 - t   ⎠ + 1.33333333333333⋅vₘₐₓ   ⋅⎝1 - vₘₐₓ   ⎠ - 0.8⋅vₘₐₓ - 0.12⋅vₘ\n",
       "\n",
       "  -0.4             ⎛                       0.4 ⎛        0.6⎞                  \n",
       "ᵢₙ    ⋅(-t + vₘᵢₙ)⋅⎝- 1.66666666666667⋅vₘₐₓ   ⋅⎝1 - vₘₐₓ   ⎠ + vₘₐₓ + 1.666666\n",
       "\n",
       "             0.4 ⎛        0.6⎞       ⎞       ⎛    0.6       0.6⎞ ⎛            \n",
       "66666667⋅vₘᵢₙ   ⋅⎝1 - vₘᵢₙ   ⎠ - vₘᵢₙ⎠ - 0.2⋅⎝vₘₐₓ    - vₘᵢₙ   ⎠⋅⎝- 1.66666666\n",
       "\n",
       "           0.4 ⎛        0.6⎞        ⎛        0.6⎞               ⎛        0.6⎞⎞\n",
       "666667⋅vₘₐₓ   ⋅⎝1 - vₘₐₓ   ⎠ + vₘₐₓ⋅⎝1 - vₘₐₓ   ⎠ + vₘₐₓ - vₘᵢₙ⋅⎝1 - vₘᵢₙ   ⎠⎠"
      ]
     },
     "execution_count": 2,
     "metadata": {},
     "output_type": "execute_result"
    }
   ],
   "source": [
    "eq1 = alpha * (t*(1-F(t))-(v_max - (1-F(v_max))/f(v_max))) -\n",
    "(1-alpha)*\n",
    "(\n",
    "(v_min-t)*\n",
    "((v_max - (1-F(v_max))/f(v_max))-(v_min - (1-F(v_min))/f(v_min)))*\n",
    "f(v_min)+\n",
    "(F(v_max)-F(v_min))*\n",
    "((v_max - (1-F(v_max))/f(v_max))\n",
    "-((1-F(v_min))*v_min-(1-F(v_max))*v_max))\n",
    ")"
   ]
  },
  {
   "cell_type": "code",
   "execution_count": 3,
   "id": "affected-antibody",
   "metadata": {},
   "outputs": [
    {
     "data": {
      "text/latex": [
       "$\\begin{equation*}1.28 t^{0.6} - \\frac{0.6 \\left(- 0.333333333333333 v_{max}^{0.4} \\left(1 - v_{max}^{0.6}\\right) + 0.2 v_{max} + 0.333333333333333 v_{min}^{0.4} \\left(1 - v_{min}^{0.6}\\right) - 0.2 v_{min}\\right)}{v_{min}^{0.4}} - 0.8\\end{equation*}$\n"
      ],
      "text/plain": [
       "      0.6           -0.4 ⎛                        0.4 ⎛        0.6⎞           \n",
       "1.28⋅t    - 0.6⋅vₘᵢₙ    ⋅⎝- 0.333333333333333⋅vₘₐₓ   ⋅⎝1 - vₘₐₓ   ⎠ + 0.2⋅vₘₐₓ\n",
       "\n",
       "                         0.4 ⎛        0.6⎞           ⎞      \n",
       " + 0.333333333333333⋅vₘᵢₙ   ⋅⎝1 - vₘᵢₙ   ⎠ - 0.2⋅vₘᵢₙ⎠ - 0.8"
      ]
     },
     "execution_count": 3,
     "metadata": {},
     "output_type": "execute_result"
    }
   ],
   "source": [
    "phidiff = ((v_max - (1-F(v_max))/f(v_max))-(v_min - (1-F(v_min))/f(v_min)))\n",
    "\n",
    "eq2 = -alpha*(-f(t)*t+(1-F(t))) -\n",
    "(1-alpha)*\n",
    "phidiff*f(v_min)"
   ]
  },
  {
   "cell_type": "code",
   "execution_count": 4,
   "id": "retained-granny",
   "metadata": {},
   "outputs": [
    {
     "data": {
      "text/latex": [
       "$\\begin{equation*}\\frac{0.6 \\left(1.66666666666667 r^{0.4} \\left(1 - r^{0.6}\\right) - r\\right)}{r^{0.4}} - \\frac{0.6 \\left(- 1.66666666666667 v_{max}^{0.4} \\left(1 - v_{max}^{0.6}\\right) + v_{max} + 1.66666666666667 v_{min}^{0.4} \\left(1 - v_{min}^{0.6}\\right) - v_{min}\\right)}{v_{min}^{0.4}}\\end{equation*}$\n"
      ],
      "text/plain": [
       "     -0.4 ⎛                  0.4 ⎛     0.6⎞    ⎞           -0.4 ⎛             \n",
       "0.6⋅r    ⋅⎝1.66666666666667⋅r   ⋅⎝1 - r   ⎠ - r⎠ - 0.6⋅vₘᵢₙ    ⋅⎝- 1.666666666\n",
       "\n",
       "          0.4 ⎛        0.6⎞                               0.4 ⎛        0.6⎞   \n",
       "66667⋅vₘₐₓ   ⋅⎝1 - vₘₐₓ   ⎠ + vₘₐₓ + 1.66666666666667⋅vₘᵢₙ   ⋅⎝1 - vₘᵢₙ   ⎠ - \n",
       "\n",
       "    ⎞\n",
       "vₘᵢₙ⎠"
      ]
     },
     "execution_count": 4,
     "metadata": {},
     "output_type": "execute_result"
    }
   ],
   "source": [
    "eq3 = -(r - (1-F(r))/f(r))*f(r) - phidiff*f(v_min)"
   ]
  },
  {
   "cell_type": "code",
   "execution_count": 5,
   "id": "protected-procedure",
   "metadata": {},
   "outputs": [
    {
     "data": {
      "text/latex": [
       "$\\begin{equation*}- 7.99999999999998 \\cdot 10^{-8} r^{6.4} + 7.99999999999998 \\cdot 10^{-8} v_{min}^{6.4} - \\frac{\\left(- t + v_{min}\\right) \\left(- 1.024 \\cdot 10^{-7} v_{min}^{6.0} + 0.1073741824 \\left(0.25 v_{max}^{0.6} + 1\\right)^{10}\\right)}{2.0 v_{max}^{0.6} - 2.0 v_{min}^{0.6} + 8.0}\\end{equation*}$\n"
      ],
      "text/plain": [
       "                                                                       ⎛      \n",
       "                                                                       ⎜      \n",
       "                       6.4                           6.4   (-t + vₘᵢₙ)⋅⎝- 1.02\n",
       "- 7.99999999999998e-8⋅r    + 7.99999999999998e-8⋅vₘᵢₙ    - ───────────────────\n",
       "                                                                              \n",
       "                                                                             2\n",
       "\n",
       "                                              10⎞\n",
       "         6.0                ⎛         0.6    ⎞  ⎟\n",
       "4e-7⋅vₘᵢₙ    + 0.1073741824⋅⎝0.25⋅vₘₐₓ    + 1⎠  ⎠\n",
       "─────────────────────────────────────────────────\n",
       "       0.6           0.6                         \n",
       ".0⋅vₘₐₓ    - 2.0⋅vₘᵢₙ    + 8.0                   "
      ]
     },
     "execution_count": 5,
     "metadata": {},
     "output_type": "execute_result"
    }
   ],
   "source": [
    "eq4 = (1-alpha)^(n-1) * integrate(F(s)^(n-1),(s,r,v_min)) -\n",
    "(\n",
    "  (\n",
    "    (((1-alpha)*F(v_max)+alpha)^n)-(((1-alpha)*F(v_min))^n)\n",
    "  ) /\n",
    "  (\n",
    "    (n*((1-alpha)*(F(v_max)-F(v_min))+alpha))\n",
    "  )\n",
    ")*(v_min-t)"
   ]
  },
  {
   "cell_type": "code",
   "execution_count": 6,
   "id": "parental-prospect",
   "metadata": {},
   "outputs": [
    {
     "data": {
      "text/latex": [
       "$\\left[ \\begin{array}{r}0.37715690439153\\\\0.477753703934972\\\\0.477753712178866\\\\0.558162869655825\\end{array}\\right]$\n"
      ],
      "text/plain": [
       "4×1 Matrix{Sym}:\n",
       " 0.377156904391530\n",
       " 0.477753703934972\n",
       " 0.477753712178866\n",
       " 0.558162869655825"
      ]
     },
     "execution_count": 6,
     "metadata": {},
     "output_type": "execute_result"
    }
   ],
   "source": [
    "(r_s,t_s,v_min_s,v_max_s)=sympy.nsolve([eq1, eq2, eq3, eq4],(r,t, v_min,v_max),(1,1,1,1))"
   ]
  },
  {
   "cell_type": "code",
   "execution_count": 7,
   "id": "generous-evidence",
   "metadata": {},
   "outputs": [
    {
     "name": "stdout",
     "output_type": "stream",
     "text": [
      "0.544123701029038 is the probability\n",
      "Inequality condition is met\n"
     ]
    }
   ],
   "source": [
    "prob = ((1-alpha)^n)*((F(v_max_s))^n-(F(v_min_s)^n)) + ((1-alpha)^n)*((F(v_max_s))^n)  *((1+alpha/((1-alpha)*F(v_max_s)))^n - 1)\n",
    "println(prob, \" is the probability\")\n",
    "\n",
    "if (v_max_s >= v_min_s && v_min_s >= t_s && t_s >= r_s)\n",
    "    println(\"Inequality condition is met\");\n",
    "else\n",
    "    println(\"WARNING: Inequality condition is not met\");\n",
    "end"
   ]
  },
  {
   "cell_type": "code",
   "execution_count": null,
   "id": "velvet-intent",
   "metadata": {},
   "outputs": [],
   "source": []
  },
  {
   "cell_type": "code",
   "execution_count": null,
   "id": "recovered-investigation",
   "metadata": {},
   "outputs": [],
   "source": []
  }
 ],
 "metadata": {
  "kernelspec": {
   "display_name": "Julia 1.6.0",
   "language": "julia",
   "name": "julia-1.6"
  },
  "language_info": {
   "file_extension": ".jl",
   "mimetype": "application/julia",
   "name": "julia",
   "version": "1.6.0"
  }
 },
 "nbformat": 4,
 "nbformat_minor": 5
}
