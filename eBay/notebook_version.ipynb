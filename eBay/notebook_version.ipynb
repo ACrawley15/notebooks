{
 "cells": [
  {
   "cell_type": "code",
   "execution_count": 1,
   "metadata": {},
   "outputs": [
    {
     "name": "stderr",
     "output_type": "stream",
     "text": [
      "Registered S3 methods overwritten by 'ggplot2':\n",
      "  method         from \n",
      "  [.quosures     rlang\n",
      "  c.quosures     rlang\n",
      "  print.quosures rlang\n"
     ]
    },
    {
     "ename": "ERROR",
     "evalue": "Error: package or namespace load failed for ‘tidyverse’ in dyn.load(file, DLLpath = DLLpath, ...):\n unable to load shared object '/home/peters/miniconda3/envs/sage/lib/R/library/stringi/libs/stringi.so':\n  libicui18n.so.58: cannot open shared object file: No such file or directory\n",
     "output_type": "error",
     "traceback": [
      "Error: package or namespace load failed for ‘tidyverse’ in dyn.load(file, DLLpath = DLLpath, ...):\n unable to load shared object '/home/peters/miniconda3/envs/sage/lib/R/library/stringi/libs/stringi.so':\n  libicui18n.so.58: cannot open shared object file: No such file or directory\nTraceback:\n",
      "1. library(tidyverse)",
      "2. tryCatch({\n .     attr(package, \"LibPath\") <- which.lib.loc\n .     ns <- loadNamespace(package, lib.loc)\n .     env <- attachNamespace(ns, pos = pos, deps, exclude, include.only)\n . }, error = function(e) {\n .     P <- if (!is.null(cc <- conditionCall(e))) \n .         paste(\" in\", deparse(cc)[1L])\n .     else \"\"\n .     msg <- gettextf(\"package or namespace load failed for %s%s:\\n %s\", \n .         sQuote(package), P, conditionMessage(e))\n .     if (logical.return) \n .         message(paste(\"Error:\", msg), domain = NA)\n .     else stop(msg, call. = FALSE, domain = NA)\n . })",
      "3. tryCatchList(expr, classes, parentenv, handlers)",
      "4. tryCatchOne(expr, names, parentenv, handlers[[1L]])",
      "5. value[[3L]](cond)",
      "6. stop(msg, call. = FALSE, domain = NA)"
     ]
    }
   ],
   "source": [
    "library(tidyverse)\n",
    "library(lubridate)\n",
    "library(magrittr)\n",
    "\n",
    "investigate_id <- function(id, t) {\n",
    "  # t is a tibble, id is an auction number on ebay\n",
    "  # easier to investigate an auction\n",
    "  #auctions <- camera_named %>%\n",
    "    auctions <- t %>%\n",
    "    filter(item_id == id) %>% \n",
    "    arrange(desc(bid_time))\n",
    "  #rank(bid_time)\n",
    "    #scale_x_continuous(breaks = seq_along(auctions)) +\n",
    "  p <- ggplot(auctions, aes(x = bid_time, y = bid_price)) +\n",
    "    geom_hline(aes(yintercept =  mean(buy_it_now), colour = 'BIN price'), alpha = 0.5, size = 2) +\n",
    "    geom_hline(aes(yintercept =  mean(reserve_price), colour = 'reserve price')) +\n",
    "    geom_hline(aes(yintercept =  max(bid_price), colour = 'highest price')) +\n",
    "    scale_colour_manual(values = c(\"blue\", \"red\", \"green\")) +\n",
    "    geom_point() +\n",
    "    scale_x_datetime(breaks = seq_along(auctions$bid_time), limits=c(min(auctions$bid_time),max(auctions$bid_time))) +\n",
    "    labs(\n",
    "      title = paste(\"Investigation for the auction of item #\", id, sep = \"\"),\n",
    "      x = \"Time of Bid\",\n",
    "      y = \"Bid price\"\n",
    "    )\n",
    "  print(p)\n",
    "  \n",
    "  invisible(auctions)\n",
    "}\n",
    "\n",
    "#R.Version()"
   ]
  },
  {
   "cell_type": "code",
   "execution_count": null,
   "metadata": {},
   "outputs": [],
   "source": [
    "camera <- read_tsv(\"camera.txt\", col_names = FALSE, col_types = \n",
    "                     cols(\n",
    "                       X1 = col_integer(),\n",
    "                       X2 = col_integer(),\n",
    "                       X3 = col_character(),\n",
    "                       X4 = col_character(),\n",
    "                       X5 = col_double(),\n",
    "                       X6 = col_character(),\n",
    "                       X7 = col_double(),\n",
    "                       X8 = col_integer(),\n",
    "                       X9 = col_character(),\n",
    "                       X10 = col_double(),\n",
    "                       X11 = col_integer(),\n",
    "                       X12 = col_logical(),\n",
    "                       X13 = col_logical(),\n",
    "                       X14 = col_logical(),\n",
    "                       X15 = col_character(),  # use lubridate to parse them later\n",
    "                       X16 = col_character(), \n",
    "                       X17 = col_character()\n",
    "                     ))\n",
    "#head(camera, n=10)"
   ]
  },
  {
   "cell_type": "code",
   "execution_count": null,
   "metadata": {},
   "outputs": [],
   "source": [
    "camera_named <- camera %>% \n",
    "  mutate(X15 = ymd_hms(X15) + years(5), # should be in year 2005\n",
    "         X16 = ymd_hms(X16) + years(5),\n",
    "         X17 = ymd_hms(X17) + years(5)\n",
    "         ) %>% \n",
    "  rename(bid_id = X1, \n",
    "         item_id = X2, \n",
    "         product = X3, \n",
    "         model = X4, \n",
    "         buy_it_now = X5,    \n",
    "         seller = X6, \n",
    "         reserve_price = X7, \n",
    "         seller_feedback = X8, \n",
    "         bidder = X9, \n",
    "         bid_price = X10, \n",
    "         buyer_feedback = X11,\n",
    "         X12 = X12,\n",
    "         X13 = X13,\n",
    "         X14 = X14,\n",
    "         bid_time = X15,\n",
    "         start_time = X16,\n",
    "         end_time = X17) %>% \n",
    "  filter(!is.na(bid_time)) # get rid of invalid bids\n",
    "#head(camera_named,n=10)"
   ]
  },
  {
   "cell_type": "code",
   "execution_count": null,
   "metadata": {},
   "outputs": [],
   "source": [
    "sub_camera <- camera_named %>% select(item_id,buy_it_now,bidder,bid_price,reserve_price,bid_time,start_time,end_time)\n",
    "sub_camera"
   ]
  },
  {
   "cell_type": "code",
   "execution_count": null,
   "metadata": {},
   "outputs": [],
   "source": [
    "sub_camera <- camera_named %>% \n",
    "  select(item_id,buy_it_now,bidder,bid_price,reserve_price,bid_time,start_time,end_time)\n"
   ]
  },
  {
   "cell_type": "code",
   "execution_count": null,
   "metadata": {},
   "outputs": [],
   "source": [
    "item_ids <- sub_camera %>% group_by(item_id) %>% \n",
    " summarize( highest_bid = max(bid_price),\n",
    "              selling_price = median(buy_it_now))\n",
    "#table(item_ids$selling_price < item_ids$highest_bid)\n",
    "ids_greater <- item_ids %>% filter(highest_bid > selling_price)\n",
    "ids_greater"
   ]
  },
  {
   "cell_type": "code",
   "execution_count": null,
   "metadata": {},
   "outputs": [],
   "source": [
    "#filter(sub_camera,item_id == 324903140 )"
   ]
  },
  {
   "cell_type": "code",
   "execution_count": null,
   "metadata": {},
   "outputs": [],
   "source": [
    "#filter(camera_named,item_id == 324903140 )"
   ]
  },
  {
   "cell_type": "code",
   "execution_count": null,
   "metadata": {},
   "outputs": [],
   "source": [
    "#nrow(auctions) \n",
    "\n",
    "# 2) number of bidders: 18773, number of sellers: 1199\n",
    "length(unique(camera_named$bidder))\n",
    "# 3) average number of bidders per trade: 9.46\n",
    "camera_named %>%  \n",
    "  group_by(item_id) %>% \n",
    "  summarize(n = n_distinct(bidder, na.rm = TRUE)) %>% \n",
    "  summarize(mean = mean(n))\n",
    "\n",
    "# The average number of bidders is substantially higher than (number of bidders) / (number of trades) 18773 / 4388 = 4.278259\n",
    "# This means some of the bidders are very active\n",
    "\n",
    "# 4) how active are the bidders\n",
    "camera_named %>%  # the most active bidder bids 154 times\n",
    "  filter(!is.na(bidder)) %>% \n",
    "  group_by(bidder) %>% \n",
    "  summarize(n = n()) %>% \n",
    "  arrange(desc(n)) %T>% \n",
    "  print() %>% \n",
    "  ggplot(aes(x = n)) +\n",
    "  geom_histogram(binwidth = 3)\n",
    "\n",
    "# 5) bid time distribution: very large of bids occurs near the ends and right after the starts\n",
    "camera_named %>% \n",
    "  mutate(bid_time_relative = as.duration(bid_time - start_time) / as.duration(end_time - start_time)) %>% \n",
    "  ggplot(aes(x = bid_time_relative)) +\n",
    "  geom_freqpoly()\n",
    "\n",
    "# 6) transaction price (highest price) distribution: \n",
    "#           for cameras, the prices are more diverse than expected, especially for the lower ranges\n",
    "#           also, the distribution of the highest bids is very close to the distribution of the buy it now prices\n",
    "trades %>% \n",
    "  ggplot() +\n",
    "  geom_freqpoly(aes(x = buy_it_now), colour = 'red') +\n",
    "  geom_freqpoly(aes(x = highest_bid), colour = 'blue')\n",
    "\n"
   ]
  },
  {
   "cell_type": "code",
   "execution_count": null,
   "metadata": {},
   "outputs": [],
   "source": []
  }
 ],
 "metadata": {
  "kernelspec": {
   "display_name": "R",
   "language": "R",
   "name": "ir"
  },
  "language_info": {
   "codemirror_mode": "r",
   "file_extension": ".r",
   "mimetype": "text/x-r-source",
   "name": "R",
   "pygments_lexer": "r",
   "version": "3.6.3"
  }
 },
 "nbformat": 4,
 "nbformat_minor": 4
}
