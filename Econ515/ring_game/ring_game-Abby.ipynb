{
 "cells": [
  {
   "cell_type": "markdown",
   "metadata": {
    "collapsed": false
   },
   "source": [
    "This page gives you the actual data from Terri Kneeland's experiment on the ring game.  The problem is to figure out whether there is any difference between a player who can successfully delete dominated strategies, and a player who best replies to the actual distrbution of play by other players in the experiment.\n",
    "\n",
    "\n",
    "Apart from providing the data, this page will show you some simple python commands you can use to interpret the data. Then we can do some computations using sagemath.\n",
    "\n",
    "\n",
    "The first bit just loads some python libraries (particularly pandas - tons of documentation about it on the internet).  The os library is for reading files."
   ]
  },
  {
   "cell_type": "code",
   "execution_count": 3,
   "metadata": {
    "collapsed": false
   },
   "outputs": [
   ],
   "source": [
    "import pandas as pd\n",
    "import os\n",
    "dataset = pd.read_csv('ecma_data.csv')"
   ]
  },
  {
   "cell_type": "code",
   "execution_count": 4,
   "metadata": {
    "collapsed": false
   },
   "outputs": [
    {
     "data": {
      "text/html": [
       "<html><script type=\"math/tex; mode=display\">\\newcommand{\\Bold}[1]{\\mathbf{#1}}\\begin{array}{l}\n",
       "\\phantom{\\verb!xxxx!}\\verb|Subject|\\phantom{\\verb!xx!}\\verb|G1P1|\\phantom{\\verb!xx!}\\verb|G1P2|\\phantom{\\verb!xx!}\\verb|G1P3|\\phantom{\\verb!xx!}\\verb|G1P4|\\phantom{\\verb!xx!}\\verb|G2P1|\\phantom{\\verb!xx!}\\verb|G2P2|\\phantom{\\verb!xx!}\\verb|G2P3|\\phantom{\\verb!xx!}\\verb|G2P4|\\\\\n",
       "\\verb|0|\\phantom{\\verb!xxxxxxxxx!}\\verb|1|\\phantom{\\verb!xxxxx!}\\verb|1|\\phantom{\\verb!xxxxx!}\\verb|3|\\phantom{\\verb!xxxxx!}\\verb|2|\\phantom{\\verb!xxxxx!}\\verb|3|\\phantom{\\verb!xxxxx!}\\verb|1|\\phantom{\\verb!xxxxx!}\\verb|1|\\phantom{\\verb!xxxxx!}\\verb|2|\\phantom{\\verb!xxxxx!}\\verb|3|\\\\\n",
       "\\verb|1|\\phantom{\\verb!xxxxxxxxx!}\\verb|2|\\phantom{\\verb!xxxxx!}\\verb|2|\\phantom{\\verb!xxxxx!}\\verb|3|\\phantom{\\verb!xxxxx!}\\verb|2|\\phantom{\\verb!xxxxx!}\\verb|2|\\phantom{\\verb!xxxxx!}\\verb|2|\\phantom{\\verb!xxxxx!}\\verb|3|\\phantom{\\verb!xxxxx!}\\verb|3|\\phantom{\\verb!xxxxx!}\\verb|3|\\\\\n",
       "\\verb|2|\\phantom{\\verb!xxxxxxxxx!}\\verb|3|\\phantom{\\verb!xxxxx!}\\verb|2|\\phantom{\\verb!xxxxx!}\\verb|1|\\phantom{\\verb!xxxxx!}\\verb|1|\\phantom{\\verb!xxxxx!}\\verb|1|\\phantom{\\verb!xxxxx!}\\verb|1|\\phantom{\\verb!xxxxx!}\\verb|2|\\phantom{\\verb!xxxxx!}\\verb|2|\\phantom{\\verb!xxxxx!}\\verb|2|\\\\\n",
       "\\verb|3|\\phantom{\\verb!xxxxxxxxx!}\\verb|4|\\phantom{\\verb!xxxxx!}\\verb|3|\\phantom{\\verb!xxxxx!}\\verb|1|\\phantom{\\verb!xxxxx!}\\verb|2|\\phantom{\\verb!xxxxx!}\\verb|2|\\phantom{\\verb!xxxxx!}\\verb|1|\\phantom{\\verb!xxxxx!}\\verb|2|\\phantom{\\verb!xxxxx!}\\verb|2|\\phantom{\\verb!xxxxx!}\\verb|3|\\\\\n",
       "\\verb|4|\\phantom{\\verb!xxxxxxxxx!}\\verb|5|\\phantom{\\verb!xxxxx!}\\verb|3|\\phantom{\\verb!xxxxx!}\\verb|2|\\phantom{\\verb!xxxxx!}\\verb|2|\\phantom{\\verb!xxxxx!}\\verb|1|\\phantom{\\verb!xxxxx!}\\verb|3|\\phantom{\\verb!xxxxx!}\\verb|1|\\phantom{\\verb!xxxxx!}\\verb|1|\\phantom{\\verb!xxxxx!}\\verb|3|\\\\\n",
       "\\verb|5|\\phantom{\\verb!xxxxxxxxx!}\\verb|6|\\phantom{\\verb!xxxxx!}\\verb|1|\\phantom{\\verb!xxxxx!}\\verb|2|\\phantom{\\verb!xxxxx!}\\verb|2|\\phantom{\\verb!xxxxx!}\\verb|1|\\phantom{\\verb!xxxxx!}\\verb|3|\\phantom{\\verb!xxxxx!}\\verb|2|\\phantom{\\verb!xxxxx!}\\verb|2|\\phantom{\\verb!xxxxx!}\\verb|3|\\\\\n",
       "\\verb|6|\\phantom{\\verb!xxxxxxxxx!}\\verb|7|\\phantom{\\verb!xxxxx!}\\verb|1|\\phantom{\\verb!xxxxx!}\\verb|2|\\phantom{\\verb!xxxxx!}\\verb|1|\\phantom{\\verb!xxxxx!}\\verb|1|\\phantom{\\verb!xxxxx!}\\verb|1|\\phantom{\\verb!xxxxx!}\\verb|2|\\phantom{\\verb!xxxxx!}\\verb|3|\\phantom{\\verb!xxxxx!}\\verb|3|\\\\\n",
       "\\verb|7|\\phantom{\\verb!xxxxxxxxx!}\\verb|8|\\phantom{\\verb!xxxxx!}\\verb|1|\\phantom{\\verb!xxxxx!}\\verb|2|\\phantom{\\verb!xxxxx!}\\verb|1|\\phantom{\\verb!xxxxx!}\\verb|1|\\phantom{\\verb!xxxxx!}\\verb|1|\\phantom{\\verb!xxxxx!}\\verb|2|\\phantom{\\verb!xxxxx!}\\verb|3|\\phantom{\\verb!xxxxx!}\\verb|3|\\\\\n",
       "\\verb|8|\\phantom{\\verb!xxxxxxxxx!}\\verb|9|\\phantom{\\verb!xxxxx!}\\verb|1|\\phantom{\\verb!xxxxx!}\\verb|2|\\phantom{\\verb!xxxxx!}\\verb|1|\\phantom{\\verb!xxxxx!}\\verb|1|\\phantom{\\verb!xxxxx!}\\verb|1|\\phantom{\\verb!xxxxx!}\\verb|2|\\phantom{\\verb!xxxxx!}\\verb|3|\\phantom{\\verb!xxxxx!}\\verb|3|\\\\\n",
       "\\verb|9|\\phantom{\\verb!xxxxxxxx!}\\verb|10|\\phantom{\\verb!xxxxx!}\\verb|1|\\phantom{\\verb!xxxxx!}\\verb|1|\\phantom{\\verb!xxxxx!}\\verb|1|\\phantom{\\verb!xxxxx!}\\verb|1|\\phantom{\\verb!xxxxx!}\\verb|1|\\phantom{\\verb!xxxxx!}\\verb|2|\\phantom{\\verb!xxxxx!}\\verb|1|\\phantom{\\verb!xxxxx!}\\verb|3|\\\\\n",
       "\\verb|10|\\phantom{\\verb!xxxxxxx!}\\verb|11|\\phantom{\\verb!xxxxx!}\\verb|1|\\phantom{\\verb!xxxxx!}\\verb|2|\\phantom{\\verb!xxxxx!}\\verb|1|\\phantom{\\verb!xxxxx!}\\verb|1|\\phantom{\\verb!xxxxx!}\\verb|1|\\phantom{\\verb!xxxxx!}\\verb|1|\\phantom{\\verb!xxxxx!}\\verb|1|\\phantom{\\verb!xxxxx!}\\verb|3|\\\\\n",
       "\\verb|11|\\phantom{\\verb!xxxxxxx!}\\verb|12|\\phantom{\\verb!xxxxx!}\\verb|3|\\phantom{\\verb!xxxxx!}\\verb|2|\\phantom{\\verb!xxxxx!}\\verb|1|\\phantom{\\verb!xxxxx!}\\verb|1|\\phantom{\\verb!xxxxx!}\\verb|1|\\phantom{\\verb!xxxxx!}\\verb|2|\\phantom{\\verb!xxxxx!}\\verb|1|\\phantom{\\verb!xxxxx!}\\verb|3|\\\\\n",
       "\\verb|12|\\phantom{\\verb!xxxxxxx!}\\verb|13|\\phantom{\\verb!xxxxx!}\\verb|3|\\phantom{\\verb!xxxxx!}\\verb|2|\\phantom{\\verb!xxxxx!}\\verb|2|\\phantom{\\verb!xxxxx!}\\verb|2|\\phantom{\\verb!xxxxx!}\\verb|3|\\phantom{\\verb!xxxxx!}\\verb|2|\\phantom{\\verb!xxxxx!}\\verb|2|\\phantom{\\verb!xxxxx!}\\verb|3|\\\\\n",
       "\\verb|13|\\phantom{\\verb!xxxxxxx!}\\verb|14|\\phantom{\\verb!xxxxx!}\\verb|1|\\phantom{\\verb!xxxxx!}\\verb|2|\\phantom{\\verb!xxxxx!}\\verb|1|\\phantom{\\verb!xxxxx!}\\verb|1|\\phantom{\\verb!xxxxx!}\\verb|1|\\phantom{\\verb!xxxxx!}\\verb|2|\\phantom{\\verb!xxxxx!}\\verb|1|\\phantom{\\verb!xxxxx!}\\verb|3|\\\\\n",
       "\\verb|14|\\phantom{\\verb!xxxxxxx!}\\verb|15|\\phantom{\\verb!xxxxx!}\\verb|1|\\phantom{\\verb!xxxxx!}\\verb|2|\\phantom{\\verb!xxxxx!}\\verb|1|\\phantom{\\verb!xxxxx!}\\verb|1|\\phantom{\\verb!xxxxx!}\\verb|1|\\phantom{\\verb!xxxxx!}\\verb|2|\\phantom{\\verb!xxxxx!}\\verb|1|\\phantom{\\verb!xxxxx!}\\verb|3|\\\\\n",
       "\\verb|15|\\phantom{\\verb!xxxxxxx!}\\verb|16|\\phantom{\\verb!xxxxx!}\\verb|1|\\phantom{\\verb!xxxxx!}\\verb|2|\\phantom{\\verb!xxxxx!}\\verb|1|\\phantom{\\verb!xxxxx!}\\verb|1|\\phantom{\\verb!xxxxx!}\\verb|1|\\phantom{\\verb!xxxxx!}\\verb|2|\\phantom{\\verb!xxxxx!}\\verb|1|\\phantom{\\verb!xxxxx!}\\verb|3|\\\\\n",
       "\\verb|16|\\phantom{\\verb!xxxxxxx!}\\verb|17|\\phantom{\\verb!xxxxx!}\\verb|1|\\phantom{\\verb!xxxxx!}\\verb|2|\\phantom{\\verb!xxxxx!}\\verb|1|\\phantom{\\verb!xxxxx!}\\verb|1|\\phantom{\\verb!xxxxx!}\\verb|1|\\phantom{\\verb!xxxxx!}\\verb|2|\\phantom{\\verb!xxxxx!}\\verb|1|\\phantom{\\verb!xxxxx!}\\verb|3|\\\\\n",
       "\\verb|17|\\phantom{\\verb!xxxxxxx!}\\verb|18|\\phantom{\\verb!xxxxx!}\\verb|1|\\phantom{\\verb!xxxxx!}\\verb|2|\\phantom{\\verb!xxxxx!}\\verb|1|\\phantom{\\verb!xxxxx!}\\verb|1|\\phantom{\\verb!xxxxx!}\\verb|1|\\phantom{\\verb!xxxxx!}\\verb|2|\\phantom{\\verb!xxxxx!}\\verb|1|\\phantom{\\verb!xxxxx!}\\verb|3|\\\\\n",
       "\\verb|18|\\phantom{\\verb!xxxxxxx!}\\verb|19|\\phantom{\\verb!xxxxx!}\\verb|1|\\phantom{\\verb!xxxxx!}\\verb|2|\\phantom{\\verb!xxxxx!}\\verb|1|\\phantom{\\verb!xxxxx!}\\verb|1|\\phantom{\\verb!xxxxx!}\\verb|1|\\phantom{\\verb!xxxxx!}\\verb|2|\\phantom{\\verb!xxxxx!}\\verb|1|\\phantom{\\verb!xxxxx!}\\verb|3|\\\\\n",
       "\\verb|19|\\phantom{\\verb!xxxxxxx!}\\verb|20|\\phantom{\\verb!xxxxx!}\\verb|1|\\phantom{\\verb!xxxxx!}\\verb|2|\\phantom{\\verb!xxxxx!}\\verb|1|\\phantom{\\verb!xxxxx!}\\verb|1|\\phantom{\\verb!xxxxx!}\\verb|1|\\phantom{\\verb!xxxxx!}\\verb|2|\\phantom{\\verb!xxxxx!}\\verb|1|\\phantom{\\verb!xxxxx!}\\verb|3|\\\\\n",
       "\\verb|20|\\phantom{\\verb!xxxxxxx!}\\verb|21|\\phantom{\\verb!xxxxx!}\\verb|3|\\phantom{\\verb!xxxxx!}\\verb|1|\\phantom{\\verb!xxxxx!}\\verb|1|\\phantom{\\verb!xxxxx!}\\verb|1|\\phantom{\\verb!xxxxx!}\\verb|3|\\phantom{\\verb!xxxxx!}\\verb|1|\\phantom{\\verb!xxxxx!}\\verb|1|\\phantom{\\verb!xxxxx!}\\verb|3|\\\\\n",
       "\\verb|21|\\phantom{\\verb!xxxxxxx!}\\verb|22|\\phantom{\\verb!xxxxx!}\\verb|3|\\phantom{\\verb!xxxxx!}\\verb|2|\\phantom{\\verb!xxxxx!}\\verb|2|\\phantom{\\verb!xxxxx!}\\verb|1|\\phantom{\\verb!xxxxx!}\\verb|3|\\phantom{\\verb!xxxxx!}\\verb|2|\\phantom{\\verb!xxxxx!}\\verb|2|\\phantom{\\verb!xxxxx!}\\verb|3|\\\\\n",
       "\\verb|22|\\phantom{\\verb!xxxxxxx!}\\verb|23|\\phantom{\\verb!xxxxx!}\\verb|1|\\phantom{\\verb!xxxxx!}\\verb|2|\\phantom{\\verb!xxxxx!}\\verb|1|\\phantom{\\verb!xxxxx!}\\verb|1|\\phantom{\\verb!xxxxx!}\\verb|3|\\phantom{\\verb!xxxxx!}\\verb|2|\\phantom{\\verb!xxxxx!}\\verb|2|\\phantom{\\verb!xxxxx!}\\verb|3|\\\\\n",
       "\\verb|23|\\phantom{\\verb!xxxxxxx!}\\verb|24|\\phantom{\\verb!xxxxx!}\\verb|1|\\phantom{\\verb!xxxxx!}\\verb|2|\\phantom{\\verb!xxxxx!}\\verb|1|\\phantom{\\verb!xxxxx!}\\verb|1|\\phantom{\\verb!xxxxx!}\\verb|3|\\phantom{\\verb!xxxxx!}\\verb|2|\\phantom{\\verb!xxxxx!}\\verb|2|\\phantom{\\verb!xxxxx!}\\verb|3|\\\\\n",
       "\\verb|24|\\phantom{\\verb!xxxxxxx!}\\verb|25|\\phantom{\\verb!xxxxx!}\\verb|1|\\phantom{\\verb!xxxxx!}\\verb|2|\\phantom{\\verb!xxxxx!}\\verb|1|\\phantom{\\verb!xxxxx!}\\verb|1|\\phantom{\\verb!xxxxx!}\\verb|3|\\phantom{\\verb!xxxxx!}\\verb|2|\\phantom{\\verb!xxxxx!}\\verb|2|\\phantom{\\verb!xxxxx!}\\verb|3|\\\\\n",
       "\\verb|25|\\phantom{\\verb!xxxxxxx!}\\verb|26|\\phantom{\\verb!xxxxx!}\\verb|1|\\phantom{\\verb!xxxxx!}\\verb|2|\\phantom{\\verb!xxxxx!}\\verb|1|\\phantom{\\verb!xxxxx!}\\verb|1|\\phantom{\\verb!xxxxx!}\\verb|3|\\phantom{\\verb!xxxxx!}\\verb|2|\\phantom{\\verb!xxxxx!}\\verb|2|\\phantom{\\verb!xxxxx!}\\verb|3|\\\\\n",
       "\\verb|26|\\phantom{\\verb!xxxxxxx!}\\verb|27|\\phantom{\\verb!xxxxx!}\\verb|1|\\phantom{\\verb!xxxxx!}\\verb|1|\\phantom{\\verb!xxxxx!}\\verb|1|\\phantom{\\verb!xxxxx!}\\verb|1|\\phantom{\\verb!xxxxx!}\\verb|1|\\phantom{\\verb!xxxxx!}\\verb|2|\\phantom{\\verb!xxxxx!}\\verb|2|\\phantom{\\verb!xxxxx!}\\verb|3|\\\\\n",
       "\\verb|27|\\phantom{\\verb!xxxxxxx!}\\verb|28|\\phantom{\\verb!xxxxx!}\\verb|1|\\phantom{\\verb!xxxxx!}\\verb|2|\\phantom{\\verb!xxxxx!}\\verb|1|\\phantom{\\verb!xxxxx!}\\verb|1|\\phantom{\\verb!xxxxx!}\\verb|3|\\phantom{\\verb!xxxxx!}\\verb|2|\\phantom{\\verb!xxxxx!}\\verb|2|\\phantom{\\verb!xxxxx!}\\verb|3|\\\\\n",
       "\\verb|28|\\phantom{\\verb!xxxxxxx!}\\verb|29|\\phantom{\\verb!xxxxx!}\\verb|1|\\phantom{\\verb!xxxxx!}\\verb|2|\\phantom{\\verb!xxxxx!}\\verb|1|\\phantom{\\verb!xxxxx!}\\verb|1|\\phantom{\\verb!xxxxx!}\\verb|3|\\phantom{\\verb!xxxxx!}\\verb|2|\\phantom{\\verb!xxxxx!}\\verb|2|\\phantom{\\verb!xxxxx!}\\verb|3|\\\\\n",
       "\\verb|29|\\phantom{\\verb!xxxxxxx!}\\verb|30|\\phantom{\\verb!xxxxx!}\\verb|1|\\phantom{\\verb!xxxxx!}\\verb|2|\\phantom{\\verb!xxxxx!}\\verb|1|\\phantom{\\verb!xxxxx!}\\verb|1|\\phantom{\\verb!xxxxx!}\\verb|3|\\phantom{\\verb!xxxxx!}\\verb|2|\\phantom{\\verb!xxxxx!}\\verb|2|\\phantom{\\verb!xxxxx!}\\verb|3|\\\\\n",
       "\\verb|..|\\phantom{\\verb!xxxxxx!}\\verb|...|\\phantom{\\verb!xxx!}\\verb|...|\\phantom{\\verb!xxx!}\\verb|...|\\phantom{\\verb!xxx!}\\verb|...|\\phantom{\\verb!xxx!}\\verb|...|\\phantom{\\verb!xxx!}\\verb|...|\\phantom{\\verb!xxx!}\\verb|...|\\phantom{\\verb!xxx!}\\verb|...|\\phantom{\\verb!xxx!}\\verb|...|\\\\\n",
       "\\verb|50|\\phantom{\\verb!xxxxxxx!}\\verb|51|\\phantom{\\verb!xxxxx!}\\verb|1|\\phantom{\\verb!xxxxx!}\\verb|2|\\phantom{\\verb!xxxxx!}\\verb|1|\\phantom{\\verb!xxxxx!}\\verb|1|\\phantom{\\verb!xxxxx!}\\verb|1|\\phantom{\\verb!xxxxx!}\\verb|1|\\phantom{\\verb!xxxxx!}\\verb|2|\\phantom{\\verb!xxxxx!}\\verb|3|\\\\\n",
       "\\verb|51|\\phantom{\\verb!xxxxxxx!}\\verb|52|\\phantom{\\verb!xxxxx!}\\verb|1|\\phantom{\\verb!xxxxx!}\\verb|2|\\phantom{\\verb!xxxxx!}\\verb|1|\\phantom{\\verb!xxxxx!}\\verb|1|\\phantom{\\verb!xxxxx!}\\verb|1|\\phantom{\\verb!xxxxx!}\\verb|1|\\phantom{\\verb!xxxxx!}\\verb|2|\\phantom{\\verb!xxxxx!}\\verb|3|\\\\\n",
       "\\verb|52|\\phantom{\\verb!xxxxxxx!}\\verb|53|\\phantom{\\verb!xxxxx!}\\verb|1|\\phantom{\\verb!xxxxx!}\\verb|2|\\phantom{\\verb!xxxxx!}\\verb|1|\\phantom{\\verb!xxxxx!}\\verb|1|\\phantom{\\verb!xxxxx!}\\verb|1|\\phantom{\\verb!xxxxx!}\\verb|1|\\phantom{\\verb!xxxxx!}\\verb|2|\\phantom{\\verb!xxxxx!}\\verb|3|\\\\\n",
       "\\verb|53|\\phantom{\\verb!xxxxxxx!}\\verb|54|\\phantom{\\verb!xxxxx!}\\verb|1|\\phantom{\\verb!xxxxx!}\\verb|2|\\phantom{\\verb!xxxxx!}\\verb|1|\\phantom{\\verb!xxxxx!}\\verb|1|\\phantom{\\verb!xxxxx!}\\verb|1|\\phantom{\\verb!xxxxx!}\\verb|1|\\phantom{\\verb!xxxxx!}\\verb|2|\\phantom{\\verb!xxxxx!}\\verb|3|\\\\\n",
       "\\verb|54|\\phantom{\\verb!xxxxxxx!}\\verb|55|\\phantom{\\verb!xxxxx!}\\verb|1|\\phantom{\\verb!xxxxx!}\\verb|2|\\phantom{\\verb!xxxxx!}\\verb|1|\\phantom{\\verb!xxxxx!}\\verb|1|\\phantom{\\verb!xxxxx!}\\verb|1|\\phantom{\\verb!xxxxx!}\\verb|1|\\phantom{\\verb!xxxxx!}\\verb|2|\\phantom{\\verb!xxxxx!}\\verb|3|\\\\\n",
       "\\verb|55|\\phantom{\\verb!xxxxxxx!}\\verb|56|\\phantom{\\verb!xxxxx!}\\verb|1|\\phantom{\\verb!xxxxx!}\\verb|2|\\phantom{\\verb!xxxxx!}\\verb|1|\\phantom{\\verb!xxxxx!}\\verb|1|\\phantom{\\verb!xxxxx!}\\verb|1|\\phantom{\\verb!xxxxx!}\\verb|1|\\phantom{\\verb!xxxxx!}\\verb|2|\\phantom{\\verb!xxxxx!}\\verb|3|\\\\\n",
       "\\verb|56|\\phantom{\\verb!xxxxxxx!}\\verb|57|\\phantom{\\verb!xxxxx!}\\verb|1|\\phantom{\\verb!xxxxx!}\\verb|2|\\phantom{\\verb!xxxxx!}\\verb|1|\\phantom{\\verb!xxxxx!}\\verb|1|\\phantom{\\verb!xxxxx!}\\verb|1|\\phantom{\\verb!xxxxx!}\\verb|1|\\phantom{\\verb!xxxxx!}\\verb|2|\\phantom{\\verb!xxxxx!}\\verb|3|\\\\\n",
       "\\verb|57|\\phantom{\\verb!xxxxxxx!}\\verb|58|\\phantom{\\verb!xxxxx!}\\verb|1|\\phantom{\\verb!xxxxx!}\\verb|2|\\phantom{\\verb!xxxxx!}\\verb|1|\\phantom{\\verb!xxxxx!}\\verb|1|\\phantom{\\verb!xxxxx!}\\verb|1|\\phantom{\\verb!xxxxx!}\\verb|1|\\phantom{\\verb!xxxxx!}\\verb|2|\\phantom{\\verb!xxxxx!}\\verb|3|\\\\\n",
       "\\verb|58|\\phantom{\\verb!xxxxxxx!}\\verb|59|\\phantom{\\verb!xxxxx!}\\verb|1|\\phantom{\\verb!xxxxx!}\\verb|2|\\phantom{\\verb!xxxxx!}\\verb|1|\\phantom{\\verb!xxxxx!}\\verb|1|\\phantom{\\verb!xxxxx!}\\verb|1|\\phantom{\\verb!xxxxx!}\\verb|1|\\phantom{\\verb!xxxxx!}\\verb|2|\\phantom{\\verb!xxxxx!}\\verb|3|\\\\\n",
       "\\verb|59|\\phantom{\\verb!xxxxxxx!}\\verb|60|\\phantom{\\verb!xxxxx!}\\verb|1|\\phantom{\\verb!xxxxx!}\\verb|2|\\phantom{\\verb!xxxxx!}\\verb|1|\\phantom{\\verb!xxxxx!}\\verb|1|\\phantom{\\verb!xxxxx!}\\verb|1|\\phantom{\\verb!xxxxx!}\\verb|1|\\phantom{\\verb!xxxxx!}\\verb|2|\\phantom{\\verb!xxxxx!}\\verb|3|\\\\\n",
       "\\verb|60|\\phantom{\\verb!xxxxxxx!}\\verb|61|\\phantom{\\verb!xxxxx!}\\verb|1|\\phantom{\\verb!xxxxx!}\\verb|2|\\phantom{\\verb!xxxxx!}\\verb|1|\\phantom{\\verb!xxxxx!}\\verb|1|\\phantom{\\verb!xxxxx!}\\verb|1|\\phantom{\\verb!xxxxx!}\\verb|1|\\phantom{\\verb!xxxxx!}\\verb|2|\\phantom{\\verb!xxxxx!}\\verb|3|\\\\\n",
       "\\verb|61|\\phantom{\\verb!xxxxxxx!}\\verb|62|\\phantom{\\verb!xxxxx!}\\verb|1|\\phantom{\\verb!xxxxx!}\\verb|2|\\phantom{\\verb!xxxxx!}\\verb|1|\\phantom{\\verb!xxxxx!}\\verb|1|\\phantom{\\verb!xxxxx!}\\verb|1|\\phantom{\\verb!xxxxx!}\\verb|1|\\phantom{\\verb!xxxxx!}\\verb|2|\\phantom{\\verb!xxxxx!}\\verb|3|\\\\\n",
       "\\verb|62|\\phantom{\\verb!xxxxxxx!}\\verb|63|\\phantom{\\verb!xxxxx!}\\verb|3|\\phantom{\\verb!xxxxx!}\\verb|2|\\phantom{\\verb!xxxxx!}\\verb|1|\\phantom{\\verb!xxxxx!}\\verb|1|\\phantom{\\verb!xxxxx!}\\verb|3|\\phantom{\\verb!xxxxx!}\\verb|1|\\phantom{\\verb!xxxxx!}\\verb|2|\\phantom{\\verb!xxxxx!}\\verb|3|\\\\\n",
       "\\verb|63|\\phantom{\\verb!xxxxxxx!}\\verb|64|\\phantom{\\verb!xxxxx!}\\verb|3|\\phantom{\\verb!xxxxx!}\\verb|2|\\phantom{\\verb!xxxxx!}\\verb|1|\\phantom{\\verb!xxxxx!}\\verb|1|\\phantom{\\verb!xxxxx!}\\verb|3|\\phantom{\\verb!xxxxx!}\\verb|1|\\phantom{\\verb!xxxxx!}\\verb|2|\\phantom{\\verb!xxxxx!}\\verb|3|\\\\\n",
       "\\verb|64|\\phantom{\\verb!xxxxxxx!}\\verb|65|\\phantom{\\verb!xxxxx!}\\verb|1|\\phantom{\\verb!xxxxx!}\\verb|2|\\phantom{\\verb!xxxxx!}\\verb|1|\\phantom{\\verb!xxxxx!}\\verb|1|\\phantom{\\verb!xxxxx!}\\verb|3|\\phantom{\\verb!xxxxx!}\\verb|3|\\phantom{\\verb!xxxxx!}\\verb|2|\\phantom{\\verb!xxxxx!}\\verb|3|\\\\\n",
       "\\verb|65|\\phantom{\\verb!xxxxxxx!}\\verb|66|\\phantom{\\verb!xxxxx!}\\verb|1|\\phantom{\\verb!xxxxx!}\\verb|2|\\phantom{\\verb!xxxxx!}\\verb|1|\\phantom{\\verb!xxxxx!}\\verb|1|\\phantom{\\verb!xxxxx!}\\verb|3|\\phantom{\\verb!xxxxx!}\\verb|3|\\phantom{\\verb!xxxxx!}\\verb|2|\\phantom{\\verb!xxxxx!}\\verb|3|\\\\\n",
       "\\verb|66|\\phantom{\\verb!xxxxxxx!}\\verb|67|\\phantom{\\verb!xxxxx!}\\verb|1|\\phantom{\\verb!xxxxx!}\\verb|2|\\phantom{\\verb!xxxxx!}\\verb|1|\\phantom{\\verb!xxxxx!}\\verb|1|\\phantom{\\verb!xxxxx!}\\verb|3|\\phantom{\\verb!xxxxx!}\\verb|1|\\phantom{\\verb!xxxxx!}\\verb|1|\\phantom{\\verb!xxxxx!}\\verb|3|\\\\\n",
       "\\verb|67|\\phantom{\\verb!xxxxxxx!}\\verb|68|\\phantom{\\verb!xxxxx!}\\verb|1|\\phantom{\\verb!xxxxx!}\\verb|2|\\phantom{\\verb!xxxxx!}\\verb|1|\\phantom{\\verb!xxxxx!}\\verb|1|\\phantom{\\verb!xxxxx!}\\verb|3|\\phantom{\\verb!xxxxx!}\\verb|1|\\phantom{\\verb!xxxxx!}\\verb|2|\\phantom{\\verb!xxxxx!}\\verb|3|\\\\\n",
       "\\verb|68|\\phantom{\\verb!xxxxxxx!}\\verb|69|\\phantom{\\verb!xxxxx!}\\verb|1|\\phantom{\\verb!xxxxx!}\\verb|2|\\phantom{\\verb!xxxxx!}\\verb|1|\\phantom{\\verb!xxxxx!}\\verb|1|\\phantom{\\verb!xxxxx!}\\verb|3|\\phantom{\\verb!xxxxx!}\\verb|1|\\phantom{\\verb!xxxxx!}\\verb|2|\\phantom{\\verb!xxxxx!}\\verb|3|\\\\\n",
       "\\verb|69|\\phantom{\\verb!xxxxxxx!}\\verb|70|\\phantom{\\verb!xxxxx!}\\verb|1|\\phantom{\\verb!xxxxx!}\\verb|2|\\phantom{\\verb!xxxxx!}\\verb|1|\\phantom{\\verb!xxxxx!}\\verb|1|\\phantom{\\verb!xxxxx!}\\verb|3|\\phantom{\\verb!xxxxx!}\\verb|1|\\phantom{\\verb!xxxxx!}\\verb|2|\\phantom{\\verb!xxxxx!}\\verb|3|\\\\\n",
       "\\verb|70|\\phantom{\\verb!xxxxxxx!}\\verb|71|\\phantom{\\verb!xxxxx!}\\verb|1|\\phantom{\\verb!xxxxx!}\\verb|2|\\phantom{\\verb!xxxxx!}\\verb|1|\\phantom{\\verb!xxxxx!}\\verb|1|\\phantom{\\verb!xxxxx!}\\verb|3|\\phantom{\\verb!xxxxx!}\\verb|1|\\phantom{\\verb!xxxxx!}\\verb|2|\\phantom{\\verb!xxxxx!}\\verb|3|\\\\\n",
       "\\verb|71|\\phantom{\\verb!xxxxxxx!}\\verb|72|\\phantom{\\verb!xxxxx!}\\verb|1|\\phantom{\\verb!xxxxx!}\\verb|2|\\phantom{\\verb!xxxxx!}\\verb|1|\\phantom{\\verb!xxxxx!}\\verb|1|\\phantom{\\verb!xxxxx!}\\verb|3|\\phantom{\\verb!xxxxx!}\\verb|1|\\phantom{\\verb!xxxxx!}\\verb|2|\\phantom{\\verb!xxxxx!}\\verb|3|\\\\\n",
       "\\verb|72|\\phantom{\\verb!xxxxxxx!}\\verb|73|\\phantom{\\verb!xxxxx!}\\verb|1|\\phantom{\\verb!xxxxx!}\\verb|2|\\phantom{\\verb!xxxxx!}\\verb|1|\\phantom{\\verb!xxxxx!}\\verb|1|\\phantom{\\verb!xxxxx!}\\verb|3|\\phantom{\\verb!xxxxx!}\\verb|1|\\phantom{\\verb!xxxxx!}\\verb|2|\\phantom{\\verb!xxxxx!}\\verb|3|\\\\\n",
       "\\verb|73|\\phantom{\\verb!xxxxxxx!}\\verb|74|\\phantom{\\verb!xxxxx!}\\verb|1|\\phantom{\\verb!xxxxx!}\\verb|2|\\phantom{\\verb!xxxxx!}\\verb|1|\\phantom{\\verb!xxxxx!}\\verb|1|\\phantom{\\verb!xxxxx!}\\verb|3|\\phantom{\\verb!xxxxx!}\\verb|1|\\phantom{\\verb!xxxxx!}\\verb|2|\\phantom{\\verb!xxxxx!}\\verb|3|\\\\\n",
       "\\verb|74|\\phantom{\\verb!xxxxxxx!}\\verb|75|\\phantom{\\verb!xxxxx!}\\verb|1|\\phantom{\\verb!xxxxx!}\\verb|2|\\phantom{\\verb!xxxxx!}\\verb|1|\\phantom{\\verb!xxxxx!}\\verb|1|\\phantom{\\verb!xxxxx!}\\verb|3|\\phantom{\\verb!xxxxx!}\\verb|1|\\phantom{\\verb!xxxxx!}\\verb|2|\\phantom{\\verb!xxxxx!}\\verb|3|\\\\\n",
       "\\verb|75|\\phantom{\\verb!xxxxxxx!}\\verb|76|\\phantom{\\verb!xxxxx!}\\verb|1|\\phantom{\\verb!xxxxx!}\\verb|2|\\phantom{\\verb!xxxxx!}\\verb|1|\\phantom{\\verb!xxxxx!}\\verb|1|\\phantom{\\verb!xxxxx!}\\verb|3|\\phantom{\\verb!xxxxx!}\\verb|1|\\phantom{\\verb!xxxxx!}\\verb|2|\\phantom{\\verb!xxxxx!}\\verb|3|\\\\\n",
       "\\verb|76|\\phantom{\\verb!xxxxxxx!}\\verb|77|\\phantom{\\verb!xxxxx!}\\verb|1|\\phantom{\\verb!xxxxx!}\\verb|2|\\phantom{\\verb!xxxxx!}\\verb|1|\\phantom{\\verb!xxxxx!}\\verb|1|\\phantom{\\verb!xxxxx!}\\verb|3|\\phantom{\\verb!xxxxx!}\\verb|1|\\phantom{\\verb!xxxxx!}\\verb|2|\\phantom{\\verb!xxxxx!}\\verb|3|\\\\\n",
       "\\verb|77|\\phantom{\\verb!xxxxxxx!}\\verb|78|\\phantom{\\verb!xxxxx!}\\verb|1|\\phantom{\\verb!xxxxx!}\\verb|2|\\phantom{\\verb!xxxxx!}\\verb|1|\\phantom{\\verb!xxxxx!}\\verb|1|\\phantom{\\verb!xxxxx!}\\verb|3|\\phantom{\\verb!xxxxx!}\\verb|1|\\phantom{\\verb!xxxxx!}\\verb|2|\\phantom{\\verb!xxxxx!}\\verb|3|\\\\\n",
       "\\verb|78|\\phantom{\\verb!xxxxxxx!}\\verb|79|\\phantom{\\verb!xxxxx!}\\verb|1|\\phantom{\\verb!xxxxx!}\\verb|2|\\phantom{\\verb!xxxxx!}\\verb|1|\\phantom{\\verb!xxxxx!}\\verb|1|\\phantom{\\verb!xxxxx!}\\verb|3|\\phantom{\\verb!xxxxx!}\\verb|1|\\phantom{\\verb!xxxxx!}\\verb|2|\\phantom{\\verb!xxxxx!}\\verb|3|\\\\\n",
       "\\verb|79|\\phantom{\\verb!xxxxxxx!}\\verb|80|\\phantom{\\verb!xxxxx!}\\verb|1|\\phantom{\\verb!xxxxx!}\\verb|2|\\phantom{\\verb!xxxxx!}\\verb|1|\\phantom{\\verb!xxxxx!}\\verb|1|\\phantom{\\verb!xxxxx!}\\verb|3|\\phantom{\\verb!xxxxx!}\\verb|1|\\phantom{\\verb!xxxxx!}\\verb|2|\\phantom{\\verb!xxxxx!}\\verb|3|\\\\\n",
       "\\phantom{\\verb!x!}\\\\\n",
       "\\verb|[80|\\phantom{\\verb!x!}\\verb|rows|\\phantom{\\verb!x!}\\verb|x|\\phantom{\\verb!x!}\\verb|9|\\phantom{\\verb!x!}\\verb|columns]|\n",
       "\\end{array}</script></html>"
      ]
     },
     "execution_count": 4,
     "metadata": {
     },
     "output_type": "execute_result"
    }
   ],
   "source": [
    "show(dataset)"
   ]
  },
  {
   "cell_type": "markdown",
   "metadata": {
    "collapsed": false
   },
   "source": [
    "You can find Terri's experiment at [https://montoya.econ.ubc.ca/Econ306/terri_experiment.pdf](https://montoya.econ.ubc.ca/Econ306/terri_experiment.pdf).  In the game described in that experiment, each of the lettered actions are replaced by a number, either 1,2 or 3.  For example, when a subject is playing as Player 4 in game 1, the actions k,l,m are replaced by 1,2,3 in the table above. \n",
    "\n",
    "\n",
    "Now list the columns that are contained in the table so you know how to refer to them.  You use the letters contained between the single quotes."
   ]
  },
  {
   "cell_type": "code",
   "execution_count": 5,
   "metadata": {
    "collapsed": false
   },
   "outputs": [
    {
     "data": {
      "text/plain": [
       "Index([u'Subject', u'G1P1', u'G1P2', u'G1P3', u'G1P4', u'G2P1', u'G2P2',\n",
       "       u'G2P3', u'G2P4'],\n",
       "      dtype='object')"
      ]
     },
     "execution_count": 5,
     "metadata": {
     },
     "output_type": "execute_result"
    }
   ],
   "source": [
    "dataset.columns"
   ]
  },
  {
   "cell_type": "markdown",
   "metadata": {
    "collapsed": false
   },
   "source": [
    "One way to visualize the data is to draw a histogram of the data in the column named 'G1P4', which gives the choices that the subjects made playing as Player 4 in game 1."
   ]
  },
  {
   "cell_type": "code",
   "execution_count": 11,
   "metadata": {
    "collapsed": false
   },
   "outputs": [
    {
     "data": {
      "text/plain": [
       "array([[<matplotlib.axes._subplots.AxesSubplot object at 0x7f44c3267850>]], dtype=object)"
      ]
     },
     "execution_count": 11,
     "metadata": {
     },
     "output_type": "execute_result"
    },
    {
     "data": {
      "image/png": "[encoded data removed]"
     },
     "output_type": "execute_result"
    }
   ],
   "source": [
    "dataset.hist('G1P4',bins=3,grid=false)"
   ]
  },
  {
   "cell_type": "markdown",
   "metadata": {
    "collapsed": false
   },
   "source": [
    "A better way to do it here is this way."
   ]
  },
  {
   "cell_type": "code",
   "execution_count": 13,
   "metadata": {
    "collapsed": false
   },
   "outputs": [
    {
     "data": {
      "text/plain": [
       "<matplotlib.axes._subplots.AxesSubplot object at 0x7f44c31cc4d0>"
      ]
     },
     "execution_count": 13,
     "metadata": {
     },
     "output_type": "execute_result"
    },
    {
     "data": {
      "image/png": "[encoded data removed]"
     },
     "output_type": "execute_result"
    }
   ],
   "source": [
    "dataset['G1P1'].value_counts().plot(kind='bar')\n"
   ]
  },
  {
   "cell_type": "markdown",
   "metadata": {
    "collapsed": false
   },
   "source": [
    "Of course, we need the raw counts here, so we could also do:"
   ]
  },
  {
   "cell_type": "code",
   "execution_count": 8,
   "metadata": {
    "collapsed": false
   },
   "outputs": [
    {
     "data": {
      "text/html": [
       "<html><script type=\"math/tex; mode=display\">\\newcommand{\\Bold}[1]{\\mathbf{#1}}\\begin{array}{l}\n",
       "\\verb|1|\\phantom{\\verb!xxxx!}\\verb|0.9500|\\\\\n",
       "\\verb|2|\\phantom{\\verb!xxxx!}\\verb|0.0375|\\\\\n",
       "\\verb|3|\\phantom{\\verb!xxxx!}\\verb|0.0125|\\\\\n",
       "\\verb|Name:|\\phantom{\\verb!x!}\\verb|G1P4,|\\phantom{\\verb!x!}\\verb|dtype:|\\phantom{\\verb!x!}\\verb|float64|\n",
       "\\end{array}</script></html>"
      ]
     },
     "execution_count": 8,
     "metadata": {
     },
     "output_type": "execute_result"
    }
   ],
   "source": [
    "ds = dataset['G1P4'].value_counts(normalize=true)\n",
    "show(ds) \n"
   ]
  },
  {
   "cell_type": "markdown",
   "metadata": {
    "collapsed": false
   },
   "source": [
    "Or, if you just want the counts themselves, you would do it this way."
   ]
  },
  {
   "cell_type": "code",
   "execution_count": 9,
   "metadata": {
    "collapsed": false
   },
   "outputs": [
    {
     "data": {
      "text/plain": [
       "1    76\n",
       "2     3\n",
       "3     1\n",
       "Name: G1P4, dtype: int64"
      ]
     },
     "execution_count": 9,
     "metadata": {
     },
     "output_type": "execute_result"
    }
   ],
   "source": [
    "dataset['G1P4'].value_counts()"
   ]
  },
  {
   "cell_type": "markdown",
   "metadata": {
    "collapsed": false
   },
   "source": [
    "If you can't see from the code, those are counts of the number of subjects who chose actions 1, 2 or 3 (k,l or m) when they were playing as Player 4 in game 1.  Recall the dominant strategy was action k, or 1.  Most people did that.\n",
    "\n",
    "\n",
    "Now what we would like to do is to look at subjects who acting as Player 3 and calculate the best reply against this empirical distribution.  Theoretically, a Nash equilibrium is supposed to have the property that each player correctly guesses the probablity with which their opponent will take each of his or her possible actions. If $\\pi_1, \\pi_2$ and $1-\\pi_1-\\pi_2$ are the probabilities with which subjects in the rest of the group use action 1(k) or 2(1) or 3(m), then we would use the calculation \n",
    "$$\n",
    "20\\pi_1 + 14\\pi_2 +8(1-\\pi_1-\\pi_2)\n",
    "$$ \n",
    "to be the expected payoff associated with using action 1(h).  A similar calculation applies to the other two actions 2 and 3 (j or k in the reading).\n",
    "\n",
    "\n",
    "Now revert to sagemath to do the calculation as follows."
   ]
  },
  {
   "cell_type": "code",
   "execution_count": 10,
   "metadata": {
    "collapsed": false
   },
   "outputs": [
    {
     "data": {
      "text/plain": [
       "19.6250000000000"
      ]
     },
     "execution_count": 10,
     "metadata": {
     },
     "output_type": "execute_result"
    }
   ],
   "source": [
    "n((76/80)*20+(3/80)*14+(1/80)*8)"
   ]
  },
  {
   "cell_type": "markdown",
   "metadata": {
    "collapsed": false
   },
   "source": [
    "If you leave out the n() you get the answer as a fraction.  Now we can do the same thing for action i (2):"
   ]
  },
  {
   "cell_type": "code",
   "execution_count": 12,
   "metadata": {
    "collapsed": false
   },
   "outputs": [
    {
     "data": {
      "text/plain": [
       "15.5000000000000"
      ]
     },
     "execution_count": 12,
     "metadata": {
     },
     "output_type": "execute_result"
    }
   ],
   "source": [
    "n((76/80)*16+(3/80)*2+(1/80)*18)"
   ]
  },
  {
   "cell_type": "markdown",
   "metadata": {
    "collapsed": false
   },
   "source": [
    "Evidently, the best reply to the distribution of actions of the other subjects is the same as the action you get from iterated deletion of dominated strategies, at least when you are playing as Player 3.  The problem is to figure out whether this is true for the Players in the other positions and whether it is true for both games.  Use the sample code here to figure out an answer. \n"
   ]
  },
  {
   "cell_type": "code",
   "execution_count": 0,
   "metadata": {
    "collapsed": false
   },
   "outputs": [
   ],
   "source": [
    "## Prob. distribution of actions of P3 are:"
   ]
  },
  {
   "cell_type": "code",
   "execution_count": 14,
   "metadata": {
    "collapsed": false
   },
   "outputs": [
    {
     "data": {
      "text/plain": [
       "1    73\n",
       "2     7\n",
       "Name: G1P3, dtype: int64"
      ]
     },
     "execution_count": 14,
     "metadata": {
     },
     "output_type": "execute_result"
    }
   ],
   "source": [
    "dataset['G1P3'].value_counts()"
   ]
  },
  {
   "cell_type": "code",
   "execution_count": 19,
   "metadata": {
    "collapsed": false
   },
   "outputs": [
    {
     "data": {
      "text/html": [
       "<html><script type=\"math/tex; mode=display\">\\newcommand{\\Bold}[1]{\\mathbf{#1}}14.3500000000000</script></html>"
      ]
     },
     "execution_count": 19,
     "metadata": {
     },
     "output_type": "execute_result"
    },
    {
     "data": {
      "text/html": [
       "<html><script type=\"math/tex; mode=display\">\\newcommand{\\Bold}[1]{\\mathbf{#1}}18.9500000000000</script></html>"
      ]
     },
     "execution_count": 19,
     "metadata": {
     },
     "output_type": "execute_result"
    },
    {
     "data": {
      "text/html": [
       "<html><script type=\"math/tex; mode=display\">\\newcommand{\\Bold}[1]{\\mathbf{#1}}1.40000000000000</script></html>"
      ]
     },
     "execution_count": 19,
     "metadata": {
     },
     "output_type": "execute_result"
    }
   ],
   "source": [
    "E_1_p2 = n((73/80)*14+(7/80)*18)\n",
    "show (E_1_p2)\n",
    "E_2_p2 = n((73/80)*20+(7/80)*8)\n",
    "show (E_2_p2)\n",
    "E_3_p2 = n((73/80)*0+(7/80)*16)\n",
    "show (E_3_p2)"
   ]
  },
  {
   "cell_type": "code",
   "execution_count": 0,
   "metadata": {
    "collapsed": false
   },
   "outputs": [
   ],
   "source": [
    "Therefore, the best reply for player 2 in Game 1 is action 2 (or action e), which is the same as the result of iterated deletion. \n",
    "\n",
    "In game 1, player 1's payoffs are as follow: "
   ]
  },
  {
   "cell_type": "code",
   "execution_count": 20,
   "metadata": {
    "collapsed": false
   },
   "outputs": [
    {
     "data": {
      "text/plain": [
       "2    72\n",
       "1     6\n",
       "3     2\n",
       "Name: G1P2, dtype: int64"
      ]
     },
     "execution_count": 20,
     "metadata": {
     },
     "output_type": "execute_result"
    }
   ],
   "source": [
    "dataset['G1P2'].value_counts()"
   ]
  },
  {
   "cell_type": "code",
   "execution_count": 21,
   "metadata": {
    "collapsed": false
   },
   "outputs": [
    {
     "data": {
      "text/html": [
       "<html><script type=\"math/tex; mode=display\">\\newcommand{\\Bold}[1]{\\mathbf{#1}}18.9000000000000</script></html>"
      ]
     },
     "execution_count": 21,
     "metadata": {
     },
     "output_type": "execute_result"
    },
    {
     "data": {
      "text/html": [
       "<html><script type=\"math/tex; mode=display\">\\newcommand{\\Bold}[1]{\\mathbf{#1}}7.60000000000000</script></html>"
      ]
     },
     "execution_count": 21,
     "metadata": {
     },
     "output_type": "execute_result"
    },
    {
     "data": {
      "text/html": [
       "<html><script type=\"math/tex; mode=display\">\\newcommand{\\Bold}[1]{\\mathbf{#1}}12.3000000000000</script></html>"
      ]
     },
     "execution_count": 21,
     "metadata": {
     },
     "output_type": "execute_result"
    }
   ],
   "source": [
    "E_1_p1 = n((6/80)*8+(72/80)*20+ (2/80)*12)\n",
    "show (E_1_p1)\n",
    "E_2_p1 = n((6/80)*0+(72/80)*8+ (2/80)*16)\n",
    "show (E_2_p1)\n",
    "E_3_p1 = n((6/80)*18+(72/80)*12+ (2/80)*6)\n",
    "show (E_3_p1)"
   ]
  },
  {
   "cell_type": "code",
   "execution_count": 0,
   "metadata": {
    "collapsed": false
   },
   "outputs": [
   ],
   "source": [
    "## As we can see from the above, player 1's best reply is action 1 (or a), which is also the same as the result of iterated deletion. \n",
    "## In conclusion, the best reply behaviour in Game 1 is the same as the result of interated deletion. \n",
    "\n",
    "## In Game 2, the distribution of palyer 4's actions are as follow:"
   ]
  },
  {
   "cell_type": "code",
   "execution_count": 22,
   "metadata": {
    "collapsed": false
   },
   "outputs": [
    {
     "data": {
      "text/plain": [
       "3    79\n",
       "2     1\n",
       "Name: G2P4, dtype: int64"
      ]
     },
     "execution_count": 22,
     "metadata": {
     },
     "output_type": "execute_result"
    }
   ],
   "source": [
    "dataset['G2P4'].value_counts()"
   ]
  },
  {
   "cell_type": "code",
   "execution_count": 0,
   "metadata": {
    "collapsed": false
   },
   "outputs": [
   ],
   "source": [
    "## From this distribution, we can calculated player 3's expected payoff of each action:"
   ]
  },
  {
   "cell_type": "code",
   "execution_count": 27,
   "metadata": {
    "collapsed": false
   },
   "outputs": [
    {
     "data": {
      "text/html": [
       "<html><script type=\"math/tex; mode=display\">\\newcommand{\\Bold}[1]{\\mathbf{#1}}8.07500000000000</script></html>"
      ]
     },
     "execution_count": 27,
     "metadata": {
     },
     "output_type": "execute_result"
    },
    {
     "data": {
      "text/html": [
       "<html><script type=\"math/tex; mode=display\">\\newcommand{\\Bold}[1]{\\mathbf{#1}}17.8000000000000</script></html>"
      ]
     },
     "execution_count": 27,
     "metadata": {
     },
     "output_type": "execute_result"
    },
    {
     "data": {
      "text/html": [
       "<html><script type=\"math/tex; mode=display\">\\newcommand{\\Bold}[1]{\\mathbf{#1}}16.0000000000000</script></html>"
      ]
     },
     "execution_count": 27,
     "metadata": {
     },
     "output_type": "execute_result"
    }
   ],
   "source": [
    "e_1_p3 =  n((1/80)*14+ (79/80)*8)\n",
    "show (e_1_p3)\n",
    "e_2_p3 =  n((1/80)*2+ (79/80)*18)\n",
    "show (e_2_p3)\n",
    "e_3_p3 =  n((1/80)*16+ (79/80)*16)\n",
    "show (e_3_p3)"
   ]
  },
  {
   "cell_type": "code",
   "execution_count": 28,
   "metadata": {
    "collapsed": false
   },
   "outputs": [
    {
     "data": {
      "text/plain": [
       "2    63\n",
       "1    13\n",
       "3     4\n",
       "Name: G2P3, dtype: int64"
      ]
     },
     "execution_count": 28,
     "metadata": {
     },
     "output_type": "execute_result"
    }
   ],
   "source": [
    "## From above, the best reply action for player 3 is action 2 (or i), which is the same as the result of iterated deletion. \n",
    "## In Game 2, Player 2's expected pay-offs are as follow:\n",
    "\n",
    "dataset['G2P3'].value_counts()"
   ]
  },
  {
   "cell_type": "code",
   "execution_count": 29,
   "metadata": {
    "collapsed": false
   },
   "outputs": [
    {
     "data": {
      "text/html": [
       "<html><script type=\"math/tex; mode=display\">\\newcommand{\\Bold}[1]{\\mathbf{#1}}16.6500000000000</script></html>"
      ]
     },
     "execution_count": 29,
     "metadata": {
     },
     "output_type": "execute_result"
    },
    {
     "data": {
      "text/html": [
       "<html><script type=\"math/tex; mode=display\">\\newcommand{\\Bold}[1]{\\mathbf{#1}}10.2500000000000</script></html>"
      ]
     },
     "execution_count": 29,
     "metadata": {
     },
     "output_type": "execute_result"
    },
    {
     "data": {
      "text/html": [
       "<html><script type=\"math/tex; mode=display\">\\newcommand{\\Bold}[1]{\\mathbf{#1}}13.5000000000000</script></html>"
      ]
     },
     "execution_count": 29,
     "metadata": {
     },
     "output_type": "execute_result"
    }
   ],
   "source": [
    "e_1_p2 =  n((13/80)*14+ (63/80)*18+(4/80)*4)\n",
    "show (e_1_p2)\n",
    "e_2_p2 =  n((13/80)*20+ (63/80)*8+(4/80)*14)\n",
    "show (e_2_p2)\n",
    "e_3_p2 =  n((13/80)*0+ (63/80)*16+(4/80)*18)\n",
    "show (e_3_p2)"
   ]
  },
  {
   "cell_type": "code",
   "execution_count": 32,
   "metadata": {
    "collapsed": false
   },
   "outputs": [
    {
     "data": {
      "text/plain": [
       "2    38\n",
       "1    38\n",
       "3     4\n",
       "Name: G2P2, dtype: int64"
      ]
     },
     "execution_count": 32,
     "metadata": {
     },
     "output_type": "execute_result"
    }
   ],
   "source": [
    "## For player 2, best reply is action 1 (or d), consistent with the result of interated deletion. \n",
    "dataset['G2P2'].value_counts()\n"
   ]
  },
  {
   "cell_type": "code",
   "execution_count": 31,
   "metadata": {
    "collapsed": false
   },
   "outputs": [
    {
     "data": {
      "text/html": [
       "<html><script type=\"math/tex; mode=display\">\\newcommand{\\Bold}[1]{\\mathbf{#1}}13.9000000000000</script></html>"
      ]
     },
     "execution_count": 31,
     "metadata": {
     },
     "output_type": "execute_result"
    },
    {
     "data": {
      "text/html": [
       "<html><script type=\"math/tex; mode=display\">\\newcommand{\\Bold}[1]{\\mathbf{#1}}4.60000000000000</script></html>"
      ]
     },
     "execution_count": 31,
     "metadata": {
     },
     "output_type": "execute_result"
    },
    {
     "data": {
      "text/html": [
       "<html><script type=\"math/tex; mode=display\">\\newcommand{\\Bold}[1]{\\mathbf{#1}}14.5500000000000</script></html>"
      ]
     },
     "execution_count": 31,
     "metadata": {
     },
     "output_type": "execute_result"
    }
   ],
   "source": [
    "e_1_p1 =  n((38/80)*8+ (38/80)*20+(4/80)*12)\n",
    "show (e_1_p1)\n",
    "e_2_p1 =  n((38/80)*0+ (38/80)*8+(4/80)*16)\n",
    "show (e_2_p1)\n",
    "e_3_p1 =   n((38/80)*18+ (38/80)*12+(4/80)*6)\n",
    "show (e_3_p1)"
   ]
  },
  {
   "cell_type": "code",
   "execution_count": 0,
   "metadata": {
    "collapsed": false
   },
   "outputs": [
   ],
   "source": [
    "## Best reply action is 3 (or c), which is consistent with the result of iterated deletion. \n",
    "## In conclusion, all the best reply behaviours in both game 1 and 2 are consistent with the results of iterated deletion. "
   ]
  },
  {
   "cell_type": "markdown",
   "metadata": {
    "collapsed": false
   },
   "source": [
    "The second part of this project is to try to test an alternative model with this data.  In particular, we'll assume that players just lose interest sometimes, otherwise, they find their actions using iterated deletion of dominated strategies. To illustrate, suppose you are acting as player 3, and you believe that player 4 will play his or her dominant action with probability $\\rho_4$.  With probability $1-\\rho_4$, you believe the player just chooses each of his or her actions with equal probability. \n",
    "\n",
    "\n",
    "As above, this means your payoff when you play action 1(h) is\n",
    "$$\n",
    "20\\rho_1+(1-\\rho_1)(\\frac{20+14+8}{3})\n",
    "$$\n",
    "\n",
    "\n",
    "What you need to try to figure out is two things. What value of $\\rho_1$ makes the realized distribution of outcomes {76,3,1} most likely? \n"
   ]
  },
  {
   "cell_type": "code",
   "execution_count": 89,
   "metadata": {
    "collapsed": false
   },
   "outputs": [
    {
     "data": {
      "text/html": [
       "<html><script type=\"math/tex; mode=display\">\\newcommand{\\Bold}[1]{\\mathbf{#1}}\\rho_{4} = \\left(\\frac{37}{40}\\right)</script></html>"
      ]
     },
     "execution_count": 89,
     "metadata": {
     },
     "output_type": "execute_result"
    }
   ],
   "source": [
    "var('rho_4')\n",
    "sol = solve (rho_4*80+(1/3)*(1-rho_4)*80 == 76, rho_4)\n",
    "show (sol[0])"
   ]
  },
  {
   "cell_type": "code",
   "execution_count": 71,
   "metadata": {
    "collapsed": false
   },
   "outputs": [
   ],
   "source": [
    "def choose(n, k):\n",
    "    if 0 <= k <= n:\n",
    "        ntok = 1\n",
    "        ktok = 1\n",
    "        for t in xrange(1, min(k, n - k) + 1):\n",
    "            ntok *= n\n",
    "            ktok *= t\n",
    "            n -= 1\n",
    "        return ntok // ktok\n",
    "    else:\n",
    "        return 0"
   ]
  },
  {
   "cell_type": "code",
   "execution_count": 0,
   "metadata": {
    "collapsed": false
   },
   "outputs": [
   ],
   "source": [
    "def factorial(n):\n",
    "    if n == 0:\n",
    "        return 1\n",
    "    else:\n",
    "        return n * factorial(n-1)"
   ]
  },
  {
   "cell_type": "markdown",
   "metadata": {
    "collapsed": false
   },
   "source": [
    "Second how high does $\\rho_1$ have to be in order that action 2 becomes a best reply.\n",
    "In particular, for this second question, the payoff to using action 2 is\n",
    "$$\n",
    "16\\rho_1+(1-\\rho_1)\\frac{16+2+18}{3}\n",
    "$$\n",
    "What value of $\\rho_1$ makes this the same as the payoff to action 1 described above.  If $\\rho$ takes this value, what is the probability that the realized data would come out the way it did."
   ]
  },
  {
   "cell_type": "code",
   "execution_count": 117,
   "metadata": {
    "collapsed": false
   },
   "outputs": [
    {
     "data": {
      "text/html": [
       "<html><script type=\"math/tex; mode=display\">\\newcommand{\\Bold}[1]{\\mathbf{#1}}\\rho_{4} = \\left(-1\\right)</script></html>"
      ]
     },
     "execution_count": 117,
     "metadata": {
     },
     "output_type": "execute_result"
    }
   ],
   "source": [
    "var('rho_4')\n",
    "sol_2 = solve (20*rho_4+(1-rho_4)*((20+14+8)/3) == 16*rho_4 +(1-rho_4)*((16+2+18)/3), rho_4)\n",
    "show (sol_2[0])"
   ]
  },
  {
   "cell_type": "markdown",
   "metadata": {
    "collapsed": false
   },
   "source": [
    "\n",
    "Of course, we would like to know these same things for the other players.  To do this, it seems reasonable to assume that the probability $\\rho_3$ that applies when player 2 is thinking about player 3 is different than $\\rho_4$.  Intuitively it would seem it should be a little higher, but that is to be checked by looking at the data.  Assume when you do this that the probability that a player is inattentive as Player 3 is independent of whether they were independent as player 4."
   ]
  },
  {
   "cell_type": "code",
   "execution_count": 87,
   "metadata": {
    "collapsed": false
   },
   "outputs": [
    {
     "data": {
      "text/plain": [
       "3    79\n",
       "2     1\n",
       "Name: G2P4, dtype: int64"
      ]
     },
     "execution_count": 87,
     "metadata": {
     },
     "output_type": "execute_result"
    }
   ],
   "source": [
    "#solve for game 2\n",
    "dataset['G2P4'].value_counts()"
   ]
  },
  {
   "cell_type": "code",
   "execution_count": 88,
   "metadata": {
    "collapsed": false
   },
   "outputs": [
    {
     "data": {
      "text/html": [
       "<html><script type=\"math/tex; mode=display\">\\newcommand{\\Bold}[1]{\\mathbf{#1}}\\pi_{4} = \\left(\\frac{157}{160}\\right)</script></html>"
      ]
     },
     "execution_count": 88,
     "metadata": {
     },
     "output_type": "execute_result"
    }
   ],
   "source": [
    "#solve for game 2\n",
    "#easy way\n",
    "var('pi_4')\n",
    "sol_1 = solve (pi_4*80+(1/3)*(1-pi_4)*80 == 79, pi_4)\n",
    "show (sol_1[0])\n"
   ]
  },
  {
   "cell_type": "code",
   "execution_count": 156,
   "metadata": {
    "collapsed": false
   },
   "outputs": [
    {
     "data": {
      "text/plain": [
       "0.981250000000000"
      ]
     },
     "execution_count": 156,
     "metadata": {
     },
     "output_type": "execute_result"
    }
   ],
   "source": [
    "n(157/160)"
   ]
  },
  {
   "cell_type": "code",
   "execution_count": 1,
   "metadata": {
    "collapsed": false
   },
   "outputs": [
    {
     "data": {
      "image/png": "[encoded data removed]",
      "text/plain": "Graphics object consisting of 1 graphics primitive"
     }
    }
   ],
   "source": [
    "#proper way\n",
    "var('pi_4')\n",
    "Prob = (factorial(80)/(factorial(79)*factorial(1)))*((pi_4+(1-pi_4)*(1/3))^(79))*(((1-pi_4)*(2/3))^1)*((1-pi_4)*(1/3))^0\n",
    "plot(Prob,(pi_4,.7,1))"
   ]
  },
  {
   "cell_type": "code",
   "execution_count": 2,
   "metadata": {
    "collapsed": false
   },
   "outputs": [
    {
     "data": {
      "text/plain": [
       "[pi_4 == (157/160), pi_4 == (-1/2)]"
      ]
     },
     "execution_count": 2,
     "metadata": {
     },
     "output_type": "execute_result"
    }
   ],
   "source": [
    "dd = Prob.derivative(pi_4)\n",
    "solve(dd,pi_4)"
   ]
  },
  {
   "cell_type": "code",
   "execution_count": 116,
   "metadata": {
    "collapsed": false
   },
   "outputs": [
    {
     "data": {
      "text/plain": [
       "2    63\n",
       "1    13\n",
       "3     4\n",
       "Name: G2P3, dtype: int64"
      ]
     },
     "execution_count": 116,
     "metadata": {
     },
     "output_type": "execute_result"
    }
   ],
   "source": [
    "# when would player 3 doesn't play dominate strategy\n",
    "dataset['G2P3'].value_counts()"
   ]
  },
  {
   "cell_type": "code",
   "execution_count": 9,
   "metadata": {
    "collapsed": false
   },
   "outputs": [
    {
     "data": {
      "text/plain": [
       "<matplotlib.axes._subplots.AxesSubplot object at 0x7f013de6a690>"
      ]
     },
     "execution_count": 9,
     "metadata": {
     },
     "output_type": "execute_result"
    },
    {
     "data": {
      "image/png": "[encoded data removed]"
     },
     "output_type": "execute_result"
    }
   ],
   "source": [
    "dataset['G1P3'].value_counts().plot(kind='bar')"
   ]
  },
  {
   "cell_type": "code",
   "execution_count": 10,
   "metadata": {
    "collapsed": false
   },
   "outputs": [
    {
     "data": {
      "text/plain": [
       "<matplotlib.axes._subplots.AxesSubplot object at 0x7f013dde4550>"
      ]
     },
     "execution_count": 10,
     "metadata": {
     },
     "output_type": "execute_result"
    },
    {
     "data": {
      "image/png": "[encoded data removed]"
     },
     "output_type": "execute_result"
    }
   ],
   "source": [
    "dataset['G1P2'].value_counts().plot(kind='bar')"
   ]
  },
  {
   "cell_type": "code",
   "execution_count": 11,
   "metadata": {
    "collapsed": false
   },
   "outputs": [
    {
     "data": {
      "text/plain": [
       "<matplotlib.axes._subplots.AxesSubplot object at 0x7f013ddcd9d0>"
      ]
     },
     "execution_count": 11,
     "metadata": {
     },
     "output_type": "execute_result"
    },
    {
     "data": {
      "image/png": "[encoded data removed]"
     },
     "output_type": "execute_result"
    }
   ],
   "source": [
    "dataset['G1P1'].value_counts().plot(kind='bar')"
   ]
  },
  {
   "cell_type": "code",
   "execution_count": 121,
   "metadata": {
    "collapsed": false
   },
   "outputs": [
    {
     "data": {
      "text/html": [
       "<html><script type=\"math/tex; mode=display\">\\newcommand{\\Bold}[1]{\\mathbf{#1}}\\pi_{4} = \\left(\\frac{1}{6}\\right)</script></html>"
      ]
     },
     "execution_count": 121,
     "metadata": {
     },
     "output_type": "execute_result"
    }
   ],
   "source": [
    "var('pi_4')\n",
    "sol_2 = solve (18*pi_4+(1-pi_4)*((16+2+18)/3) == 8*pi_4 +(1-pi_4)*((14+8+20)/3), pi_4)\n",
    "show (sol_2[0]) \n",
    "#player 3 would stop playing dominate strategy when 1/6 (or less) of player 4s are playing rationally."
   ]
  },
  {
   "cell_type": "code",
   "execution_count": 157,
   "metadata": {
    "collapsed": false
   },
   "outputs": [
    {
     "data": {
      "text/plain": [
       "0.166666666666667"
      ]
     },
     "execution_count": 157,
     "metadata": {
     },
     "output_type": "execute_result"
    }
   ],
   "source": [
    "n(1/6)"
   ]
  },
  {
   "cell_type": "code",
   "execution_count": 132,
   "metadata": {
    "collapsed": false
   },
   "outputs": [
    {
     "data": {
      "text/html": [
       "<html><script type=\"math/tex; mode=display\">\\newcommand{\\Bold}[1]{\\mathbf{#1}}\\pi_{4} = \\left(-2\\right)</script></html>"
      ]
     },
     "execution_count": 132,
     "metadata": {
     },
     "output_type": "execute_result"
    }
   ],
   "source": [
    "var('pi_4')\n",
    "sol_2 = solve (18*pi_4+(1-pi_4)*((16+2+18)/3) == 16*pi_4 +(1-pi_4)*((16+16+0)/3), pi_4)\n",
    "show (sol_2[0]) "
   ]
  },
  {
   "cell_type": "code",
   "execution_count": 1,
   "metadata": {
    "collapsed": false
   },
   "outputs": [
    {
     "data": {
      "image/png": "[encoded data removed]",
      "text/plain": "Graphics object consisting of 1 graphics primitive"
     }
    }
   ],
   "source": [
    "#proper way\n",
    "var('pi_3')\n",
    "Prob = (factorial(80)/(factorial(63)*factorial(17)))*((pi_3+(1-pi_3)*(1/3))^(63))*(((1-pi_3)*(2/3))^17)\n",
    "plot(Prob,(pi_3,.5,1))"
   ]
  },
  {
   "cell_type": "code",
   "execution_count": 112,
   "metadata": {
    "collapsed": false
   },
   "outputs": [
    {
     "data": {
      "text/plain": [
       "[pi_3 == (109/160), pi_3 == (-1/2), pi_3 == 1]"
      ]
     },
     "execution_count": 112,
     "metadata": {
     },
     "output_type": "execute_result"
    }
   ],
   "source": [
    "dd = Prob.derivative(pi_3)\n",
    "solve(dd,pi_3)"
   ]
  },
  {
   "cell_type": "code",
   "execution_count": 97,
   "metadata": {
    "collapsed": false
   },
   "outputs": [
    {
     "data": {
      "text/plain": [
       "2    63\n",
       "1    13\n",
       "3     4\n",
       "Name: G2P3, dtype: int64"
      ]
     },
     "execution_count": 97,
     "metadata": {
     },
     "output_type": "execute_result"
    }
   ],
   "source": [
    "#for player 3\n",
    "dataset['G2P3'].value_counts()"
   ]
  },
  {
   "cell_type": "code",
   "execution_count": 104,
   "metadata": {
    "collapsed": false
   },
   "outputs": [
    {
     "data": {
      "text/html": [
       "<html><script type=\"math/tex; mode=display\">\\newcommand{\\Bold}[1]{\\mathbf{#1}}\\pi_{3} = \\left(\\frac{109}{160}\\right)</script></html>"
      ]
     },
     "execution_count": 104,
     "metadata": {
     },
     "output_type": "execute_result"
    }
   ],
   "source": [
    "var('pi_3')\n",
    "sol_2 = solve (pi_3*80+(1/3)*(1-pi_3)*80 == 63, pi_3)\n",
    "show (sol_2[0])\n"
   ]
  },
  {
   "cell_type": "code",
   "execution_count": 158,
   "metadata": {
    "collapsed": false
   },
   "outputs": [
    {
     "data": {
      "text/plain": [
       "0.681250000000000"
      ]
     },
     "execution_count": 158,
     "metadata": {
     },
     "output_type": "execute_result"
    }
   ],
   "source": [
    "n(109/160)"
   ]
  },
  {
   "cell_type": "code",
   "execution_count": 122,
   "metadata": {
    "collapsed": false
   },
   "outputs": [
    {
     "data": {
      "text/plain": [
       "2    38\n",
       "1    38\n",
       "3     4\n",
       "Name: G2P2, dtype: int64"
      ]
     },
     "execution_count": 122,
     "metadata": {
     },
     "output_type": "execute_result"
    }
   ],
   "source": [
    "# what pi_3 would make player 2 stop play dominate strategy\n",
    "dataset['G2P2'].value_counts()"
   ]
  },
  {
   "cell_type": "code",
   "execution_count": 128,
   "metadata": {
    "collapsed": false
   },
   "outputs": [
    {
     "data": {
      "text/html": [
       "<html><script type=\"math/tex; mode=display\">\\newcommand{\\Bold}[1]{\\mathbf{#1}}\\pi_{3} = \\left(\\frac{1}{6}\\right)</script></html>"
      ]
     },
     "execution_count": 128,
     "metadata": {
     },
     "output_type": "execute_result"
    }
   ],
   "source": [
    "#equalizing payoff of startegy 2 and 1. \n",
    "var('pi_3')\n",
    "sol_2 = solve (18*pi_3+(1-pi_3)*((18+14+4)/3) == 8*pi_3 +(1-pi_3)*((20+8+14)/3), pi_3)\n",
    "show (sol_2[0]) \n",
    "# same as above, if there are less than 1/6 of palyer 3 s playing rationally, player 2 will stop playing dominate strategy. "
   ]
  },
  {
   "cell_type": "code",
   "execution_count": 133,
   "metadata": {
    "collapsed": false
   },
   "outputs": [
    {
     "data": {
      "text/html": [
       "<html><script type=\"math/tex; mode=display\">\\newcommand{\\Bold}[1]{\\mathbf{#1}}\\pi_{3} = \\left(-\\frac{1}{2}\\right)</script></html>"
      ]
     },
     "execution_count": 133,
     "metadata": {
     },
     "output_type": "execute_result"
    }
   ],
   "source": [
    "#equalizing payoffs of stratgy 2 and 3\n",
    "var('pi_3')\n",
    "sol_2 = solve (18*pi_3+(1-pi_3)*((18+14+4)/3) == 16*pi_3 +(1-pi_3)*((16+0+18)/3), pi_3)\n",
    "show (sol_2[0]) "
   ]
  },
  {
   "cell_type": "code",
   "execution_count": 126,
   "metadata": {
    "collapsed": false
   },
   "outputs": [
    {
     "data": {
      "text/html": [
       "<html><script type=\"math/tex; mode=display\">\\newcommand{\\Bold}[1]{\\mathbf{#1}}\\pi_{2} = \\left(\\frac{17}{80}\\right)</script></html>"
      ]
     },
     "execution_count": 126,
     "metadata": {
     },
     "output_type": "execute_result"
    }
   ],
   "source": [
    "#easy way\n",
    "var('pi_2')\n",
    "sol_3 = solve (pi_2*80+(1/3)*(1-pi_2)*80 == 38, pi_2)\n",
    "show (sol_3[0])"
   ]
  },
  {
   "cell_type": "code",
   "execution_count": 159,
   "metadata": {
    "collapsed": false
   },
   "outputs": [
    {
     "data": {
      "text/plain": [
       "0.212500000000000"
      ]
     },
     "execution_count": 159,
     "metadata": {
     },
     "output_type": "execute_result"
    }
   ],
   "source": [
    "n(17/80)"
   ]
  },
  {
   "cell_type": "code",
   "execution_count": 138,
   "metadata": {
    "collapsed": false
   },
   "outputs": [
    {
     "data": {
      "image/png": "[encoded data removed]"
     },
     "output_type": "execute_result"
    }
   ],
   "source": [
    "#proper way\n",
    "var('pi_2')\n",
    "Prob = (factorial(80)/(factorial(38)*factorial(42)))*((pi_2+(1-pi_2)*(1/3))^(38))*(((1-pi_2)*(2/3))^42)\n",
    "plot(Prob,(pi_2,0,1))"
   ]
  },
  {
   "cell_type": "code",
   "execution_count": 154,
   "metadata": {
    "collapsed": false
   },
   "outputs": [
    {
     "data": {
      "image/png": "[encoded data removed]"
     },
     "output_type": "execute_result"
    }
   ],
   "source": [
    "#verification\n",
    "var('beta')\n",
    "Prob = (factorial(80)/(factorial(38)*factorial(38)*factorial(4)))*((beta+(1-beta)*(1/3))^(38))*(((1-beta)*(1/3))^42)\n",
    "plot(Prob,(beta,0,1))"
   ]
  },
  {
   "cell_type": "code",
   "execution_count": 155,
   "metadata": {
    "collapsed": false
   },
   "outputs": [
    {
     "data": {
      "text/plain": [
       "[beta == (17/80), beta == (-1/2), beta == 1]"
      ]
     },
     "execution_count": 155,
     "metadata": {
     },
     "output_type": "execute_result"
    }
   ],
   "source": [
    "dd = Prob.derivative(beta)\n",
    "solve(dd,beta)"
   ]
  },
  {
   "cell_type": "code",
   "execution_count": 139,
   "metadata": {
    "collapsed": false
   },
   "outputs": [
    {
     "data": {
      "text/plain": [
       "[pi_2 == (17/80), pi_2 == (-1/2), pi_2 == 1]"
      ]
     },
     "execution_count": 139,
     "metadata": {
     },
     "output_type": "execute_result"
    }
   ],
   "source": [
    "dd = Prob.derivative(pi_2)\n",
    "solve(dd,pi_2)"
   ]
  },
  {
   "cell_type": "code",
   "execution_count": 106,
   "metadata": {
    "collapsed": false
   },
   "outputs": [
    {
     "data": {
      "text/plain": [
       "1    45\n",
       "3    33\n",
       "2     2\n",
       "Name: G2P1, dtype: int64"
      ]
     },
     "execution_count": 106,
     "metadata": {
     },
     "output_type": "execute_result"
    }
   ],
   "source": [
    "dataset['G2P1'].value_counts()"
   ]
  },
  {
   "cell_type": "code",
   "execution_count": 131,
   "metadata": {
    "collapsed": false
   },
   "outputs": [
    {
     "data": {
      "text/html": [
       "<html><script type=\"math/tex; mode=display\">\\newcommand{\\Bold}[1]{\\mathbf{#1}}\\pi_{2} = \\left(\\frac{2}{17}\\right)</script></html>"
      ]
     },
     "execution_count": 131,
     "metadata": {
     },
     "output_type": "execute_result"
    }
   ],
   "source": [
    "# what pi_2 would make player 1 stop play dominate strategy\n",
    "# Notice: there are less player 1 play dominate strategy than other players. \n",
    "var('pi_2')\n",
    "sol_2 = solve (18*pi_2+(1-pi_2)*((18+12+6)/3) == 8*pi_2 +(1-pi_2)*((20+8+12)/3), pi_2)\n",
    "show (sol_2[0])"
   ]
  },
  {
   "cell_type": "code",
   "execution_count": 160,
   "metadata": {
    "collapsed": false
   },
   "outputs": [
    {
     "data": {
      "text/plain": [
       "0.117647058823529"
      ]
     },
     "execution_count": 160,
     "metadata": {
     },
     "output_type": "execute_result"
    }
   ],
   "source": [
    "n(2/17)"
   ]
  },
  {
   "cell_type": "code",
   "execution_count": 134,
   "metadata": {
    "collapsed": false
   },
   "outputs": [
    {
     "data": {
      "text/html": [
       "<html><script type=\"math/tex; mode=display\">\\newcommand{\\Bold}[1]{\\mathbf{#1}}\\pi_{2} = \\left(-\\frac{2}{7}\\right)</script></html>"
      ]
     },
     "execution_count": 134,
     "metadata": {
     },
     "output_type": "execute_result"
    }
   ],
   "source": [
    "var('pi_2')\n",
    "sol_2 = solve (18*pi_2+(1-pi_2)*((18+12+6)/3) == 0*pi_2 +(1-pi_2)*((0+8+16)/3), pi_2)\n",
    "show (sol_2[0])"
   ]
  },
  {
   "cell_type": "code",
   "execution_count": 107,
   "metadata": {
    "collapsed": false
   },
   "outputs": [
    {
     "data": {
      "text/html": [
       "<html><script type=\"math/tex; mode=display\">\\newcommand{\\Bold}[1]{\\mathbf{#1}}\\pi_{1} = \\left(\\frac{19}{160}\\right)</script></html>"
      ]
     },
     "execution_count": 107,
     "metadata": {
     },
     "output_type": "execute_result"
    }
   ],
   "source": [
    "#easy way\n",
    "var('pi_1')\n",
    "sol_4 = solve (pi_1*80+(1/3)*(1-pi_1)*80 == 33, pi_1)\n",
    "show (sol_4[0])"
   ]
  },
  {
   "cell_type": "code",
   "execution_count": 161,
   "metadata": {
    "collapsed": false
   },
   "outputs": [
    {
     "data": {
      "text/plain": [
       "0.118750000000000"
      ]
     },
     "execution_count": 161,
     "metadata": {
     },
     "output_type": "execute_result"
    }
   ],
   "source": [
    "n(19/160)"
   ]
  },
  {
   "cell_type": "code",
   "execution_count": 140,
   "metadata": {
    "collapsed": false
   },
   "outputs": [
    {
     "data": {
      "image/png": "[encoded data removed]"
     },
     "output_type": "execute_result"
    }
   ],
   "source": [
    "#proper way\n",
    "var('pi_1')\n",
    "Prob = (factorial(80)/(factorial(33)*factorial(47)))*((pi_1+(1-pi_1)*(1/3))^(33))*(((1-pi_1)*(2/3))^47)\n",
    "plot(Prob,(pi_1,0,1))"
   ]
  },
  {
   "cell_type": "code",
   "execution_count": 148,
   "metadata": {
    "collapsed": false
   },
   "outputs": [
    {
     "name": "stderr",
     "output_type": "stream",
     "text": [
      "WARNING: Some output was deleted.\n"
     ]
    }
   ],
   "source": [
    "#verification\n",
    "var('beta')\n",
    "Prob = (factorial(80)/(factorial(33)*factorial(45)*factorial(2)))*((beta+(1-beta)*(1/3))^(33))*(((1-beta)*(1/3))^47)\n",
    "plot(Prob,(beta,0,1))"
   ]
  },
  {
   "cell_type": "code",
   "execution_count": 149,
   "metadata": {
    "collapsed": false
   },
   "outputs": [
    {
     "data": {
      "text/plain": [
       "[beta == (19/160), beta == (-1/2), beta == 1]"
      ]
     },
     "execution_count": 149,
     "metadata": {
     },
     "output_type": "execute_result"
    }
   ],
   "source": [
    "dd = Prob.derivative(beta)\n",
    "solve(dd,beta)"
   ]
  },
  {
   "cell_type": "code",
   "execution_count": 141,
   "metadata": {
    "collapsed": false
   },
   "outputs": [
    {
     "data": {
      "text/plain": [
       "[pi_1 == (19/160), pi_1 == (-1/2), pi_1 == 1]"
      ]
     },
     "execution_count": 141,
     "metadata": {
     },
     "output_type": "execute_result"
    }
   ],
   "source": [
    "dd = Prob.derivative(pi_1)\n",
    "solve(dd,pi_1)"
   ]
  },
  {
   "cell_type": "code",
   "execution_count": 115,
   "metadata": {
    "collapsed": false
   },
   "outputs": [
    {
     "data": {
      "image/png": "[encoded data removed]"
     },
     "output_type": "execute_result"
    }
   ],
   "source": [
    "#plotting pi in realtion to the number of players playing dominate strategy\n",
    "var('pi')\n",
    "Prob = (pi*80+(1/3)*(1-pi)*80)\n",
    "plot(Prob,(pi,(19/160),(157/160)))"
   ]
  },
  {
   "cell_type": "code",
   "execution_count": 113,
   "metadata": {
    "collapsed": false
   },
   "outputs": [
   ],
   "source": [
    "# In conclusion, there are less and less people play dominate strategy deliberately when the game get harder and harder. "
   ]
  }
 ],
 "metadata": {
  "kernelspec": {
   "display_name": "SageMath (stable)",
   "language": "sagemath",
   "metadata": {
    "cocalc": {
     "description": "Open-source mathematical software system",
     "priority": 10,
     "url": "https://www.sagemath.org/"
    }
   },
   "name": "sagemath"
  },
  "language_info": {
   "codemirror_mode": {
    "name": "ipython",
    "version": 2
   },
   "file_extension": ".py",
   "mimetype": "text/x-python",
   "name": "python",
   "nbconvert_exporter": "python",
   "pygments_lexer": "ipython2",
   "version": "2.7.15"
  }
 },
 "nbformat": 4,
 "nbformat_minor": 0
}