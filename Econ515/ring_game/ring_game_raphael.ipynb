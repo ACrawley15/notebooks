{
 "cells": [
  {
   "cell_type": "markdown",
   "metadata": {
    "collapsed": false
   },
   "source": [
    "This page gives you the actual data from Terri Kneeland's experiment on the ring game.  The problem is to figure out whether there is any difference between a player who can successfully delete dominated strategies, and a player who best replies to the actual distrbution of play by other players in the experiment.\n",
    "\n",
    "\n",
    "Apart from providing the data, this page will show you some simple python commands you can use to interpret the data. Then we can do some computations using sagemath.\n",
    "\n",
    "\n",
    "The first bit just loads some python libraries (particularly pandas - tons of documentation about it on the internet).  The os library is for reading files."
   ]
  },
  {
   "cell_type": "code",
   "execution_count": 1,
   "metadata": {
    "collapsed": false
   },
   "outputs": [
   ],
   "source": [
    "import pandas as pd\n",
    "import os\n",
    "dataset = pd.read_csv('ecma_data.csv')"
   ]
  },
  {
   "cell_type": "code",
   "execution_count": 2,
   "metadata": {
    "collapsed": false
   },
   "outputs": [
    {
     "data": {
      "text/html": [
       "<html><script type=\"math/tex; mode=display\">\\newcommand{\\Bold}[1]{\\mathbf{#1}}\\begin{array}{l}\n",
       "\\phantom{\\verb!xxxx!}\\verb|Subject|\\phantom{\\verb!xx!}\\verb|G1P1|\\phantom{\\verb!xx!}\\verb|G1P2|\\phantom{\\verb!xx!}\\verb|G1P3|\\phantom{\\verb!xx!}\\verb|G1P4|\\phantom{\\verb!xx!}\\verb|G2P1|\\phantom{\\verb!xx!}\\verb|G2P2|\\phantom{\\verb!xx!}\\verb|G2P3|\\phantom{\\verb!xx!}\\verb|G2P4|\\\\\n",
       "\\verb|0|\\phantom{\\verb!xxxxxxxxx!}\\verb|1|\\phantom{\\verb!xxxxx!}\\verb|1|\\phantom{\\verb!xxxxx!}\\verb|3|\\phantom{\\verb!xxxxx!}\\verb|2|\\phantom{\\verb!xxxxx!}\\verb|3|\\phantom{\\verb!xxxxx!}\\verb|1|\\phantom{\\verb!xxxxx!}\\verb|1|\\phantom{\\verb!xxxxx!}\\verb|2|\\phantom{\\verb!xxxxx!}\\verb|3|\\\\\n",
       "\\verb|1|\\phantom{\\verb!xxxxxxxxx!}\\verb|2|\\phantom{\\verb!xxxxx!}\\verb|2|\\phantom{\\verb!xxxxx!}\\verb|3|\\phantom{\\verb!xxxxx!}\\verb|2|\\phantom{\\verb!xxxxx!}\\verb|2|\\phantom{\\verb!xxxxx!}\\verb|2|\\phantom{\\verb!xxxxx!}\\verb|3|\\phantom{\\verb!xxxxx!}\\verb|3|\\phantom{\\verb!xxxxx!}\\verb|3|\\\\\n",
       "\\verb|2|\\phantom{\\verb!xxxxxxxxx!}\\verb|3|\\phantom{\\verb!xxxxx!}\\verb|2|\\phantom{\\verb!xxxxx!}\\verb|1|\\phantom{\\verb!xxxxx!}\\verb|1|\\phantom{\\verb!xxxxx!}\\verb|1|\\phantom{\\verb!xxxxx!}\\verb|1|\\phantom{\\verb!xxxxx!}\\verb|2|\\phantom{\\verb!xxxxx!}\\verb|2|\\phantom{\\verb!xxxxx!}\\verb|2|\\\\\n",
       "\\verb|3|\\phantom{\\verb!xxxxxxxxx!}\\verb|4|\\phantom{\\verb!xxxxx!}\\verb|3|\\phantom{\\verb!xxxxx!}\\verb|1|\\phantom{\\verb!xxxxx!}\\verb|2|\\phantom{\\verb!xxxxx!}\\verb|2|\\phantom{\\verb!xxxxx!}\\verb|1|\\phantom{\\verb!xxxxx!}\\verb|2|\\phantom{\\verb!xxxxx!}\\verb|2|\\phantom{\\verb!xxxxx!}\\verb|3|\\\\\n",
       "\\verb|4|\\phantom{\\verb!xxxxxxxxx!}\\verb|5|\\phantom{\\verb!xxxxx!}\\verb|3|\\phantom{\\verb!xxxxx!}\\verb|2|\\phantom{\\verb!xxxxx!}\\verb|2|\\phantom{\\verb!xxxxx!}\\verb|1|\\phantom{\\verb!xxxxx!}\\verb|3|\\phantom{\\verb!xxxxx!}\\verb|1|\\phantom{\\verb!xxxxx!}\\verb|1|\\phantom{\\verb!xxxxx!}\\verb|3|\\\\\n",
       "\\verb|5|\\phantom{\\verb!xxxxxxxxx!}\\verb|6|\\phantom{\\verb!xxxxx!}\\verb|1|\\phantom{\\verb!xxxxx!}\\verb|2|\\phantom{\\verb!xxxxx!}\\verb|2|\\phantom{\\verb!xxxxx!}\\verb|1|\\phantom{\\verb!xxxxx!}\\verb|3|\\phantom{\\verb!xxxxx!}\\verb|2|\\phantom{\\verb!xxxxx!}\\verb|2|\\phantom{\\verb!xxxxx!}\\verb|3|\\\\\n",
       "\\verb|6|\\phantom{\\verb!xxxxxxxxx!}\\verb|7|\\phantom{\\verb!xxxxx!}\\verb|1|\\phantom{\\verb!xxxxx!}\\verb|2|\\phantom{\\verb!xxxxx!}\\verb|1|\\phantom{\\verb!xxxxx!}\\verb|1|\\phantom{\\verb!xxxxx!}\\verb|1|\\phantom{\\verb!xxxxx!}\\verb|2|\\phantom{\\verb!xxxxx!}\\verb|3|\\phantom{\\verb!xxxxx!}\\verb|3|\\\\\n",
       "\\verb|7|\\phantom{\\verb!xxxxxxxxx!}\\verb|8|\\phantom{\\verb!xxxxx!}\\verb|1|\\phantom{\\verb!xxxxx!}\\verb|2|\\phantom{\\verb!xxxxx!}\\verb|1|\\phantom{\\verb!xxxxx!}\\verb|1|\\phantom{\\verb!xxxxx!}\\verb|1|\\phantom{\\verb!xxxxx!}\\verb|2|\\phantom{\\verb!xxxxx!}\\verb|3|\\phantom{\\verb!xxxxx!}\\verb|3|\\\\\n",
       "\\verb|8|\\phantom{\\verb!xxxxxxxxx!}\\verb|9|\\phantom{\\verb!xxxxx!}\\verb|1|\\phantom{\\verb!xxxxx!}\\verb|2|\\phantom{\\verb!xxxxx!}\\verb|1|\\phantom{\\verb!xxxxx!}\\verb|1|\\phantom{\\verb!xxxxx!}\\verb|1|\\phantom{\\verb!xxxxx!}\\verb|2|\\phantom{\\verb!xxxxx!}\\verb|3|\\phantom{\\verb!xxxxx!}\\verb|3|\\\\\n",
       "\\verb|9|\\phantom{\\verb!xxxxxxxx!}\\verb|10|\\phantom{\\verb!xxxxx!}\\verb|1|\\phantom{\\verb!xxxxx!}\\verb|1|\\phantom{\\verb!xxxxx!}\\verb|1|\\phantom{\\verb!xxxxx!}\\verb|1|\\phantom{\\verb!xxxxx!}\\verb|1|\\phantom{\\verb!xxxxx!}\\verb|2|\\phantom{\\verb!xxxxx!}\\verb|1|\\phantom{\\verb!xxxxx!}\\verb|3|\\\\\n",
       "\\verb|10|\\phantom{\\verb!xxxxxxx!}\\verb|11|\\phantom{\\verb!xxxxx!}\\verb|1|\\phantom{\\verb!xxxxx!}\\verb|2|\\phantom{\\verb!xxxxx!}\\verb|1|\\phantom{\\verb!xxxxx!}\\verb|1|\\phantom{\\verb!xxxxx!}\\verb|1|\\phantom{\\verb!xxxxx!}\\verb|1|\\phantom{\\verb!xxxxx!}\\verb|1|\\phantom{\\verb!xxxxx!}\\verb|3|\\\\\n",
       "\\verb|11|\\phantom{\\verb!xxxxxxx!}\\verb|12|\\phantom{\\verb!xxxxx!}\\verb|3|\\phantom{\\verb!xxxxx!}\\verb|2|\\phantom{\\verb!xxxxx!}\\verb|1|\\phantom{\\verb!xxxxx!}\\verb|1|\\phantom{\\verb!xxxxx!}\\verb|1|\\phantom{\\verb!xxxxx!}\\verb|2|\\phantom{\\verb!xxxxx!}\\verb|1|\\phantom{\\verb!xxxxx!}\\verb|3|\\\\\n",
       "\\verb|12|\\phantom{\\verb!xxxxxxx!}\\verb|13|\\phantom{\\verb!xxxxx!}\\verb|3|\\phantom{\\verb!xxxxx!}\\verb|2|\\phantom{\\verb!xxxxx!}\\verb|2|\\phantom{\\verb!xxxxx!}\\verb|2|\\phantom{\\verb!xxxxx!}\\verb|3|\\phantom{\\verb!xxxxx!}\\verb|2|\\phantom{\\verb!xxxxx!}\\verb|2|\\phantom{\\verb!xxxxx!}\\verb|3|\\\\\n",
       "\\verb|13|\\phantom{\\verb!xxxxxxx!}\\verb|14|\\phantom{\\verb!xxxxx!}\\verb|1|\\phantom{\\verb!xxxxx!}\\verb|2|\\phantom{\\verb!xxxxx!}\\verb|1|\\phantom{\\verb!xxxxx!}\\verb|1|\\phantom{\\verb!xxxxx!}\\verb|1|\\phantom{\\verb!xxxxx!}\\verb|2|\\phantom{\\verb!xxxxx!}\\verb|1|\\phantom{\\verb!xxxxx!}\\verb|3|\\\\\n",
       "\\verb|14|\\phantom{\\verb!xxxxxxx!}\\verb|15|\\phantom{\\verb!xxxxx!}\\verb|1|\\phantom{\\verb!xxxxx!}\\verb|2|\\phantom{\\verb!xxxxx!}\\verb|1|\\phantom{\\verb!xxxxx!}\\verb|1|\\phantom{\\verb!xxxxx!}\\verb|1|\\phantom{\\verb!xxxxx!}\\verb|2|\\phantom{\\verb!xxxxx!}\\verb|1|\\phantom{\\verb!xxxxx!}\\verb|3|\\\\\n",
       "\\verb|15|\\phantom{\\verb!xxxxxxx!}\\verb|16|\\phantom{\\verb!xxxxx!}\\verb|1|\\phantom{\\verb!xxxxx!}\\verb|2|\\phantom{\\verb!xxxxx!}\\verb|1|\\phantom{\\verb!xxxxx!}\\verb|1|\\phantom{\\verb!xxxxx!}\\verb|1|\\phantom{\\verb!xxxxx!}\\verb|2|\\phantom{\\verb!xxxxx!}\\verb|1|\\phantom{\\verb!xxxxx!}\\verb|3|\\\\\n",
       "\\verb|16|\\phantom{\\verb!xxxxxxx!}\\verb|17|\\phantom{\\verb!xxxxx!}\\verb|1|\\phantom{\\verb!xxxxx!}\\verb|2|\\phantom{\\verb!xxxxx!}\\verb|1|\\phantom{\\verb!xxxxx!}\\verb|1|\\phantom{\\verb!xxxxx!}\\verb|1|\\phantom{\\verb!xxxxx!}\\verb|2|\\phantom{\\verb!xxxxx!}\\verb|1|\\phantom{\\verb!xxxxx!}\\verb|3|\\\\\n",
       "\\verb|17|\\phantom{\\verb!xxxxxxx!}\\verb|18|\\phantom{\\verb!xxxxx!}\\verb|1|\\phantom{\\verb!xxxxx!}\\verb|2|\\phantom{\\verb!xxxxx!}\\verb|1|\\phantom{\\verb!xxxxx!}\\verb|1|\\phantom{\\verb!xxxxx!}\\verb|1|\\phantom{\\verb!xxxxx!}\\verb|2|\\phantom{\\verb!xxxxx!}\\verb|1|\\phantom{\\verb!xxxxx!}\\verb|3|\\\\\n",
       "\\verb|18|\\phantom{\\verb!xxxxxxx!}\\verb|19|\\phantom{\\verb!xxxxx!}\\verb|1|\\phantom{\\verb!xxxxx!}\\verb|2|\\phantom{\\verb!xxxxx!}\\verb|1|\\phantom{\\verb!xxxxx!}\\verb|1|\\phantom{\\verb!xxxxx!}\\verb|1|\\phantom{\\verb!xxxxx!}\\verb|2|\\phantom{\\verb!xxxxx!}\\verb|1|\\phantom{\\verb!xxxxx!}\\verb|3|\\\\\n",
       "\\verb|19|\\phantom{\\verb!xxxxxxx!}\\verb|20|\\phantom{\\verb!xxxxx!}\\verb|1|\\phantom{\\verb!xxxxx!}\\verb|2|\\phantom{\\verb!xxxxx!}\\verb|1|\\phantom{\\verb!xxxxx!}\\verb|1|\\phantom{\\verb!xxxxx!}\\verb|1|\\phantom{\\verb!xxxxx!}\\verb|2|\\phantom{\\verb!xxxxx!}\\verb|1|\\phantom{\\verb!xxxxx!}\\verb|3|\\\\\n",
       "\\verb|20|\\phantom{\\verb!xxxxxxx!}\\verb|21|\\phantom{\\verb!xxxxx!}\\verb|3|\\phantom{\\verb!xxxxx!}\\verb|1|\\phantom{\\verb!xxxxx!}\\verb|1|\\phantom{\\verb!xxxxx!}\\verb|1|\\phantom{\\verb!xxxxx!}\\verb|3|\\phantom{\\verb!xxxxx!}\\verb|1|\\phantom{\\verb!xxxxx!}\\verb|1|\\phantom{\\verb!xxxxx!}\\verb|3|\\\\\n",
       "\\verb|21|\\phantom{\\verb!xxxxxxx!}\\verb|22|\\phantom{\\verb!xxxxx!}\\verb|3|\\phantom{\\verb!xxxxx!}\\verb|2|\\phantom{\\verb!xxxxx!}\\verb|2|\\phantom{\\verb!xxxxx!}\\verb|1|\\phantom{\\verb!xxxxx!}\\verb|3|\\phantom{\\verb!xxxxx!}\\verb|2|\\phantom{\\verb!xxxxx!}\\verb|2|\\phantom{\\verb!xxxxx!}\\verb|3|\\\\\n",
       "\\verb|22|\\phantom{\\verb!xxxxxxx!}\\verb|23|\\phantom{\\verb!xxxxx!}\\verb|1|\\phantom{\\verb!xxxxx!}\\verb|2|\\phantom{\\verb!xxxxx!}\\verb|1|\\phantom{\\verb!xxxxx!}\\verb|1|\\phantom{\\verb!xxxxx!}\\verb|3|\\phantom{\\verb!xxxxx!}\\verb|2|\\phantom{\\verb!xxxxx!}\\verb|2|\\phantom{\\verb!xxxxx!}\\verb|3|\\\\\n",
       "\\verb|23|\\phantom{\\verb!xxxxxxx!}\\verb|24|\\phantom{\\verb!xxxxx!}\\verb|1|\\phantom{\\verb!xxxxx!}\\verb|2|\\phantom{\\verb!xxxxx!}\\verb|1|\\phantom{\\verb!xxxxx!}\\verb|1|\\phantom{\\verb!xxxxx!}\\verb|3|\\phantom{\\verb!xxxxx!}\\verb|2|\\phantom{\\verb!xxxxx!}\\verb|2|\\phantom{\\verb!xxxxx!}\\verb|3|\\\\\n",
       "\\verb|24|\\phantom{\\verb!xxxxxxx!}\\verb|25|\\phantom{\\verb!xxxxx!}\\verb|1|\\phantom{\\verb!xxxxx!}\\verb|2|\\phantom{\\verb!xxxxx!}\\verb|1|\\phantom{\\verb!xxxxx!}\\verb|1|\\phantom{\\verb!xxxxx!}\\verb|3|\\phantom{\\verb!xxxxx!}\\verb|2|\\phantom{\\verb!xxxxx!}\\verb|2|\\phantom{\\verb!xxxxx!}\\verb|3|\\\\\n",
       "\\verb|25|\\phantom{\\verb!xxxxxxx!}\\verb|26|\\phantom{\\verb!xxxxx!}\\verb|1|\\phantom{\\verb!xxxxx!}\\verb|2|\\phantom{\\verb!xxxxx!}\\verb|1|\\phantom{\\verb!xxxxx!}\\verb|1|\\phantom{\\verb!xxxxx!}\\verb|3|\\phantom{\\verb!xxxxx!}\\verb|2|\\phantom{\\verb!xxxxx!}\\verb|2|\\phantom{\\verb!xxxxx!}\\verb|3|\\\\\n",
       "\\verb|26|\\phantom{\\verb!xxxxxxx!}\\verb|27|\\phantom{\\verb!xxxxx!}\\verb|1|\\phantom{\\verb!xxxxx!}\\verb|1|\\phantom{\\verb!xxxxx!}\\verb|1|\\phantom{\\verb!xxxxx!}\\verb|1|\\phantom{\\verb!xxxxx!}\\verb|1|\\phantom{\\verb!xxxxx!}\\verb|2|\\phantom{\\verb!xxxxx!}\\verb|2|\\phantom{\\verb!xxxxx!}\\verb|3|\\\\\n",
       "\\verb|27|\\phantom{\\verb!xxxxxxx!}\\verb|28|\\phantom{\\verb!xxxxx!}\\verb|1|\\phantom{\\verb!xxxxx!}\\verb|2|\\phantom{\\verb!xxxxx!}\\verb|1|\\phantom{\\verb!xxxxx!}\\verb|1|\\phantom{\\verb!xxxxx!}\\verb|3|\\phantom{\\verb!xxxxx!}\\verb|2|\\phantom{\\verb!xxxxx!}\\verb|2|\\phantom{\\verb!xxxxx!}\\verb|3|\\\\\n",
       "\\verb|28|\\phantom{\\verb!xxxxxxx!}\\verb|29|\\phantom{\\verb!xxxxx!}\\verb|1|\\phantom{\\verb!xxxxx!}\\verb|2|\\phantom{\\verb!xxxxx!}\\verb|1|\\phantom{\\verb!xxxxx!}\\verb|1|\\phantom{\\verb!xxxxx!}\\verb|3|\\phantom{\\verb!xxxxx!}\\verb|2|\\phantom{\\verb!xxxxx!}\\verb|2|\\phantom{\\verb!xxxxx!}\\verb|3|\\\\\n",
       "\\verb|29|\\phantom{\\verb!xxxxxxx!}\\verb|30|\\phantom{\\verb!xxxxx!}\\verb|1|\\phantom{\\verb!xxxxx!}\\verb|2|\\phantom{\\verb!xxxxx!}\\verb|1|\\phantom{\\verb!xxxxx!}\\verb|1|\\phantom{\\verb!xxxxx!}\\verb|3|\\phantom{\\verb!xxxxx!}\\verb|2|\\phantom{\\verb!xxxxx!}\\verb|2|\\phantom{\\verb!xxxxx!}\\verb|3|\\\\\n",
       "\\verb|..|\\phantom{\\verb!xxxxxx!}\\verb|...|\\phantom{\\verb!xxx!}\\verb|...|\\phantom{\\verb!xxx!}\\verb|...|\\phantom{\\verb!xxx!}\\verb|...|\\phantom{\\verb!xxx!}\\verb|...|\\phantom{\\verb!xxx!}\\verb|...|\\phantom{\\verb!xxx!}\\verb|...|\\phantom{\\verb!xxx!}\\verb|...|\\phantom{\\verb!xxx!}\\verb|...|\\\\\n",
       "\\verb|50|\\phantom{\\verb!xxxxxxx!}\\verb|51|\\phantom{\\verb!xxxxx!}\\verb|1|\\phantom{\\verb!xxxxx!}\\verb|2|\\phantom{\\verb!xxxxx!}\\verb|1|\\phantom{\\verb!xxxxx!}\\verb|1|\\phantom{\\verb!xxxxx!}\\verb|1|\\phantom{\\verb!xxxxx!}\\verb|1|\\phantom{\\verb!xxxxx!}\\verb|2|\\phantom{\\verb!xxxxx!}\\verb|3|\\\\\n",
       "\\verb|51|\\phantom{\\verb!xxxxxxx!}\\verb|52|\\phantom{\\verb!xxxxx!}\\verb|1|\\phantom{\\verb!xxxxx!}\\verb|2|\\phantom{\\verb!xxxxx!}\\verb|1|\\phantom{\\verb!xxxxx!}\\verb|1|\\phantom{\\verb!xxxxx!}\\verb|1|\\phantom{\\verb!xxxxx!}\\verb|1|\\phantom{\\verb!xxxxx!}\\verb|2|\\phantom{\\verb!xxxxx!}\\verb|3|\\\\\n",
       "\\verb|52|\\phantom{\\verb!xxxxxxx!}\\verb|53|\\phantom{\\verb!xxxxx!}\\verb|1|\\phantom{\\verb!xxxxx!}\\verb|2|\\phantom{\\verb!xxxxx!}\\verb|1|\\phantom{\\verb!xxxxx!}\\verb|1|\\phantom{\\verb!xxxxx!}\\verb|1|\\phantom{\\verb!xxxxx!}\\verb|1|\\phantom{\\verb!xxxxx!}\\verb|2|\\phantom{\\verb!xxxxx!}\\verb|3|\\\\\n",
       "\\verb|53|\\phantom{\\verb!xxxxxxx!}\\verb|54|\\phantom{\\verb!xxxxx!}\\verb|1|\\phantom{\\verb!xxxxx!}\\verb|2|\\phantom{\\verb!xxxxx!}\\verb|1|\\phantom{\\verb!xxxxx!}\\verb|1|\\phantom{\\verb!xxxxx!}\\verb|1|\\phantom{\\verb!xxxxx!}\\verb|1|\\phantom{\\verb!xxxxx!}\\verb|2|\\phantom{\\verb!xxxxx!}\\verb|3|\\\\\n",
       "\\verb|54|\\phantom{\\verb!xxxxxxx!}\\verb|55|\\phantom{\\verb!xxxxx!}\\verb|1|\\phantom{\\verb!xxxxx!}\\verb|2|\\phantom{\\verb!xxxxx!}\\verb|1|\\phantom{\\verb!xxxxx!}\\verb|1|\\phantom{\\verb!xxxxx!}\\verb|1|\\phantom{\\verb!xxxxx!}\\verb|1|\\phantom{\\verb!xxxxx!}\\verb|2|\\phantom{\\verb!xxxxx!}\\verb|3|\\\\\n",
       "\\verb|55|\\phantom{\\verb!xxxxxxx!}\\verb|56|\\phantom{\\verb!xxxxx!}\\verb|1|\\phantom{\\verb!xxxxx!}\\verb|2|\\phantom{\\verb!xxxxx!}\\verb|1|\\phantom{\\verb!xxxxx!}\\verb|1|\\phantom{\\verb!xxxxx!}\\verb|1|\\phantom{\\verb!xxxxx!}\\verb|1|\\phantom{\\verb!xxxxx!}\\verb|2|\\phantom{\\verb!xxxxx!}\\verb|3|\\\\\n",
       "\\verb|56|\\phantom{\\verb!xxxxxxx!}\\verb|57|\\phantom{\\verb!xxxxx!}\\verb|1|\\phantom{\\verb!xxxxx!}\\verb|2|\\phantom{\\verb!xxxxx!}\\verb|1|\\phantom{\\verb!xxxxx!}\\verb|1|\\phantom{\\verb!xxxxx!}\\verb|1|\\phantom{\\verb!xxxxx!}\\verb|1|\\phantom{\\verb!xxxxx!}\\verb|2|\\phantom{\\verb!xxxxx!}\\verb|3|\\\\\n",
       "\\verb|57|\\phantom{\\verb!xxxxxxx!}\\verb|58|\\phantom{\\verb!xxxxx!}\\verb|1|\\phantom{\\verb!xxxxx!}\\verb|2|\\phantom{\\verb!xxxxx!}\\verb|1|\\phantom{\\verb!xxxxx!}\\verb|1|\\phantom{\\verb!xxxxx!}\\verb|1|\\phantom{\\verb!xxxxx!}\\verb|1|\\phantom{\\verb!xxxxx!}\\verb|2|\\phantom{\\verb!xxxxx!}\\verb|3|\\\\\n",
       "\\verb|58|\\phantom{\\verb!xxxxxxx!}\\verb|59|\\phantom{\\verb!xxxxx!}\\verb|1|\\phantom{\\verb!xxxxx!}\\verb|2|\\phantom{\\verb!xxxxx!}\\verb|1|\\phantom{\\verb!xxxxx!}\\verb|1|\\phantom{\\verb!xxxxx!}\\verb|1|\\phantom{\\verb!xxxxx!}\\verb|1|\\phantom{\\verb!xxxxx!}\\verb|2|\\phantom{\\verb!xxxxx!}\\verb|3|\\\\\n",
       "\\verb|59|\\phantom{\\verb!xxxxxxx!}\\verb|60|\\phantom{\\verb!xxxxx!}\\verb|1|\\phantom{\\verb!xxxxx!}\\verb|2|\\phantom{\\verb!xxxxx!}\\verb|1|\\phantom{\\verb!xxxxx!}\\verb|1|\\phantom{\\verb!xxxxx!}\\verb|1|\\phantom{\\verb!xxxxx!}\\verb|1|\\phantom{\\verb!xxxxx!}\\verb|2|\\phantom{\\verb!xxxxx!}\\verb|3|\\\\\n",
       "\\verb|60|\\phantom{\\verb!xxxxxxx!}\\verb|61|\\phantom{\\verb!xxxxx!}\\verb|1|\\phantom{\\verb!xxxxx!}\\verb|2|\\phantom{\\verb!xxxxx!}\\verb|1|\\phantom{\\verb!xxxxx!}\\verb|1|\\phantom{\\verb!xxxxx!}\\verb|1|\\phantom{\\verb!xxxxx!}\\verb|1|\\phantom{\\verb!xxxxx!}\\verb|2|\\phantom{\\verb!xxxxx!}\\verb|3|\\\\\n",
       "\\verb|61|\\phantom{\\verb!xxxxxxx!}\\verb|62|\\phantom{\\verb!xxxxx!}\\verb|1|\\phantom{\\verb!xxxxx!}\\verb|2|\\phantom{\\verb!xxxxx!}\\verb|1|\\phantom{\\verb!xxxxx!}\\verb|1|\\phantom{\\verb!xxxxx!}\\verb|1|\\phantom{\\verb!xxxxx!}\\verb|1|\\phantom{\\verb!xxxxx!}\\verb|2|\\phantom{\\verb!xxxxx!}\\verb|3|\\\\\n",
       "\\verb|62|\\phantom{\\verb!xxxxxxx!}\\verb|63|\\phantom{\\verb!xxxxx!}\\verb|3|\\phantom{\\verb!xxxxx!}\\verb|2|\\phantom{\\verb!xxxxx!}\\verb|1|\\phantom{\\verb!xxxxx!}\\verb|1|\\phantom{\\verb!xxxxx!}\\verb|3|\\phantom{\\verb!xxxxx!}\\verb|1|\\phantom{\\verb!xxxxx!}\\verb|2|\\phantom{\\verb!xxxxx!}\\verb|3|\\\\\n",
       "\\verb|63|\\phantom{\\verb!xxxxxxx!}\\verb|64|\\phantom{\\verb!xxxxx!}\\verb|3|\\phantom{\\verb!xxxxx!}\\verb|2|\\phantom{\\verb!xxxxx!}\\verb|1|\\phantom{\\verb!xxxxx!}\\verb|1|\\phantom{\\verb!xxxxx!}\\verb|3|\\phantom{\\verb!xxxxx!}\\verb|1|\\phantom{\\verb!xxxxx!}\\verb|2|\\phantom{\\verb!xxxxx!}\\verb|3|\\\\\n",
       "\\verb|64|\\phantom{\\verb!xxxxxxx!}\\verb|65|\\phantom{\\verb!xxxxx!}\\verb|1|\\phantom{\\verb!xxxxx!}\\verb|2|\\phantom{\\verb!xxxxx!}\\verb|1|\\phantom{\\verb!xxxxx!}\\verb|1|\\phantom{\\verb!xxxxx!}\\verb|3|\\phantom{\\verb!xxxxx!}\\verb|3|\\phantom{\\verb!xxxxx!}\\verb|2|\\phantom{\\verb!xxxxx!}\\verb|3|\\\\\n",
       "\\verb|65|\\phantom{\\verb!xxxxxxx!}\\verb|66|\\phantom{\\verb!xxxxx!}\\verb|1|\\phantom{\\verb!xxxxx!}\\verb|2|\\phantom{\\verb!xxxxx!}\\verb|1|\\phantom{\\verb!xxxxx!}\\verb|1|\\phantom{\\verb!xxxxx!}\\verb|3|\\phantom{\\verb!xxxxx!}\\verb|3|\\phantom{\\verb!xxxxx!}\\verb|2|\\phantom{\\verb!xxxxx!}\\verb|3|\\\\\n",
       "\\verb|66|\\phantom{\\verb!xxxxxxx!}\\verb|67|\\phantom{\\verb!xxxxx!}\\verb|1|\\phantom{\\verb!xxxxx!}\\verb|2|\\phantom{\\verb!xxxxx!}\\verb|1|\\phantom{\\verb!xxxxx!}\\verb|1|\\phantom{\\verb!xxxxx!}\\verb|3|\\phantom{\\verb!xxxxx!}\\verb|1|\\phantom{\\verb!xxxxx!}\\verb|1|\\phantom{\\verb!xxxxx!}\\verb|3|\\\\\n",
       "\\verb|67|\\phantom{\\verb!xxxxxxx!}\\verb|68|\\phantom{\\verb!xxxxx!}\\verb|1|\\phantom{\\verb!xxxxx!}\\verb|2|\\phantom{\\verb!xxxxx!}\\verb|1|\\phantom{\\verb!xxxxx!}\\verb|1|\\phantom{\\verb!xxxxx!}\\verb|3|\\phantom{\\verb!xxxxx!}\\verb|1|\\phantom{\\verb!xxxxx!}\\verb|2|\\phantom{\\verb!xxxxx!}\\verb|3|\\\\\n",
       "\\verb|68|\\phantom{\\verb!xxxxxxx!}\\verb|69|\\phantom{\\verb!xxxxx!}\\verb|1|\\phantom{\\verb!xxxxx!}\\verb|2|\\phantom{\\verb!xxxxx!}\\verb|1|\\phantom{\\verb!xxxxx!}\\verb|1|\\phantom{\\verb!xxxxx!}\\verb|3|\\phantom{\\verb!xxxxx!}\\verb|1|\\phantom{\\verb!xxxxx!}\\verb|2|\\phantom{\\verb!xxxxx!}\\verb|3|\\\\\n",
       "\\verb|69|\\phantom{\\verb!xxxxxxx!}\\verb|70|\\phantom{\\verb!xxxxx!}\\verb|1|\\phantom{\\verb!xxxxx!}\\verb|2|\\phantom{\\verb!xxxxx!}\\verb|1|\\phantom{\\verb!xxxxx!}\\verb|1|\\phantom{\\verb!xxxxx!}\\verb|3|\\phantom{\\verb!xxxxx!}\\verb|1|\\phantom{\\verb!xxxxx!}\\verb|2|\\phantom{\\verb!xxxxx!}\\verb|3|\\\\\n",
       "\\verb|70|\\phantom{\\verb!xxxxxxx!}\\verb|71|\\phantom{\\verb!xxxxx!}\\verb|1|\\phantom{\\verb!xxxxx!}\\verb|2|\\phantom{\\verb!xxxxx!}\\verb|1|\\phantom{\\verb!xxxxx!}\\verb|1|\\phantom{\\verb!xxxxx!}\\verb|3|\\phantom{\\verb!xxxxx!}\\verb|1|\\phantom{\\verb!xxxxx!}\\verb|2|\\phantom{\\verb!xxxxx!}\\verb|3|\\\\\n",
       "\\verb|71|\\phantom{\\verb!xxxxxxx!}\\verb|72|\\phantom{\\verb!xxxxx!}\\verb|1|\\phantom{\\verb!xxxxx!}\\verb|2|\\phantom{\\verb!xxxxx!}\\verb|1|\\phantom{\\verb!xxxxx!}\\verb|1|\\phantom{\\verb!xxxxx!}\\verb|3|\\phantom{\\verb!xxxxx!}\\verb|1|\\phantom{\\verb!xxxxx!}\\verb|2|\\phantom{\\verb!xxxxx!}\\verb|3|\\\\\n",
       "\\verb|72|\\phantom{\\verb!xxxxxxx!}\\verb|73|\\phantom{\\verb!xxxxx!}\\verb|1|\\phantom{\\verb!xxxxx!}\\verb|2|\\phantom{\\verb!xxxxx!}\\verb|1|\\phantom{\\verb!xxxxx!}\\verb|1|\\phantom{\\verb!xxxxx!}\\verb|3|\\phantom{\\verb!xxxxx!}\\verb|1|\\phantom{\\verb!xxxxx!}\\verb|2|\\phantom{\\verb!xxxxx!}\\verb|3|\\\\\n",
       "\\verb|73|\\phantom{\\verb!xxxxxxx!}\\verb|74|\\phantom{\\verb!xxxxx!}\\verb|1|\\phantom{\\verb!xxxxx!}\\verb|2|\\phantom{\\verb!xxxxx!}\\verb|1|\\phantom{\\verb!xxxxx!}\\verb|1|\\phantom{\\verb!xxxxx!}\\verb|3|\\phantom{\\verb!xxxxx!}\\verb|1|\\phantom{\\verb!xxxxx!}\\verb|2|\\phantom{\\verb!xxxxx!}\\verb|3|\\\\\n",
       "\\verb|74|\\phantom{\\verb!xxxxxxx!}\\verb|75|\\phantom{\\verb!xxxxx!}\\verb|1|\\phantom{\\verb!xxxxx!}\\verb|2|\\phantom{\\verb!xxxxx!}\\verb|1|\\phantom{\\verb!xxxxx!}\\verb|1|\\phantom{\\verb!xxxxx!}\\verb|3|\\phantom{\\verb!xxxxx!}\\verb|1|\\phantom{\\verb!xxxxx!}\\verb|2|\\phantom{\\verb!xxxxx!}\\verb|3|\\\\\n",
       "\\verb|75|\\phantom{\\verb!xxxxxxx!}\\verb|76|\\phantom{\\verb!xxxxx!}\\verb|1|\\phantom{\\verb!xxxxx!}\\verb|2|\\phantom{\\verb!xxxxx!}\\verb|1|\\phantom{\\verb!xxxxx!}\\verb|1|\\phantom{\\verb!xxxxx!}\\verb|3|\\phantom{\\verb!xxxxx!}\\verb|1|\\phantom{\\verb!xxxxx!}\\verb|2|\\phantom{\\verb!xxxxx!}\\verb|3|\\\\\n",
       "\\verb|76|\\phantom{\\verb!xxxxxxx!}\\verb|77|\\phantom{\\verb!xxxxx!}\\verb|1|\\phantom{\\verb!xxxxx!}\\verb|2|\\phantom{\\verb!xxxxx!}\\verb|1|\\phantom{\\verb!xxxxx!}\\verb|1|\\phantom{\\verb!xxxxx!}\\verb|3|\\phantom{\\verb!xxxxx!}\\verb|1|\\phantom{\\verb!xxxxx!}\\verb|2|\\phantom{\\verb!xxxxx!}\\verb|3|\\\\\n",
       "\\verb|77|\\phantom{\\verb!xxxxxxx!}\\verb|78|\\phantom{\\verb!xxxxx!}\\verb|1|\\phantom{\\verb!xxxxx!}\\verb|2|\\phantom{\\verb!xxxxx!}\\verb|1|\\phantom{\\verb!xxxxx!}\\verb|1|\\phantom{\\verb!xxxxx!}\\verb|3|\\phantom{\\verb!xxxxx!}\\verb|1|\\phantom{\\verb!xxxxx!}\\verb|2|\\phantom{\\verb!xxxxx!}\\verb|3|\\\\\n",
       "\\verb|78|\\phantom{\\verb!xxxxxxx!}\\verb|79|\\phantom{\\verb!xxxxx!}\\verb|1|\\phantom{\\verb!xxxxx!}\\verb|2|\\phantom{\\verb!xxxxx!}\\verb|1|\\phantom{\\verb!xxxxx!}\\verb|1|\\phantom{\\verb!xxxxx!}\\verb|3|\\phantom{\\verb!xxxxx!}\\verb|1|\\phantom{\\verb!xxxxx!}\\verb|2|\\phantom{\\verb!xxxxx!}\\verb|3|\\\\\n",
       "\\verb|79|\\phantom{\\verb!xxxxxxx!}\\verb|80|\\phantom{\\verb!xxxxx!}\\verb|1|\\phantom{\\verb!xxxxx!}\\verb|2|\\phantom{\\verb!xxxxx!}\\verb|1|\\phantom{\\verb!xxxxx!}\\verb|1|\\phantom{\\verb!xxxxx!}\\verb|3|\\phantom{\\verb!xxxxx!}\\verb|1|\\phantom{\\verb!xxxxx!}\\verb|2|\\phantom{\\verb!xxxxx!}\\verb|3|\\\\\n",
       "\\phantom{\\verb!x!}\\\\\n",
       "\\verb|[80|\\phantom{\\verb!x!}\\verb|rows|\\phantom{\\verb!x!}\\verb|x|\\phantom{\\verb!x!}\\verb|9|\\phantom{\\verb!x!}\\verb|columns]|\n",
       "\\end{array}</script></html>"
      ]
     },
     "execution_count": 2,
     "metadata": {
     },
     "output_type": "execute_result"
    }
   ],
   "source": [
    "show(dataset)"
   ]
  },
  {
   "cell_type": "markdown",
   "metadata": {
    "collapsed": false
   },
   "source": [
    "You can find Terri's experiment at [https://montoya.econ.ubc.ca/Econ306/terri_experiment.pdf](https://montoya.econ.ubc.ca/Econ306/terri_experiment.pdf).  In the game described in that experiment, each of the lettered actions are replaced by a number, either 1,2 or 3.  For example, when a subject is playing as Player 4 in game 1, the actions k,l,m are replaced by 1,2,3 in the table above. \n",
    "\n",
    "\n",
    "Now list the columns that are contained in the table so you know how to refer to them.  You use the letters contained between the single quotes."
   ]
  },
  {
   "cell_type": "code",
   "execution_count": 3,
   "metadata": {
    "collapsed": false
   },
   "outputs": [
    {
     "data": {
      "text/plain": [
       "Index([u'Subject', u'G1P1', u'G1P2', u'G1P3', u'G1P4', u'G2P1', u'G2P2',\n",
       "       u'G2P3', u'G2P4'],\n",
       "      dtype='object')"
      ]
     },
     "execution_count": 3,
     "metadata": {
     },
     "output_type": "execute_result"
    }
   ],
   "source": [
    "dataset.columns"
   ]
  },
  {
   "cell_type": "markdown",
   "metadata": {
    "collapsed": false
   },
   "source": [
    "One way to visualize the data is to draw a histogram of the data in the column named 'G1P4', which gives the choices that the subjects made playing as Player 4 in game 1."
   ]
  },
  {
   "cell_type": "code",
   "execution_count": 0,
   "metadata": {
    "collapsed": false
   },
   "outputs": [
   ],
   "source": [
   ]
  },
  {
   "cell_type": "code",
   "execution_count": 4,
   "metadata": {
    "collapsed": false
   },
   "outputs": [
    {
     "data": {
      "text/plain": [
       "array([[<matplotlib.axes._subplots.AxesSubplot object at 0x7f33a5f9b150>]],\n",
       "      dtype=object)"
      ]
     },
     "execution_count": 4,
     "metadata": {
     },
     "output_type": "execute_result"
    },
    {
     "data": {
      "image/png": "[encoded data removed]"
     },
     "output_type": "execute_result"
    }
   ],
   "source": [
    "dataset.hist('G1P4',bins=3,grid=false)"
   ]
  },
  {
   "cell_type": "markdown",
   "metadata": {
    "collapsed": false
   },
   "source": [
    "A better way to do it here is this way."
   ]
  },
  {
   "cell_type": "code",
   "execution_count": 0,
   "metadata": {
    "collapsed": false
   },
   "outputs": [
   ],
   "source": [
   ]
  },
  {
   "cell_type": "code",
   "execution_count": 5,
   "metadata": {
    "collapsed": false
   },
   "outputs": [
    {
     "data": {
      "text/plain": [
       "<matplotlib.axes._subplots.AxesSubplot object at 0x7f33a3edb990>"
      ]
     },
     "execution_count": 5,
     "metadata": {
     },
     "output_type": "execute_result"
    },
    {
     "data": {
      "image/png": "[encoded data removed]"
     },
     "output_type": "execute_result"
    }
   ],
   "source": [
    "dataset['G1P4'].value_counts().plot(kind='bar')\n"
   ]
  },
  {
   "cell_type": "markdown",
   "metadata": {
    "collapsed": false
   },
   "source": [
    "Of course, we need the raw counts here, so we could also do:"
   ]
  },
  {
   "cell_type": "code",
   "execution_count": 6,
   "metadata": {
    "collapsed": false
   },
   "outputs": [
    {
     "data": {
      "text/html": [
       "<html><script type=\"math/tex; mode=display\">\\newcommand{\\Bold}[1]{\\mathbf{#1}}\\begin{array}{l}\n",
       "\\verb|1|\\phantom{\\verb!xxxx!}\\verb|0.9500|\\\\\n",
       "\\verb|2|\\phantom{\\verb!xxxx!}\\verb|0.0375|\\\\\n",
       "\\verb|3|\\phantom{\\verb!xxxx!}\\verb|0.0125|\\\\\n",
       "\\verb|Name:|\\phantom{\\verb!x!}\\verb|G1P4,|\\phantom{\\verb!x!}\\verb|dtype:|\\phantom{\\verb!x!}\\verb|float64|\n",
       "\\end{array}</script></html>"
      ]
     },
     "execution_count": 6,
     "metadata": {
     },
     "output_type": "execute_result"
    }
   ],
   "source": [
    "ds = dataset['G1P4'].value_counts(normalize=true)\n",
    "show(ds) \n"
   ]
  },
  {
   "cell_type": "markdown",
   "metadata": {
    "collapsed": false
   },
   "source": [
    "Or, if you just want the counts themselves, you would do it this way."
   ]
  },
  {
   "cell_type": "code",
   "execution_count": 7,
   "metadata": {
    "collapsed": false
   },
   "outputs": [
    {
     "data": {
      "text/plain": [
       "1    76\n",
       "2     3\n",
       "3     1\n",
       "Name: G1P4, dtype: int64"
      ]
     },
     "execution_count": 7,
     "metadata": {
     },
     "output_type": "execute_result"
    }
   ],
   "source": [
    "dataset['G1P4'].value_counts()"
   ]
  },
  {
   "cell_type": "markdown",
   "metadata": {
    "collapsed": false
   },
   "source": [
    "If you can't see from the code, those are counts of the number of subjects who chose actions 1, 2 or 3 (k,l or m) when they were playing as Player 4 in game 1.  Recall the dominant strategy was action k, or 1.  Most people did that.\n",
    "\n",
    "\n",
    "Now what we would like to do is to look at subjects who acting as Player 3 and calculate the best reply against this empirical distribution.  Theoretically, a Nash equilibrium is supposed to have the property that each player correctly guesses the probablity with which their opponent will take each of his or her possible actions. If $\\pi_1, \\pi_2$ and $1-\\pi_1-\\pi_2$ are the probabilities with which subjects in the rest of the group use action 1(k) or 2(1) or 3(m), then we would use the calculation \n",
    "$$\n",
    "20\\pi_1 + 14\\pi_2 +8(1-\\pi_1-\\pi_2)\n",
    "$$ \n",
    "to be the expected payoff associated with using action 1(h).  A similar calculation applies to the other two actions 2 and 3 (j or k in the reading).\n",
    "\n",
    "\n",
    "Now revert to sagemath to do the calculation as follows."
   ]
  },
  {
   "cell_type": "code",
   "execution_count": 8,
   "metadata": {
    "collapsed": false
   },
   "outputs": [
    {
     "data": {
      "text/plain": [
       "19.6250000000000"
      ]
     },
     "execution_count": 8,
     "metadata": {
     },
     "output_type": "execute_result"
    }
   ],
   "source": [
    "n((76/80)*20+(3/80)*14+(1/80)*8)"
   ]
  },
  {
   "cell_type": "markdown",
   "metadata": {
    "collapsed": false
   },
   "source": [
    "If you leave out the n() you get the answer as a fraction.  Now we can do the same thing for action i (2):"
   ]
  },
  {
   "cell_type": "code",
   "execution_count": 9,
   "metadata": {
    "collapsed": false
   },
   "outputs": [
    {
     "data": {
      "text/plain": [
       "15.5000000000000"
      ]
     },
     "execution_count": 9,
     "metadata": {
     },
     "output_type": "execute_result"
    }
   ],
   "source": [
    "n((76/80)*16+(3/80)*2+(1/80)*18)"
   ]
  },
  {
   "cell_type": "markdown",
   "metadata": {
    "collapsed": false
   },
   "source": [
    "Evidently, the best reply to the distribution of actions of the other subjects is the same as the action you get from iterated deletion of dominated strategies, at least when you are playing as Player 3.  The problem is to figure out whether this is true for the Players in the other positions and whether it is true for both games.  Use the sample code here to figure out an answer. "
   ]
  },
  {
   "cell_type": "markdown",
   "metadata": {
    "collapsed": false
   },
   "source": [
    "The second part of this project is to try to test an alternative model with this data.  In particular, we'll assume that players just lose interest sometimes, otherwise, they find their actions using iterated deletion of dominated strategies. To illustrate, suppose you are acting as player 3, and you believe that player 4 will play his or her dominant action with probability $\\rho_4$.  With probability $1-\\rho_4$, you believe the player just chooses each of his or her actions with equal probability. \n",
    "\n",
    "\n",
    "As above, this means your payoff when you play action 1(h) is\n",
    "$$\n",
    "20\\rho_1+(1-\\rho_1)(\\frac{20+14+8}{3})\n",
    "$$\n",
    "\n",
    "\n",
    "What you need to try to figure out is two things. What value of $\\rho_1$ makes the realized distribution of outcomes {76,3,1} most likely?  Second how high does $\\rho_1$ have to be in order that action 2 becomes a best reply.\n",
    "\n",
    "\n",
    "In particular, for this second question, the payoff to using action 2 is\n",
    "$$\n",
    "16\\rho_1+(1-\\rho_1)\\frac{16+2+18}{3}\n",
    "$$\n",
    "What value of $\\rho_1$ makes this the same as the payoff to action 1 described above.  If $\\rho$ takes this value, what is the probability that the realized data would come out the way it did.\n",
    "\n",
    "\n",
    "Of course, we would like to know these same things for the other players.  To do this, it seems reasonable to assume that the probability $\\rho_3$ that applies when player 2 is thinking about player 3 is different than $\\rho_4$.  Intuitively it would seem it should be a little higher, but that is to be checked by looking at the data.  Assume when you do this that the probability that a player is inattentive as Player 3 is independent of whether they were independent as player 4."
   ]
  },
  {
   "cell_type": "markdown",
   "metadata": {
    "collapsed": false
   },
   "source": [
    "____________________________\n",
    "__Problem 1__:\n",
    "\n",
    "Let's first try to examine if the best expected payoff is the same as the action we would get from iterated deletion of dominated strategy. If player 4 plays 1(k) with probability $\\pi_1$, 2(l) with probability $\\pi_2$ and 3(m) with probability $(1-\\pi_1 - \\pi_2)$, the expectd payoff for player 3 playing action 3(j) would be:\n",
    "$$\n",
    "16\\pi_2+16(1-\\pi_1 - \\pi_2)\n",
    "$$\n",
    "\n",
    "Now let's use the data to replace for the values of $\\pi_1$, $\\pi_2$ and $(1-\\pi_1-\\pi_2)$."
   ]
  },
  {
   "cell_type": "code",
   "execution_count": 10,
   "metadata": {
    "collapsed": false
   },
   "outputs": [
    {
     "data": {
      "text/plain": [
       "4/5"
      ]
     },
     "execution_count": 10,
     "metadata": {
     },
     "output_type": "execute_result"
    }
   ],
   "source": [
    "(3/80)*16+(1/80)*16"
   ]
  },
  {
   "cell_type": "code",
   "execution_count": 11,
   "metadata": {
    "collapsed": false
   },
   "outputs": [
    {
     "data": {
      "text/plain": [
       "0.800000000000000"
      ]
     },
     "execution_count": 11,
     "metadata": {
     },
     "output_type": "execute_result"
    }
   ],
   "source": [
    "n((3/80)*16+(1/80)*16)"
   ]
  },
  {
   "cell_type": "markdown",
   "metadata": {
    "collapsed": false
   },
   "source": [
    "As predicted, computing the third expected payoff yields the same conclusion. The best response you have is the same that the one you obtain by the iteratede deletion of dominated strategies.\n",
    "\n",
    "We need to describe the data for other players and other games. Let's start with Player 3 in Game 1."
   ]
  },
  {
   "cell_type": "code",
   "execution_count": 12,
   "metadata": {
    "collapsed": false
   },
   "outputs": [
    {
     "data": {
      "text/plain": [
       "<matplotlib.axes._subplots.AxesSubplot object at 0x7f33a3e37810>"
      ]
     },
     "execution_count": 12,
     "metadata": {
     },
     "output_type": "execute_result"
    },
    {
     "data": {
      "image/png": "[encoded data removed]"
     },
     "output_type": "execute_result"
    }
   ],
   "source": [
    "dataset['G1P3'].value_counts().plot(kind='bar')"
   ]
  },
  {
   "cell_type": "markdown",
   "metadata": {
    "collapsed": false
   },
   "source": [
    "It is possible to note that no player chose to play j(3), which had the lowest expected payoff when playing as Player 3."
   ]
  },
  {
   "cell_type": "code",
   "execution_count": 13,
   "metadata": {
    "collapsed": false
   },
   "outputs": [
    {
     "data": {
      "text/plain": [
       "1    73\n",
       "2     7\n",
       "Name: G1P3, dtype: int64"
      ]
     },
     "execution_count": 13,
     "metadata": {
     },
     "output_type": "execute_result"
    }
   ],
   "source": [
    "dataset['G1P3'].value_counts()"
   ]
  },
  {
   "cell_type": "markdown",
   "metadata": {
    "collapsed": false
   },
   "source": [
    "Now that we have the proportions, we will have a look at the expected payoffs of Player 2. Let's denote $\\phi$ the probability that Player 3 plays 1(h) and $(1-\\phi)$ the probaility that Player 3 plays i(2).\n",
    "\n",
    "We thus have the following:\n",
    "$$\n",
    "\\phi = \\frac{73}{80}\n",
    "$$\n",
    "$$\n",
    "(1-\\phi) = \\frac{7}{80}\n",
    "$$\n",
    "\n",
    "Replacing in our expectations for Player 2 yields:"
   ]
  },
  {
   "cell_type": "code",
   "execution_count": 14,
   "metadata": {
    "collapsed": false
   },
   "outputs": [
    {
     "data": {
      "text/plain": [
       "287/20"
      ]
     },
     "execution_count": 14,
     "metadata": {
     },
     "output_type": "execute_result"
    }
   ],
   "source": [
    "(73/80)*14+(7/80)*18"
   ]
  },
  {
   "cell_type": "code",
   "execution_count": 15,
   "metadata": {
    "collapsed": false
   },
   "outputs": [
    {
     "data": {
      "text/plain": [
       "14.3500000000000"
      ]
     },
     "execution_count": 15,
     "metadata": {
     },
     "output_type": "execute_result"
    }
   ],
   "source": [
    "n((73/80)*14+(7/80)*18)"
   ]
  },
  {
   "cell_type": "markdown",
   "metadata": {
    "collapsed": false
   },
   "source": [
    "For option 1(d), then:"
   ]
  },
  {
   "cell_type": "code",
   "execution_count": 16,
   "metadata": {
    "collapsed": false
   },
   "outputs": [
    {
     "data": {
      "text/plain": [
       "379/20"
      ]
     },
     "execution_count": 16,
     "metadata": {
     },
     "output_type": "execute_result"
    }
   ],
   "source": [
    "(73/80)*20+(7/80)*8"
   ]
  },
  {
   "cell_type": "code",
   "execution_count": 17,
   "metadata": {
    "collapsed": false
   },
   "outputs": [
    {
     "data": {
      "text/plain": [
       "18.9500000000000"
      ]
     },
     "execution_count": 17,
     "metadata": {
     },
     "output_type": "execute_result"
    }
   ],
   "source": [
    "n((73/80)*20+(7/80)*8)"
   ]
  },
  {
   "cell_type": "markdown",
   "metadata": {
    "collapsed": false
   },
   "source": [
    "For option 2(e), and finally:"
   ]
  },
  {
   "cell_type": "code",
   "execution_count": 18,
   "metadata": {
    "collapsed": false
   },
   "outputs": [
    {
     "data": {
      "text/plain": [
       "7/5"
      ]
     },
     "execution_count": 18,
     "metadata": {
     },
     "output_type": "execute_result"
    }
   ],
   "source": [
    "(73/80)*0+(7/80)*16"
   ]
  },
  {
   "cell_type": "code",
   "execution_count": 19,
   "metadata": {
    "collapsed": false
   },
   "outputs": [
    {
     "data": {
      "text/plain": [
       "1.40000000000000"
      ]
     },
     "execution_count": 19,
     "metadata": {
     },
     "output_type": "execute_result"
    }
   ],
   "source": [
    "n((73/80)*0+(7/80)*16)"
   ]
  },
  {
   "cell_type": "markdown",
   "metadata": {
    "collapsed": false
   },
   "source": [
    "For option 3(f). As in the case of Player 3, the best response for Player 2 is e(2), which is the same than the one obtained by iterated deletion of dominated strategies."
   ]
  },
  {
   "cell_type": "markdown",
   "metadata": {
    "collapsed": false
   },
   "source": [
    "Finally, we can repeat the same process for Player 1 and the answers of Player 2."
   ]
  },
  {
   "cell_type": "code",
   "execution_count": 20,
   "metadata": {
    "collapsed": false
   },
   "outputs": [
    {
     "data": {
      "text/plain": [
       "<matplotlib.axes._subplots.AxesSubplot object at 0x7f33a1960550>"
      ]
     },
     "execution_count": 20,
     "metadata": {
     },
     "output_type": "execute_result"
    },
    {
     "data": {
      "image/png": "[encoded data removed]"
     },
     "output_type": "execute_result"
    }
   ],
   "source": [
    "dataset['G1P2'].value_counts().plot(kind='bar')"
   ]
  },
  {
   "cell_type": "code",
   "execution_count": 21,
   "metadata": {
    "collapsed": false
   },
   "outputs": [
    {
     "data": {
      "text/plain": [
       "2    72\n",
       "1     6\n",
       "3     2\n",
       "Name: G1P2, dtype: int64"
      ]
     },
     "execution_count": 21,
     "metadata": {
     },
     "output_type": "execute_result"
    }
   ],
   "source": [
    "dataset['G1P2'].value_counts()"
   ]
  },
  {
   "cell_type": "markdown",
   "metadata": {
    "collapsed": false
   },
   "source": [
    "A majority of subjects chosed to play 2(e) which was the best response for Player 2.\n",
    "Denoting $\\gamma_1$, $\\gamma_2$ and $(1-\\gamma_1-\\gamma_2)$ the probabilities with which Player 2 played respectively options 1(d), 2(e) and 3(f), we have:\n",
    "$$\n",
    "\\gamma_1 = \\frac{6}{80}\n",
    "$$\n",
    "$$\n",
    "\\gamma_2 = \\frac{72}{80}\n",
    "$$\n",
    "$$\n",
    "(1-\\gamma_1-\\gamma_2) = \\frac{2}{80}\n",
    "$$\n"
   ]
  },
  {
   "cell_type": "code",
   "execution_count": 22,
   "metadata": {
    "collapsed": false
   },
   "outputs": [
    {
     "data": {
      "text/plain": [
       "18.9000000000000"
      ]
     },
     "execution_count": 22,
     "metadata": {
     },
     "output_type": "execute_result"
    }
   ],
   "source": [
    "n((6/80)*8+(72/80)*20+(2/80)*12) #For option 1(a)#"
   ]
  },
  {
   "cell_type": "code",
   "execution_count": 23,
   "metadata": {
    "collapsed": false
   },
   "outputs": [
    {
     "data": {
      "text/plain": [
       "7.60000000000000"
      ]
     },
     "execution_count": 23,
     "metadata": {
     },
     "output_type": "execute_result"
    }
   ],
   "source": [
    "n((6/80)*0+(72/80)*8+(2/80)*16) #For option 2(b)#"
   ]
  },
  {
   "cell_type": "code",
   "execution_count": 24,
   "metadata": {
    "collapsed": false
   },
   "outputs": [
    {
     "data": {
      "text/plain": [
       "12.3000000000000"
      ]
     },
     "execution_count": 24,
     "metadata": {
     },
     "output_type": "execute_result"
    }
   ],
   "source": [
    "n((6/80)*18+(72/80)*12+(2/80)*6) #For option 3(c)#"
   ]
  },
  {
   "cell_type": "markdown",
   "metadata": {
    "collapsed": false
   },
   "source": [
    "Note that the highest payoff is for option 1(a) which is also the best response. For Game 1, the answers you get by computing expected payoffs is the same as the answer you would obtain by iterated deletion of dominated strategies."
   ]
  },
  {
   "cell_type": "code",
   "execution_count": 0,
   "metadata": {
    "collapsed": false
   },
   "outputs": [
   ],
   "source": [
   ]
  },
  {
   "cell_type": "markdown",
   "metadata": {
    "collapsed": false
   },
   "source": [
    "_____________________________________\n",
    "\n",
    "__Problem 2__\n"
   ]
  },
  {
   "cell_type": "code",
   "execution_count": 25,
   "metadata": {
    "collapsed": false
   },
   "outputs": [
   ],
   "source": [
    "#Given the rho that we have, what's the probability that the outcome comes exactly as 76,3 and 1 (binomials). We then want to find the $\\rho_4$ that make this distribution possible. ie if each of them play dominant strategy with probability $\\rho_4$, what is the probability that exactly 76 of them play the dominant strategy. Verify if the probability to play the dominant strategy increases/decreases as the players approach Player 1.#"
   ]
  },
  {
   "cell_type": "markdown",
   "metadata": {
    "collapsed": false
   },
   "source": [
    "We will examine the probability $\\rho_4$ such as exactly 76 people play the dominant strategy. This can be represented by a Bernoulli experiment with probability of success $\\rho_4$."
   ]
  },
  {
   "cell_type": "code",
   "execution_count": 26,
   "metadata": {
    "collapsed": false,
    "scrolled": true
   },
   "outputs": [
    {
     "data": {
      "text/html": [
       "<html><script type=\"math/tex; mode=display\">\\newcommand{\\Bold}[1]{\\mathbf{#1}}\\rho_{4} = \\left(\\frac{37}{40}\\right)</script></html>"
      ]
     },
     "execution_count": 26,
     "metadata": {
     },
     "output_type": "execute_result"
    }
   ],
   "source": [
    "var ('rho_4')\n",
    "sol = solve(rho_4*80+(1-rho_4)*(1/3)*80 == 76, rho_4)\n",
    "show (sol[0])"
   ]
  },
  {
   "cell_type": "markdown",
   "metadata": {
    "collapsed": false
   },
   "source": [
    "If we consider that $\\rho_4 = \\frac{37}{40}$, then our probability of 76 successes in 80 trials is:\n",
    "$$\n",
    "C_{80}^{76} \\rho_4^{76} (1-\\rho_4)^{80-76}\n",
    "$$\n",
    "\n",
    "The probability mass function is given by:\n",
    "$$\n",
    "f(\\Pi) = C_n^y \\Pi^y (1-\\Pi)^{n-y}\n",
    "$$\n",
    "\n",
    "Where $\\Pi$ is the probability we are looking for (i.e. the probability to play the dominant strategy).\n",
    "As we are considering people that play the dominant strategy deliberately and inadvertly, we will have \n",
    "$$\\Pi = \\rho_4+\\frac{1-\\rho_4}{3}\n",
    "$$"
   ]
  },
  {
   "cell_type": "code",
   "execution_count": 27,
   "metadata": {
    "collapsed": false
   },
   "outputs": [
    {
     "data": {
      "text/plain": [
       "74.0000000000000"
      ]
     },
     "execution_count": 27,
     "metadata": {
     },
     "output_type": "execute_result"
    }
   ],
   "source": [
    "n((37/40)*80)"
   ]
  },
  {
   "cell_type": "markdown",
   "metadata": {
    "collapsed": false
   },
   "source": [
    "The code below will allow us to compute binomial coefficients by using the command __\"choose(n,k)\"__:"
   ]
  },
  {
   "cell_type": "code",
   "execution_count": 28,
   "metadata": {
    "collapsed": false
   },
   "outputs": [
   ],
   "source": [
    "def choose(n, k):\n",
    "    if 0 <= k <= n:\n",
    "        ntok = 1\n",
    "        ktok = 1\n",
    "        for t in xrange(1, min(k, n - k) + 1):\n",
    "            ntok *= n\n",
    "            ktok *= t\n",
    "            n -= 1\n",
    "        return ntok // ktok\n",
    "    else:\n",
    "        return 0"
   ]
  },
  {
   "cell_type": "code",
   "execution_count": 29,
   "metadata": {
    "collapsed": false
   },
   "outputs": [
    {
     "data": {
      "text/plain": [
       "21"
      ]
     },
     "execution_count": 29,
     "metadata": {
     },
     "output_type": "execute_result"
    }
   ],
   "source": [
    "choose(7,2)"
   ]
  },
  {
   "cell_type": "code",
   "execution_count": 30,
   "metadata": {
    "collapsed": false
   },
   "outputs": [
    {
     "data": {
      "text/html": [
       "<html><script type=\"math/tex; mode=display\">\\newcommand{\\Bold}[1]{\\mathbf{#1}}1581580</script></html>"
      ]
     },
     "execution_count": 30,
     "metadata": {
     },
     "output_type": "execute_result"
    }
   ],
   "source": [
    "var('rho_4')\n",
    "binom = choose(80,76)\n",
    "show(binom)"
   ]
  },
  {
   "cell_type": "code",
   "execution_count": 31,
   "metadata": {
    "collapsed": false
   },
   "outputs": [
    {
     "data": {
      "text/html": [
       "<html><script type=\"math/tex; mode=display\">\\newcommand{\\Bold}[1]{\\mathbf{#1}}\\frac{1581580}{147808829414345923316083210206383297601} \\, {\\left(2 \\, \\rho_{4} + 1\\right)}^{76} {\\left(\\rho_{4} - 1\\right)}^{4}</script></html>"
      ]
     },
     "execution_count": 31,
     "metadata": {
     },
     "output_type": "execute_result"
    },
    {
     "data": {
      "image/png": "[encoded data removed]"
     },
     "output_type": "execute_result"
    }
   ],
   "source": [
    "var('rho_4')\n",
    "eq1 = (binom)*((rho_4+(1-rho_4)*(1/3))^(76))*(((1-rho_4)*(1/3))^4)\n",
    "show(eq1)\n",
    "plot(eq1,rho_4,0,1)"
   ]
  },
  {
   "cell_type": "markdown",
   "metadata": {
    "collapsed": false
   },
   "source": [
    "Noting that the cumulative distribution sums up to 1, we have a probability distribution. Let's zoom in a bit:"
   ]
  },
  {
   "cell_type": "code",
   "execution_count": 32,
   "metadata": {
    "collapsed": false
   },
   "outputs": [
    {
     "name": "stderr",
     "output_type": "stream",
     "text": [
      "WARNING: Some output was deleted.\n"
     ]
    }
   ],
   "source": [
    "plot (eq1,rho_4,0.5,1)"
   ]
  },
  {
   "cell_type": "markdown",
   "metadata": {
    "collapsed": false
   },
   "source": [
    "In order to determine the maximum value of $\\rho_4$, we need to take the first order condition and set the first derivative of $f(\\Pi)$ equal to 0."
   ]
  },
  {
   "cell_type": "code",
   "execution_count": 33,
   "metadata": {
    "collapsed": false
   },
   "outputs": [
    {
     "data": {
      "text/html": [
       "<html><script type=\"math/tex; mode=display\">\\newcommand{\\Bold}[1]{\\mathbf{#1}}\\frac{6326320}{147808829414345923316083210206383297601} \\, {\\left(2 \\, \\rho_{4} + 1\\right)}^{76} {\\left(\\rho_{4} - 1\\right)}^{3} + \\frac{240400160}{147808829414345923316083210206383297601} \\, {\\left(2 \\, \\rho_{4} + 1\\right)}^{75} {\\left(\\rho_{4} - 1\\right)}^{4}</script></html>"
      ]
     },
     "execution_count": 33,
     "metadata": {
     },
     "output_type": "execute_result"
    },
    {
     "data": {
      "text/html": [
       "<html><script type=\"math/tex; mode=display\">\\newcommand{\\Bold}[1]{\\mathbf{#1}}\\left[\\rho_{4} = \\left(\\frac{37}{40}\\right), \\rho_{4} = \\left(-\\frac{1}{2}\\right), \\rho_{4} = 1\\right]</script></html>"
      ]
     },
     "execution_count": 33,
     "metadata": {
     },
     "output_type": "execute_result"
    }
   ],
   "source": [
    "d = eq1.derivative(rho_4)\n",
    "show(d)\n",
    "prob4 = solve(d == 0,rho_4)\n",
    "show(prob4)"
   ]
  },
  {
   "cell_type": "markdown",
   "metadata": {
    "collapsed": false
   },
   "source": [
    "We now need to repeat the process for every Player. Let's denote $\\rho_3$ the probability that Player 3 plays his dominant strategy, $\\rho_2$ the probability that Player 2 plays his dominant strategy, and $\\rho_1$ the same probability for Player 1. The formula of $\\Pi$ applies for every Player."
   ]
  },
  {
   "cell_type": "code",
   "execution_count": 34,
   "metadata": {
    "collapsed": false
   },
   "outputs": [
    {
     "data": {
      "text/html": [
       "<html><script type=\"math/tex; mode=display\">\\newcommand{\\Bold}[1]{\\mathbf{#1}}-\\frac{3176716400}{147808829414345923316083210206383297601} \\, {\\left(2 \\, \\rho_{3} + 1\\right)}^{73} {\\left(\\rho_{3} - 1\\right)}^{7}</script></html>"
      ]
     },
     "execution_count": 34,
     "metadata": {
     },
     "output_type": "execute_result"
    },
    {
     "name": "stderr",
     "output_type": "stream",
     "text": [
      "WARNING: Some output was deleted.\n"
     ]
    }
   ],
   "source": [
    "var('rho_3')\n",
    "eq2 = (choose(80,73))*((rho_3+(1-rho_3)*(1/3))^(73))*(((1-rho_3)*(1/3))^(80-73))\n",
    "show(eq2)\n",
    "plot(eq2,rho_3,0.5,1)"
   ]
  },
  {
   "cell_type": "code",
   "execution_count": 35,
   "metadata": {
    "collapsed": false
   },
   "outputs": [
    {
     "data": {
      "text/html": [
       "<html><script type=\"math/tex; mode=display\">\\newcommand{\\Bold}[1]{\\mathbf{#1}}-\\frac{22237014800}{147808829414345923316083210206383297601} \\, {\\left(2 \\, \\rho_{3} + 1\\right)}^{73} {\\left(\\rho_{3} - 1\\right)}^{6} - \\frac{463800594400}{147808829414345923316083210206383297601} \\, {\\left(2 \\, \\rho_{3} + 1\\right)}^{72} {\\left(\\rho_{3} - 1\\right)}^{7}</script></html>"
      ]
     },
     "execution_count": 35,
     "metadata": {
     },
     "output_type": "execute_result"
    },
    {
     "data": {
      "text/html": [
       "<html><script type=\"math/tex; mode=display\">\\newcommand{\\Bold}[1]{\\mathbf{#1}}\\left[\\rho_{3} = \\left(\\frac{139}{160}\\right), \\rho_{3} = \\left(-\\frac{1}{2}\\right), \\rho_{3} = 1\\right]</script></html>"
      ]
     },
     "execution_count": 35,
     "metadata": {
     },
     "output_type": "execute_result"
    }
   ],
   "source": [
    "d1 = eq2.derivative(rho_3)\n",
    "show(d1)\n",
    "prob3 = solve(d1==0,rho_3)\n",
    "show(prob3)"
   ]
  },
  {
   "cell_type": "code",
   "execution_count": 36,
   "metadata": {
    "collapsed": false
   },
   "outputs": [
    {
     "data": {
      "text/html": [
       "<html><script type=\"math/tex; mode=display\">\\newcommand{\\Bold}[1]{\\mathbf{#1}}\\frac{28987537150}{147808829414345923316083210206383297601} \\, {\\left(2 \\, \\rho_{2} + 1\\right)}^{72} {\\left(\\rho_{2} - 1\\right)}^{8}</script></html>"
      ]
     },
     "execution_count": 36,
     "metadata": {
     },
     "output_type": "execute_result"
    },
    {
     "name": "stderr",
     "output_type": "stream",
     "text": [
      "WARNING: Some output was deleted.\n"
     ]
    }
   ],
   "source": [
    "var('rho_2')\n",
    "eq3 = (choose(80,72))*((rho_2+(1-rho_2)*(1/3))^(72))*(((1-rho_2)*(1/3))^(80-72))\n",
    "show(eq3)\n",
    "plot(eq3,rho_2,0.5,1)"
   ]
  },
  {
   "cell_type": "code",
   "execution_count": 37,
   "metadata": {
    "collapsed": false
   },
   "outputs": [
    {
     "data": {
      "text/html": [
       "<html><script type=\"math/tex; mode=display\">\\newcommand{\\Bold}[1]{\\mathbf{#1}}\\frac{231900297200}{147808829414345923316083210206383297601} \\, {\\left(2 \\, \\rho_{2} + 1\\right)}^{72} {\\left(\\rho_{2} - 1\\right)}^{7} + \\frac{463800594400}{16423203268260658146231467800709255289} \\, {\\left(2 \\, \\rho_{2} + 1\\right)}^{71} {\\left(\\rho_{2} - 1\\right)}^{8}</script></html>"
      ]
     },
     "execution_count": 37,
     "metadata": {
     },
     "output_type": "execute_result"
    },
    {
     "data": {
      "text/html": [
       "<html><script type=\"math/tex; mode=display\">\\newcommand{\\Bold}[1]{\\mathbf{#1}}\\left[\\rho_{2} = \\left(\\frac{17}{20}\\right), \\rho_{2} = \\left(-\\frac{1}{2}\\right), \\rho_{2} = 1\\right]</script></html>"
      ]
     },
     "execution_count": 37,
     "metadata": {
     },
     "output_type": "execute_result"
    }
   ],
   "source": [
    "d2 = eq3.derivative(rho_2)\n",
    "show(d2)\n",
    "prob2 = solve(d2==0,rho_2)\n",
    "show(prob2)"
   ]
  },
  {
   "cell_type": "markdown",
   "metadata": {
    "collapsed": false
   },
   "source": [
    "We will need some data for Player 1:"
   ]
  },
  {
   "cell_type": "code",
   "execution_count": 38,
   "metadata": {
    "collapsed": false
   },
   "outputs": [
    {
     "data": {
      "text/plain": [
       "1    66\n",
       "3    12\n",
       "2     2\n",
       "Name: G1P1, dtype: int64"
      ]
     },
     "execution_count": 38,
     "metadata": {
     },
     "output_type": "execute_result"
    },
    {
     "data": {
      "image/png": "[encoded data removed]"
     },
     "output_type": "execute_result"
    }
   ],
   "source": [
    "dataset['G1P1'].value_counts().plot(kind='bar')\n",
    "dataset['G1P1'].value_counts()"
   ]
  },
  {
   "cell_type": "code",
   "execution_count": 39,
   "metadata": {
    "collapsed": false
   },
   "outputs": [
    {
     "data": {
      "text/html": [
       "<html><script type=\"math/tex; mode=display\">\\newcommand{\\Bold}[1]{\\mathbf{#1}}\\frac{1508152231077400}{147808829414345923316083210206383297601} \\, {\\left(2 \\, \\rho_{1} + 1\\right)}^{66} {\\left(\\rho_{1} - 1\\right)}^{14}</script></html>"
      ]
     },
     "execution_count": 39,
     "metadata": {
     },
     "output_type": "execute_result"
    },
    {
     "name": "stderr",
     "output_type": "stream",
     "text": [
      "WARNING: Some output was deleted.\n"
     ]
    }
   ],
   "source": [
    "var('rho_1')\n",
    "eq4 = (choose(80,66))*((rho_1+(1-rho_1)*(1/3))^(66))*(((1-rho_1)*(1/3))^(80-66))\n",
    "show(eq4)\n",
    "plot(eq4,rho_1,0.4,1)"
   ]
  },
  {
   "cell_type": "code",
   "execution_count": 40,
   "metadata": {
    "collapsed": false
   },
   "outputs": [
    {
     "data": {
      "text/html": [
       "<html><script type=\"math/tex; mode=display\">\\newcommand{\\Bold}[1]{\\mathbf{#1}}\\frac{21114131235083600}{147808829414345923316083210206383297601} \\, {\\left(2 \\, \\rho_{1} + 1\\right)}^{66} {\\left(\\rho_{1} - 1\\right)}^{13} + \\frac{66358698167405600}{49269609804781974438694403402127765867} \\, {\\left(2 \\, \\rho_{1} + 1\\right)}^{65} {\\left(\\rho_{1} - 1\\right)}^{14}</script></html>"
      ]
     },
     "execution_count": 40,
     "metadata": {
     },
     "output_type": "execute_result"
    },
    {
     "data": {
      "text/html": [
       "<html><script type=\"math/tex; mode=display\">\\newcommand{\\Bold}[1]{\\mathbf{#1}}\\left[\\rho_{1} = \\left(\\frac{59}{80}\\right), \\rho_{1} = \\left(-\\frac{1}{2}\\right), \\rho_{1} = 1\\right]</script></html>"
      ]
     },
     "execution_count": 40,
     "metadata": {
     },
     "output_type": "execute_result"
    }
   ],
   "source": [
    "d3 = eq4.derivative(rho_1)\n",
    "show(d3)\n",
    "prob1 = solve(d3==0,rho_1)\n",
    "show(prob1)"
   ]
  },
  {
   "cell_type": "markdown",
   "metadata": {
    "collapsed": false
   },
   "source": [
    "Summarising the results for Game 1, excluding the negative and $1$ results, we have:\n",
    "$$\n",
    "\\rho_4 = \\frac{37}{40}\n",
    "$$\n",
    "\n",
    "$$\n",
    "\\rho_3 = \\frac{139}{160}\n",
    "$$\n",
    "\n",
    "$$\n",
    "\\rho_2 = \\frac{17}{20}\n",
    "$$\n",
    "\n",
    "$$\n",
    "\\rho_1 = \\frac{59}{80}\n",
    "$$"
   ]
  },
  {
   "cell_type": "code",
   "execution_count": 41,
   "metadata": {
    "collapsed": false
   },
   "outputs": [
    {
     "data": {
      "text/plain": [
       "0.925000000000000"
      ]
     },
     "execution_count": 41,
     "metadata": {
     },
     "output_type": "execute_result"
    }
   ],
   "source": [
    "n(37/40)"
   ]
  },
  {
   "cell_type": "code",
   "execution_count": 42,
   "metadata": {
    "collapsed": false
   },
   "outputs": [
    {
     "data": {
      "text/plain": [
       "0.868750000000000"
      ]
     },
     "execution_count": 42,
     "metadata": {
     },
     "output_type": "execute_result"
    }
   ],
   "source": [
    "n(139/160)"
   ]
  },
  {
   "cell_type": "code",
   "execution_count": 43,
   "metadata": {
    "collapsed": false
   },
   "outputs": [
    {
     "data": {
      "text/plain": [
       "0.850000000000000"
      ]
     },
     "execution_count": 43,
     "metadata": {
     },
     "output_type": "execute_result"
    }
   ],
   "source": [
    "n(17/20)"
   ]
  },
  {
   "cell_type": "code",
   "execution_count": 44,
   "metadata": {
    "collapsed": false
   },
   "outputs": [
    {
     "data": {
      "text/plain": [
       "0.737500000000000"
      ]
     },
     "execution_count": 44,
     "metadata": {
     },
     "output_type": "execute_result"
    }
   ],
   "source": [
    "n(59/80)"
   ]
  },
  {
   "cell_type": "markdown",
   "metadata": {
    "collapsed": false
   },
   "source": [
    "Note how the probability of playing the best response diminishes as subjects approach Player 1 in Game 1."
   ]
  },
  {
   "cell_type": "code",
   "execution_count": 45,
   "metadata": {
    "collapsed": false
   },
   "outputs": [
    {
     "data": {
      "text/plain": [
       "0.981250000000000"
      ]
     },
     "execution_count": 45,
     "metadata": {
     },
     "output_type": "execute_result"
    }
   ],
   "source": [
    "n(157/160)"
   ]
  },
  {
   "cell_type": "code",
   "execution_count": 46,
   "metadata": {
    "collapsed": false
   },
   "outputs": [
    {
     "data": {
      "text/plain": [
       "0.681250000000000"
      ]
     },
     "execution_count": 46,
     "metadata": {
     },
     "output_type": "execute_result"
    }
   ],
   "source": [
    "n(109/160)"
   ]
  },
  {
   "cell_type": "code",
   "execution_count": 47,
   "metadata": {
    "collapsed": false
   },
   "outputs": [
    {
     "data": {
      "text/plain": [
       "0.212500000000000"
      ]
     },
     "execution_count": 47,
     "metadata": {
     },
     "output_type": "execute_result"
    }
   ],
   "source": [
    "n(17/80)"
   ]
  },
  {
   "cell_type": "code",
   "execution_count": 48,
   "metadata": {
    "collapsed": false
   },
   "outputs": [
    {
     "data": {
      "text/plain": [
       "0.118750000000000"
      ]
     },
     "execution_count": 48,
     "metadata": {
     },
     "output_type": "execute_result"
    }
   ],
   "source": [
    "n(19/160)"
   ]
  },
  {
   "cell_type": "markdown",
   "metadata": {
    "collapsed": false
   },
   "source": [
    "Note how the decrease is much sharper in Game 2 than in Game 1."
   ]
  },
  {
   "cell_type": "code",
   "execution_count": 78,
   "metadata": {
    "collapsed": false
   },
   "outputs": [
   ],
   "source": [
    "############### From now on these are tests to confirm some values and formulas #################"
   ]
  },
  {
   "cell_type": "code",
   "execution_count": 52,
   "metadata": {
    "collapsed": false
   },
   "outputs": [
    {
     "data": {
      "text/plain": [
       "1    76\n",
       "2     3\n",
       "3     1\n",
       "Name: G1P4, dtype: int64"
      ]
     },
     "execution_count": 52,
     "metadata": {
     },
     "output_type": "execute_result"
    }
   ],
   "source": [
    "dataset['G1P4'].value_counts()"
   ]
  },
  {
   "cell_type": "code",
   "execution_count": 53,
   "metadata": {
    "collapsed": false
   },
   "outputs": [
    {
     "data": {
      "text/plain": [
       "1    73\n",
       "2     7\n",
       "Name: G1P3, dtype: int64"
      ]
     },
     "execution_count": 53,
     "metadata": {
     },
     "output_type": "execute_result"
    }
   ],
   "source": [
    "dataset['G1P3'].value_counts()"
   ]
  },
  {
   "cell_type": "code",
   "execution_count": 54,
   "metadata": {
    "collapsed": false
   },
   "outputs": [
    {
     "data": {
      "text/plain": [
       "2    72\n",
       "1     6\n",
       "3     2\n",
       "Name: G1P2, dtype: int64"
      ]
     },
     "execution_count": 54,
     "metadata": {
     },
     "output_type": "execute_result"
    }
   ],
   "source": [
    "dataset['G1P2'].value_counts()"
   ]
  },
  {
   "cell_type": "code",
   "execution_count": 55,
   "metadata": {
    "collapsed": false
   },
   "outputs": [
    {
     "data": {
      "text/plain": [
       "1    66\n",
       "3    12\n",
       "2     2\n",
       "Name: G1P1, dtype: int64"
      ]
     },
     "execution_count": 55,
     "metadata": {
     },
     "output_type": "execute_result"
    }
   ],
   "source": [
    "dataset['G1P1'].value_counts()"
   ]
  },
  {
   "cell_type": "code",
   "execution_count": 61,
   "metadata": {
    "collapsed": false
   },
   "outputs": [
   ],
   "source": [
    "############ Game 2"
   ]
  },
  {
   "cell_type": "code",
   "execution_count": 57,
   "metadata": {
    "collapsed": false
   },
   "outputs": [
    {
     "data": {
      "text/plain": [
       "3    79\n",
       "2     1\n",
       "Name: G2P4, dtype: int64"
      ]
     },
     "execution_count": 57,
     "metadata": {
     },
     "output_type": "execute_result"
    }
   ],
   "source": [
    "dataset['G2P4'].value_counts()"
   ]
  },
  {
   "cell_type": "code",
   "execution_count": 58,
   "metadata": {
    "collapsed": false
   },
   "outputs": [
    {
     "data": {
      "text/plain": [
       "2    63\n",
       "1    13\n",
       "3     4\n",
       "Name: G2P3, dtype: int64"
      ]
     },
     "execution_count": 58,
     "metadata": {
     },
     "output_type": "execute_result"
    }
   ],
   "source": [
    "dataset['G2P3'].value_counts()"
   ]
  },
  {
   "cell_type": "code",
   "execution_count": 59,
   "metadata": {
    "collapsed": false
   },
   "outputs": [
    {
     "data": {
      "text/plain": [
       "2    38\n",
       "1    38\n",
       "3     4\n",
       "Name: G2P2, dtype: int64"
      ]
     },
     "execution_count": 59,
     "metadata": {
     },
     "output_type": "execute_result"
    }
   ],
   "source": [
    "dataset['G2P2'].value_counts()"
   ]
  },
  {
   "cell_type": "code",
   "execution_count": 60,
   "metadata": {
    "collapsed": false
   },
   "outputs": [
    {
     "data": {
      "text/plain": [
       "1    45\n",
       "3    33\n",
       "2     2\n",
       "Name: G2P1, dtype: int64"
      ]
     },
     "execution_count": 60,
     "metadata": {
     },
     "output_type": "execute_result"
    }
   ],
   "source": [
    "dataset['G2P1'].value_counts()"
   ]
  },
  {
   "cell_type": "code",
   "execution_count": 65,
   "metadata": {
    "collapsed": false
   },
   "outputs": [
    {
     "data": {
      "text/html": [
       "<html><script type=\"math/tex; mode=display\">\\newcommand{\\Bold}[1]{\\mathbf{#1}}-\\frac{10151431784792910247992083087360000000}{278128389443693511257285776231761} \\, {\\left(2 \\, \\pi_{3} + 1\\right)}^{63} {\\left(\\pi_{3} - 1\\right)}^{17}</script></html>"
      ]
     },
     "execution_count": 65,
     "metadata": {
     },
     "output_type": "execute_result"
    },
    {
     "data": {
      "text/html": [
       "<html><script type=\"math/tex; mode=display\">\\newcommand{\\Bold}[1]{\\mathbf{#1}}\\left[\\pi_{3} = \\left(\\frac{109}{160}\\right), \\pi_{3} = \\left(-\\frac{1}{2}\\right), \\pi_{3} = 1\\right]</script></html>"
      ]
     },
     "execution_count": 65,
     "metadata": {
     },
     "output_type": "execute_result"
    }
   ],
   "source": [
    "var('pi_3')\n",
    "test = (factorial(80)/factorial(63)*factorial(13)*factorial(4))*((pi_3+(1-pi_3)*(1/3))^(63))*(((1-pi_3)*(1/3))^(13))*(((1-pi_3)*(1/3))^(4))\n",
    "show(test)\n",
    "dtest = test.derivative(pi_3)\n",
    "soltest = solve(dtest==0,pi_3)\n",
    "show(soltest)"
   ]
  },
  {
   "cell_type": "code",
   "execution_count": 67,
   "metadata": {
    "collapsed": false
   },
   "outputs": [
   ],
   "source": [
    "var('pi_2')\n",
    "test2 = (factorial(80)/factorial(38)*factorial(38)*factorial(4))*((pi_2+(1-pi_2)*(1/3))^(38))*(((1-pi_2)*(1/3))^(38))*(((1-pi_2)*(1/3))^(4))"
   ]
  },
  {
   "cell_type": "code",
   "execution_count": 74,
   "metadata": {
    "collapsed": false
   },
   "outputs": [
   ],
   "source": [
    "var('pi_1')\n",
    "test3 = (factorial(80)/factorial(45)*factorial(33)*factorial(2))*((pi_1+(1-pi_1)*(1/3))^(33))*(((1-pi_1)*(1/3))^(45))*(((1-pi_1)*(1/3))^(2))"
   ]
  },
  {
   "cell_type": "code",
   "execution_count": 75,
   "metadata": {
    "collapsed": false
   },
   "outputs": [
    {
     "data": {
      "text/html": [
       "<html><script type=\"math/tex; mode=display\">\\newcommand{\\Bold}[1]{\\mathbf{#1}}\\left[\\pi_{2} = \\left(\\frac{17}{80}\\right), \\pi_{2} = \\left(-\\frac{1}{2}\\right), \\pi_{2} = 1\\right]</script></html>"
      ]
     },
     "execution_count": 75,
     "metadata": {
     },
     "output_type": "execute_result"
    },
    {
     "data": {
      "text/html": [
       "<html><script type=\"math/tex; mode=display\">\\newcommand{\\Bold}[1]{\\mathbf{#1}}\\left[\\pi_{1} = \\left(\\frac{19}{160}\\right), \\pi_{1} = \\left(-\\frac{1}{2}\\right), \\pi_{1} = 1\\right]</script></html>"
      ]
     },
     "execution_count": 75,
     "metadata": {
     },
     "output_type": "execute_result"
    }
   ],
   "source": [
    "dtest2 = test2.derivative(pi_2)\n",
    "soltest2 = solve(dtest2==0,pi_2)\n",
    "dtest3 = test3.derivative(pi_1)\n",
    "soltest3 = solve(dtest3==0,pi_1)\n",
    "show(soltest2)\n",
    "show(soltest3)"
   ]
  },
  {
   "cell_type": "code",
   "execution_count": 73,
   "metadata": {
    "collapsed": false
   },
   "outputs": [
    {
     "data": {
      "text/plain": [
       "0.343750000000000"
      ]
     },
     "execution_count": 73,
     "metadata": {
     },
     "output_type": "execute_result"
    }
   ],
   "source": [
    "n(11/32)"
   ]
  },
  {
   "cell_type": "code",
   "execution_count": 76,
   "metadata": {
    "collapsed": false
   },
   "outputs": [
    {
     "data": {
      "text/html": [
       "<html><script type=\"math/tex; mode=display\">\\newcommand{\\Bold}[1]{\\mathbf{#1}}\\left[\\alpha = \\left(\\frac{19}{160}\\right), \\alpha = \\left(-\\frac{1}{2}\\right), \\alpha = 1\\right]</script></html>"
      ]
     },
     "execution_count": 76,
     "metadata": {
     },
     "output_type": "execute_result"
    }
   ],
   "source": [
    "var('alpha')\n",
    "eqref = (choose(80,33))*((alpha+(1-alpha)*(1/3))^(33))*(((1-alpha)*(1/3))^(80-33))\n",
    "ddd = eqref.derivative(alpha)\n",
    "sold = solve(ddd==0,alpha)\n",
    "show(sold)"
   ]
  }
 ],
 "metadata": {
  "kernelspec": {
   "display_name": "SageMath (stable)",
   "language": "sagemath",
   "metadata": {
    "cocalc": {
     "description": "Open-source mathematical software system",
     "priority": 10,
     "url": "https://www.sagemath.org/"
    }
   },
   "name": "sagemath"
  },
  "language_info": {
   "codemirror_mode": {
    "name": "ipython",
    "version": 2
   },
   "file_extension": ".py",
   "mimetype": "text/x-python",
   "name": "python",
   "nbconvert_exporter": "python",
   "pygments_lexer": "ipython2",
   "version": "2.7.15"
  }
 },
 "nbformat": 4,
 "nbformat_minor": 0
}