{
 "cells": [
  {
   "cell_type": "markdown",
   "metadata": {
    "slideshow": {
     "slide_type": "slide"
    }
   },
   "source": [
    "This page gives you the actual data from Terri Kneeland's experiment on the ring game.  The problem is to figure out whether there is any difference between a player who can successfully delete dominated strategies, and a player who best replies to the actual distrbution of play by other players in the experiment.\n",
    "\n",
    "\n",
    "Apart from providing the data, this page will show you some simple python commands you can use to interpret the data. Then we can do some computations using sagemath.\n",
    "\n",
    "\n",
    "The first bit just loads some python libraries (particularly pandas - tons of documentation about it on the internet).  The os library is for reading files."
   ]
  },
  {
   "cell_type": "code",
   "execution_count": 1,
   "metadata": {
    "collapsed": false,
    "jupyter": {
     "outputs_hidden": false
    },
    "slideshow": {
     "slide_type": "slide"
    }
   },
   "outputs": [],
   "source": [
    "import pandas as pd\n",
    "import os\n",
    "dataset = pd.read_csv('ecma_data.csv')"
   ]
  },
  {
   "cell_type": "code",
   "execution_count": 2,
   "metadata": {
    "collapsed": false,
    "jupyter": {
     "outputs_hidden": false
    },
    "slideshow": {
     "slide_type": "slide"
    }
   },
   "outputs": [
    {
     "data": {
      "text/html": [
       "<html><script type=\"math/tex; mode=display\">\\newcommand{\\Bold}[1]{\\mathbf{#1}}\\begin{array}{l}\n",
       "\\phantom{\\verb!xxxx!}\\verb|Subject|\\phantom{\\verb!xx!}\\verb|G1P1|\\phantom{\\verb!xx!}\\verb|G1P2|\\phantom{\\verb!xx!}\\verb|G1P3|\\phantom{\\verb!xx!}\\verb|G1P4|\\phantom{\\verb!xx!}\\verb|G2P1|\\phantom{\\verb!xx!}\\verb|G2P2|\\phantom{\\verb!xx!}\\verb|G2P3|\\phantom{\\verb!xx!}\\verb|G2P4|\\\\\n",
       "\\verb|0|\\phantom{\\verb!xxxxxxxxx!}\\verb|1|\\phantom{\\verb!xxxxx!}\\verb|1|\\phantom{\\verb!xxxxx!}\\verb|3|\\phantom{\\verb!xxxxx!}\\verb|2|\\phantom{\\verb!xxxxx!}\\verb|3|\\phantom{\\verb!xxxxx!}\\verb|1|\\phantom{\\verb!xxxxx!}\\verb|1|\\phantom{\\verb!xxxxx!}\\verb|2|\\phantom{\\verb!xxxxx!}\\verb|3|\\\\\n",
       "\\verb|1|\\phantom{\\verb!xxxxxxxxx!}\\verb|2|\\phantom{\\verb!xxxxx!}\\verb|2|\\phantom{\\verb!xxxxx!}\\verb|3|\\phantom{\\verb!xxxxx!}\\verb|2|\\phantom{\\verb!xxxxx!}\\verb|2|\\phantom{\\verb!xxxxx!}\\verb|2|\\phantom{\\verb!xxxxx!}\\verb|3|\\phantom{\\verb!xxxxx!}\\verb|3|\\phantom{\\verb!xxxxx!}\\verb|3|\\\\\n",
       "\\verb|2|\\phantom{\\verb!xxxxxxxxx!}\\verb|3|\\phantom{\\verb!xxxxx!}\\verb|2|\\phantom{\\verb!xxxxx!}\\verb|1|\\phantom{\\verb!xxxxx!}\\verb|1|\\phantom{\\verb!xxxxx!}\\verb|1|\\phantom{\\verb!xxxxx!}\\verb|1|\\phantom{\\verb!xxxxx!}\\verb|2|\\phantom{\\verb!xxxxx!}\\verb|2|\\phantom{\\verb!xxxxx!}\\verb|2|\\\\\n",
       "\\verb|3|\\phantom{\\verb!xxxxxxxxx!}\\verb|4|\\phantom{\\verb!xxxxx!}\\verb|3|\\phantom{\\verb!xxxxx!}\\verb|1|\\phantom{\\verb!xxxxx!}\\verb|2|\\phantom{\\verb!xxxxx!}\\verb|2|\\phantom{\\verb!xxxxx!}\\verb|1|\\phantom{\\verb!xxxxx!}\\verb|2|\\phantom{\\verb!xxxxx!}\\verb|2|\\phantom{\\verb!xxxxx!}\\verb|3|\\\\\n",
       "\\verb|4|\\phantom{\\verb!xxxxxxxxx!}\\verb|5|\\phantom{\\verb!xxxxx!}\\verb|3|\\phantom{\\verb!xxxxx!}\\verb|2|\\phantom{\\verb!xxxxx!}\\verb|2|\\phantom{\\verb!xxxxx!}\\verb|1|\\phantom{\\verb!xxxxx!}\\verb|3|\\phantom{\\verb!xxxxx!}\\verb|1|\\phantom{\\verb!xxxxx!}\\verb|1|\\phantom{\\verb!xxxxx!}\\verb|3|\\\\\n",
       "\\verb|5|\\phantom{\\verb!xxxxxxxxx!}\\verb|6|\\phantom{\\verb!xxxxx!}\\verb|1|\\phantom{\\verb!xxxxx!}\\verb|2|\\phantom{\\verb!xxxxx!}\\verb|2|\\phantom{\\verb!xxxxx!}\\verb|1|\\phantom{\\verb!xxxxx!}\\verb|3|\\phantom{\\verb!xxxxx!}\\verb|2|\\phantom{\\verb!xxxxx!}\\verb|2|\\phantom{\\verb!xxxxx!}\\verb|3|\\\\\n",
       "\\verb|6|\\phantom{\\verb!xxxxxxxxx!}\\verb|7|\\phantom{\\verb!xxxxx!}\\verb|1|\\phantom{\\verb!xxxxx!}\\verb|2|\\phantom{\\verb!xxxxx!}\\verb|1|\\phantom{\\verb!xxxxx!}\\verb|1|\\phantom{\\verb!xxxxx!}\\verb|1|\\phantom{\\verb!xxxxx!}\\verb|2|\\phantom{\\verb!xxxxx!}\\verb|3|\\phantom{\\verb!xxxxx!}\\verb|3|\\\\\n",
       "\\verb|7|\\phantom{\\verb!xxxxxxxxx!}\\verb|8|\\phantom{\\verb!xxxxx!}\\verb|1|\\phantom{\\verb!xxxxx!}\\verb|2|\\phantom{\\verb!xxxxx!}\\verb|1|\\phantom{\\verb!xxxxx!}\\verb|1|\\phantom{\\verb!xxxxx!}\\verb|1|\\phantom{\\verb!xxxxx!}\\verb|2|\\phantom{\\verb!xxxxx!}\\verb|3|\\phantom{\\verb!xxxxx!}\\verb|3|\\\\\n",
       "\\verb|8|\\phantom{\\verb!xxxxxxxxx!}\\verb|9|\\phantom{\\verb!xxxxx!}\\verb|1|\\phantom{\\verb!xxxxx!}\\verb|2|\\phantom{\\verb!xxxxx!}\\verb|1|\\phantom{\\verb!xxxxx!}\\verb|1|\\phantom{\\verb!xxxxx!}\\verb|1|\\phantom{\\verb!xxxxx!}\\verb|2|\\phantom{\\verb!xxxxx!}\\verb|3|\\phantom{\\verb!xxxxx!}\\verb|3|\\\\\n",
       "\\verb|9|\\phantom{\\verb!xxxxxxxx!}\\verb|10|\\phantom{\\verb!xxxxx!}\\verb|1|\\phantom{\\verb!xxxxx!}\\verb|1|\\phantom{\\verb!xxxxx!}\\verb|1|\\phantom{\\verb!xxxxx!}\\verb|1|\\phantom{\\verb!xxxxx!}\\verb|1|\\phantom{\\verb!xxxxx!}\\verb|2|\\phantom{\\verb!xxxxx!}\\verb|1|\\phantom{\\verb!xxxxx!}\\verb|3|\\\\\n",
       "\\verb|10|\\phantom{\\verb!xxxxxxx!}\\verb|11|\\phantom{\\verb!xxxxx!}\\verb|1|\\phantom{\\verb!xxxxx!}\\verb|2|\\phantom{\\verb!xxxxx!}\\verb|1|\\phantom{\\verb!xxxxx!}\\verb|1|\\phantom{\\verb!xxxxx!}\\verb|1|\\phantom{\\verb!xxxxx!}\\verb|1|\\phantom{\\verb!xxxxx!}\\verb|1|\\phantom{\\verb!xxxxx!}\\verb|3|\\\\\n",
       "\\verb|11|\\phantom{\\verb!xxxxxxx!}\\verb|12|\\phantom{\\verb!xxxxx!}\\verb|3|\\phantom{\\verb!xxxxx!}\\verb|2|\\phantom{\\verb!xxxxx!}\\verb|1|\\phantom{\\verb!xxxxx!}\\verb|1|\\phantom{\\verb!xxxxx!}\\verb|1|\\phantom{\\verb!xxxxx!}\\verb|2|\\phantom{\\verb!xxxxx!}\\verb|1|\\phantom{\\verb!xxxxx!}\\verb|3|\\\\\n",
       "\\verb|12|\\phantom{\\verb!xxxxxxx!}\\verb|13|\\phantom{\\verb!xxxxx!}\\verb|3|\\phantom{\\verb!xxxxx!}\\verb|2|\\phantom{\\verb!xxxxx!}\\verb|2|\\phantom{\\verb!xxxxx!}\\verb|2|\\phantom{\\verb!xxxxx!}\\verb|3|\\phantom{\\verb!xxxxx!}\\verb|2|\\phantom{\\verb!xxxxx!}\\verb|2|\\phantom{\\verb!xxxxx!}\\verb|3|\\\\\n",
       "\\verb|13|\\phantom{\\verb!xxxxxxx!}\\verb|14|\\phantom{\\verb!xxxxx!}\\verb|1|\\phantom{\\verb!xxxxx!}\\verb|2|\\phantom{\\verb!xxxxx!}\\verb|1|\\phantom{\\verb!xxxxx!}\\verb|1|\\phantom{\\verb!xxxxx!}\\verb|1|\\phantom{\\verb!xxxxx!}\\verb|2|\\phantom{\\verb!xxxxx!}\\verb|1|\\phantom{\\verb!xxxxx!}\\verb|3|\\\\\n",
       "\\verb|14|\\phantom{\\verb!xxxxxxx!}\\verb|15|\\phantom{\\verb!xxxxx!}\\verb|1|\\phantom{\\verb!xxxxx!}\\verb|2|\\phantom{\\verb!xxxxx!}\\verb|1|\\phantom{\\verb!xxxxx!}\\verb|1|\\phantom{\\verb!xxxxx!}\\verb|1|\\phantom{\\verb!xxxxx!}\\verb|2|\\phantom{\\verb!xxxxx!}\\verb|1|\\phantom{\\verb!xxxxx!}\\verb|3|\\\\\n",
       "\\verb|15|\\phantom{\\verb!xxxxxxx!}\\verb|16|\\phantom{\\verb!xxxxx!}\\verb|1|\\phantom{\\verb!xxxxx!}\\verb|2|\\phantom{\\verb!xxxxx!}\\verb|1|\\phantom{\\verb!xxxxx!}\\verb|1|\\phantom{\\verb!xxxxx!}\\verb|1|\\phantom{\\verb!xxxxx!}\\verb|2|\\phantom{\\verb!xxxxx!}\\verb|1|\\phantom{\\verb!xxxxx!}\\verb|3|\\\\\n",
       "\\verb|16|\\phantom{\\verb!xxxxxxx!}\\verb|17|\\phantom{\\verb!xxxxx!}\\verb|1|\\phantom{\\verb!xxxxx!}\\verb|2|\\phantom{\\verb!xxxxx!}\\verb|1|\\phantom{\\verb!xxxxx!}\\verb|1|\\phantom{\\verb!xxxxx!}\\verb|1|\\phantom{\\verb!xxxxx!}\\verb|2|\\phantom{\\verb!xxxxx!}\\verb|1|\\phantom{\\verb!xxxxx!}\\verb|3|\\\\\n",
       "\\verb|17|\\phantom{\\verb!xxxxxxx!}\\verb|18|\\phantom{\\verb!xxxxx!}\\verb|1|\\phantom{\\verb!xxxxx!}\\verb|2|\\phantom{\\verb!xxxxx!}\\verb|1|\\phantom{\\verb!xxxxx!}\\verb|1|\\phantom{\\verb!xxxxx!}\\verb|1|\\phantom{\\verb!xxxxx!}\\verb|2|\\phantom{\\verb!xxxxx!}\\verb|1|\\phantom{\\verb!xxxxx!}\\verb|3|\\\\\n",
       "\\verb|18|\\phantom{\\verb!xxxxxxx!}\\verb|19|\\phantom{\\verb!xxxxx!}\\verb|1|\\phantom{\\verb!xxxxx!}\\verb|2|\\phantom{\\verb!xxxxx!}\\verb|1|\\phantom{\\verb!xxxxx!}\\verb|1|\\phantom{\\verb!xxxxx!}\\verb|1|\\phantom{\\verb!xxxxx!}\\verb|2|\\phantom{\\verb!xxxxx!}\\verb|1|\\phantom{\\verb!xxxxx!}\\verb|3|\\\\\n",
       "\\verb|19|\\phantom{\\verb!xxxxxxx!}\\verb|20|\\phantom{\\verb!xxxxx!}\\verb|1|\\phantom{\\verb!xxxxx!}\\verb|2|\\phantom{\\verb!xxxxx!}\\verb|1|\\phantom{\\verb!xxxxx!}\\verb|1|\\phantom{\\verb!xxxxx!}\\verb|1|\\phantom{\\verb!xxxxx!}\\verb|2|\\phantom{\\verb!xxxxx!}\\verb|1|\\phantom{\\verb!xxxxx!}\\verb|3|\\\\\n",
       "\\verb|20|\\phantom{\\verb!xxxxxxx!}\\verb|21|\\phantom{\\verb!xxxxx!}\\verb|3|\\phantom{\\verb!xxxxx!}\\verb|1|\\phantom{\\verb!xxxxx!}\\verb|1|\\phantom{\\verb!xxxxx!}\\verb|1|\\phantom{\\verb!xxxxx!}\\verb|3|\\phantom{\\verb!xxxxx!}\\verb|1|\\phantom{\\verb!xxxxx!}\\verb|1|\\phantom{\\verb!xxxxx!}\\verb|3|\\\\\n",
       "\\verb|21|\\phantom{\\verb!xxxxxxx!}\\verb|22|\\phantom{\\verb!xxxxx!}\\verb|3|\\phantom{\\verb!xxxxx!}\\verb|2|\\phantom{\\verb!xxxxx!}\\verb|2|\\phantom{\\verb!xxxxx!}\\verb|1|\\phantom{\\verb!xxxxx!}\\verb|3|\\phantom{\\verb!xxxxx!}\\verb|2|\\phantom{\\verb!xxxxx!}\\verb|2|\\phantom{\\verb!xxxxx!}\\verb|3|\\\\\n",
       "\\verb|22|\\phantom{\\verb!xxxxxxx!}\\verb|23|\\phantom{\\verb!xxxxx!}\\verb|1|\\phantom{\\verb!xxxxx!}\\verb|2|\\phantom{\\verb!xxxxx!}\\verb|1|\\phantom{\\verb!xxxxx!}\\verb|1|\\phantom{\\verb!xxxxx!}\\verb|3|\\phantom{\\verb!xxxxx!}\\verb|2|\\phantom{\\verb!xxxxx!}\\verb|2|\\phantom{\\verb!xxxxx!}\\verb|3|\\\\\n",
       "\\verb|23|\\phantom{\\verb!xxxxxxx!}\\verb|24|\\phantom{\\verb!xxxxx!}\\verb|1|\\phantom{\\verb!xxxxx!}\\verb|2|\\phantom{\\verb!xxxxx!}\\verb|1|\\phantom{\\verb!xxxxx!}\\verb|1|\\phantom{\\verb!xxxxx!}\\verb|3|\\phantom{\\verb!xxxxx!}\\verb|2|\\phantom{\\verb!xxxxx!}\\verb|2|\\phantom{\\verb!xxxxx!}\\verb|3|\\\\\n",
       "\\verb|24|\\phantom{\\verb!xxxxxxx!}\\verb|25|\\phantom{\\verb!xxxxx!}\\verb|1|\\phantom{\\verb!xxxxx!}\\verb|2|\\phantom{\\verb!xxxxx!}\\verb|1|\\phantom{\\verb!xxxxx!}\\verb|1|\\phantom{\\verb!xxxxx!}\\verb|3|\\phantom{\\verb!xxxxx!}\\verb|2|\\phantom{\\verb!xxxxx!}\\verb|2|\\phantom{\\verb!xxxxx!}\\verb|3|\\\\\n",
       "\\verb|25|\\phantom{\\verb!xxxxxxx!}\\verb|26|\\phantom{\\verb!xxxxx!}\\verb|1|\\phantom{\\verb!xxxxx!}\\verb|2|\\phantom{\\verb!xxxxx!}\\verb|1|\\phantom{\\verb!xxxxx!}\\verb|1|\\phantom{\\verb!xxxxx!}\\verb|3|\\phantom{\\verb!xxxxx!}\\verb|2|\\phantom{\\verb!xxxxx!}\\verb|2|\\phantom{\\verb!xxxxx!}\\verb|3|\\\\\n",
       "\\verb|26|\\phantom{\\verb!xxxxxxx!}\\verb|27|\\phantom{\\verb!xxxxx!}\\verb|1|\\phantom{\\verb!xxxxx!}\\verb|1|\\phantom{\\verb!xxxxx!}\\verb|1|\\phantom{\\verb!xxxxx!}\\verb|1|\\phantom{\\verb!xxxxx!}\\verb|1|\\phantom{\\verb!xxxxx!}\\verb|2|\\phantom{\\verb!xxxxx!}\\verb|2|\\phantom{\\verb!xxxxx!}\\verb|3|\\\\\n",
       "\\verb|27|\\phantom{\\verb!xxxxxxx!}\\verb|28|\\phantom{\\verb!xxxxx!}\\verb|1|\\phantom{\\verb!xxxxx!}\\verb|2|\\phantom{\\verb!xxxxx!}\\verb|1|\\phantom{\\verb!xxxxx!}\\verb|1|\\phantom{\\verb!xxxxx!}\\verb|3|\\phantom{\\verb!xxxxx!}\\verb|2|\\phantom{\\verb!xxxxx!}\\verb|2|\\phantom{\\verb!xxxxx!}\\verb|3|\\\\\n",
       "\\verb|28|\\phantom{\\verb!xxxxxxx!}\\verb|29|\\phantom{\\verb!xxxxx!}\\verb|1|\\phantom{\\verb!xxxxx!}\\verb|2|\\phantom{\\verb!xxxxx!}\\verb|1|\\phantom{\\verb!xxxxx!}\\verb|1|\\phantom{\\verb!xxxxx!}\\verb|3|\\phantom{\\verb!xxxxx!}\\verb|2|\\phantom{\\verb!xxxxx!}\\verb|2|\\phantom{\\verb!xxxxx!}\\verb|3|\\\\\n",
       "\\verb|29|\\phantom{\\verb!xxxxxxx!}\\verb|30|\\phantom{\\verb!xxxxx!}\\verb|1|\\phantom{\\verb!xxxxx!}\\verb|2|\\phantom{\\verb!xxxxx!}\\verb|1|\\phantom{\\verb!xxxxx!}\\verb|1|\\phantom{\\verb!xxxxx!}\\verb|3|\\phantom{\\verb!xxxxx!}\\verb|2|\\phantom{\\verb!xxxxx!}\\verb|2|\\phantom{\\verb!xxxxx!}\\verb|3|\\\\\n",
       "\\verb|..|\\phantom{\\verb!xxxxxx!}\\verb|...|\\phantom{\\verb!xxx!}\\verb|...|\\phantom{\\verb!xxx!}\\verb|...|\\phantom{\\verb!xxx!}\\verb|...|\\phantom{\\verb!xxx!}\\verb|...|\\phantom{\\verb!xxx!}\\verb|...|\\phantom{\\verb!xxx!}\\verb|...|\\phantom{\\verb!xxx!}\\verb|...|\\phantom{\\verb!xxx!}\\verb|...|\\\\\n",
       "\\verb|50|\\phantom{\\verb!xxxxxxx!}\\verb|51|\\phantom{\\verb!xxxxx!}\\verb|1|\\phantom{\\verb!xxxxx!}\\verb|2|\\phantom{\\verb!xxxxx!}\\verb|1|\\phantom{\\verb!xxxxx!}\\verb|1|\\phantom{\\verb!xxxxx!}\\verb|1|\\phantom{\\verb!xxxxx!}\\verb|1|\\phantom{\\verb!xxxxx!}\\verb|2|\\phantom{\\verb!xxxxx!}\\verb|3|\\\\\n",
       "\\verb|51|\\phantom{\\verb!xxxxxxx!}\\verb|52|\\phantom{\\verb!xxxxx!}\\verb|1|\\phantom{\\verb!xxxxx!}\\verb|2|\\phantom{\\verb!xxxxx!}\\verb|1|\\phantom{\\verb!xxxxx!}\\verb|1|\\phantom{\\verb!xxxxx!}\\verb|1|\\phantom{\\verb!xxxxx!}\\verb|1|\\phantom{\\verb!xxxxx!}\\verb|2|\\phantom{\\verb!xxxxx!}\\verb|3|\\\\\n",
       "\\verb|52|\\phantom{\\verb!xxxxxxx!}\\verb|53|\\phantom{\\verb!xxxxx!}\\verb|1|\\phantom{\\verb!xxxxx!}\\verb|2|\\phantom{\\verb!xxxxx!}\\verb|1|\\phantom{\\verb!xxxxx!}\\verb|1|\\phantom{\\verb!xxxxx!}\\verb|1|\\phantom{\\verb!xxxxx!}\\verb|1|\\phantom{\\verb!xxxxx!}\\verb|2|\\phantom{\\verb!xxxxx!}\\verb|3|\\\\\n",
       "\\verb|53|\\phantom{\\verb!xxxxxxx!}\\verb|54|\\phantom{\\verb!xxxxx!}\\verb|1|\\phantom{\\verb!xxxxx!}\\verb|2|\\phantom{\\verb!xxxxx!}\\verb|1|\\phantom{\\verb!xxxxx!}\\verb|1|\\phantom{\\verb!xxxxx!}\\verb|1|\\phantom{\\verb!xxxxx!}\\verb|1|\\phantom{\\verb!xxxxx!}\\verb|2|\\phantom{\\verb!xxxxx!}\\verb|3|\\\\\n",
       "\\verb|54|\\phantom{\\verb!xxxxxxx!}\\verb|55|\\phantom{\\verb!xxxxx!}\\verb|1|\\phantom{\\verb!xxxxx!}\\verb|2|\\phantom{\\verb!xxxxx!}\\verb|1|\\phantom{\\verb!xxxxx!}\\verb|1|\\phantom{\\verb!xxxxx!}\\verb|1|\\phantom{\\verb!xxxxx!}\\verb|1|\\phantom{\\verb!xxxxx!}\\verb|2|\\phantom{\\verb!xxxxx!}\\verb|3|\\\\\n",
       "\\verb|55|\\phantom{\\verb!xxxxxxx!}\\verb|56|\\phantom{\\verb!xxxxx!}\\verb|1|\\phantom{\\verb!xxxxx!}\\verb|2|\\phantom{\\verb!xxxxx!}\\verb|1|\\phantom{\\verb!xxxxx!}\\verb|1|\\phantom{\\verb!xxxxx!}\\verb|1|\\phantom{\\verb!xxxxx!}\\verb|1|\\phantom{\\verb!xxxxx!}\\verb|2|\\phantom{\\verb!xxxxx!}\\verb|3|\\\\\n",
       "\\verb|56|\\phantom{\\verb!xxxxxxx!}\\verb|57|\\phantom{\\verb!xxxxx!}\\verb|1|\\phantom{\\verb!xxxxx!}\\verb|2|\\phantom{\\verb!xxxxx!}\\verb|1|\\phantom{\\verb!xxxxx!}\\verb|1|\\phantom{\\verb!xxxxx!}\\verb|1|\\phantom{\\verb!xxxxx!}\\verb|1|\\phantom{\\verb!xxxxx!}\\verb|2|\\phantom{\\verb!xxxxx!}\\verb|3|\\\\\n",
       "\\verb|57|\\phantom{\\verb!xxxxxxx!}\\verb|58|\\phantom{\\verb!xxxxx!}\\verb|1|\\phantom{\\verb!xxxxx!}\\verb|2|\\phantom{\\verb!xxxxx!}\\verb|1|\\phantom{\\verb!xxxxx!}\\verb|1|\\phantom{\\verb!xxxxx!}\\verb|1|\\phantom{\\verb!xxxxx!}\\verb|1|\\phantom{\\verb!xxxxx!}\\verb|2|\\phantom{\\verb!xxxxx!}\\verb|3|\\\\\n",
       "\\verb|58|\\phantom{\\verb!xxxxxxx!}\\verb|59|\\phantom{\\verb!xxxxx!}\\verb|1|\\phantom{\\verb!xxxxx!}\\verb|2|\\phantom{\\verb!xxxxx!}\\verb|1|\\phantom{\\verb!xxxxx!}\\verb|1|\\phantom{\\verb!xxxxx!}\\verb|1|\\phantom{\\verb!xxxxx!}\\verb|1|\\phantom{\\verb!xxxxx!}\\verb|2|\\phantom{\\verb!xxxxx!}\\verb|3|\\\\\n",
       "\\verb|59|\\phantom{\\verb!xxxxxxx!}\\verb|60|\\phantom{\\verb!xxxxx!}\\verb|1|\\phantom{\\verb!xxxxx!}\\verb|2|\\phantom{\\verb!xxxxx!}\\verb|1|\\phantom{\\verb!xxxxx!}\\verb|1|\\phantom{\\verb!xxxxx!}\\verb|1|\\phantom{\\verb!xxxxx!}\\verb|1|\\phantom{\\verb!xxxxx!}\\verb|2|\\phantom{\\verb!xxxxx!}\\verb|3|\\\\\n",
       "\\verb|60|\\phantom{\\verb!xxxxxxx!}\\verb|61|\\phantom{\\verb!xxxxx!}\\verb|1|\\phantom{\\verb!xxxxx!}\\verb|2|\\phantom{\\verb!xxxxx!}\\verb|1|\\phantom{\\verb!xxxxx!}\\verb|1|\\phantom{\\verb!xxxxx!}\\verb|1|\\phantom{\\verb!xxxxx!}\\verb|1|\\phantom{\\verb!xxxxx!}\\verb|2|\\phantom{\\verb!xxxxx!}\\verb|3|\\\\\n",
       "\\verb|61|\\phantom{\\verb!xxxxxxx!}\\verb|62|\\phantom{\\verb!xxxxx!}\\verb|1|\\phantom{\\verb!xxxxx!}\\verb|2|\\phantom{\\verb!xxxxx!}\\verb|1|\\phantom{\\verb!xxxxx!}\\verb|1|\\phantom{\\verb!xxxxx!}\\verb|1|\\phantom{\\verb!xxxxx!}\\verb|1|\\phantom{\\verb!xxxxx!}\\verb|2|\\phantom{\\verb!xxxxx!}\\verb|3|\\\\\n",
       "\\verb|62|\\phantom{\\verb!xxxxxxx!}\\verb|63|\\phantom{\\verb!xxxxx!}\\verb|3|\\phantom{\\verb!xxxxx!}\\verb|2|\\phantom{\\verb!xxxxx!}\\verb|1|\\phantom{\\verb!xxxxx!}\\verb|1|\\phantom{\\verb!xxxxx!}\\verb|3|\\phantom{\\verb!xxxxx!}\\verb|1|\\phantom{\\verb!xxxxx!}\\verb|2|\\phantom{\\verb!xxxxx!}\\verb|3|\\\\\n",
       "\\verb|63|\\phantom{\\verb!xxxxxxx!}\\verb|64|\\phantom{\\verb!xxxxx!}\\verb|3|\\phantom{\\verb!xxxxx!}\\verb|2|\\phantom{\\verb!xxxxx!}\\verb|1|\\phantom{\\verb!xxxxx!}\\verb|1|\\phantom{\\verb!xxxxx!}\\verb|3|\\phantom{\\verb!xxxxx!}\\verb|1|\\phantom{\\verb!xxxxx!}\\verb|2|\\phantom{\\verb!xxxxx!}\\verb|3|\\\\\n",
       "\\verb|64|\\phantom{\\verb!xxxxxxx!}\\verb|65|\\phantom{\\verb!xxxxx!}\\verb|1|\\phantom{\\verb!xxxxx!}\\verb|2|\\phantom{\\verb!xxxxx!}\\verb|1|\\phantom{\\verb!xxxxx!}\\verb|1|\\phantom{\\verb!xxxxx!}\\verb|3|\\phantom{\\verb!xxxxx!}\\verb|3|\\phantom{\\verb!xxxxx!}\\verb|2|\\phantom{\\verb!xxxxx!}\\verb|3|\\\\\n",
       "\\verb|65|\\phantom{\\verb!xxxxxxx!}\\verb|66|\\phantom{\\verb!xxxxx!}\\verb|1|\\phantom{\\verb!xxxxx!}\\verb|2|\\phantom{\\verb!xxxxx!}\\verb|1|\\phantom{\\verb!xxxxx!}\\verb|1|\\phantom{\\verb!xxxxx!}\\verb|3|\\phantom{\\verb!xxxxx!}\\verb|3|\\phantom{\\verb!xxxxx!}\\verb|2|\\phantom{\\verb!xxxxx!}\\verb|3|\\\\\n",
       "\\verb|66|\\phantom{\\verb!xxxxxxx!}\\verb|67|\\phantom{\\verb!xxxxx!}\\verb|1|\\phantom{\\verb!xxxxx!}\\verb|2|\\phantom{\\verb!xxxxx!}\\verb|1|\\phantom{\\verb!xxxxx!}\\verb|1|\\phantom{\\verb!xxxxx!}\\verb|3|\\phantom{\\verb!xxxxx!}\\verb|1|\\phantom{\\verb!xxxxx!}\\verb|1|\\phantom{\\verb!xxxxx!}\\verb|3|\\\\\n",
       "\\verb|67|\\phantom{\\verb!xxxxxxx!}\\verb|68|\\phantom{\\verb!xxxxx!}\\verb|1|\\phantom{\\verb!xxxxx!}\\verb|2|\\phantom{\\verb!xxxxx!}\\verb|1|\\phantom{\\verb!xxxxx!}\\verb|1|\\phantom{\\verb!xxxxx!}\\verb|3|\\phantom{\\verb!xxxxx!}\\verb|1|\\phantom{\\verb!xxxxx!}\\verb|2|\\phantom{\\verb!xxxxx!}\\verb|3|\\\\\n",
       "\\verb|68|\\phantom{\\verb!xxxxxxx!}\\verb|69|\\phantom{\\verb!xxxxx!}\\verb|1|\\phantom{\\verb!xxxxx!}\\verb|2|\\phantom{\\verb!xxxxx!}\\verb|1|\\phantom{\\verb!xxxxx!}\\verb|1|\\phantom{\\verb!xxxxx!}\\verb|3|\\phantom{\\verb!xxxxx!}\\verb|1|\\phantom{\\verb!xxxxx!}\\verb|2|\\phantom{\\verb!xxxxx!}\\verb|3|\\\\\n",
       "\\verb|69|\\phantom{\\verb!xxxxxxx!}\\verb|70|\\phantom{\\verb!xxxxx!}\\verb|1|\\phantom{\\verb!xxxxx!}\\verb|2|\\phantom{\\verb!xxxxx!}\\verb|1|\\phantom{\\verb!xxxxx!}\\verb|1|\\phantom{\\verb!xxxxx!}\\verb|3|\\phantom{\\verb!xxxxx!}\\verb|1|\\phantom{\\verb!xxxxx!}\\verb|2|\\phantom{\\verb!xxxxx!}\\verb|3|\\\\\n",
       "\\verb|70|\\phantom{\\verb!xxxxxxx!}\\verb|71|\\phantom{\\verb!xxxxx!}\\verb|1|\\phantom{\\verb!xxxxx!}\\verb|2|\\phantom{\\verb!xxxxx!}\\verb|1|\\phantom{\\verb!xxxxx!}\\verb|1|\\phantom{\\verb!xxxxx!}\\verb|3|\\phantom{\\verb!xxxxx!}\\verb|1|\\phantom{\\verb!xxxxx!}\\verb|2|\\phantom{\\verb!xxxxx!}\\verb|3|\\\\\n",
       "\\verb|71|\\phantom{\\verb!xxxxxxx!}\\verb|72|\\phantom{\\verb!xxxxx!}\\verb|1|\\phantom{\\verb!xxxxx!}\\verb|2|\\phantom{\\verb!xxxxx!}\\verb|1|\\phantom{\\verb!xxxxx!}\\verb|1|\\phantom{\\verb!xxxxx!}\\verb|3|\\phantom{\\verb!xxxxx!}\\verb|1|\\phantom{\\verb!xxxxx!}\\verb|2|\\phantom{\\verb!xxxxx!}\\verb|3|\\\\\n",
       "\\verb|72|\\phantom{\\verb!xxxxxxx!}\\verb|73|\\phantom{\\verb!xxxxx!}\\verb|1|\\phantom{\\verb!xxxxx!}\\verb|2|\\phantom{\\verb!xxxxx!}\\verb|1|\\phantom{\\verb!xxxxx!}\\verb|1|\\phantom{\\verb!xxxxx!}\\verb|3|\\phantom{\\verb!xxxxx!}\\verb|1|\\phantom{\\verb!xxxxx!}\\verb|2|\\phantom{\\verb!xxxxx!}\\verb|3|\\\\\n",
       "\\verb|73|\\phantom{\\verb!xxxxxxx!}\\verb|74|\\phantom{\\verb!xxxxx!}\\verb|1|\\phantom{\\verb!xxxxx!}\\verb|2|\\phantom{\\verb!xxxxx!}\\verb|1|\\phantom{\\verb!xxxxx!}\\verb|1|\\phantom{\\verb!xxxxx!}\\verb|3|\\phantom{\\verb!xxxxx!}\\verb|1|\\phantom{\\verb!xxxxx!}\\verb|2|\\phantom{\\verb!xxxxx!}\\verb|3|\\\\\n",
       "\\verb|74|\\phantom{\\verb!xxxxxxx!}\\verb|75|\\phantom{\\verb!xxxxx!}\\verb|1|\\phantom{\\verb!xxxxx!}\\verb|2|\\phantom{\\verb!xxxxx!}\\verb|1|\\phantom{\\verb!xxxxx!}\\verb|1|\\phantom{\\verb!xxxxx!}\\verb|3|\\phantom{\\verb!xxxxx!}\\verb|1|\\phantom{\\verb!xxxxx!}\\verb|2|\\phantom{\\verb!xxxxx!}\\verb|3|\\\\\n",
       "\\verb|75|\\phantom{\\verb!xxxxxxx!}\\verb|76|\\phantom{\\verb!xxxxx!}\\verb|1|\\phantom{\\verb!xxxxx!}\\verb|2|\\phantom{\\verb!xxxxx!}\\verb|1|\\phantom{\\verb!xxxxx!}\\verb|1|\\phantom{\\verb!xxxxx!}\\verb|3|\\phantom{\\verb!xxxxx!}\\verb|1|\\phantom{\\verb!xxxxx!}\\verb|2|\\phantom{\\verb!xxxxx!}\\verb|3|\\\\\n",
       "\\verb|76|\\phantom{\\verb!xxxxxxx!}\\verb|77|\\phantom{\\verb!xxxxx!}\\verb|1|\\phantom{\\verb!xxxxx!}\\verb|2|\\phantom{\\verb!xxxxx!}\\verb|1|\\phantom{\\verb!xxxxx!}\\verb|1|\\phantom{\\verb!xxxxx!}\\verb|3|\\phantom{\\verb!xxxxx!}\\verb|1|\\phantom{\\verb!xxxxx!}\\verb|2|\\phantom{\\verb!xxxxx!}\\verb|3|\\\\\n",
       "\\verb|77|\\phantom{\\verb!xxxxxxx!}\\verb|78|\\phantom{\\verb!xxxxx!}\\verb|1|\\phantom{\\verb!xxxxx!}\\verb|2|\\phantom{\\verb!xxxxx!}\\verb|1|\\phantom{\\verb!xxxxx!}\\verb|1|\\phantom{\\verb!xxxxx!}\\verb|3|\\phantom{\\verb!xxxxx!}\\verb|1|\\phantom{\\verb!xxxxx!}\\verb|2|\\phantom{\\verb!xxxxx!}\\verb|3|\\\\\n",
       "\\verb|78|\\phantom{\\verb!xxxxxxx!}\\verb|79|\\phantom{\\verb!xxxxx!}\\verb|1|\\phantom{\\verb!xxxxx!}\\verb|2|\\phantom{\\verb!xxxxx!}\\verb|1|\\phantom{\\verb!xxxxx!}\\verb|1|\\phantom{\\verb!xxxxx!}\\verb|3|\\phantom{\\verb!xxxxx!}\\verb|1|\\phantom{\\verb!xxxxx!}\\verb|2|\\phantom{\\verb!xxxxx!}\\verb|3|\\\\\n",
       "\\verb|79|\\phantom{\\verb!xxxxxxx!}\\verb|80|\\phantom{\\verb!xxxxx!}\\verb|1|\\phantom{\\verb!xxxxx!}\\verb|2|\\phantom{\\verb!xxxxx!}\\verb|1|\\phantom{\\verb!xxxxx!}\\verb|1|\\phantom{\\verb!xxxxx!}\\verb|3|\\phantom{\\verb!xxxxx!}\\verb|1|\\phantom{\\verb!xxxxx!}\\verb|2|\\phantom{\\verb!xxxxx!}\\verb|3|\\\\\n",
       "\\phantom{\\verb!x!}\\\\\n",
       "\\verb|[80|\\phantom{\\verb!x!}\\verb|rows|\\phantom{\\verb!x!}\\verb|x|\\phantom{\\verb!x!}\\verb|9|\\phantom{\\verb!x!}\\verb|columns]|\n",
       "\\end{array}</script></html>"
      ],
      "text/plain": [
       "    Subject  G1P1  G1P2  G1P3  G1P4  G2P1  G2P2  G2P3  G2P4\n",
       "0         1     1     3     2     3     1     1     2     3\n",
       "1         2     2     3     2     2     2     3     3     3\n",
       "2         3     2     1     1     1     1     2     2     2\n",
       "3         4     3     1     2     2     1     2     2     3\n",
       "4         5     3     2     2     1     3     1     1     3\n",
       "5         6     1     2     2     1     3     2     2     3\n",
       "6         7     1     2     1     1     1     2     3     3\n",
       "7         8     1     2     1     1     1     2     3     3\n",
       "8         9     1     2     1     1     1     2     3     3\n",
       "9        10     1     1     1     1     1     2     1     3\n",
       "10       11     1     2     1     1     1     1     1     3\n",
       "11       12     3     2     1     1     1     2     1     3\n",
       "12       13     3     2     2     2     3     2     2     3\n",
       "13       14     1     2     1     1     1     2     1     3\n",
       "14       15     1     2     1     1     1     2     1     3\n",
       "15       16     1     2     1     1     1     2     1     3\n",
       "16       17     1     2     1     1     1     2     1     3\n",
       "17       18     1     2     1     1     1     2     1     3\n",
       "18       19     1     2     1     1     1     2     1     3\n",
       "19       20     1     2     1     1     1     2     1     3\n",
       "20       21     3     1     1     1     3     1     1     3\n",
       "21       22     3     2     2     1     3     2     2     3\n",
       "22       23     1     2     1     1     3     2     2     3\n",
       "23       24     1     2     1     1     3     2     2     3\n",
       "24       25     1     2     1     1     3     2     2     3\n",
       "25       26     1     2     1     1     3     2     2     3\n",
       "26       27     1     1     1     1     1     2     2     3\n",
       "27       28     1     2     1     1     3     2     2     3\n",
       "28       29     1     2     1     1     3     2     2     3\n",
       "29       30     1     2     1     1     3     2     2     3\n",
       "..      ...   ...   ...   ...   ...   ...   ...   ...   ...\n",
       "50       51     1     2     1     1     1     1     2     3\n",
       "51       52     1     2     1     1     1     1     2     3\n",
       "52       53     1     2     1     1     1     1     2     3\n",
       "53       54     1     2     1     1     1     1     2     3\n",
       "54       55     1     2     1     1     1     1     2     3\n",
       "55       56     1     2     1     1     1     1     2     3\n",
       "56       57     1     2     1     1     1     1     2     3\n",
       "57       58     1     2     1     1     1     1     2     3\n",
       "58       59     1     2     1     1     1     1     2     3\n",
       "59       60     1     2     1     1     1     1     2     3\n",
       "60       61     1     2     1     1     1     1     2     3\n",
       "61       62     1     2     1     1     1     1     2     3\n",
       "62       63     3     2     1     1     3     1     2     3\n",
       "63       64     3     2     1     1     3     1     2     3\n",
       "64       65     1     2     1     1     3     3     2     3\n",
       "65       66     1     2     1     1     3     3     2     3\n",
       "66       67     1     2     1     1     3     1     1     3\n",
       "67       68     1     2     1     1     3     1     2     3\n",
       "68       69     1     2     1     1     3     1     2     3\n",
       "69       70     1     2     1     1     3     1     2     3\n",
       "70       71     1     2     1     1     3     1     2     3\n",
       "71       72     1     2     1     1     3     1     2     3\n",
       "72       73     1     2     1     1     3     1     2     3\n",
       "73       74     1     2     1     1     3     1     2     3\n",
       "74       75     1     2     1     1     3     1     2     3\n",
       "75       76     1     2     1     1     3     1     2     3\n",
       "76       77     1     2     1     1     3     1     2     3\n",
       "77       78     1     2     1     1     3     1     2     3\n",
       "78       79     1     2     1     1     3     1     2     3\n",
       "79       80     1     2     1     1     3     1     2     3\n",
       "\n",
       "[80 rows x 9 columns]"
      ]
     },
     "metadata": {},
     "output_type": "display_data"
    }
   ],
   "source": [
    "show(dataset)"
   ]
  },
  {
   "cell_type": "markdown",
   "metadata": {
    "slideshow": {
     "slide_type": "slide"
    }
   },
   "source": [
    "You can find Terri's experiment at [https://montoya.econ.ubc.ca/Econ306/terri_experiment.pdf](https://montoya.econ.ubc.ca/Econ306/terri_experiment.pdf).  In the game described in that experiment, each of the lettered actions are replaced by a number, either 1,2 or 3.  For example, when a subject is playing as Player 4 in game 1, the actions k,l,m are replaced by 1,2,3 in the table above. \n",
    "\n",
    "Each player in the experiment makes 8 different choices, one is each of the four positions in experiment 1, and again each position in experiment 2.  In the table above the positions are labelled in a simple way, for example G2P2 means the position in which a player was acting as player 2 in game 2, and so on.  The numbers are interpreted as 1- top row, 2 - middle row, 3 - bottom row.  You can see what these mean by clicking on the link above which will show you a picture of the game.\n",
    "\n"
   ]
  },
  {
   "cell_type": "markdown",
   "metadata": {
    "slideshow": {
     "slide_type": "slide"
    }
   },
   "source": [
    "To see how to interpret things, Player 4 in game 1 (G1P4 in the table above) faces a payoff matrix that looks like this:\n",
    "<table> <tr><td> . </td><td>a</td><td>b</td><td>c</td></tr>\n",
    "<tr><td>K</td><td>12</td><td>16</td><td>14</td></tr>\n",
    "<tr><td>L</td><td>8</td><td>12</td><td>10</td></tr>\n",
    "<tr><td>M</td><td>6</td><td>10</td><td>8</td></tr>\n",
    "</table>\n",
    "\n",
    "The labels a, b, and c refer to the actions of player 1. The top row K is represented in the data with the numeral 1, L is 2, M is 3. Now list the columns that are contained in the table so you know how to refer to them.  You use the letters contained between the single quotes.  In the very first line, the player whose label is 1 used action 3 (M), while in the last line of data, the player has label 80, an chose action 1 when playing as player 4. \n",
    "\n"
   ]
  },
  {
   "cell_type": "markdown",
   "metadata": {},
   "source": [
    "The actions they are supposed to take are 1 in game 1 and player 1, 2 in game 1 as player 2, 1 in game 1 as player 3 and 1 in game 4.\n",
    "\n",
    "The dataset you see above is stored in something called a dataframe.  The library, pandas, that was imported above is the one used to analyze them.  A dataframe has named columns.  It is pretty easy too see what they are:"
   ]
  },
  {
   "cell_type": "code",
   "execution_count": 3,
   "metadata": {
    "collapsed": false,
    "jupyter": {
     "outputs_hidden": false
    },
    "slideshow": {
     "slide_type": "slide"
    }
   },
   "outputs": [
    {
     "data": {
      "text/plain": [
       "Index([u'Subject', u'G1P1', u'G1P2', u'G1P3', u'G1P4', u'G2P1', u'G2P2',\n",
       "       u'G2P3', u'G2P4'],\n",
       "      dtype='object')"
      ]
     },
     "execution_count": 3,
     "metadata": {},
     "output_type": "execute_result"
    }
   ],
   "source": [
    "dataset.columns"
   ]
  },
  {
   "cell_type": "markdown",
   "metadata": {},
   "source": [
    "When players are playing game 1 as player 4, they are supposed to take action 1 because it is a dominant strategy.  The first question to ask  of the data is whether they did that. One way to do that is just to draw a bar chart of the data in the column named 'G1P4'."
   ]
  },
  {
   "cell_type": "code",
   "execution_count": 23,
   "metadata": {
    "collapsed": false,
    "jupyter": {
     "outputs_hidden": false
    },
    "slideshow": {
     "slide_type": "slide"
    }
   },
   "outputs": [
    {
     "data": {
      "text/plain": [
       "<matplotlib.axes._subplots.AxesSubplot object at 0x7fe9b88fc6d0>"
      ]
     },
     "execution_count": 23,
     "metadata": {},
     "output_type": "execute_result"
    },
    {
     "data": {
      "image/png": "[encoded data removed]",
      "text/plain": [
       "<matplotlib.figure.Figure object at 0x7fe9ba53fd10>"
      ]
     },
     "metadata": {},
     "output_type": "display_data"
    }
   ],
   "source": [
    "dataset['G1P4'].value_counts().plot(kind='bar')\n"
   ]
  },
  {
   "cell_type": "markdown",
   "metadata": {},
   "source": [
    "To get the actual value counts, you do it this way:"
   ]
  },
  {
   "cell_type": "code",
   "execution_count": 5,
   "metadata": {
    "collapsed": false,
    "jupyter": {
     "outputs_hidden": false
    },
    "slideshow": {
     "slide_type": "slide"
    }
   },
   "outputs": [
    {
     "data": {
      "text/html": [
       "<html><script type=\"math/tex; mode=display\">\\newcommand{\\Bold}[1]{\\mathbf{#1}}\\begin{array}{l}\n",
       "\\verb|1|\\phantom{\\verb!xxxx!}\\verb|0.9500|\\\\\n",
       "\\verb|2|\\phantom{\\verb!xxxx!}\\verb|0.0375|\\\\\n",
       "\\verb|3|\\phantom{\\verb!xxxx!}\\verb|0.0125|\\\\\n",
       "\\verb|Name:|\\phantom{\\verb!x!}\\verb|G1P4,|\\phantom{\\verb!x!}\\verb|dtype:|\\phantom{\\verb!x!}\\verb|float64|\n",
       "\\end{array}</script></html>"
      ],
      "text/plain": [
       "1    0.9500\n",
       "2    0.0375\n",
       "3    0.0125\n",
       "Name: G1P4, dtype: float64"
      ]
     },
     "metadata": {},
     "output_type": "display_data"
    }
   ],
   "source": [
    "ds = dataset['G1P4'].value_counts(normalize=true)\n",
    "show(ds) \n"
   ]
  },
  {
   "cell_type": "markdown",
   "metadata": {},
   "source": [
    "Or, if you just want the counts themselves, you would do it this way."
   ]
  },
  {
   "cell_type": "code",
   "execution_count": 6,
   "metadata": {
    "collapsed": false,
    "jupyter": {
     "outputs_hidden": false
    },
    "slideshow": {
     "slide_type": "slide"
    }
   },
   "outputs": [
    {
     "data": {
      "text/plain": [
       "1    76\n",
       "2     3\n",
       "3     1\n",
       "Name: G1P4, dtype: int64"
      ]
     },
     "execution_count": 6,
     "metadata": {},
     "output_type": "execute_result"
    }
   ],
   "source": [
    "dataset['G1P4'].value_counts()"
   ]
  },
  {
   "cell_type": "markdown",
   "metadata": {
    "slideshow": {
     "slide_type": "slide"
    }
   },
   "source": [
    "Finally, we get something we can use in game theory.  Subjects are supposed to  us action 1 when they play as player 4.  76  our of 80 (or 95%) actually did that.\n",
    "\n",
    "Now what we would like to do is to look at subjects who acting as Player 3 and calculate the best reply against this empirical distribution.  Theoretically, a Nash equilibrium is supposed to have the property that each player correctly guesses the probablity with which their opponent will take each of his or her possible actions. If $\\pi_1, \\pi_2$ and $1-\\pi_1-\\pi_2$ are the probabilities with which subjects in the rest of the group use action 1(k) or 2(1) or 3(m), then we would use the calculation \n",
    "$$\n",
    "20\\pi_1 + 14\\pi_2 +8(1-\\pi_1-\\pi_2)\n",
    "$$ \n",
    "to be the expected payoff associated with using action 1(h).  A similar calculation applies to the other two actions 2 and 3 (j or k in the reading).\n",
    "\n",
    "\n",
    "Now revert to sagemath to do the calculation as follows."
   ]
  },
  {
   "cell_type": "code",
   "execution_count": 7,
   "metadata": {
    "collapsed": false,
    "jupyter": {
     "outputs_hidden": false
    },
    "slideshow": {
     "slide_type": "slide"
    }
   },
   "outputs": [
    {
     "data": {
      "text/plain": [
       "19.6250000000000"
      ]
     },
     "execution_count": 7,
     "metadata": {},
     "output_type": "execute_result"
    }
   ],
   "source": [
    "n((76/80)*20+(3/80)*14+(1/80)*8)"
   ]
  },
  {
   "cell_type": "markdown",
   "metadata": {},
   "source": [
    "If you leave out the n() you get the answer as a fraction.  Now we can do the same thing for action i (2):"
   ]
  },
  {
   "cell_type": "code",
   "execution_count": 8,
   "metadata": {
    "collapsed": false,
    "jupyter": {
     "outputs_hidden": false
    },
    "slideshow": {
     "slide_type": "slide"
    }
   },
   "outputs": [
    {
     "data": {
      "text/plain": [
       "15.5000000000000"
      ]
     },
     "execution_count": 8,
     "metadata": {},
     "output_type": "execute_result"
    }
   ],
   "source": [
    "n((76/80)*16+(3/80)*2+(1/80)*18)"
   ]
  },
  {
   "cell_type": "markdown",
   "metadata": {
    "slideshow": {
     "slide_type": "slide"
    }
   },
   "source": [
    "Evidently, the best reply to the distribution of actions of the other subjects is the same as the action you get from iterated deletion of dominated strategies, at least when you are playing as Player 3.  The problem is to figure out whether this is true for the Players in the other positions and whether it is true for both games.  Use the sample code here to figure out an answer. \n",
    "<hr>\n",
    "You can change the way a bar chart is displayed.  Here is a way to make it easier to see what is going on."
   ]
  },
  {
   "cell_type": "code",
   "execution_count": 9,
   "metadata": {
    "slideshow": {
     "slide_type": "slide"
    }
   },
   "outputs": [
    {
     "data": {
      "text/plain": [
       "[Text(73,0,u' 73'), Text(7,1,u' 7')]"
      ]
     },
     "execution_count": 9,
     "metadata": {},
     "output_type": "execute_result"
    },
    {
     "data": {
      "image/png": "[encoded data removed]",
      "text/plain": [
       "<matplotlib.figure.Figure object at 0x7fe9ba77dc90>"
      ]
     },
     "metadata": {},
     "output_type": "display_data"
    }
   ],
   "source": [
    "s = dataset['G1P3'].value_counts()\n",
    "ax = s.plot(kind='barh')\n",
    "[ax.text(v, i, ' {}'.format(v)) for i, v in enumerate(s)]"
   ]
  },
  {
   "cell_type": "code",
   "execution_count": 10,
   "metadata": {
    "slideshow": {
     "slide_type": "slide"
    }
   },
   "outputs": [
    {
     "data": {
      "text/plain": [
       "[Text(72,0,u' 72'), Text(6,1,u' 6'), Text(2,2,u' 2')]"
      ]
     },
     "execution_count": 10,
     "metadata": {},
     "output_type": "execute_result"
    },
    {
     "data": {
      "image/png": "[encoded data removed]",
      "text/plain": [
       "<matplotlib.figure.Figure object at 0x7fe9ba7a8790>"
      ]
     },
     "metadata": {},
     "output_type": "display_data"
    }
   ],
   "source": [
    "s = dataset['G1P2'].value_counts()\n",
    "ax = s.plot(kind='barh')\n",
    "[ax.text(v, i, ' {}'.format(v)) for i, v in enumerate(s)]"
   ]
  },
  {
   "cell_type": "code",
   "execution_count": 11,
   "metadata": {
    "slideshow": {
     "slide_type": "slide"
    }
   },
   "outputs": [
    {
     "data": {
      "text/plain": [
       "[Text(66,0,u' 66'), Text(12,1,u' 12'), Text(2,2,u' 2')]"
      ]
     },
     "execution_count": 11,
     "metadata": {},
     "output_type": "execute_result"
    },
    {
     "data": {
      "image/png": "[encoded data removed]",
      "text/plain": [
       "<matplotlib.figure.Figure object at 0x7fe9ba4a8110>"
      ]
     },
     "metadata": {},
     "output_type": "display_data"
    }
   ],
   "source": [
    "s = dataset['G1P1'].value_counts()\n",
    "ax = s.plot(kind='barh')\n",
    "[ax.text(v, i, ' {}'.format(v)) for i, v in enumerate(s)]"
   ]
  },
  {
   "cell_type": "markdown",
   "metadata": {
    "slideshow": {
     "slide_type": "slide"
    }
   },
   "source": [
    "# Structural Estimation 1\n",
    "\n",
    "One nice property of this data and Terri's approach to it is that we can use it to illustrate how to do structural estimation of a model. What that means\n",
    "is that we start with a model and try to use the data to estimate the unknown parameters of that model.\n",
    "\n",
    "For a model, we can  use Terri's level k approach and assume that there is a player 'type' 0 who uses a random strategy to select among her actions.  For this part, we'll assume that a level $0$ player uses each action with probablity $\\frac{1}{3}$  \n",
    "\n"
   ]
  },
  {
   "cell_type": "markdown",
   "metadata": {
    "slideshow": {
     "slide_type": "slide"
    }
   },
   "source": [
    "Next we'll assume there is a type $1$ player who assumes that every other player is a type $0$ player and best replies to that. A type $2$ player assumes that every other player is a type $1$ player, a type $3$ player assumes every other player is a type $2$ player. Suppose that each player's type is independently drawn as follows:  each player is type $0$ with probability $\\rho_0$, type $1$ with probablity $\\rho_1$, type $2$ with probability $\\rho _2$ and type $3$ with probability $\\rho_3$.\n",
    "\n",
    "We'll then assume that any player that doesn't fall into one of these categories is a fully rational player.  What it means to be fully rational is that the player believes that each player is type $1$, $2$  or $3$ with probabilities as described above, and believes that otherwise, the player is fully rational.  Fully rational players best reply to the noise play of the behavioral types, and the strategy they think the other rational players are using.\n",
    "\n",
    "Also, to show how things work, we'll use only Game 1 in this first part.  This will help show the power of Terri's experiment design in identifying types.\n",
    "\n"
   ]
  },
  {
   "cell_type": "markdown",
   "metadata": {
    "slideshow": {
     "slide_type": "slide"
    }
   },
   "source": [
    "In game 1, a level $0$ player randomizes, while every other player realizes that their payoff is independent of the actions of anyone else, so they all choose the dominant action 1 (the integers 1,2 or 3 indicate their choice of roles.  When a level 1 player is playing as player 3 in game one, she evaluates her payoff as\n",
    "\n",
    "$$\n",
    "20(\\frac{1}{3})+14(\\frac{1}{3})+8(\\frac{1}{3})\n",
    "$$\n",
    "\n",
    "for action  2:\n",
    "$$\n",
    "16(\\frac{1}{3})+2(\\frac{1}{3})+18(\\frac{1}{3})\n",
    "$$\n",
    "\n",
    "and action 3:\n",
    "$$\n",
    "0(\\frac{1}{3})+16(\\frac{1}{3})+16(\\frac{1}{3})\n",
    "$$\n",
    "You don't really need any software to see that action 1 is best, but here is the calculation anyway:"
   ]
  },
  {
   "cell_type": "code",
   "execution_count": 12,
   "metadata": {
    "slideshow": {
     "slide_type": "slide"
    }
   },
   "outputs": [
    {
     "data": {
      "text/html": [
       "<html><script type=\"math/tex; mode=display\">\\newcommand{\\Bold}[1]{\\mathbf{#1}}14.0000000000000</script></html>"
      ],
      "text/plain": [
       "14.0000000000000"
      ]
     },
     "metadata": {},
     "output_type": "display_data"
    },
    {
     "data": {
      "text/html": [
       "<html><script type=\"math/tex; mode=display\">\\newcommand{\\Bold}[1]{\\mathbf{#1}}12.0000000000000</script></html>"
      ],
      "text/plain": [
       "12.0000000000000"
      ]
     },
     "metadata": {},
     "output_type": "display_data"
    },
    {
     "data": {
      "text/html": [
       "<html><script type=\"math/tex; mode=display\">\\newcommand{\\Bold}[1]{\\mathbf{#1}}10.6666666666667</script></html>"
      ],
      "text/plain": [
       "10.6666666666667"
      ]
     },
     "metadata": {},
     "output_type": "display_data"
    }
   ],
   "source": [
    "show (n(20/3+14/3+8/3))\n",
    "show (n(16/3+2/3+18/3))\n",
    "show (n(0/3+16/3+16/3))"
   ]
  },
  {
   "cell_type": "markdown",
   "metadata": {
    "slideshow": {
     "slide_type": "slide"
    }
   },
   "source": [
    "The implication is that a level 1 subject as player 3 will choose action 1, which is the action suggested by deleting of dominated strategies.\n",
    "\n",
    "A level 2 subject as player 3 expects player 4 to be level 1 and choose action 1 for sure, so the level 2 subject will also choose action 1 as player 3.  Similarly for level 3, 4, and anything higher that that.\n",
    "\n",
    "The calculation is just slightly different for a fully rational player best replies to actual behavior but realizes there is a chance $\\rho_0$ that Player 4 could be a level 0 subject. So from his perspective the payoff to each of the strategies is given by\n",
    "\n",
    "$$\n",
    "20(1-\\rho)+\\rho_0\\{20(\\frac{1}{3})+14(\\frac{1}{3})+8(\\frac{1}{3})\\}\n",
    "$$\n",
    "\n",
    "action 2:\n",
    "$$\n",
    "16(1-\\rho_0)+\\rho_0\\{16(\\frac{1}{3})+2(\\frac{1}{3})+18(\\frac{1}{3})\\}\n",
    "$$\n",
    "\n",
    "and action 3:\n",
    "$$\n",
    "0(1-\\rho_0)+\\rho_0\\{0(\\frac{1}{3})+16(\\frac{1}{3})+16(\\frac{1}{3})\\}\n",
    "$$\n",
    "\n",
    "We can do a small calculation to clarify this.\n"
   ]
  },
  {
   "cell_type": "code",
   "execution_count": 13,
   "metadata": {
    "slideshow": {
     "slide_type": "slide"
    }
   },
   "outputs": [
    {
     "data": {
      "image/png": "[encoded data removed]",
      "text/plain": [
       "Graphics object consisting of 3 graphics primitives"
      ]
     },
     "execution_count": 13,
     "metadata": {},
     "output_type": "execute_result"
    }
   ],
   "source": [
    "def prof1(rho):\n",
    "    return 20*(1-rho)+rho*42/3\n",
    "def prof2(rho):\n",
    "    return 16*(1-rho)+rho*36/3\n",
    "def prof3(rho):\n",
    "    return rho*32/3\n",
    "p1 = plot(prof1(x),(x,0,1),color=\"red\")\n",
    "p2 = plot(prof2(x),(x,0,1),color=\"green\")\n",
    "p3 = plot(prof3(x),(x,0,1),color=\"blue\")\n",
    "p1+p2+p3"
   ]
  },
  {
   "cell_type": "markdown",
   "metadata": {
    "slideshow": {
     "slide_type": "slide"
    }
   },
   "source": [
    "This sort of simple calculation is really sort of obvious - a subject of type 1 believes that other players are type 0 for sure.  A fully rational player might also have this belief, and if he did, he would play like a type 1 player, in other words, he would choose action 1.  The picture above illustrates, a fully rational player finds action 1 the best when playing as player 3 no matter how likely or unlikely he thinks it is that other players are level 0.\n",
    "\n",
    "So subjects of all levels, including fully rational players will do the same thing as Player 3, the will choose action 1.\n",
    "\n",
    "Now we can go a bit faster.  As player 2, a level one player evaluates payoffs as $\\frac{36}{3}$ for 1, $\\frac{42}{3}$ for action 2, and $\\frac{34}{3}$ for action 3.  From this we get that a subject of level 1 plays action 2.  Reasoning as above, so will a fully rational player. Since players of types higher than 1 best reply to the action of Player 2 that survives iterated deletion, so they also play action 2.\n",
    "\n"
   ]
  },
  {
   "cell_type": "markdown",
   "metadata": {
    "slideshow": {
     "slide_type": "slide"
    }
   },
   "source": [
    "Perhaps it isn't surprising then that the same calculations work for Player 1, all types play action 1 except a level $0$ player.\n",
    "\n",
    "Now we get to estimation.  Consider the first row of the table at the very top of this worksheet. In game 1, the subject plays action 1 as player 1, 3 as player 2, 2 as player 1 and 3 as player 4.  Since we have established that this profile is only consistent with play by a level 0 player, the probability we should expect to see profile of actions given our k-level model is\n",
    "$$\n",
    "\\rho(\\frac{1}{3^4})\n",
    "$$\n",
    "This is because each profile of actions is equally likely for a level 0 player, and we expect that a subject chosen at random will be level $0$ with probability $\\rho$.  Each profile that differs from the one that chooses only undominated actions occurs with this same probability\n",
    "\n"
   ]
  },
  {
   "cell_type": "markdown",
   "metadata": {
    "slideshow": {
     "slide_type": "slide"
    }
   },
   "source": [
    "Subject 7 in the dataframe at the top of this page chooses all the correct actions.  This can happen because the subject has a level higher than $0$ or because the subject is level 0 and randomly choses the correct actions.  So the probability of seeing this profile is\n",
    "$$\n",
    "(1-\\rho)+\\rho(\\frac{1}{3^4})\n",
    "$$\n",
    "\n",
    "Denote a row in the data frame as $r$ while the collection of all the rows is $R$.  Let $R_1$  be the set of rows where the 'correct' action is taken n every game, with $R-R_1$ being its complement.  Then the probability of observing the data from Terri's experiment is\n",
    "$$\n",
    "\\prod_{r \\in R_1}(1-\\rho)+\\rho(\\frac{1}{3^4})\\cdot\\prod_{r\\in R-R_1}\\frac{1}{3^4}\n",
    "$$\n",
    "\n",
    "You can no doubt see from this that the probability of seeing any particular collection of rows is very small.  However, we can still estimate $\\rho$ by asking which value makes the probability of the observed sample highest.\n",
    "\n"
   ]
  },
  {
   "cell_type": "markdown",
   "metadata": {
    "slideshow": {
     "slide_type": "slide"
    }
   },
   "source": [
    "Doing this directly is going to involve some pretty small numbers, so lets do it indirectly.  First lets define $\\pi$ to be the probability with which we think a subject will get all the actions 'right' in our theory.  Formally,\n",
    "$$\n",
    "\\pi=(1-\\rho)+\\rho(\\frac{1}{3^4})\n",
    "$$\n",
    "\n",
    "The probability that a subject gets one or more actions wrong is $1-\\pi$.  We'll try to estimate $\\pi$ instead of estimating $\\rho$ directly. Then each row is a single observation which is a success with probability $\\pi$, i.e., we are dealing with a binomial distribution of outcomes.  Let $m$ be the number of subjects who choose the correct action as every player.  The probability with which we see $m$ such subjects given $\\pi$ from a sample of size $n$ is\n",
    "$$\n",
    "\\frac{n!}{m!(n-m)!} {\\pi}^m {1-\\pi}^(n-m)\n",
    "$$\n",
    "\n",
    "In our data, $n$ is 80 and $m$ is whatever is the number of subjects who play 'correctly' in game 1.  Lets do this using a little python pandas:"
   ]
  },
  {
   "cell_type": "code",
   "execution_count": 14,
   "metadata": {
    "slideshow": {
     "slide_type": "slide"
    }
   },
   "outputs": [
    {
     "name": "stdout",
     "output_type": "stream",
     "text": [
      "62\n"
     ]
    }
   ],
   "source": [
    "seriesObj = dataset.apply(lambda x: True if x['G1P1'] == 1 and x['G1P2'] == 2\n",
    "                          and x['G1P3'] == 1 and x['G1P4'] == 1\n",
    "                          else False, axis='columns' )\n",
    "numOfRows = len(seriesObj[seriesObj == True].index)\n",
    "print(numOfRows)"
   ]
  },
  {
   "cell_type": "markdown",
   "metadata": {
    "slideshow": {
     "slide_type": "slide"
    }
   },
   "source": [
    "What this says is that 62 of the 80 subjects did the right thing in Game 1.  If you have seen the binomial distribution before, you will know that the best estimate of $\\pi$ is going to be $62/80$.  If you aren't, you can just go through the exercise.  Use the sagemath binomial function and code the probability of 60 successes out of 80 tries as a function of $\\pi$.  Take the derivative of this function with respect to $\\pi$ and solve for the value for $\\pi$ at which this derivative is zero.\n",
    "\n",
    "Once you have verified the solution, we can find $\\rho$."
   ]
  },
  {
   "cell_type": "code",
   "execution_count": 15,
   "metadata": {
    "slideshow": {
     "slide_type": "slide"
    }
   },
   "outputs": [
    {
     "data": {
      "text/plain": [
       "[rho == (729/3200)]"
      ]
     },
     "execution_count": 15,
     "metadata": {},
     "output_type": "execute_result"
    }
   ],
   "source": [
    "var('rho')\n",
    "solve((1-rho)+rho*(1/(3^4))==62/80,rho)"
   ]
  },
  {
   "cell_type": "markdown",
   "metadata": {
    "slideshow": {
     "slide_type": "slide"
    }
   },
   "source": [
    "This computation says that the best estimate of the probability with which a randomly chosen player will have level 0 is just a bit less that $\\frac{1}{4}$.\n",
    "\n",
    "So far, we have left out all the data from Game 2.  If you look closely at the two payoff tables, the only difference between game 1 and 2 is that row 1 and 3 have been interchanged, so that the dominant strategy for player 4 becomes 3 instead of 1.  Subjects of level 1 will switch their choice from 1 to 3 as Player 4. Yet they will continue to believe that their opponent is level 0 and will randomize with equal probablity.  As a consequence, since their payoffs are the same in game 2 as they are in game 1, they will do the same thing as they did in Game 1. In other words, they play action  1. Similar reasoning says they will make the same choices as player 1 and 2 as they did in Game 1 for the same reasons. So level 1 players use the pattern 1,2,1,3 in Game 2 and over both games they should use the pattern 1,2,1,1,1,2,1,3.  What that means exactly is that if you look at a row in the dataframe at the top and you want to check whether they player is level 1, you should look for the pattern 1,2,1,1,1,2,1,3.\n",
    "\n"
   ]
  },
  {
   "cell_type": "markdown",
   "metadata": {
    "slideshow": {
     "slide_type": "slide"
    }
   },
   "source": [
    "Level 2 players believe their opponents are level 1 players.  As such, they believe that as Player 3, their opponent will pick 3 meaning that they should switch to action 2.  Now a level 2 subject plays differently from a level 1 subject.  As Player 2, the best reply to their belief that Player 3 is level 1 and they will best reply to action 1 as it was in game 1.  Similarly as Player 1 they'll best reply to action 2 which is what they expect a level 1 player to choose.  So their pattern would be 1,2,1,1,1,2,2,3.\n",
    "\n",
    "Level 3 subjects expect level 2 opponents, so they choose 3 as player 4, 2 as player 3, so far looking exactly like a level 2 player.  As player 2 they expect a level 2 opponent as Player3.  The level 2 player chooses 2 as Player 3, so the level 3 player best replies to that by choosing 1, as does any higher level subject.  Finally, as Player 1 a level 3 subject expects a level 2 opponent as Player 2 and a level 2 Player 2 plays 2 as we figured out in the previous paragraph.  The best reply to action 2 by player 2 is action 1.  So a level 3 subject has pattern 1,1,2,3 in Game 2 and 1,2,1,1,1,1,2,3 overall.\n",
    "\n",
    "Notice how nicely Terri's experimental design separates types 1, 2 and 3.\n",
    "\n",
    "For a level 4 player, we can pick actions by referencing the previous patterns.  As Player 4 they choose 3.  As Player 3 they best reply to 3 by choosing 2.  As player 2 they best reply to action 2 by Player 3 and choose 1, as player 1 they best reply to 1 and choose 3, so their pattern is 1,2,1,1,1,1,2,3, so players 3 and higher all look the same.\n",
    "\n",
    "Now we have 3 distinct patterns, 1,2,1,1,1,2,1,3 then 1,2,1,1,1,2,2,3 then 1,2,1,1,1,1,2,3.  We can use pandas again to count them."
   ]
  },
  {
   "cell_type": "code",
   "execution_count": 16,
   "metadata": {
    "slideshow": {
     "slide_type": "slide"
    }
   },
   "outputs": [
    {
     "name": "stdout",
     "output_type": "stream",
     "text": [
      "7\n"
     ]
    }
   ],
   "source": [
    "seriesObj = dataset.apply(lambda x: True if x['G1P1'] == 1 and x['G1P2'] == 2\n",
    "                          and x['G1P3'] == 1 and x['G1P4'] == 1\n",
    "                          and x['G2P1'] == 1 and x['G2P2'] == 2\n",
    "                          and x['G2P3'] == 1 and x['G2P4'] == 3\n",
    "                          else False, axis='columns' )\n",
    "numOfRows = len(seriesObj[seriesObj == True].index)\n",
    "print(numOfRows)"
   ]
  },
  {
   "cell_type": "code",
   "execution_count": 17,
   "metadata": {
    "slideshow": {
     "slide_type": "slide"
    }
   },
   "outputs": [
    {
     "name": "stdout",
     "output_type": "stream",
     "text": [
      "12\n"
     ]
    }
   ],
   "source": [
    "seriesObj = dataset.apply(lambda x: True if x['G1P1'] == 1 and x['G1P2'] == 2\n",
    "                          and x['G1P3'] == 1 and x['G1P4'] == 1\n",
    "                          and x['G2P1'] == 1 and x['G2P2'] == 2\n",
    "                          and x['G2P3'] == 2 and x['G2P4'] == 3\n",
    "                          else False, axis='columns' )\n",
    "numOfRows = len(seriesObj[seriesObj == True].index)\n",
    "print(numOfRows)"
   ]
  },
  {
   "cell_type": "code",
   "execution_count": 18,
   "metadata": {
    "slideshow": {
     "slide_type": "slide"
    }
   },
   "outputs": [
    {
     "name": "stdout",
     "output_type": "stream",
     "text": [
      "14\n"
     ]
    }
   ],
   "source": [
    "seriesObj = dataset.apply(lambda x: True if x['G1P1'] == 1 and x['G1P2'] == 2\n",
    "                          and x['G1P3'] == 1 and x['G1P4'] == 1\n",
    "                          and x['G2P1'] == 1 and x['G2P2'] == 1\n",
    "                          and x['G2P3'] == 2 and x['G2P4'] == 3\n",
    "                          else False, axis='columns' )\n",
    "numOfRows = len(seriesObj[seriesObj == True].index)\n",
    "print(numOfRows)"
   ]
  },
  {
   "cell_type": "markdown",
   "metadata": {
    "slideshow": {
     "slide_type": "slide"
    }
   },
   "source": [
    "The last, and perhaps most interesting question is what should a rational player do.  This is complex because the rational player now has beliefs about how likely it is that his opponents are level 0, 1, etc.  She may also believe that some of the other players are fully rational.  To figure out what she should do, she needs to figure out not only how likely it is that the other players are rational, but also what the other rational players will do.\n",
    "\n",
    "To proceed with this, lets use the Nash identifying assumption.  In a Nash equilibrium, a rational player will have correct beliefs (in a probabilistic sense) about the actions of his competitors.  Lets start by finding the corresponding distributions:"
   ]
  },
  {
   "cell_type": "code",
   "execution_count": 19,
   "metadata": {
    "slideshow": {
     "slide_type": "slide"
    }
   },
   "outputs": [
    {
     "data": {
      "text/html": [
       "<html><script type=\"math/tex; mode=display\">\\newcommand{\\Bold}[1]{\\mathbf{#1}}\\begin{array}{l}\n",
       "\\verb|3|\\phantom{\\verb!xxxx!}\\verb|0.9875|\\\\\n",
       "\\verb|2|\\phantom{\\verb!xxxx!}\\verb|0.0125|\\\\\n",
       "\\verb|Name:|\\phantom{\\verb!x!}\\verb|G2P4,|\\phantom{\\verb!x!}\\verb|dtype:|\\phantom{\\verb!x!}\\verb|float64|\n",
       "\\end{array}</script></html>"
      ],
      "text/plain": [
       "3    0.9875\n",
       "2    0.0125\n",
       "Name: G2P4, dtype: float64"
      ]
     },
     "metadata": {},
     "output_type": "display_data"
    },
    {
     "data": {
      "text/html": [
       "<html><script type=\"math/tex; mode=display\">\\newcommand{\\Bold}[1]{\\mathbf{#1}}\\begin{array}{l}\n",
       "\\verb|2|\\phantom{\\verb!xxxx!}\\verb|0.7875|\\\\\n",
       "\\verb|1|\\phantom{\\verb!xxxx!}\\verb|0.1625|\\\\\n",
       "\\verb|3|\\phantom{\\verb!xxxx!}\\verb|0.0500|\\\\\n",
       "\\verb|Name:|\\phantom{\\verb!x!}\\verb|G2P3,|\\phantom{\\verb!x!}\\verb|dtype:|\\phantom{\\verb!x!}\\verb|float64|\n",
       "\\end{array}</script></html>"
      ],
      "text/plain": [
       "2    0.7875\n",
       "1    0.1625\n",
       "3    0.0500\n",
       "Name: G2P3, dtype: float64"
      ]
     },
     "metadata": {},
     "output_type": "display_data"
    },
    {
     "data": {
      "text/html": [
       "<html><script type=\"math/tex; mode=display\">\\newcommand{\\Bold}[1]{\\mathbf{#1}}\\begin{array}{l}\n",
       "\\verb|2|\\phantom{\\verb!xxxx!}\\verb|0.475|\\\\\n",
       "\\verb|1|\\phantom{\\verb!xxxx!}\\verb|0.475|\\\\\n",
       "\\verb|3|\\phantom{\\verb!xxxx!}\\verb|0.050|\\\\\n",
       "\\verb|Name:|\\phantom{\\verb!x!}\\verb|G2P2,|\\phantom{\\verb!x!}\\verb|dtype:|\\phantom{\\verb!x!}\\verb|float64|\n",
       "\\end{array}</script></html>"
      ],
      "text/plain": [
       "2    0.475\n",
       "1    0.475\n",
       "3    0.050\n",
       "Name: G2P2, dtype: float64"
      ]
     },
     "metadata": {},
     "output_type": "display_data"
    }
   ],
   "source": [
    "ds = dataset['G2P4'].value_counts(normalize=true)\n",
    "show(ds) \n",
    "ds = dataset['G2P3'].value_counts(normalize=true)\n",
    "show(ds) \n",
    "ds = dataset['G2P2'].value_counts(normalize=true)\n",
    "show(ds) \n",
    "\n"
   ]
  },
  {
   "cell_type": "markdown",
   "metadata": {
    "slideshow": {
     "slide_type": "slide"
    }
   },
   "source": [
    "Now it is easy enough to work out a pattern. Pretty much everyone choose action 3 in Game 4.  A rational player willl certainly do that, then respond with action 2 as Player 3.  About 79% of players choose action 2 as Player 3, so as player 2 the best reply is action 1.  Finally as player 1, expecting ation 1 or 2 to be used with the same probability (almost 1/2) the best reply is 3 (which is the strategy associated with deletion of dominated srategies.  So the pattern for a rational player should be 3,1,2,3.  We can cuont them:"
   ]
  },
  {
   "cell_type": "code",
   "execution_count": 20,
   "metadata": {
    "slideshow": {
     "slide_type": "slide"
    }
   },
   "outputs": [
    {
     "name": "stdout",
     "output_type": "stream",
     "text": [
      "13\n"
     ]
    }
   ],
   "source": [
    "seriesObj = dataset.apply(lambda x: True if x['G1P1'] == 1 and x['G1P2'] == 2\n",
    "                          and x['G1P3'] == 1 and x['G1P4'] == 1\n",
    "                          and x['G2P1'] == 3 and x['G2P2'] == 1\n",
    "                          and x['G2P3'] == 2 and x['G2P4'] == 3\n",
    "                          else False, axis='columns' )\n",
    "numOfRows = len(seriesObj[seriesObj == True].index)\n",
    "print(numOfRows)"
   ]
  },
  {
   "cell_type": "markdown",
   "metadata": {
    "slideshow": {
     "slide_type": "slide"
    }
   },
   "source": [
    "All this seems to suggest that the players can be divided the way Terri suggest as follows:\n",
    "<table><tr><td>Level 1</td><td>Level 2</td><td>Level3 or higher</td><td>Fully Rational</td></tr><tr><td>7</td><td>12</td><td>14</td><td>13</td></tr></table>\n",
    "\n",
    "This is roughly consistent with Terri's interpretation, except that we have more than half the subjects left over as level 0 subjects.  Also our identification isn't exact - each of the players who look rational, for example, may just be level 0 players who chanced upon the right combination of actions.  Since there seem to be a lot of level 0 players, we'll need to take account of this.\n",
    "\n",
    "Another way to put it is that our model explains less than half the data from the experiment.\n",
    "\n"
   ]
  },
  {
   "cell_type": "markdown",
   "metadata": {
    "slideshow": {
     "slide_type": "slide"
    }
   },
   "source": [
    "So lets proceed to see what can be done about estimation. We have bunch more parameters now, $\\rho_0$ as always represents the probability with which players are level $0$.  Now we have level 1,2,3 and up along with rational players to account for.  So add parameters $\\rho_1$, $\\rho_2$, $\\rho_3$ and $\\rho_r$  to the mix.  \n",
    "\n",
    "As before, we want to specify specific profiles of actions as 'successes' and use that approach to estimate the underlying probabilities $\\rho_i$.  The distribution we want is one called a multinomial distribution.  Unlike the binomial there are a number of 'successes' now defined by the different patters 1,2,1,1,1,2,1,3 then 1,2,1,1,1,2,2,3 then 1,2,1,1,1,1,2,3 and 1,2,1,1,3,1,2,3 for level 1, level 2, level 3 and above and the rational pattern. Let $$\\pi_1=\\rho_1+\\rho_0\\frac{1}{3^8}$$ be the probability that the level 1 pattern is played, $$\\pi_2=\\rho_2+\\rho_0\\frac{1}{3^8}$$ be the probability the level 2 pattern is played, $$\\pi_3=\\rho_3+\\rho_0\\frac{1}{3^8}$$ be the probability the level 3 pattern is played, and finally $$\\pi_r=\\rho_r+\\rho_0\\frac{1}{3^8}$$ be the probability the rational pattern is played.  All other patterns are lumped together and are played with probabiliy $$1-\\pi_1-\\pi_2-\\pi_3-\\pi_r$$\n",
    "\n"
   ]
  },
  {
   "cell_type": "markdown",
   "metadata": {
    "slideshow": {
     "slide_type": "slide"
    }
   },
   "source": [
    "The data is a collection in which there are 7,12,14,13 and 54 patterns of each type.  The probability of a realized data set like this is\n",
    "$$\n",
    "\\frac{80!}{7!12!14!13!54!}(\\pi_1^7)(\\pi_2^{12})(\\pi_3^{14})(\\pi_4^{13})(1-\\pi_1-\\pi_2-\\pi_3-\\pi_4)^{54}\n",
    "$$\n",
    "\n",
    "Just to be redundant, lets use sagemath.  First I'll assert that the sample proportions are the best estimates for the probability with which each action is taken.  Best estimate means they make the sample most likely, so lets do a brute force computatation:\n"
   ]
  },
  {
   "cell_type": "code",
   "execution_count": 21,
   "metadata": {
    "slideshow": {
     "slide_type": "slide"
    }
   },
   "outputs": [
    {
     "data": {
      "text/plain": [
       "-296.039282487019"
      ]
     },
     "execution_count": 21,
     "metadata": {},
     "output_type": "execute_result"
    }
   ],
   "source": [
    "Q=n((factorial(80)/(factorial(7)*factorial(12)*factorial(14)*factorial(13)*factorial(54)))*((1/7)^7)*((1/12)^12)*((1/14)^14)*((1/13)^13)*((1/54)^54))\n",
    "log(Q)"
   ]
  },
  {
   "cell_type": "markdown",
   "metadata": {
    "slideshow": {
     "slide_type": "slide"
    }
   },
   "source": [
    "The actual probability of drawing this exact sample is so tiny it is unreadable.  The log of this probability, or the log likelihood is easier reading.  The more negative it is the smaller the probability.\n",
    "\n",
    "In any event we now have from our estimates that the probability a subject is level 2. First, the probability a subject is level 0 is given by  \n",
    "$$\n",
    "\\frac{54}{80}==\\rho_0\n",
    "$$\n",
    "Then $\\rho_2$ must be given by the solution to\n",
    "$$\n",
    "\\frac{12}{80}=\\rho_2+\\frac{53}{80}\\frac{1}{3^8}\n",
    "$$"
   ]
  },
  {
   "cell_type": "code",
   "execution_count": 22,
   "metadata": {
    "slideshow": {
     "slide_type": "slide"
    }
   },
   "outputs": [
    {
     "data": {
      "text/plain": [
       "[0.149899024538942, 0.150000000000000]"
      ]
     },
     "execution_count": 22,
     "metadata": {},
     "output_type": "execute_result"
    }
   ],
   "source": [
    "var(x)\n",
    "sol=solve(12/80 == x+(53/80)*(1/(3^8)),x)\n",
    "[n(sol[0].rhs()),n(12/80)]\n"
   ]
  },
  {
   "cell_type": "markdown",
   "metadata": {
    "slideshow": {
     "slide_type": "slide"
    }
   },
   "source": [
    "Just to remind why we did this, notice the probability that a subject is level 2 is slightly less than the proportion of subjects who select the level 2 pattern."
   ]
  }
 ],
 "metadata": {
  "kernelspec": {
   "display_name": "SageMath 8.1",
   "language": "",
   "name": "sagemath"
  },
  "language_info": {
   "codemirror_mode": {
    "name": "ipython",
    "version": 2
   },
   "file_extension": ".py",
   "mimetype": "text/x-python",
   "name": "python",
   "nbconvert_exporter": "python",
   "pygments_lexer": "ipython2",
   "version": "2.7.15+"
  }
 },
 "nbformat": 4,
 "nbformat_minor": 4
}
