{
 "cells": [
  {
   "cell_type": "markdown",
   "metadata": {
    "slideshow": {
     "slide_type": "slide"
    }
   },
   "source": [
    "This notebook provides data and calculations for the ultimatum game experiments run at UBC over a number of years.  The current paper is called Behavioral Bargaining, a note describing the theoretical model (the paper isn't ready yet) is at [Behavioral Bargaining notes](https://montoya.econ.ubc.ca/Econ600/mike_reference_offer.pdf).  \n",
    "\n",
    "The directions given to the subjects are given in [Instructions to applicants](https://montoya.econ.ubc.ca/Econ600/baseline0_script.pdf)."
   ]
  },
  {
   "cell_type": "code",
   "execution_count": 1,
   "metadata": {
    "slideshow": {
     "slide_type": "skip"
    }
   },
   "outputs": [],
   "source": [
    "import pandas as pd\n",
    "import os\n",
    "import numpy as np\n",
    "dataset = pd.read_csv('datamerged2.csv')"
   ]
  },
  {
   "cell_type": "markdown",
   "metadata": {
    "slideshow": {
     "slide_type": "slide"
    }
   },
   "source": [
    "The game just consists of a series of offers and the response to those offers.  The offer, out of 55 is in the `value` field below.  If the responser accepted it, the corresponding entry in `resp` will be 1.\n",
    "\n",
    "There were three rounds of experiments in 2006, 2010 and 2014.  The experiment is given in the `old` column, with 0 meaning 2014, 1 is 2010 and 2 is 2014.\n",
    "\n",
    "There were 4 treatments in which lower bounds were imposed on the offers proposers were allowed to make treatment 1 means no floor at all, 2 means a floor of 10 dollars, 3 means a floor of of 2 dollars, 4 means a floor of 5 dollars. "
   ]
  },
  {
   "cell_type": "code",
   "execution_count": 2,
   "metadata": {
    "slideshow": {
     "slide_type": "slide"
    }
   },
   "outputs": [
    {
     "data": {
      "text/html": [
       "<html><script type=\"math/tex; mode=display\">\\newcommand{\\Bold}[1]{\\mathbf{#1}}\\begin{array}{l}\n",
       "\\phantom{\\verb!xxxxxxx!}\\verb|id|\\phantom{\\verb!xx!}\\verb|treatment|\\phantom{\\verb!xx!}\\verb|tofrom|\\phantom{\\verb!xx!}\\verb|value|\\phantom{\\verb!xx!}\\verb|role|\\phantom{\\verb!xx!}\\verb|resp|\\phantom{\\verb!xx!}\\verb|round|\\phantom{\\verb!xx!}\\verb|rounds|\\phantom{\\verb!xx!}\\verb|old|\\\\\n",
       "\\verb|0|\\phantom{\\verb!xxxxxxx!}\\verb|1|\\phantom{\\verb!xxxxxxxxxx!}\\verb|1|\\phantom{\\verb!xxxxxxx!}\\verb|6|\\phantom{\\verb!xxx!}\\verb|20.0|\\phantom{\\verb!xxxxx!}\\verb|0|\\phantom{\\verb!xxxxx!}\\verb|1|\\phantom{\\verb!xxxxxx!}\\verb|1|\\phantom{\\verb!xxxxxxx!}\\verb|2|\\phantom{\\verb!xxxx!}\\verb|0|\\\\\n",
       "\\verb|1|\\phantom{\\verb!xxxxxxx!}\\verb|1|\\phantom{\\verb!xxxxxxxxxx!}\\verb|1|\\phantom{\\verb!xxxxxxx!}\\verb|9|\\phantom{\\verb!xxx!}\\verb|20.0|\\phantom{\\verb!xxxxx!}\\verb|0|\\phantom{\\verb!xxxxx!}\\verb|0|\\phantom{\\verb!xxxxxx!}\\verb|1|\\phantom{\\verb!xxxxxxx!}\\verb|2|\\phantom{\\verb!xxxx!}\\verb|0|\\\\\n",
       "\\verb|2|\\phantom{\\verb!xxxxxxx!}\\verb|1|\\phantom{\\verb!xxxxxxxxxx!}\\verb|1|\\phantom{\\verb!xxxxxx!}\\verb|10|\\phantom{\\verb!xxx!}\\verb|20.0|\\phantom{\\verb!xxxxx!}\\verb|0|\\phantom{\\verb!xxxxx!}\\verb|1|\\phantom{\\verb!xxxxxx!}\\verb|1|\\phantom{\\verb!xxxxxxx!}\\verb|2|\\phantom{\\verb!xxxx!}\\verb|0|\\\\\n",
       "\\verb|3|\\phantom{\\verb!xxxxxxx!}\\verb|1|\\phantom{\\verb!xxxxxxxxxx!}\\verb|1|\\phantom{\\verb!xxxxxx!}\\verb|11|\\phantom{\\verb!xxx!}\\verb|20.0|\\phantom{\\verb!xxxxx!}\\verb|0|\\phantom{\\verb!xxxxx!}\\verb|1|\\phantom{\\verb!xxxxxx!}\\verb|1|\\phantom{\\verb!xxxxxxx!}\\verb|2|\\phantom{\\verb!xxxx!}\\verb|0|\\\\\n",
       "\\verb|4|\\phantom{\\verb!xxxxxxx!}\\verb|1|\\phantom{\\verb!xxxxxxxxxx!}\\verb|1|\\phantom{\\verb!xxxxxx!}\\verb|13|\\phantom{\\verb!xxx!}\\verb|20.0|\\phantom{\\verb!xxxxx!}\\verb|0|\\phantom{\\verb!xxxxx!}\\verb|1|\\phantom{\\verb!xxxxxx!}\\verb|1|\\phantom{\\verb!xxxxxxx!}\\verb|2|\\phantom{\\verb!xxxx!}\\verb|0|\\\\\n",
       "\\verb|...|\\phantom{\\verb!xxx!}\\verb|...|\\phantom{\\verb!xxxxxxxx!}\\verb|...|\\phantom{\\verb!xxxxx!}\\verb|...|\\phantom{\\verb!xxxx!}\\verb|...|\\phantom{\\verb!xxx!}\\verb|...|\\phantom{\\verb!xxx!}\\verb|...|\\phantom{\\verb!xxxx!}\\verb|...|\\phantom{\\verb!xxxxx!}\\verb|...|\\phantom{\\verb!xx!}\\verb|...|\\\\\n",
       "\\verb|2088|\\phantom{\\verb!xx!}\\verb|271|\\phantom{\\verb!xxxxxxxxxx!}\\verb|4|\\phantom{\\verb!xxxxx!}\\verb|277|\\phantom{\\verb!xxx!}\\verb|25.0|\\phantom{\\verb!xxxxx!}\\verb|0|\\phantom{\\verb!xxxxx!}\\verb|1|\\phantom{\\verb!xxxxxx!}\\verb|2|\\phantom{\\verb!xxxxxxx!}\\verb|2|\\phantom{\\verb!xxxx!}\\verb|2|\\\\\n",
       "\\verb|2089|\\phantom{\\verb!xx!}\\verb|271|\\phantom{\\verb!xxxxxxxxxx!}\\verb|4|\\phantom{\\verb!xxxxx!}\\verb|278|\\phantom{\\verb!xxx!}\\verb|30.0|\\phantom{\\verb!xxxxx!}\\verb|0|\\phantom{\\verb!xxxxx!}\\verb|1|\\phantom{\\verb!xxxxxx!}\\verb|2|\\phantom{\\verb!xxxxxxx!}\\verb|2|\\phantom{\\verb!xxxx!}\\verb|2|\\\\\n",
       "\\verb|2090|\\phantom{\\verb!xx!}\\verb|271|\\phantom{\\verb!xxxxxxxxxx!}\\verb|4|\\phantom{\\verb!xxxxx!}\\verb|279|\\phantom{\\verb!xxx!}\\verb|25.0|\\phantom{\\verb!xxxxx!}\\verb|0|\\phantom{\\verb!xxxxx!}\\verb|1|\\phantom{\\verb!xxxxxx!}\\verb|2|\\phantom{\\verb!xxxxxxx!}\\verb|2|\\phantom{\\verb!xxxx!}\\verb|2|\\\\\n",
       "\\verb|2091|\\phantom{\\verb!xx!}\\verb|271|\\phantom{\\verb!xxxxxxxxxx!}\\verb|4|\\phantom{\\verb!xxxxx!}\\verb|280|\\phantom{\\verb!xxx!}\\verb|30.0|\\phantom{\\verb!xxxxx!}\\verb|0|\\phantom{\\verb!xxxxx!}\\verb|1|\\phantom{\\verb!xxxxxx!}\\verb|2|\\phantom{\\verb!xxxxxxx!}\\verb|2|\\phantom{\\verb!xxxx!}\\verb|2|\\\\\n",
       "\\verb|2092|\\phantom{\\verb!xx!}\\verb|271|\\phantom{\\verb!xxxxxxxxxx!}\\verb|4|\\phantom{\\verb!xxxxx!}\\verb|281|\\phantom{\\verb!xxx!}\\verb|25.0|\\phantom{\\verb!xxxxx!}\\verb|0|\\phantom{\\verb!xxxxx!}\\verb|1|\\phantom{\\verb!xxxxxx!}\\verb|2|\\phantom{\\verb!xxxxxxx!}\\verb|2|\\phantom{\\verb!xxxx!}\\verb|2|\\\\\n",
       "\\phantom{\\verb!x!}\\\\\n",
       "\\verb|[2093|\\phantom{\\verb!x!}\\verb|rows|\\phantom{\\verb!x!}\\verb|x|\\phantom{\\verb!x!}\\verb|9|\\phantom{\\verb!x!}\\verb|columns]|\n",
       "\\end{array}</script></html>"
      ],
      "text/plain": [
       "       id  treatment  tofrom  value  role  resp  round  rounds  old\n",
       "0       1          1       6   20.0     0     1      1       2    0\n",
       "1       1          1       9   20.0     0     0      1       2    0\n",
       "2       1          1      10   20.0     0     1      1       2    0\n",
       "3       1          1      11   20.0     0     1      1       2    0\n",
       "4       1          1      13   20.0     0     1      1       2    0\n",
       "...   ...        ...     ...    ...   ...   ...    ...     ...  ...\n",
       "2088  271          4     277   25.0     0     1      2       2    2\n",
       "2089  271          4     278   30.0     0     1      2       2    2\n",
       "2090  271          4     279   25.0     0     1      2       2    2\n",
       "2091  271          4     280   30.0     0     1      2       2    2\n",
       "2092  271          4     281   25.0     0     1      2       2    2\n",
       "\n",
       "[2093 rows x 9 columns]"
      ]
     },
     "metadata": {},
     "output_type": "display_data"
    }
   ],
   "source": [
    "show(dataset)"
   ]
  },
  {
   "cell_type": "code",
   "execution_count": 3,
   "metadata": {
    "slideshow": {
     "slide_type": "slide"
    }
   },
   "outputs": [
    {
     "data": {
      "text/html": [
       "<div>\n",
       "<style scoped>\n",
       "    .dataframe tbody tr th:only-of-type {\n",
       "        vertical-align: middle;\n",
       "    }\n",
       "\n",
       "    .dataframe tbody tr th {\n",
       "        vertical-align: top;\n",
       "    }\n",
       "\n",
       "    .dataframe thead th {\n",
       "        text-align: right;\n",
       "    }\n",
       "</style>\n",
       "<table border=\"1\" class=\"dataframe\">\n",
       "  <thead>\n",
       "    <tr style=\"text-align: right;\">\n",
       "      <th></th>\n",
       "      <th>id</th>\n",
       "      <th>treatment</th>\n",
       "      <th>tofrom</th>\n",
       "      <th>value</th>\n",
       "      <th>role</th>\n",
       "      <th>resp</th>\n",
       "      <th>round</th>\n",
       "      <th>rounds</th>\n",
       "      <th>old</th>\n",
       "    </tr>\n",
       "  </thead>\n",
       "  <tbody>\n",
       "    <tr>\n",
       "      <th>count</th>\n",
       "      <td>2093.000000</td>\n",
       "      <td>2093.000000</td>\n",
       "      <td>2093.000000</td>\n",
       "      <td>2093.000000</td>\n",
       "      <td>2093.0</td>\n",
       "      <td>2093.000000</td>\n",
       "      <td>2093.000000</td>\n",
       "      <td>2093.000000</td>\n",
       "      <td>2093.000000</td>\n",
       "    </tr>\n",
       "    <tr>\n",
       "      <th>mean</th>\n",
       "      <td>136.852365</td>\n",
       "      <td>2.424749</td>\n",
       "      <td>144.307692</td>\n",
       "      <td>18.792203</td>\n",
       "      <td>0.0</td>\n",
       "      <td>0.814620</td>\n",
       "      <td>1.607740</td>\n",
       "      <td>2.215002</td>\n",
       "      <td>0.701386</td>\n",
       "    </tr>\n",
       "    <tr>\n",
       "      <th>std</th>\n",
       "      <td>81.562400</td>\n",
       "      <td>1.241298</td>\n",
       "      <td>86.824111</td>\n",
       "      <td>7.226530</td>\n",
       "      <td>0.0</td>\n",
       "      <td>0.388698</td>\n",
       "      <td>0.617988</td>\n",
       "      <td>0.410922</td>\n",
       "      <td>0.730504</td>\n",
       "    </tr>\n",
       "    <tr>\n",
       "      <th>min</th>\n",
       "      <td>1.000000</td>\n",
       "      <td>1.000000</td>\n",
       "      <td>6.000000</td>\n",
       "      <td>0.000000</td>\n",
       "      <td>0.0</td>\n",
       "      <td>0.000000</td>\n",
       "      <td>1.000000</td>\n",
       "      <td>2.000000</td>\n",
       "      <td>0.000000</td>\n",
       "    </tr>\n",
       "    <tr>\n",
       "      <th>25%</th>\n",
       "      <td>65.000000</td>\n",
       "      <td>1.000000</td>\n",
       "      <td>68.000000</td>\n",
       "      <td>15.000000</td>\n",
       "      <td>0.0</td>\n",
       "      <td>1.000000</td>\n",
       "      <td>1.000000</td>\n",
       "      <td>2.000000</td>\n",
       "      <td>0.000000</td>\n",
       "    </tr>\n",
       "    <tr>\n",
       "      <th>50%</th>\n",
       "      <td>133.000000</td>\n",
       "      <td>3.000000</td>\n",
       "      <td>145.000000</td>\n",
       "      <td>20.000000</td>\n",
       "      <td>0.0</td>\n",
       "      <td>1.000000</td>\n",
       "      <td>2.000000</td>\n",
       "      <td>2.000000</td>\n",
       "      <td>1.000000</td>\n",
       "    </tr>\n",
       "    <tr>\n",
       "      <th>75%</th>\n",
       "      <td>211.000000</td>\n",
       "      <td>4.000000</td>\n",
       "      <td>225.000000</td>\n",
       "      <td>25.000000</td>\n",
       "      <td>0.0</td>\n",
       "      <td>1.000000</td>\n",
       "      <td>2.000000</td>\n",
       "      <td>2.000000</td>\n",
       "      <td>1.000000</td>\n",
       "    </tr>\n",
       "    <tr>\n",
       "      <th>max</th>\n",
       "      <td>276.000000</td>\n",
       "      <td>4.000000</td>\n",
       "      <td>288.000000</td>\n",
       "      <td>49.000000</td>\n",
       "      <td>0.0</td>\n",
       "      <td>1.000000</td>\n",
       "      <td>3.000000</td>\n",
       "      <td>3.000000</td>\n",
       "      <td>2.000000</td>\n",
       "    </tr>\n",
       "  </tbody>\n",
       "</table>\n",
       "</div>"
      ],
      "text/plain": [
       "                id    treatment       tofrom        value    role  \\\n",
       "count  2093.000000  2093.000000  2093.000000  2093.000000  2093.0   \n",
       "mean    136.852365     2.424749   144.307692    18.792203     0.0   \n",
       "std      81.562400     1.241298    86.824111     7.226530     0.0   \n",
       "min       1.000000     1.000000     6.000000     0.000000     0.0   \n",
       "25%      65.000000     1.000000    68.000000    15.000000     0.0   \n",
       "50%     133.000000     3.000000   145.000000    20.000000     0.0   \n",
       "75%     211.000000     4.000000   225.000000    25.000000     0.0   \n",
       "max     276.000000     4.000000   288.000000    49.000000     0.0   \n",
       "\n",
       "              resp        round       rounds          old  \n",
       "count  2093.000000  2093.000000  2093.000000  2093.000000  \n",
       "mean      0.814620     1.607740     2.215002     0.701386  \n",
       "std       0.388698     0.617988     0.410922     0.730504  \n",
       "min       0.000000     1.000000     2.000000     0.000000  \n",
       "25%       1.000000     1.000000     2.000000     0.000000  \n",
       "50%       1.000000     2.000000     2.000000     1.000000  \n",
       "75%       1.000000     2.000000     2.000000     1.000000  \n",
       "max       1.000000     3.000000     3.000000     2.000000  "
      ]
     },
     "execution_count": 3,
     "metadata": {},
     "output_type": "execute_result"
    }
   ],
   "source": [
    "dataset.describe()"
   ]
  },
  {
   "cell_type": "markdown",
   "metadata": {
    "slideshow": {
     "slide_type": "slide"
    }
   },
   "source": [
    "This summary indicates that the mean offer was just less than 19 dollars, which is low relative to what happens in other ultimatum game experiments.  The variable `resp` has a mean of .81.  Since `resp` is a binary variable that is 1 when an offer is accepted and 0 otherwise, that means that 81% of all offers were accepted."
   ]
  },
  {
   "cell_type": "code",
   "execution_count": 4,
   "metadata": {
    "slideshow": {
     "slide_type": "slide"
    }
   },
   "outputs": [
    {
     "data": {
      "text/plain": [
       "(-0.05, 0.98]       2\n",
       "(0.98, 1.96]        1\n",
       "(1.96, 2.94]       13\n",
       "(2.94, 3.92]        5\n",
       "(3.92, 4.9]        14\n",
       "(4.9, 5.88]        95\n",
       "(5.88, 6.86]        5\n",
       "(6.86, 7.84]       16\n",
       "(7.84, 8.82]       16\n",
       "(8.82, 9.8]        10\n",
       "(9.8, 10.78]      187\n",
       "(10.78, 11.76]     36\n",
       "(11.76, 12.74]     20\n",
       "(12.74, 13.72]     21\n",
       "(13.72, 14.7]      24\n",
       "(14.7, 15.68]     281\n",
       "(15.68, 16.66]     62\n",
       "(16.66, 17.64]     89\n",
       "(17.64, 18.62]     73\n",
       "(18.62, 19.6]      35\n",
       "(19.6, 20.58]     338\n",
       "(20.58, 21.56]     30\n",
       "(21.56, 22.54]     43\n",
       "(22.54, 23.52]     52\n",
       "(23.52, 24.5]      29\n",
       "(24.5, 25.48]     233\n",
       "(25.48, 26.46]     60\n",
       "(26.46, 27.44]     70\n",
       "(27.44, 28.42]     68\n",
       "(28.42, 29.4]      19\n",
       "(29.4, 30.38]     108\n",
       "(30.38, 31.36]      8\n",
       "(31.36, 32.34]      1\n",
       "(32.34, 33.32]      4\n",
       "(33.32, 34.3]       2\n",
       "(34.3, 35.28]       9\n",
       "(35.28, 36.26]      1\n",
       "(36.26, 37.24]      1\n",
       "(37.24, 38.22]      3\n",
       "(38.22, 39.2]       0\n",
       "(39.2, 40.18]       3\n",
       "(40.18, 41.16]      0\n",
       "(41.16, 42.14]      0\n",
       "(42.14, 43.12]      0\n",
       "(43.12, 44.1]       0\n",
       "(44.1, 45.08]       3\n",
       "(45.08, 46.06]      0\n",
       "(46.06, 47.04]      2\n",
       "(47.04, 48.02]      0\n",
       "(48.02, 49.0]       1\n",
       "Name: value, dtype: int64"
      ]
     },
     "execution_count": 4,
     "metadata": {},
     "output_type": "execute_result"
    }
   ],
   "source": [
    "dataset.value.value_counts(sort=False,bins=50\n",
    "                        )"
   ]
  },
  {
   "cell_type": "code",
   "execution_count": 5,
   "metadata": {
    "slideshow": {
     "slide_type": "slide"
    }
   },
   "outputs": [
    {
     "data": {
      "text/plain": [
       "<matplotlib.axes._subplots.AxesSubplot object at 0x7f7fe03ae1d0>"
      ]
     },
     "execution_count": 5,
     "metadata": {},
     "output_type": "execute_result"
    }
   ],
   "source": [
    "dataset.value.value_counts(sort=False,bins=10).plot(kind='barh')"
   ]
  },
  {
   "cell_type": "code",
   "execution_count": 6,
   "metadata": {
    "slideshow": {
     "slide_type": "slide"
    }
   },
   "outputs": [
    {
     "data": {
      "text/plain": [
       "<matplotlib.axes._subplots.AxesSubplot object at 0x7f7fd8047110>"
      ]
     },
     "execution_count": 6,
     "metadata": {},
     "output_type": "execute_result"
    },
    {
     "data": {
      "image/png": "[encoded data removed]",
      "text/plain": [
       "<Figure size 432x288 with 1 Axes>"
      ]
     },
     "metadata": {
      "needs_background": "light"
     },
     "output_type": "display_data"
    }
   ],
   "source": [
    "t1 = dataset.treatment == 1\n",
    "treatment1=dataset[t1]\n",
    "treatment1.value.value_counts(sort=false,bins=10).plot(kind='barh')"
   ]
  },
  {
   "cell_type": "code",
   "execution_count": 12,
   "metadata": {
    "slideshow": {
     "slide_type": "slide"
    }
   },
   "outputs": [
    {
     "data": {
      "text/plain": [
       "<matplotlib.axes._subplots.AxesSubplot object at 0x7f7fe08ced10>"
      ]
     },
     "execution_count": 12,
     "metadata": {},
     "output_type": "execute_result"
    },
    {
     "data": {
      "image/png": "[encoded data removed]",
      "text/plain": [
       "<Figure size 432x288 with 1 Axes>"
      ]
     },
     "metadata": {
      "needs_background": "light"
     },
     "output_type": "display_data"
    }
   ],
   "source": [
    "t2 = dataset.treatment == 2\n",
    "treatment2=dataset[t2]\n",
    "treatment2.value.value_counts(sort=false,bins=10).plot(kind='barh')"
   ]
  },
  {
   "cell_type": "code",
   "execution_count": 13,
   "metadata": {
    "slideshow": {
     "slide_type": "slide"
    }
   },
   "outputs": [
    {
     "data": {
      "text/plain": [
       "<matplotlib.axes._subplots.AxesSubplot object at 0x7f7fd7d04a50>"
      ]
     },
     "execution_count": 13,
     "metadata": {},
     "output_type": "execute_result"
    },
    {
     "data": {
      "image/png": "[encoded data removed]",
      "text/plain": [
       "<Figure size 432x288 with 1 Axes>"
      ]
     },
     "metadata": {
      "needs_background": "light"
     },
     "output_type": "display_data"
    }
   ],
   "source": [
    "t3 = dataset.treatment == 3\n",
    "treatment3=dataset[t3]\n",
    "treatment3.value.value_counts(sort=false,bins=10).plot(kind='barh')"
   ]
  },
  {
   "cell_type": "code",
   "execution_count": 14,
   "metadata": {
    "slideshow": {
     "slide_type": "slide"
    }
   },
   "outputs": [
    {
     "data": {
      "text/plain": [
       "<matplotlib.axes._subplots.AxesSubplot object at 0x7f7fd7c7c250>"
      ]
     },
     "execution_count": 14,
     "metadata": {},
     "output_type": "execute_result"
    },
    {
     "data": {
      "image/png": "[encoded data removed]",
      "text/plain": [
       "<Figure size 432x288 with 1 Axes>"
      ]
     },
     "metadata": {
      "needs_background": "light"
     },
     "output_type": "display_data"
    }
   ],
   "source": [
    "t4 = dataset.treatment == 4\n",
    "treatment4=dataset[t4]\n",
    "treatment4.value.value_counts(sort=false,bins=10).plot(kind='barh')"
   ]
  },
  {
   "cell_type": "markdown",
   "metadata": {
    "slideshow": {
     "slide_type": "slide"
    }
   },
   "source": [
    "The last few counts and the bar chart indicate how widespread the offers are.  We want some kind of model that explains this dispersion.  There are many ways to do it.  The approach here uses loss aversion as the primary determinate.   We could have used a kind of variable altruism and spite.  So most of the experiments involved imposing lower limits on acceptable offers to induce a shift in the offers and acceptance probabilities in our model that wouldn't happen if altruisim and its counterpart, spite, were the only factors at play. \n",
    "\n",
    "A proposer and responder share a monetary payoff of size 1. The proposer offers some \n",
    "share of the payoff to the responder.  If the responder accepts, the responder gets\n",
    "her share, the proposer gets the rest.  If the responder rejects, neither of them\n",
    "get anything.\n",
    "\n"
   ]
  },
  {
   "cell_type": "markdown",
   "metadata": {
    "slideshow": {
     "slide_type": "slide"
    }
   },
   "source": [
    "The model uses loss aversion  with an endogenous reference point as well as\n",
    "other regarding preferences.\n",
    "In the simplest version of loss aversion, the payoff is piecwise linear in money, and depends on a reference offer $r$. This is called constant loss aversion and comes from (Tversky and Kahnman 1991). \n",
    "\n",
    "Thinking of $x$ as the share of the payoff a player receives, this payoff would look like:\n",
    "$$\n",
    "U(x,\\lambda,r)=\\begin{cases}\n",
    "x-r & if\\;x\\geq r\\\\\n",
    "\\lambda(x-r) & if\\;x<r\n",
    "\\end{cases}\n",
    "$$\n",
    "Notice when the share is 0, the formula says the payoff to the responder is $-\\lambda r$.\n",
    "\n",
    "The term $\\lambda\\ge1$ is the degree of loss\n",
    "aversion. The variable $\\lambda$ which measures loss aversion is assumed privately known. It is common belief that it is independently drawn for each proposer and responder from distribution\n",
    "$G$ which is assumed to have a compact support bounded below by $1$.  \n",
    "\n"
   ]
  },
  {
   "cell_type": "markdown",
   "metadata": {
    "slideshow": {
     "slide_type": "subslide"
    }
   },
   "source": [
    "This won't be quite enough to fit the data, so we'll add other regarding preferences. This consists of a spitefulness term when the other player gets a larger share, and a competitiveness term when the other other player gets a smaller share. To keep things simple, we'll assume the spitefulness term comes as a fixed cost. Alternatively the competitiveness term is a linear function as follows:\n",
    "$$\n",
    "V\\left(x,y,\\lambda,r\\right)=\\begin{cases}\n",
    "x-r-\\frac{1}{2} & 0\\le x<y;s\\ge r\\\\\n",
    "\\lambda\\left(x-r\\right)-\\frac{1}{2} & 0<x<y;s<r\\\\\n",
    "x-r+\\alpha\\left(x-y\\right) & x\\ge y;x\\ge r\\\\\n",
    "-\\lambda r & x=y=0.\n",
    "\\end{cases}\n",
    "$$\n",
    "\n",
    "In this formula, $r$ is the reference offer and $\\alpha$ is a positive constant. The reference offer\n",
    "is the highest share a player believes he or she can get for sure.\n",
    "For the responder, this will be the lowest offer she expects to receive\n",
    "with positive probability. For the proposer, it is the lowest offer\n",
    "he or she expects will be accepted by all responders.\n",
    "\n",
    "Ideally, we would like to recover the distribution $G$, the reference offer for proposers, along with the constant $\\alpha$ measuring the competitiveness term from the data on offers and responses.\n"
   ]
  },
  {
   "cell_type": "markdown",
   "metadata": {
    "slideshow": {
     "slide_type": "slide"
    }
   },
   "source": [
    "Let $Q\\left(s\\right)$ be the probability with which a proposer expects\n",
    "an offer of $s$ to a proposer to be accepted.  The proposer is intent on maximizing\n",
    "$$\n",
    "Q\\left(s\\right)\\left(\\left(1-s\\right)+\\alpha\\left(1-2s\\right)\\right)-\\left(1-Q\\left(s\\right)\\right)\\left(\\lambda r\\right).\\label{proposer-payoff-1}\n",
    "$$\n",
    "\n",
    "Now each player must make a decision, for the proposer the offer, which will depend on his or her loss aversion $\\lambda$.  For the responder\n",
    "the decision is about what offers to accept and which to reject.  Again, this depends on her loss aversion parameter $\\lambda$.\n",
    "\n"
   ]
  },
  {
   "cell_type": "markdown",
   "metadata": {
    "slideshow": {
     "slide_type": "slide"
    }
   },
   "source": [
    "An equilibrium consists of a pair of functions $o(\\lambda)$ which gives an offer to be made by a seller that depends on his type $\\lambda$ and $a(\\lambda)$ which denotes the lowest offer that is acceptable to a responser of type $\\lambda$. \n",
    "First notice that whatever, the responder's reference offer happens\n",
    "to be, she will accept an offer $s<\\frac{1}{2}$ as long as\n",
    "$$\n",
    "s-r-\\frac{1}{2}\\ge-\\lambda r.\n",
    "$$\n",
    "which is the same as the condition \n",
    "$$\n",
    "\\lambda \\ge \\frac{r-s+\\frac{1}{2}}{r}\n",
    "$$\n"
   ]
  },
  {
   "cell_type": "markdown",
   "metadata": {
    "slideshow": {
     "slide_type": "subslide"
    }
   },
   "source": [
    "\n",
    "From the proposer's prespective, the probability that an offer $s\\ge r$ will the accepted is equal to \n",
    "$$\n",
    "\\mathbb{Pr}  \\left\\{ \\lambda \\ge \\frac{r-s+\\frac{1}{2}}{r} \\right\\} = \n",
    "$$\n",
    "\n",
    "$$\n",
    "\\int_{\\frac{r-s+\\frac{1}{2}}{r}}^{\\overline{\\lambda}}dG(\\tilde{s})=\n",
    "$$\n",
    "\n",
    "$$\n",
    "1-G(\\frac{r-s+\\frac{1}{2}}{r}) = Q(s)\n",
    "$$\n",
    "A similar calculation for $s<r$ gives the acceptance probability \n",
    "$$\n",
    "Q(s) = 1-G(\\frac{1}{2s}).\n",
    "$$"
   ]
  },
  {
   "cell_type": "markdown",
   "metadata": {
    "slideshow": {
     "slide_type": "slide"
    }
   },
   "source": [
    "As the acceptance probability already builds in the fact that a responder uses a best reply, an equilibrium is now described by an offer function $o(\\lambda)$\n",
    " which satisfies\n",
    " $$\n",
    " Q\\left(o(\\lambda)\\right)\\left(\\left(1-o(\\lambda)\\right)+\\alpha\\left(1-2o(\\lambda)\\right)\\right)-\\left(1-Q\\left(o(\\lambda)\\right)\\right)\\left(\\lambda r\\right)\n",
    " \\\\\n",
    " \\ge Q\\left(s\\right)\\left(\\left(1-s\\right)+\\alpha\\left(1-2s\\right)\\right)-\\left(1-Q\\left(s\\right)\\right)\\left(\\lambda r\\right)\n",
    " $$\n",
    " for all $\\lambda\\ge 1$. "
   ]
  },
  {
   "cell_type": "markdown",
   "metadata": {
    "slideshow": {
     "slide_type": "slide"
    }
   },
   "source": [
    "There is no interaction between proposer types, each type solves what appears to be a completely separate maximization problem.  This leads to the following somewhat intutive approach to the equilibrium.\n",
    "\n",
    "For the most part, the equilibrium is straightforward. The function\n",
    "$Q\\left(s,r\\right)$ defines a kind of budget set that determines\n",
    "what $\\left(\\tilde{Q},\\tilde{s}\\right)$ pairs are attainable for\n",
    "the proposer. The proposer then chooses a $\\left(\\tilde{Q},\\tilde{s}\\right)$\n",
    "pair that that maximizes \n",
    "\\begin{equation}\n",
    "\\tilde{Q}\\left(1-\\tilde{s}\\left(1+2\\alpha\\right)+\\alpha-\\frac{1}{2}\\right)+\\left(1-\\tilde{Q}\\right)\\left(-\\lambda\\frac{1}{2}\\right)\\label{surplus}\n",
    "\\end{equation}\n",
    " subject to $Q\\left(\\tilde{s},r\\right)=\\tilde{Q}$.\n"
   ]
  },
  {
   "cell_type": "markdown",
   "metadata": {
    "slideshow": {
     "slide_type": "slide"
    }
   },
   "source": [
    "To understand the equilibrium just note the solution to each proposer's problem occurs where the level sets of the function above are tangent to the 'budget line' defined by the probabilitiy of acceptance function as in the following figure.\n",
    "\n",
    "\n",
    "![equilibrium](mike_fig7.jpg)"
   ]
  },
  {
   "cell_type": "markdown",
   "metadata": {
    "slideshow": {
     "slide_type": "slide"
    }
   },
   "source": [
    "The slope of an iso-surplus curve can be found by totally differentiating\n",
    "the proposer's payoff with respect to $\\tilde{s}$ and $\\tilde{Q}$, then\n",
    "setting the result to $0$ and solving for $\\frac{d\\tilde{Q}}{d\\tilde{s}^{\\prime}}$.\n",
    "The result is\n",
    "$$\n",
    "I^{\\prime}\\left(\\tilde{s},\\tilde{Q},\\lambda\\right)=\\frac{\\tilde{Q}\\left(1+2\\alpha\\right)}{\\left\\{ \\left(1-\\tilde{s}\\left(1+2\\alpha\\right)+\\alpha\\right)+\\frac{1}{2}\\left(\\lambda-1\\right)\\right\\} }\n",
    "$$\n",
    "which is increasing in $\\tilde{s}$ and $\\tilde{Q}$ but falling in\n",
    "$\\lambda$. In this formula\n",
    "$$\n",
    "I\\left(\\tilde{s},\\tilde{Q},\\lambda:K\\right)\\equiv\n",
    "\\left\\{ \\tilde{Q}:\\tilde{Q}\\cdot\\left(1-\\tilde{s}\\left(1+2\\alpha\\right)+\\alpha-\\frac{1}{2}\\right)+\\left(1-Q^{\\prime}\\right)\\left(-\\lambda\\frac{1}{2}\\right)=K\\right\\} .\n",
    "$$\n",
    "\n"
   ]
  },
  {
   "cell_type": "markdown",
   "metadata": {
    "slideshow": {
     "slide_type": "slide"
    }
   },
   "source": [
    "Now we write the first order condition by setting the slope of this iso-surplus line equal to the slope of the function that defines the probability of acceptance\n",
    "\n",
    "$$\n",
    "\\frac{Q(s)\\left(1+2\\alpha\\right)} { \\left( 1-s\\left(1+2\\alpha\\right)+\\alpha\\right) + \\frac{1}{2} \\left(\\lambda-1\\right) }\n",
    "= Q^\\prime(s)\n",
    "$$\n"
   ]
  },
  {
   "cell_type": "markdown",
   "metadata": {
    "slideshow": {
     "slide_type": "slide"
    }
   },
   "source": [
    "Now we can just solve this for $\\lambda$ to get\n",
    "\n",
    "$$\n",
    "\\lambda = \\frac{2rQ(s)(1+2\\alpha)}{Q^\\prime(s)} - 2(1-s(1+2\\alpha)) + 1 \n",
    "$$\n",
    "\n",
    "The function above, call it $\\lambda(s)$, gives the type of a proposer who makes an offer $s$. Let $\\psi(s)$ be the empirical distribution of offers made by the proposers - i.e,\n",
    "the proportion of all offers that are less than or equal to $s$. Whatever the unknown distribution of loss aversion parameters is, it should have the property that the proportion of proposers who make offers less than $s$ is equal to the proportion of proposers who have loss aversion parameters less than $\\lambda(s)$, or\n",
    "\n",
    "$$\n",
    "\\psi(s) = \\hat{G}\\left(\\frac{2rQ(s)(1+2\\alpha)}{Q^\\prime(s)} - 2(1-s(1+2\\alpha)) + 1\\right)\n",
    "$$\n",
    "where $\\hat{G}(\\lambda)$ is the unknown distribution of loss parameters.\n",
    "\n",
    "Observe that in this expression, the function $Q(s)$ depends on $\\hat{G}$.  So in a theoretical sense we have to solve a functional equation.  Also note, that this functional equation depends on $\\alpha$, which is the competitiveness term in the payoff function.  So at this point, we can't tell what $\\hat{G}$ is without knowing $\\alpha$."
   ]
  },
  {
   "cell_type": "markdown",
   "metadata": {
    "slideshow": {
     "slide_type": "slide"
    }
   },
   "source": [
    "However, we have another bit of information. The probability that an offer $s$ is given by the probability with which a proposer has a loss aversion parameter larger than \n",
    "$$\n",
    "\\frac{r-s+\\frac{1}{2}}{r}.\n",
    "$$\n",
    "From the data from the experiment, we can estimate the probability $\\hat{Q}(s)$  with which each offer is accepted.  So for each $s$,\n",
    "$$\n",
    "\\hat{Q}(s) = 1-\\hat{G}\\left(\\frac{r-s+\\frac{1}{2}}{r}\\right)\n",
    "$$\n",
    "\n",
    "Then since the function $\\hat{G}$  is completely determined by this last operation, the solution to our original problem reduced from finding the solution to a functional equation, to finding the right parameter $\\alpha$."
   ]
  },
  {
   "cell_type": "code",
   "execution_count": 10,
   "metadata": {
    "slideshow": {
     "slide_type": "slide"
    }
   },
   "outputs": [
    {
     "data": {
      "text/plain": [
       "D[0](G)(1/2*(2*r - 2*s + 1)/r)/r"
      ]
     },
     "execution_count": 10,
     "metadata": {},
     "output_type": "execute_result"
    }
   ],
   "source": [
    "\n",
    "\n",
    "var('x','s','r')\n",
    "G = function('G')\n",
    "Q = (1-G((r-s+1/2)/(r)))\n",
    "Q.diff(s)"
   ]
  },
  {
   "cell_type": "code",
   "execution_count": 11,
   "metadata": {},
   "outputs": [
    {
     "data": {
      "text/html": [
       "<html><script type=\"math/tex; mode=display\">\\newcommand{\\Bold}[1]{\\mathbf{#1}}\\frac{\\mathrm{D}_{0}\\left(G\\right)\\left(1\\right)}{r}</script></html>"
      ],
      "text/plain": [
       "D[0](G)(1)/r"
      ]
     },
     "metadata": {},
     "output_type": "display_data"
    }
   ],
   "source": [
    "show(Q.diff(s).substitute(s=1/2))"
   ]
  }
 ],
 "metadata": {
  "kernelspec": {
   "display_name": "SageMath 9.1",
   "language": "sage",
   "name": "sagemath"
  },
  "language_info": {
   "codemirror_mode": {
    "name": "ipython",
    "version": 3
   },
   "file_extension": ".py",
   "mimetype": "text/x-python",
   "name": "python",
   "nbconvert_exporter": "python",
   "pygments_lexer": "ipython3",
   "version": "3.7.8"
  }
 },
 "nbformat": 4,
 "nbformat_minor": 4
}
